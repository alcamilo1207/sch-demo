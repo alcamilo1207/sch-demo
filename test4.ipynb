{
 "cells": [
  {
   "cell_type": "code",
   "execution_count": 1,
   "metadata": {},
   "outputs": [],
   "source": [
    "from mini_env4 import CustomEnv\n",
    "from stable_baselines3 import PPO\n",
    "from stable_baselines3.common.env_checker import check_env\n",
    "from stable_baselines3.common.vec_env import DummyVecEnv\n",
    "from custom_callback import SaveOnStepCallback\n",
    "import os\n",
    "import pandas as pd\n",
    "import plotly.express as px\n",
    "import numpy as np\n",
    "\n",
    "def render(history,prices):\n",
    "    # Plot the current times\n",
    "    df = pd.DataFrame(history, columns=[\"duration\", \"machine\",\"size\",\"reward\"])\n",
    "    fig1 = px.bar(df, x=\"duration\", y=\"machine\", color=\"reward\", orientation=\"h\",hover_name=\"size\")\n",
    "    fig1.update_xaxes(range=[0, 96])\n",
    "    fig2 = px.line(prices, line_shape=\"hv\")\n",
    "    fig2.update_xaxes(range=[0, 96])\n",
    "    fig1.show()\n",
    "    fig2.show()"
   ]
  },
  {
   "cell_type": "code",
   "execution_count": 4,
   "metadata": {},
   "outputs": [
    {
     "name": "stdout",
     "output_type": "stream",
     "text": [
      "total_rew 371.5764346764346\n",
      "completed jobs: 40/40\n"
     ]
    },
    {
     "data": {
      "application/vnd.plotly.v1+json": {
       "config": {
        "plotlyServerURL": "https://plot.ly"
       },
       "data": [
        {
         "alignmentgroup": "True",
         "hovertemplate": "<b>%{hovertext}</b><br><br>duration=%{x}<br>machine=%{y}<br>reward=%{marker.color}<extra></extra>",
         "hovertext": [
          5,
          0,
          0,
          0,
          0,
          4,
          4,
          5,
          7,
          4,
          6,
          4,
          0,
          4,
          0,
          5,
          0,
          0,
          5,
          0,
          0,
          0,
          5,
          7,
          0,
          0,
          4,
          4,
          0,
          0,
          0,
          6,
          4,
          0,
          5,
          7,
          0,
          6,
          7,
          5,
          0,
          7,
          0,
          0,
          7,
          0,
          0,
          6,
          0,
          6,
          0,
          7,
          5,
          4,
          0,
          4,
          5,
          0,
          4,
          0,
          7,
          4,
          4,
          0,
          0,
          6,
          7,
          0,
          0,
          0,
          0,
          7,
          0,
          5,
          0,
          0,
          0,
          0,
          0,
          0,
          0,
          0,
          0,
          0,
          0,
          0,
          0,
          0,
          0,
          0,
          0,
          6,
          0
         ],
         "legendgroup": "",
         "marker": {
          "color": [
           10,
           0,
           0,
           0,
           0,
           1.133333333333333,
           8.2,
           5.5,
           1.733333333333333,
           8.2,
           6.5,
           1.133333333333333,
           0,
           4.5,
           0,
           10,
           0,
           0,
           9.555555555555555,
           0,
           0,
           1.75,
           5.416666666666666,
           1.5794871794871792,
           1.75,
           5.25,
           0.9904761904761903,
           7.771428571428571,
           5.25,
           0,
           0,
           6.25,
           1.133333333333333,
           0,
           5.5,
           1.733333333333333,
           0,
           6.5,
           1.733333333333333,
           10,
           0,
           1.733333333333333,
           0,
           0,
           1.733333333333333,
           0,
           0,
           1.5333333333333332,
           0,
           6.5,
           0,
           13.6,
           5.5,
           1.133333333333333,
           0,
           4.5,
           1.333333333333333,
           0,
           4.5,
           0,
           13.6,
           4.5,
           1.133333333333333,
           0,
           0,
           1.5333333333333332,
           13.6,
           0,
           0,
           0,
           0,
           1.5794871794871792,
           0,
           5.5,
           8.75,
           0,
           0,
           8.75,
           0,
           0,
           0,
           0,
           0,
           8.75,
           0,
           0,
           8.75,
           0,
           0,
           8.75,
           0,
           6.5,
           8.75
          ],
          "coloraxis": "coloraxis",
          "pattern": {
           "shape": ""
          }
         },
         "name": "",
         "offsetgroup": "",
         "orientation": "h",
         "showlegend": false,
         "textposition": "auto",
         "type": "bar",
         "x": [
          5,
          0,
          1,
          1,
          0,
          4,
          4,
          5,
          7,
          4,
          6,
          4,
          0,
          4,
          1,
          5,
          0,
          1,
          5,
          1,
          1,
          1,
          5,
          7,
          1,
          1,
          4,
          4,
          1,
          0,
          0,
          6,
          4,
          1,
          5,
          7,
          0,
          6,
          7,
          5,
          1,
          7,
          1,
          1,
          7,
          1,
          1,
          6,
          1,
          6,
          0,
          7,
          5,
          4,
          1,
          4,
          5,
          1,
          4,
          1,
          7,
          4,
          4,
          0,
          0,
          6,
          7,
          0,
          0,
          0,
          0,
          7,
          1,
          5,
          0,
          0,
          0,
          0,
          0,
          0,
          0,
          1,
          0,
          1,
          0,
          1,
          0,
          1,
          0,
          0,
          1,
          6,
          0
         ],
         "xaxis": "x",
         "y": [
          0,
          1,
          2,
          0,
          1,
          2,
          0,
          1,
          2,
          0,
          1,
          2,
          0,
          1,
          2,
          0,
          1,
          2,
          0,
          1,
          2,
          0,
          1,
          2,
          0,
          1,
          2,
          0,
          1,
          2,
          0,
          1,
          2,
          0,
          1,
          2,
          0,
          1,
          2,
          0,
          1,
          2,
          0,
          1,
          2,
          0,
          1,
          2,
          0,
          1,
          2,
          0,
          1,
          2,
          0,
          1,
          2,
          0,
          1,
          2,
          0,
          1,
          2,
          0,
          1,
          2,
          0,
          1,
          2,
          0,
          1,
          2,
          0,
          1,
          2,
          0,
          1,
          2,
          0,
          1,
          2,
          0,
          1,
          2,
          0,
          1,
          2,
          0,
          1,
          2,
          0,
          1,
          2
         ],
         "yaxis": "y"
        }
       ],
       "layout": {
        "barmode": "relative",
        "coloraxis": {
         "colorbar": {
          "title": {
           "text": "reward"
          }
         },
         "colorscale": [
          [
           0,
           "#0d0887"
          ],
          [
           0.1111111111111111,
           "#46039f"
          ],
          [
           0.2222222222222222,
           "#7201a8"
          ],
          [
           0.3333333333333333,
           "#9c179e"
          ],
          [
           0.4444444444444444,
           "#bd3786"
          ],
          [
           0.5555555555555556,
           "#d8576b"
          ],
          [
           0.6666666666666666,
           "#ed7953"
          ],
          [
           0.7777777777777778,
           "#fb9f3a"
          ],
          [
           0.8888888888888888,
           "#fdca26"
          ],
          [
           1,
           "#f0f921"
          ]
         ]
        },
        "legend": {
         "tracegroupgap": 0
        },
        "margin": {
         "t": 60
        },
        "template": {
         "data": {
          "bar": [
           {
            "error_x": {
             "color": "#2a3f5f"
            },
            "error_y": {
             "color": "#2a3f5f"
            },
            "marker": {
             "line": {
              "color": "#E5ECF6",
              "width": 0.5
             },
             "pattern": {
              "fillmode": "overlay",
              "size": 10,
              "solidity": 0.2
             }
            },
            "type": "bar"
           }
          ],
          "barpolar": [
           {
            "marker": {
             "line": {
              "color": "#E5ECF6",
              "width": 0.5
             },
             "pattern": {
              "fillmode": "overlay",
              "size": 10,
              "solidity": 0.2
             }
            },
            "type": "barpolar"
           }
          ],
          "carpet": [
           {
            "aaxis": {
             "endlinecolor": "#2a3f5f",
             "gridcolor": "white",
             "linecolor": "white",
             "minorgridcolor": "white",
             "startlinecolor": "#2a3f5f"
            },
            "baxis": {
             "endlinecolor": "#2a3f5f",
             "gridcolor": "white",
             "linecolor": "white",
             "minorgridcolor": "white",
             "startlinecolor": "#2a3f5f"
            },
            "type": "carpet"
           }
          ],
          "choropleth": [
           {
            "colorbar": {
             "outlinewidth": 0,
             "ticks": ""
            },
            "type": "choropleth"
           }
          ],
          "contour": [
           {
            "colorbar": {
             "outlinewidth": 0,
             "ticks": ""
            },
            "colorscale": [
             [
              0,
              "#0d0887"
             ],
             [
              0.1111111111111111,
              "#46039f"
             ],
             [
              0.2222222222222222,
              "#7201a8"
             ],
             [
              0.3333333333333333,
              "#9c179e"
             ],
             [
              0.4444444444444444,
              "#bd3786"
             ],
             [
              0.5555555555555556,
              "#d8576b"
             ],
             [
              0.6666666666666666,
              "#ed7953"
             ],
             [
              0.7777777777777778,
              "#fb9f3a"
             ],
             [
              0.8888888888888888,
              "#fdca26"
             ],
             [
              1,
              "#f0f921"
             ]
            ],
            "type": "contour"
           }
          ],
          "contourcarpet": [
           {
            "colorbar": {
             "outlinewidth": 0,
             "ticks": ""
            },
            "type": "contourcarpet"
           }
          ],
          "heatmap": [
           {
            "colorbar": {
             "outlinewidth": 0,
             "ticks": ""
            },
            "colorscale": [
             [
              0,
              "#0d0887"
             ],
             [
              0.1111111111111111,
              "#46039f"
             ],
             [
              0.2222222222222222,
              "#7201a8"
             ],
             [
              0.3333333333333333,
              "#9c179e"
             ],
             [
              0.4444444444444444,
              "#bd3786"
             ],
             [
              0.5555555555555556,
              "#d8576b"
             ],
             [
              0.6666666666666666,
              "#ed7953"
             ],
             [
              0.7777777777777778,
              "#fb9f3a"
             ],
             [
              0.8888888888888888,
              "#fdca26"
             ],
             [
              1,
              "#f0f921"
             ]
            ],
            "type": "heatmap"
           }
          ],
          "heatmapgl": [
           {
            "colorbar": {
             "outlinewidth": 0,
             "ticks": ""
            },
            "colorscale": [
             [
              0,
              "#0d0887"
             ],
             [
              0.1111111111111111,
              "#46039f"
             ],
             [
              0.2222222222222222,
              "#7201a8"
             ],
             [
              0.3333333333333333,
              "#9c179e"
             ],
             [
              0.4444444444444444,
              "#bd3786"
             ],
             [
              0.5555555555555556,
              "#d8576b"
             ],
             [
              0.6666666666666666,
              "#ed7953"
             ],
             [
              0.7777777777777778,
              "#fb9f3a"
             ],
             [
              0.8888888888888888,
              "#fdca26"
             ],
             [
              1,
              "#f0f921"
             ]
            ],
            "type": "heatmapgl"
           }
          ],
          "histogram": [
           {
            "marker": {
             "pattern": {
              "fillmode": "overlay",
              "size": 10,
              "solidity": 0.2
             }
            },
            "type": "histogram"
           }
          ],
          "histogram2d": [
           {
            "colorbar": {
             "outlinewidth": 0,
             "ticks": ""
            },
            "colorscale": [
             [
              0,
              "#0d0887"
             ],
             [
              0.1111111111111111,
              "#46039f"
             ],
             [
              0.2222222222222222,
              "#7201a8"
             ],
             [
              0.3333333333333333,
              "#9c179e"
             ],
             [
              0.4444444444444444,
              "#bd3786"
             ],
             [
              0.5555555555555556,
              "#d8576b"
             ],
             [
              0.6666666666666666,
              "#ed7953"
             ],
             [
              0.7777777777777778,
              "#fb9f3a"
             ],
             [
              0.8888888888888888,
              "#fdca26"
             ],
             [
              1,
              "#f0f921"
             ]
            ],
            "type": "histogram2d"
           }
          ],
          "histogram2dcontour": [
           {
            "colorbar": {
             "outlinewidth": 0,
             "ticks": ""
            },
            "colorscale": [
             [
              0,
              "#0d0887"
             ],
             [
              0.1111111111111111,
              "#46039f"
             ],
             [
              0.2222222222222222,
              "#7201a8"
             ],
             [
              0.3333333333333333,
              "#9c179e"
             ],
             [
              0.4444444444444444,
              "#bd3786"
             ],
             [
              0.5555555555555556,
              "#d8576b"
             ],
             [
              0.6666666666666666,
              "#ed7953"
             ],
             [
              0.7777777777777778,
              "#fb9f3a"
             ],
             [
              0.8888888888888888,
              "#fdca26"
             ],
             [
              1,
              "#f0f921"
             ]
            ],
            "type": "histogram2dcontour"
           }
          ],
          "mesh3d": [
           {
            "colorbar": {
             "outlinewidth": 0,
             "ticks": ""
            },
            "type": "mesh3d"
           }
          ],
          "parcoords": [
           {
            "line": {
             "colorbar": {
              "outlinewidth": 0,
              "ticks": ""
             }
            },
            "type": "parcoords"
           }
          ],
          "pie": [
           {
            "automargin": true,
            "type": "pie"
           }
          ],
          "scatter": [
           {
            "fillpattern": {
             "fillmode": "overlay",
             "size": 10,
             "solidity": 0.2
            },
            "type": "scatter"
           }
          ],
          "scatter3d": [
           {
            "line": {
             "colorbar": {
              "outlinewidth": 0,
              "ticks": ""
             }
            },
            "marker": {
             "colorbar": {
              "outlinewidth": 0,
              "ticks": ""
             }
            },
            "type": "scatter3d"
           }
          ],
          "scattercarpet": [
           {
            "marker": {
             "colorbar": {
              "outlinewidth": 0,
              "ticks": ""
             }
            },
            "type": "scattercarpet"
           }
          ],
          "scattergeo": [
           {
            "marker": {
             "colorbar": {
              "outlinewidth": 0,
              "ticks": ""
             }
            },
            "type": "scattergeo"
           }
          ],
          "scattergl": [
           {
            "marker": {
             "colorbar": {
              "outlinewidth": 0,
              "ticks": ""
             }
            },
            "type": "scattergl"
           }
          ],
          "scattermapbox": [
           {
            "marker": {
             "colorbar": {
              "outlinewidth": 0,
              "ticks": ""
             }
            },
            "type": "scattermapbox"
           }
          ],
          "scatterpolar": [
           {
            "marker": {
             "colorbar": {
              "outlinewidth": 0,
              "ticks": ""
             }
            },
            "type": "scatterpolar"
           }
          ],
          "scatterpolargl": [
           {
            "marker": {
             "colorbar": {
              "outlinewidth": 0,
              "ticks": ""
             }
            },
            "type": "scatterpolargl"
           }
          ],
          "scatterternary": [
           {
            "marker": {
             "colorbar": {
              "outlinewidth": 0,
              "ticks": ""
             }
            },
            "type": "scatterternary"
           }
          ],
          "surface": [
           {
            "colorbar": {
             "outlinewidth": 0,
             "ticks": ""
            },
            "colorscale": [
             [
              0,
              "#0d0887"
             ],
             [
              0.1111111111111111,
              "#46039f"
             ],
             [
              0.2222222222222222,
              "#7201a8"
             ],
             [
              0.3333333333333333,
              "#9c179e"
             ],
             [
              0.4444444444444444,
              "#bd3786"
             ],
             [
              0.5555555555555556,
              "#d8576b"
             ],
             [
              0.6666666666666666,
              "#ed7953"
             ],
             [
              0.7777777777777778,
              "#fb9f3a"
             ],
             [
              0.8888888888888888,
              "#fdca26"
             ],
             [
              1,
              "#f0f921"
             ]
            ],
            "type": "surface"
           }
          ],
          "table": [
           {
            "cells": {
             "fill": {
              "color": "#EBF0F8"
             },
             "line": {
              "color": "white"
             }
            },
            "header": {
             "fill": {
              "color": "#C8D4E3"
             },
             "line": {
              "color": "white"
             }
            },
            "type": "table"
           }
          ]
         },
         "layout": {
          "annotationdefaults": {
           "arrowcolor": "#2a3f5f",
           "arrowhead": 0,
           "arrowwidth": 1
          },
          "autotypenumbers": "strict",
          "coloraxis": {
           "colorbar": {
            "outlinewidth": 0,
            "ticks": ""
           }
          },
          "colorscale": {
           "diverging": [
            [
             0,
             "#8e0152"
            ],
            [
             0.1,
             "#c51b7d"
            ],
            [
             0.2,
             "#de77ae"
            ],
            [
             0.3,
             "#f1b6da"
            ],
            [
             0.4,
             "#fde0ef"
            ],
            [
             0.5,
             "#f7f7f7"
            ],
            [
             0.6,
             "#e6f5d0"
            ],
            [
             0.7,
             "#b8e186"
            ],
            [
             0.8,
             "#7fbc41"
            ],
            [
             0.9,
             "#4d9221"
            ],
            [
             1,
             "#276419"
            ]
           ],
           "sequential": [
            [
             0,
             "#0d0887"
            ],
            [
             0.1111111111111111,
             "#46039f"
            ],
            [
             0.2222222222222222,
             "#7201a8"
            ],
            [
             0.3333333333333333,
             "#9c179e"
            ],
            [
             0.4444444444444444,
             "#bd3786"
            ],
            [
             0.5555555555555556,
             "#d8576b"
            ],
            [
             0.6666666666666666,
             "#ed7953"
            ],
            [
             0.7777777777777778,
             "#fb9f3a"
            ],
            [
             0.8888888888888888,
             "#fdca26"
            ],
            [
             1,
             "#f0f921"
            ]
           ],
           "sequentialminus": [
            [
             0,
             "#0d0887"
            ],
            [
             0.1111111111111111,
             "#46039f"
            ],
            [
             0.2222222222222222,
             "#7201a8"
            ],
            [
             0.3333333333333333,
             "#9c179e"
            ],
            [
             0.4444444444444444,
             "#bd3786"
            ],
            [
             0.5555555555555556,
             "#d8576b"
            ],
            [
             0.6666666666666666,
             "#ed7953"
            ],
            [
             0.7777777777777778,
             "#fb9f3a"
            ],
            [
             0.8888888888888888,
             "#fdca26"
            ],
            [
             1,
             "#f0f921"
            ]
           ]
          },
          "colorway": [
           "#636efa",
           "#EF553B",
           "#00cc96",
           "#ab63fa",
           "#FFA15A",
           "#19d3f3",
           "#FF6692",
           "#B6E880",
           "#FF97FF",
           "#FECB52"
          ],
          "font": {
           "color": "#2a3f5f"
          },
          "geo": {
           "bgcolor": "white",
           "lakecolor": "white",
           "landcolor": "#E5ECF6",
           "showlakes": true,
           "showland": true,
           "subunitcolor": "white"
          },
          "hoverlabel": {
           "align": "left"
          },
          "hovermode": "closest",
          "mapbox": {
           "style": "light"
          },
          "paper_bgcolor": "white",
          "plot_bgcolor": "#E5ECF6",
          "polar": {
           "angularaxis": {
            "gridcolor": "white",
            "linecolor": "white",
            "ticks": ""
           },
           "bgcolor": "#E5ECF6",
           "radialaxis": {
            "gridcolor": "white",
            "linecolor": "white",
            "ticks": ""
           }
          },
          "scene": {
           "xaxis": {
            "backgroundcolor": "#E5ECF6",
            "gridcolor": "white",
            "gridwidth": 2,
            "linecolor": "white",
            "showbackground": true,
            "ticks": "",
            "zerolinecolor": "white"
           },
           "yaxis": {
            "backgroundcolor": "#E5ECF6",
            "gridcolor": "white",
            "gridwidth": 2,
            "linecolor": "white",
            "showbackground": true,
            "ticks": "",
            "zerolinecolor": "white"
           },
           "zaxis": {
            "backgroundcolor": "#E5ECF6",
            "gridcolor": "white",
            "gridwidth": 2,
            "linecolor": "white",
            "showbackground": true,
            "ticks": "",
            "zerolinecolor": "white"
           }
          },
          "shapedefaults": {
           "line": {
            "color": "#2a3f5f"
           }
          },
          "ternary": {
           "aaxis": {
            "gridcolor": "white",
            "linecolor": "white",
            "ticks": ""
           },
           "baxis": {
            "gridcolor": "white",
            "linecolor": "white",
            "ticks": ""
           },
           "bgcolor": "#E5ECF6",
           "caxis": {
            "gridcolor": "white",
            "linecolor": "white",
            "ticks": ""
           }
          },
          "title": {
           "x": 0.05
          },
          "xaxis": {
           "automargin": true,
           "gridcolor": "white",
           "linecolor": "white",
           "ticks": "",
           "title": {
            "standoff": 15
           },
           "zerolinecolor": "white",
           "zerolinewidth": 2
          },
          "yaxis": {
           "automargin": true,
           "gridcolor": "white",
           "linecolor": "white",
           "ticks": "",
           "title": {
            "standoff": 15
           },
           "zerolinecolor": "white",
           "zerolinewidth": 2
          }
         }
        },
        "xaxis": {
         "anchor": "y",
         "domain": [
          0,
          1
         ],
         "range": [
          0,
          96
         ],
         "title": {
          "text": "duration"
         }
        },
        "yaxis": {
         "anchor": "x",
         "domain": [
          0,
          1
         ],
         "title": {
          "text": "machine"
         }
        }
       }
      },
      "text/html": [
       "<div>                            <div id=\"e1a5fea8-82d7-4a84-97c2-ca97fe7345f8\" class=\"plotly-graph-div\" style=\"height:525px; width:100%;\"></div>            <script type=\"text/javascript\">                require([\"plotly\"], function(Plotly) {                    window.PLOTLYENV=window.PLOTLYENV || {};                                    if (document.getElementById(\"e1a5fea8-82d7-4a84-97c2-ca97fe7345f8\")) {                    Plotly.newPlot(                        \"e1a5fea8-82d7-4a84-97c2-ca97fe7345f8\",                        [{\"alignmentgroup\":\"True\",\"hovertemplate\":\"\\u003cb\\u003e%{hovertext}\\u003c\\u002fb\\u003e\\u003cbr\\u003e\\u003cbr\\u003eduration=%{x}\\u003cbr\\u003emachine=%{y}\\u003cbr\\u003ereward=%{marker.color}\\u003cextra\\u003e\\u003c\\u002fextra\\u003e\",\"hovertext\":[5.0,0.0,0.0,0.0,0.0,4.0,4.0,5.0,7.0,4.0,6.0,4.0,0.0,4.0,0.0,5.0,0.0,0.0,5.0,0.0,0.0,0.0,5.0,7.0,0.0,0.0,4.0,4.0,0.0,0.0,0.0,6.0,4.0,0.0,5.0,7.0,0.0,6.0,7.0,5.0,0.0,7.0,0.0,0.0,7.0,0.0,0.0,6.0,0.0,6.0,0.0,7.0,5.0,4.0,0.0,4.0,5.0,0.0,4.0,0.0,7.0,4.0,4.0,0.0,0.0,6.0,7.0,0.0,0.0,0.0,0.0,7.0,0.0,5.0,0.0,0.0,0.0,0.0,0.0,0.0,0.0,0.0,0.0,0.0,0.0,0.0,0.0,0.0,0.0,0.0,0.0,6.0,0.0],\"legendgroup\":\"\",\"marker\":{\"color\":[10.0,0.0,0.0,0.0,0.0,1.133333333333333,8.2,5.5,1.733333333333333,8.2,6.5,1.133333333333333,0.0,4.5,0.0,10.0,0.0,0.0,9.555555555555555,0.0,0.0,1.75,5.416666666666666,1.5794871794871792,1.75,5.25,0.9904761904761903,7.771428571428571,5.25,0.0,0.0,6.25,1.133333333333333,0.0,5.5,1.733333333333333,0.0,6.5,1.733333333333333,10.0,0.0,1.733333333333333,0.0,0.0,1.733333333333333,0.0,0.0,1.5333333333333332,0.0,6.5,0.0,13.6,5.5,1.133333333333333,0.0,4.5,1.333333333333333,0.0,4.5,0.0,13.6,4.5,1.133333333333333,0.0,0.0,1.5333333333333332,13.6,0.0,0.0,0.0,0.0,1.5794871794871792,0.0,5.5,8.75,0.0,0.0,8.75,0.0,0.0,0.0,0.0,0.0,8.75,0.0,0.0,8.75,0.0,0.0,8.75,0.0,6.5,8.75],\"coloraxis\":\"coloraxis\",\"pattern\":{\"shape\":\"\"}},\"name\":\"\",\"offsetgroup\":\"\",\"orientation\":\"h\",\"showlegend\":false,\"textposition\":\"auto\",\"x\":[5,0,1,1,0,4,4,5,7,4,6,4,0,4,1,5,0,1,5,1,1,1,5,7,1,1,4,4,1,0,0,6,4,1,5,7,0,6,7,5,1,7,1,1,7,1,1,6,1,6,0,7,5,4,1,4,5,1,4,1,7,4,4,0,0,6,7,0,0,0,0,7,1,5,0,0,0,0,0,0,0,1,0,1,0,1,0,1,0,0,1,6,0],\"xaxis\":\"x\",\"y\":[0,1,2,0,1,2,0,1,2,0,1,2,0,1,2,0,1,2,0,1,2,0,1,2,0,1,2,0,1,2,0,1,2,0,1,2,0,1,2,0,1,2,0,1,2,0,1,2,0,1,2,0,1,2,0,1,2,0,1,2,0,1,2,0,1,2,0,1,2,0,1,2,0,1,2,0,1,2,0,1,2,0,1,2,0,1,2,0,1,2,0,1,2],\"yaxis\":\"y\",\"type\":\"bar\"}],                        {\"template\":{\"data\":{\"histogram2dcontour\":[{\"type\":\"histogram2dcontour\",\"colorbar\":{\"outlinewidth\":0,\"ticks\":\"\"},\"colorscale\":[[0.0,\"#0d0887\"],[0.1111111111111111,\"#46039f\"],[0.2222222222222222,\"#7201a8\"],[0.3333333333333333,\"#9c179e\"],[0.4444444444444444,\"#bd3786\"],[0.5555555555555556,\"#d8576b\"],[0.6666666666666666,\"#ed7953\"],[0.7777777777777778,\"#fb9f3a\"],[0.8888888888888888,\"#fdca26\"],[1.0,\"#f0f921\"]]}],\"choropleth\":[{\"type\":\"choropleth\",\"colorbar\":{\"outlinewidth\":0,\"ticks\":\"\"}}],\"histogram2d\":[{\"type\":\"histogram2d\",\"colorbar\":{\"outlinewidth\":0,\"ticks\":\"\"},\"colorscale\":[[0.0,\"#0d0887\"],[0.1111111111111111,\"#46039f\"],[0.2222222222222222,\"#7201a8\"],[0.3333333333333333,\"#9c179e\"],[0.4444444444444444,\"#bd3786\"],[0.5555555555555556,\"#d8576b\"],[0.6666666666666666,\"#ed7953\"],[0.7777777777777778,\"#fb9f3a\"],[0.8888888888888888,\"#fdca26\"],[1.0,\"#f0f921\"]]}],\"heatmap\":[{\"type\":\"heatmap\",\"colorbar\":{\"outlinewidth\":0,\"ticks\":\"\"},\"colorscale\":[[0.0,\"#0d0887\"],[0.1111111111111111,\"#46039f\"],[0.2222222222222222,\"#7201a8\"],[0.3333333333333333,\"#9c179e\"],[0.4444444444444444,\"#bd3786\"],[0.5555555555555556,\"#d8576b\"],[0.6666666666666666,\"#ed7953\"],[0.7777777777777778,\"#fb9f3a\"],[0.8888888888888888,\"#fdca26\"],[1.0,\"#f0f921\"]]}],\"heatmapgl\":[{\"type\":\"heatmapgl\",\"colorbar\":{\"outlinewidth\":0,\"ticks\":\"\"},\"colorscale\":[[0.0,\"#0d0887\"],[0.1111111111111111,\"#46039f\"],[0.2222222222222222,\"#7201a8\"],[0.3333333333333333,\"#9c179e\"],[0.4444444444444444,\"#bd3786\"],[0.5555555555555556,\"#d8576b\"],[0.6666666666666666,\"#ed7953\"],[0.7777777777777778,\"#fb9f3a\"],[0.8888888888888888,\"#fdca26\"],[1.0,\"#f0f921\"]]}],\"contourcarpet\":[{\"type\":\"contourcarpet\",\"colorbar\":{\"outlinewidth\":0,\"ticks\":\"\"}}],\"contour\":[{\"type\":\"contour\",\"colorbar\":{\"outlinewidth\":0,\"ticks\":\"\"},\"colorscale\":[[0.0,\"#0d0887\"],[0.1111111111111111,\"#46039f\"],[0.2222222222222222,\"#7201a8\"],[0.3333333333333333,\"#9c179e\"],[0.4444444444444444,\"#bd3786\"],[0.5555555555555556,\"#d8576b\"],[0.6666666666666666,\"#ed7953\"],[0.7777777777777778,\"#fb9f3a\"],[0.8888888888888888,\"#fdca26\"],[1.0,\"#f0f921\"]]}],\"surface\":[{\"type\":\"surface\",\"colorbar\":{\"outlinewidth\":0,\"ticks\":\"\"},\"colorscale\":[[0.0,\"#0d0887\"],[0.1111111111111111,\"#46039f\"],[0.2222222222222222,\"#7201a8\"],[0.3333333333333333,\"#9c179e\"],[0.4444444444444444,\"#bd3786\"],[0.5555555555555556,\"#d8576b\"],[0.6666666666666666,\"#ed7953\"],[0.7777777777777778,\"#fb9f3a\"],[0.8888888888888888,\"#fdca26\"],[1.0,\"#f0f921\"]]}],\"mesh3d\":[{\"type\":\"mesh3d\",\"colorbar\":{\"outlinewidth\":0,\"ticks\":\"\"}}],\"scatter\":[{\"fillpattern\":{\"fillmode\":\"overlay\",\"size\":10,\"solidity\":0.2},\"type\":\"scatter\"}],\"parcoords\":[{\"type\":\"parcoords\",\"line\":{\"colorbar\":{\"outlinewidth\":0,\"ticks\":\"\"}}}],\"scatterpolargl\":[{\"type\":\"scatterpolargl\",\"marker\":{\"colorbar\":{\"outlinewidth\":0,\"ticks\":\"\"}}}],\"bar\":[{\"error_x\":{\"color\":\"#2a3f5f\"},\"error_y\":{\"color\":\"#2a3f5f\"},\"marker\":{\"line\":{\"color\":\"#E5ECF6\",\"width\":0.5},\"pattern\":{\"fillmode\":\"overlay\",\"size\":10,\"solidity\":0.2}},\"type\":\"bar\"}],\"scattergeo\":[{\"type\":\"scattergeo\",\"marker\":{\"colorbar\":{\"outlinewidth\":0,\"ticks\":\"\"}}}],\"scatterpolar\":[{\"type\":\"scatterpolar\",\"marker\":{\"colorbar\":{\"outlinewidth\":0,\"ticks\":\"\"}}}],\"histogram\":[{\"marker\":{\"pattern\":{\"fillmode\":\"overlay\",\"size\":10,\"solidity\":0.2}},\"type\":\"histogram\"}],\"scattergl\":[{\"type\":\"scattergl\",\"marker\":{\"colorbar\":{\"outlinewidth\":0,\"ticks\":\"\"}}}],\"scatter3d\":[{\"type\":\"scatter3d\",\"line\":{\"colorbar\":{\"outlinewidth\":0,\"ticks\":\"\"}},\"marker\":{\"colorbar\":{\"outlinewidth\":0,\"ticks\":\"\"}}}],\"scattermapbox\":[{\"type\":\"scattermapbox\",\"marker\":{\"colorbar\":{\"outlinewidth\":0,\"ticks\":\"\"}}}],\"scatterternary\":[{\"type\":\"scatterternary\",\"marker\":{\"colorbar\":{\"outlinewidth\":0,\"ticks\":\"\"}}}],\"scattercarpet\":[{\"type\":\"scattercarpet\",\"marker\":{\"colorbar\":{\"outlinewidth\":0,\"ticks\":\"\"}}}],\"carpet\":[{\"aaxis\":{\"endlinecolor\":\"#2a3f5f\",\"gridcolor\":\"white\",\"linecolor\":\"white\",\"minorgridcolor\":\"white\",\"startlinecolor\":\"#2a3f5f\"},\"baxis\":{\"endlinecolor\":\"#2a3f5f\",\"gridcolor\":\"white\",\"linecolor\":\"white\",\"minorgridcolor\":\"white\",\"startlinecolor\":\"#2a3f5f\"},\"type\":\"carpet\"}],\"table\":[{\"cells\":{\"fill\":{\"color\":\"#EBF0F8\"},\"line\":{\"color\":\"white\"}},\"header\":{\"fill\":{\"color\":\"#C8D4E3\"},\"line\":{\"color\":\"white\"}},\"type\":\"table\"}],\"barpolar\":[{\"marker\":{\"line\":{\"color\":\"#E5ECF6\",\"width\":0.5},\"pattern\":{\"fillmode\":\"overlay\",\"size\":10,\"solidity\":0.2}},\"type\":\"barpolar\"}],\"pie\":[{\"automargin\":true,\"type\":\"pie\"}]},\"layout\":{\"autotypenumbers\":\"strict\",\"colorway\":[\"#636efa\",\"#EF553B\",\"#00cc96\",\"#ab63fa\",\"#FFA15A\",\"#19d3f3\",\"#FF6692\",\"#B6E880\",\"#FF97FF\",\"#FECB52\"],\"font\":{\"color\":\"#2a3f5f\"},\"hovermode\":\"closest\",\"hoverlabel\":{\"align\":\"left\"},\"paper_bgcolor\":\"white\",\"plot_bgcolor\":\"#E5ECF6\",\"polar\":{\"bgcolor\":\"#E5ECF6\",\"angularaxis\":{\"gridcolor\":\"white\",\"linecolor\":\"white\",\"ticks\":\"\"},\"radialaxis\":{\"gridcolor\":\"white\",\"linecolor\":\"white\",\"ticks\":\"\"}},\"ternary\":{\"bgcolor\":\"#E5ECF6\",\"aaxis\":{\"gridcolor\":\"white\",\"linecolor\":\"white\",\"ticks\":\"\"},\"baxis\":{\"gridcolor\":\"white\",\"linecolor\":\"white\",\"ticks\":\"\"},\"caxis\":{\"gridcolor\":\"white\",\"linecolor\":\"white\",\"ticks\":\"\"}},\"coloraxis\":{\"colorbar\":{\"outlinewidth\":0,\"ticks\":\"\"}},\"colorscale\":{\"sequential\":[[0.0,\"#0d0887\"],[0.1111111111111111,\"#46039f\"],[0.2222222222222222,\"#7201a8\"],[0.3333333333333333,\"#9c179e\"],[0.4444444444444444,\"#bd3786\"],[0.5555555555555556,\"#d8576b\"],[0.6666666666666666,\"#ed7953\"],[0.7777777777777778,\"#fb9f3a\"],[0.8888888888888888,\"#fdca26\"],[1.0,\"#f0f921\"]],\"sequentialminus\":[[0.0,\"#0d0887\"],[0.1111111111111111,\"#46039f\"],[0.2222222222222222,\"#7201a8\"],[0.3333333333333333,\"#9c179e\"],[0.4444444444444444,\"#bd3786\"],[0.5555555555555556,\"#d8576b\"],[0.6666666666666666,\"#ed7953\"],[0.7777777777777778,\"#fb9f3a\"],[0.8888888888888888,\"#fdca26\"],[1.0,\"#f0f921\"]],\"diverging\":[[0,\"#8e0152\"],[0.1,\"#c51b7d\"],[0.2,\"#de77ae\"],[0.3,\"#f1b6da\"],[0.4,\"#fde0ef\"],[0.5,\"#f7f7f7\"],[0.6,\"#e6f5d0\"],[0.7,\"#b8e186\"],[0.8,\"#7fbc41\"],[0.9,\"#4d9221\"],[1,\"#276419\"]]},\"xaxis\":{\"gridcolor\":\"white\",\"linecolor\":\"white\",\"ticks\":\"\",\"title\":{\"standoff\":15},\"zerolinecolor\":\"white\",\"automargin\":true,\"zerolinewidth\":2},\"yaxis\":{\"gridcolor\":\"white\",\"linecolor\":\"white\",\"ticks\":\"\",\"title\":{\"standoff\":15},\"zerolinecolor\":\"white\",\"automargin\":true,\"zerolinewidth\":2},\"scene\":{\"xaxis\":{\"backgroundcolor\":\"#E5ECF6\",\"gridcolor\":\"white\",\"linecolor\":\"white\",\"showbackground\":true,\"ticks\":\"\",\"zerolinecolor\":\"white\",\"gridwidth\":2},\"yaxis\":{\"backgroundcolor\":\"#E5ECF6\",\"gridcolor\":\"white\",\"linecolor\":\"white\",\"showbackground\":true,\"ticks\":\"\",\"zerolinecolor\":\"white\",\"gridwidth\":2},\"zaxis\":{\"backgroundcolor\":\"#E5ECF6\",\"gridcolor\":\"white\",\"linecolor\":\"white\",\"showbackground\":true,\"ticks\":\"\",\"zerolinecolor\":\"white\",\"gridwidth\":2}},\"shapedefaults\":{\"line\":{\"color\":\"#2a3f5f\"}},\"annotationdefaults\":{\"arrowcolor\":\"#2a3f5f\",\"arrowhead\":0,\"arrowwidth\":1},\"geo\":{\"bgcolor\":\"white\",\"landcolor\":\"#E5ECF6\",\"subunitcolor\":\"white\",\"showland\":true,\"showlakes\":true,\"lakecolor\":\"white\"},\"title\":{\"x\":0.05},\"mapbox\":{\"style\":\"light\"}}},\"xaxis\":{\"anchor\":\"y\",\"domain\":[0.0,1.0],\"title\":{\"text\":\"duration\"},\"range\":[0,96]},\"yaxis\":{\"anchor\":\"x\",\"domain\":[0.0,1.0],\"title\":{\"text\":\"machine\"}},\"coloraxis\":{\"colorbar\":{\"title\":{\"text\":\"reward\"}},\"colorscale\":[[0.0,\"#0d0887\"],[0.1111111111111111,\"#46039f\"],[0.2222222222222222,\"#7201a8\"],[0.3333333333333333,\"#9c179e\"],[0.4444444444444444,\"#bd3786\"],[0.5555555555555556,\"#d8576b\"],[0.6666666666666666,\"#ed7953\"],[0.7777777777777778,\"#fb9f3a\"],[0.8888888888888888,\"#fdca26\"],[1.0,\"#f0f921\"]]},\"legend\":{\"tracegroupgap\":0},\"margin\":{\"t\":60},\"barmode\":\"relative\"},                        {\"responsive\": true}                    ).then(function(){\n",
       "                            \n",
       "var gd = document.getElementById('e1a5fea8-82d7-4a84-97c2-ca97fe7345f8');\n",
       "var x = new MutationObserver(function (mutations, observer) {{\n",
       "        var display = window.getComputedStyle(gd).display;\n",
       "        if (!display || display === 'none') {{\n",
       "            console.log([gd, 'removed!']);\n",
       "            Plotly.purge(gd);\n",
       "            observer.disconnect();\n",
       "        }}\n",
       "}});\n",
       "\n",
       "// Listen for the removal of the full notebook cells\n",
       "var notebookContainer = gd.closest('#notebook-container');\n",
       "if (notebookContainer) {{\n",
       "    x.observe(notebookContainer, {childList: true});\n",
       "}}\n",
       "\n",
       "// Listen for the clearing of the current output cell\n",
       "var outputEl = gd.closest('.output');\n",
       "if (outputEl) {{\n",
       "    x.observe(outputEl, {childList: true});\n",
       "}}\n",
       "\n",
       "                        })                };                });            </script>        </div>"
      ]
     },
     "metadata": {},
     "output_type": "display_data"
    },
    {
     "data": {
      "application/vnd.plotly.v1+json": {
       "config": {
        "plotlyServerURL": "https://plot.ly"
       },
       "data": [
        {
         "hovertemplate": "variable=0<br>index=%{x}<br>value=%{y}<extra></extra>",
         "legendgroup": "0",
         "line": {
          "color": "#636efa",
          "dash": "solid",
          "shape": "hv"
         },
         "marker": {
          "symbol": "circle"
         },
         "mode": "lines",
         "name": "0",
         "orientation": "v",
         "showlegend": true,
         "type": "scatter",
         "x": [
          0,
          1,
          2,
          3,
          4,
          5,
          6,
          7,
          8,
          9,
          10,
          11,
          12,
          13,
          14,
          15,
          16,
          17,
          18,
          19,
          20,
          21,
          22,
          23,
          24,
          25,
          26,
          27,
          28,
          29,
          30,
          31,
          32,
          33,
          34,
          35,
          36,
          37,
          38,
          39,
          40,
          41,
          42,
          43,
          44,
          45,
          46,
          47,
          48,
          49,
          50,
          51,
          52,
          53,
          54,
          55,
          56,
          57,
          58,
          59,
          60,
          61,
          62,
          63,
          64,
          65,
          66,
          67,
          68,
          69,
          70,
          71,
          72,
          73,
          74,
          75,
          76,
          77,
          78,
          79,
          80,
          81,
          82,
          83,
          84,
          85,
          86,
          87,
          88,
          89,
          90,
          91,
          92,
          93,
          94,
          95,
          96,
          97,
          98,
          99,
          100,
          101,
          102,
          103,
          104,
          105,
          106,
          107,
          108,
          109
         ],
         "xaxis": "x",
         "y": [
          1,
          1,
          1,
          1,
          1,
          1,
          1,
          1,
          1,
          1,
          1,
          1,
          1,
          1,
          1,
          1,
          1,
          1,
          1,
          1,
          2,
          2,
          2,
          2,
          2,
          2,
          2,
          2,
          2,
          1,
          1,
          1,
          1,
          1,
          1,
          1,
          1,
          1,
          1,
          1,
          1,
          1,
          1,
          1,
          1,
          1,
          1,
          1,
          1,
          1,
          1,
          1,
          1,
          1,
          1,
          1,
          1,
          1,
          1,
          1,
          1,
          1,
          1,
          1,
          1,
          1,
          1,
          1,
          1,
          1,
          1,
          1,
          1,
          1,
          1,
          1,
          1,
          1,
          1,
          1,
          1,
          1,
          1,
          1,
          1,
          1,
          1,
          1,
          1,
          2,
          2,
          2,
          2,
          2,
          2,
          2,
          2,
          2,
          2,
          1,
          1,
          1,
          1,
          1,
          1,
          1,
          1,
          1,
          1,
          1
         ],
         "yaxis": "y"
        }
       ],
       "layout": {
        "legend": {
         "title": {
          "text": "variable"
         },
         "tracegroupgap": 0
        },
        "margin": {
         "t": 60
        },
        "template": {
         "data": {
          "bar": [
           {
            "error_x": {
             "color": "#2a3f5f"
            },
            "error_y": {
             "color": "#2a3f5f"
            },
            "marker": {
             "line": {
              "color": "#E5ECF6",
              "width": 0.5
             },
             "pattern": {
              "fillmode": "overlay",
              "size": 10,
              "solidity": 0.2
             }
            },
            "type": "bar"
           }
          ],
          "barpolar": [
           {
            "marker": {
             "line": {
              "color": "#E5ECF6",
              "width": 0.5
             },
             "pattern": {
              "fillmode": "overlay",
              "size": 10,
              "solidity": 0.2
             }
            },
            "type": "barpolar"
           }
          ],
          "carpet": [
           {
            "aaxis": {
             "endlinecolor": "#2a3f5f",
             "gridcolor": "white",
             "linecolor": "white",
             "minorgridcolor": "white",
             "startlinecolor": "#2a3f5f"
            },
            "baxis": {
             "endlinecolor": "#2a3f5f",
             "gridcolor": "white",
             "linecolor": "white",
             "minorgridcolor": "white",
             "startlinecolor": "#2a3f5f"
            },
            "type": "carpet"
           }
          ],
          "choropleth": [
           {
            "colorbar": {
             "outlinewidth": 0,
             "ticks": ""
            },
            "type": "choropleth"
           }
          ],
          "contour": [
           {
            "colorbar": {
             "outlinewidth": 0,
             "ticks": ""
            },
            "colorscale": [
             [
              0,
              "#0d0887"
             ],
             [
              0.1111111111111111,
              "#46039f"
             ],
             [
              0.2222222222222222,
              "#7201a8"
             ],
             [
              0.3333333333333333,
              "#9c179e"
             ],
             [
              0.4444444444444444,
              "#bd3786"
             ],
             [
              0.5555555555555556,
              "#d8576b"
             ],
             [
              0.6666666666666666,
              "#ed7953"
             ],
             [
              0.7777777777777778,
              "#fb9f3a"
             ],
             [
              0.8888888888888888,
              "#fdca26"
             ],
             [
              1,
              "#f0f921"
             ]
            ],
            "type": "contour"
           }
          ],
          "contourcarpet": [
           {
            "colorbar": {
             "outlinewidth": 0,
             "ticks": ""
            },
            "type": "contourcarpet"
           }
          ],
          "heatmap": [
           {
            "colorbar": {
             "outlinewidth": 0,
             "ticks": ""
            },
            "colorscale": [
             [
              0,
              "#0d0887"
             ],
             [
              0.1111111111111111,
              "#46039f"
             ],
             [
              0.2222222222222222,
              "#7201a8"
             ],
             [
              0.3333333333333333,
              "#9c179e"
             ],
             [
              0.4444444444444444,
              "#bd3786"
             ],
             [
              0.5555555555555556,
              "#d8576b"
             ],
             [
              0.6666666666666666,
              "#ed7953"
             ],
             [
              0.7777777777777778,
              "#fb9f3a"
             ],
             [
              0.8888888888888888,
              "#fdca26"
             ],
             [
              1,
              "#f0f921"
             ]
            ],
            "type": "heatmap"
           }
          ],
          "heatmapgl": [
           {
            "colorbar": {
             "outlinewidth": 0,
             "ticks": ""
            },
            "colorscale": [
             [
              0,
              "#0d0887"
             ],
             [
              0.1111111111111111,
              "#46039f"
             ],
             [
              0.2222222222222222,
              "#7201a8"
             ],
             [
              0.3333333333333333,
              "#9c179e"
             ],
             [
              0.4444444444444444,
              "#bd3786"
             ],
             [
              0.5555555555555556,
              "#d8576b"
             ],
             [
              0.6666666666666666,
              "#ed7953"
             ],
             [
              0.7777777777777778,
              "#fb9f3a"
             ],
             [
              0.8888888888888888,
              "#fdca26"
             ],
             [
              1,
              "#f0f921"
             ]
            ],
            "type": "heatmapgl"
           }
          ],
          "histogram": [
           {
            "marker": {
             "pattern": {
              "fillmode": "overlay",
              "size": 10,
              "solidity": 0.2
             }
            },
            "type": "histogram"
           }
          ],
          "histogram2d": [
           {
            "colorbar": {
             "outlinewidth": 0,
             "ticks": ""
            },
            "colorscale": [
             [
              0,
              "#0d0887"
             ],
             [
              0.1111111111111111,
              "#46039f"
             ],
             [
              0.2222222222222222,
              "#7201a8"
             ],
             [
              0.3333333333333333,
              "#9c179e"
             ],
             [
              0.4444444444444444,
              "#bd3786"
             ],
             [
              0.5555555555555556,
              "#d8576b"
             ],
             [
              0.6666666666666666,
              "#ed7953"
             ],
             [
              0.7777777777777778,
              "#fb9f3a"
             ],
             [
              0.8888888888888888,
              "#fdca26"
             ],
             [
              1,
              "#f0f921"
             ]
            ],
            "type": "histogram2d"
           }
          ],
          "histogram2dcontour": [
           {
            "colorbar": {
             "outlinewidth": 0,
             "ticks": ""
            },
            "colorscale": [
             [
              0,
              "#0d0887"
             ],
             [
              0.1111111111111111,
              "#46039f"
             ],
             [
              0.2222222222222222,
              "#7201a8"
             ],
             [
              0.3333333333333333,
              "#9c179e"
             ],
             [
              0.4444444444444444,
              "#bd3786"
             ],
             [
              0.5555555555555556,
              "#d8576b"
             ],
             [
              0.6666666666666666,
              "#ed7953"
             ],
             [
              0.7777777777777778,
              "#fb9f3a"
             ],
             [
              0.8888888888888888,
              "#fdca26"
             ],
             [
              1,
              "#f0f921"
             ]
            ],
            "type": "histogram2dcontour"
           }
          ],
          "mesh3d": [
           {
            "colorbar": {
             "outlinewidth": 0,
             "ticks": ""
            },
            "type": "mesh3d"
           }
          ],
          "parcoords": [
           {
            "line": {
             "colorbar": {
              "outlinewidth": 0,
              "ticks": ""
             }
            },
            "type": "parcoords"
           }
          ],
          "pie": [
           {
            "automargin": true,
            "type": "pie"
           }
          ],
          "scatter": [
           {
            "fillpattern": {
             "fillmode": "overlay",
             "size": 10,
             "solidity": 0.2
            },
            "type": "scatter"
           }
          ],
          "scatter3d": [
           {
            "line": {
             "colorbar": {
              "outlinewidth": 0,
              "ticks": ""
             }
            },
            "marker": {
             "colorbar": {
              "outlinewidth": 0,
              "ticks": ""
             }
            },
            "type": "scatter3d"
           }
          ],
          "scattercarpet": [
           {
            "marker": {
             "colorbar": {
              "outlinewidth": 0,
              "ticks": ""
             }
            },
            "type": "scattercarpet"
           }
          ],
          "scattergeo": [
           {
            "marker": {
             "colorbar": {
              "outlinewidth": 0,
              "ticks": ""
             }
            },
            "type": "scattergeo"
           }
          ],
          "scattergl": [
           {
            "marker": {
             "colorbar": {
              "outlinewidth": 0,
              "ticks": ""
             }
            },
            "type": "scattergl"
           }
          ],
          "scattermapbox": [
           {
            "marker": {
             "colorbar": {
              "outlinewidth": 0,
              "ticks": ""
             }
            },
            "type": "scattermapbox"
           }
          ],
          "scatterpolar": [
           {
            "marker": {
             "colorbar": {
              "outlinewidth": 0,
              "ticks": ""
             }
            },
            "type": "scatterpolar"
           }
          ],
          "scatterpolargl": [
           {
            "marker": {
             "colorbar": {
              "outlinewidth": 0,
              "ticks": ""
             }
            },
            "type": "scatterpolargl"
           }
          ],
          "scatterternary": [
           {
            "marker": {
             "colorbar": {
              "outlinewidth": 0,
              "ticks": ""
             }
            },
            "type": "scatterternary"
           }
          ],
          "surface": [
           {
            "colorbar": {
             "outlinewidth": 0,
             "ticks": ""
            },
            "colorscale": [
             [
              0,
              "#0d0887"
             ],
             [
              0.1111111111111111,
              "#46039f"
             ],
             [
              0.2222222222222222,
              "#7201a8"
             ],
             [
              0.3333333333333333,
              "#9c179e"
             ],
             [
              0.4444444444444444,
              "#bd3786"
             ],
             [
              0.5555555555555556,
              "#d8576b"
             ],
             [
              0.6666666666666666,
              "#ed7953"
             ],
             [
              0.7777777777777778,
              "#fb9f3a"
             ],
             [
              0.8888888888888888,
              "#fdca26"
             ],
             [
              1,
              "#f0f921"
             ]
            ],
            "type": "surface"
           }
          ],
          "table": [
           {
            "cells": {
             "fill": {
              "color": "#EBF0F8"
             },
             "line": {
              "color": "white"
             }
            },
            "header": {
             "fill": {
              "color": "#C8D4E3"
             },
             "line": {
              "color": "white"
             }
            },
            "type": "table"
           }
          ]
         },
         "layout": {
          "annotationdefaults": {
           "arrowcolor": "#2a3f5f",
           "arrowhead": 0,
           "arrowwidth": 1
          },
          "autotypenumbers": "strict",
          "coloraxis": {
           "colorbar": {
            "outlinewidth": 0,
            "ticks": ""
           }
          },
          "colorscale": {
           "diverging": [
            [
             0,
             "#8e0152"
            ],
            [
             0.1,
             "#c51b7d"
            ],
            [
             0.2,
             "#de77ae"
            ],
            [
             0.3,
             "#f1b6da"
            ],
            [
             0.4,
             "#fde0ef"
            ],
            [
             0.5,
             "#f7f7f7"
            ],
            [
             0.6,
             "#e6f5d0"
            ],
            [
             0.7,
             "#b8e186"
            ],
            [
             0.8,
             "#7fbc41"
            ],
            [
             0.9,
             "#4d9221"
            ],
            [
             1,
             "#276419"
            ]
           ],
           "sequential": [
            [
             0,
             "#0d0887"
            ],
            [
             0.1111111111111111,
             "#46039f"
            ],
            [
             0.2222222222222222,
             "#7201a8"
            ],
            [
             0.3333333333333333,
             "#9c179e"
            ],
            [
             0.4444444444444444,
             "#bd3786"
            ],
            [
             0.5555555555555556,
             "#d8576b"
            ],
            [
             0.6666666666666666,
             "#ed7953"
            ],
            [
             0.7777777777777778,
             "#fb9f3a"
            ],
            [
             0.8888888888888888,
             "#fdca26"
            ],
            [
             1,
             "#f0f921"
            ]
           ],
           "sequentialminus": [
            [
             0,
             "#0d0887"
            ],
            [
             0.1111111111111111,
             "#46039f"
            ],
            [
             0.2222222222222222,
             "#7201a8"
            ],
            [
             0.3333333333333333,
             "#9c179e"
            ],
            [
             0.4444444444444444,
             "#bd3786"
            ],
            [
             0.5555555555555556,
             "#d8576b"
            ],
            [
             0.6666666666666666,
             "#ed7953"
            ],
            [
             0.7777777777777778,
             "#fb9f3a"
            ],
            [
             0.8888888888888888,
             "#fdca26"
            ],
            [
             1,
             "#f0f921"
            ]
           ]
          },
          "colorway": [
           "#636efa",
           "#EF553B",
           "#00cc96",
           "#ab63fa",
           "#FFA15A",
           "#19d3f3",
           "#FF6692",
           "#B6E880",
           "#FF97FF",
           "#FECB52"
          ],
          "font": {
           "color": "#2a3f5f"
          },
          "geo": {
           "bgcolor": "white",
           "lakecolor": "white",
           "landcolor": "#E5ECF6",
           "showlakes": true,
           "showland": true,
           "subunitcolor": "white"
          },
          "hoverlabel": {
           "align": "left"
          },
          "hovermode": "closest",
          "mapbox": {
           "style": "light"
          },
          "paper_bgcolor": "white",
          "plot_bgcolor": "#E5ECF6",
          "polar": {
           "angularaxis": {
            "gridcolor": "white",
            "linecolor": "white",
            "ticks": ""
           },
           "bgcolor": "#E5ECF6",
           "radialaxis": {
            "gridcolor": "white",
            "linecolor": "white",
            "ticks": ""
           }
          },
          "scene": {
           "xaxis": {
            "backgroundcolor": "#E5ECF6",
            "gridcolor": "white",
            "gridwidth": 2,
            "linecolor": "white",
            "showbackground": true,
            "ticks": "",
            "zerolinecolor": "white"
           },
           "yaxis": {
            "backgroundcolor": "#E5ECF6",
            "gridcolor": "white",
            "gridwidth": 2,
            "linecolor": "white",
            "showbackground": true,
            "ticks": "",
            "zerolinecolor": "white"
           },
           "zaxis": {
            "backgroundcolor": "#E5ECF6",
            "gridcolor": "white",
            "gridwidth": 2,
            "linecolor": "white",
            "showbackground": true,
            "ticks": "",
            "zerolinecolor": "white"
           }
          },
          "shapedefaults": {
           "line": {
            "color": "#2a3f5f"
           }
          },
          "ternary": {
           "aaxis": {
            "gridcolor": "white",
            "linecolor": "white",
            "ticks": ""
           },
           "baxis": {
            "gridcolor": "white",
            "linecolor": "white",
            "ticks": ""
           },
           "bgcolor": "#E5ECF6",
           "caxis": {
            "gridcolor": "white",
            "linecolor": "white",
            "ticks": ""
           }
          },
          "title": {
           "x": 0.05
          },
          "xaxis": {
           "automargin": true,
           "gridcolor": "white",
           "linecolor": "white",
           "ticks": "",
           "title": {
            "standoff": 15
           },
           "zerolinecolor": "white",
           "zerolinewidth": 2
          },
          "yaxis": {
           "automargin": true,
           "gridcolor": "white",
           "linecolor": "white",
           "ticks": "",
           "title": {
            "standoff": 15
           },
           "zerolinecolor": "white",
           "zerolinewidth": 2
          }
         }
        },
        "xaxis": {
         "anchor": "y",
         "domain": [
          0,
          1
         ],
         "range": [
          0,
          96
         ],
         "title": {
          "text": "index"
         }
        },
        "yaxis": {
         "anchor": "x",
         "domain": [
          0,
          1
         ],
         "title": {
          "text": "value"
         }
        }
       }
      },
      "text/html": [
       "<div>                            <div id=\"765cb25c-b135-4956-9253-e98615bc360c\" class=\"plotly-graph-div\" style=\"height:525px; width:100%;\"></div>            <script type=\"text/javascript\">                require([\"plotly\"], function(Plotly) {                    window.PLOTLYENV=window.PLOTLYENV || {};                                    if (document.getElementById(\"765cb25c-b135-4956-9253-e98615bc360c\")) {                    Plotly.newPlot(                        \"765cb25c-b135-4956-9253-e98615bc360c\",                        [{\"hovertemplate\":\"variable=0\\u003cbr\\u003eindex=%{x}\\u003cbr\\u003evalue=%{y}\\u003cextra\\u003e\\u003c\\u002fextra\\u003e\",\"legendgroup\":\"0\",\"line\":{\"color\":\"#636efa\",\"dash\":\"solid\",\"shape\":\"hv\"},\"marker\":{\"symbol\":\"circle\"},\"mode\":\"lines\",\"name\":\"0\",\"orientation\":\"v\",\"showlegend\":true,\"x\":[0,1,2,3,4,5,6,7,8,9,10,11,12,13,14,15,16,17,18,19,20,21,22,23,24,25,26,27,28,29,30,31,32,33,34,35,36,37,38,39,40,41,42,43,44,45,46,47,48,49,50,51,52,53,54,55,56,57,58,59,60,61,62,63,64,65,66,67,68,69,70,71,72,73,74,75,76,77,78,79,80,81,82,83,84,85,86,87,88,89,90,91,92,93,94,95,96,97,98,99,100,101,102,103,104,105,106,107,108,109],\"xaxis\":\"x\",\"y\":[1.0,1.0,1.0,1.0,1.0,1.0,1.0,1.0,1.0,1.0,1.0,1.0,1.0,1.0,1.0,1.0,1.0,1.0,1.0,1.0,2.0,2.0,2.0,2.0,2.0,2.0,2.0,2.0,2.0,1.0,1.0,1.0,1.0,1.0,1.0,1.0,1.0,1.0,1.0,1.0,1.0,1.0,1.0,1.0,1.0,1.0,1.0,1.0,1.0,1.0,1.0,1.0,1.0,1.0,1.0,1.0,1.0,1.0,1.0,1.0,1.0,1.0,1.0,1.0,1.0,1.0,1.0,1.0,1.0,1.0,1.0,1.0,1.0,1.0,1.0,1.0,1.0,1.0,1.0,1.0,1.0,1.0,1.0,1.0,1.0,1.0,1.0,1.0,1.0,2.0,2.0,2.0,2.0,2.0,2.0,2.0,2.0,2.0,2.0,1.0,1.0,1.0,1.0,1.0,1.0,1.0,1.0,1.0,1.0,1.0],\"yaxis\":\"y\",\"type\":\"scatter\"}],                        {\"template\":{\"data\":{\"histogram2dcontour\":[{\"type\":\"histogram2dcontour\",\"colorbar\":{\"outlinewidth\":0,\"ticks\":\"\"},\"colorscale\":[[0.0,\"#0d0887\"],[0.1111111111111111,\"#46039f\"],[0.2222222222222222,\"#7201a8\"],[0.3333333333333333,\"#9c179e\"],[0.4444444444444444,\"#bd3786\"],[0.5555555555555556,\"#d8576b\"],[0.6666666666666666,\"#ed7953\"],[0.7777777777777778,\"#fb9f3a\"],[0.8888888888888888,\"#fdca26\"],[1.0,\"#f0f921\"]]}],\"choropleth\":[{\"type\":\"choropleth\",\"colorbar\":{\"outlinewidth\":0,\"ticks\":\"\"}}],\"histogram2d\":[{\"type\":\"histogram2d\",\"colorbar\":{\"outlinewidth\":0,\"ticks\":\"\"},\"colorscale\":[[0.0,\"#0d0887\"],[0.1111111111111111,\"#46039f\"],[0.2222222222222222,\"#7201a8\"],[0.3333333333333333,\"#9c179e\"],[0.4444444444444444,\"#bd3786\"],[0.5555555555555556,\"#d8576b\"],[0.6666666666666666,\"#ed7953\"],[0.7777777777777778,\"#fb9f3a\"],[0.8888888888888888,\"#fdca26\"],[1.0,\"#f0f921\"]]}],\"heatmap\":[{\"type\":\"heatmap\",\"colorbar\":{\"outlinewidth\":0,\"ticks\":\"\"},\"colorscale\":[[0.0,\"#0d0887\"],[0.1111111111111111,\"#46039f\"],[0.2222222222222222,\"#7201a8\"],[0.3333333333333333,\"#9c179e\"],[0.4444444444444444,\"#bd3786\"],[0.5555555555555556,\"#d8576b\"],[0.6666666666666666,\"#ed7953\"],[0.7777777777777778,\"#fb9f3a\"],[0.8888888888888888,\"#fdca26\"],[1.0,\"#f0f921\"]]}],\"heatmapgl\":[{\"type\":\"heatmapgl\",\"colorbar\":{\"outlinewidth\":0,\"ticks\":\"\"},\"colorscale\":[[0.0,\"#0d0887\"],[0.1111111111111111,\"#46039f\"],[0.2222222222222222,\"#7201a8\"],[0.3333333333333333,\"#9c179e\"],[0.4444444444444444,\"#bd3786\"],[0.5555555555555556,\"#d8576b\"],[0.6666666666666666,\"#ed7953\"],[0.7777777777777778,\"#fb9f3a\"],[0.8888888888888888,\"#fdca26\"],[1.0,\"#f0f921\"]]}],\"contourcarpet\":[{\"type\":\"contourcarpet\",\"colorbar\":{\"outlinewidth\":0,\"ticks\":\"\"}}],\"contour\":[{\"type\":\"contour\",\"colorbar\":{\"outlinewidth\":0,\"ticks\":\"\"},\"colorscale\":[[0.0,\"#0d0887\"],[0.1111111111111111,\"#46039f\"],[0.2222222222222222,\"#7201a8\"],[0.3333333333333333,\"#9c179e\"],[0.4444444444444444,\"#bd3786\"],[0.5555555555555556,\"#d8576b\"],[0.6666666666666666,\"#ed7953\"],[0.7777777777777778,\"#fb9f3a\"],[0.8888888888888888,\"#fdca26\"],[1.0,\"#f0f921\"]]}],\"surface\":[{\"type\":\"surface\",\"colorbar\":{\"outlinewidth\":0,\"ticks\":\"\"},\"colorscale\":[[0.0,\"#0d0887\"],[0.1111111111111111,\"#46039f\"],[0.2222222222222222,\"#7201a8\"],[0.3333333333333333,\"#9c179e\"],[0.4444444444444444,\"#bd3786\"],[0.5555555555555556,\"#d8576b\"],[0.6666666666666666,\"#ed7953\"],[0.7777777777777778,\"#fb9f3a\"],[0.8888888888888888,\"#fdca26\"],[1.0,\"#f0f921\"]]}],\"mesh3d\":[{\"type\":\"mesh3d\",\"colorbar\":{\"outlinewidth\":0,\"ticks\":\"\"}}],\"scatter\":[{\"fillpattern\":{\"fillmode\":\"overlay\",\"size\":10,\"solidity\":0.2},\"type\":\"scatter\"}],\"parcoords\":[{\"type\":\"parcoords\",\"line\":{\"colorbar\":{\"outlinewidth\":0,\"ticks\":\"\"}}}],\"scatterpolargl\":[{\"type\":\"scatterpolargl\",\"marker\":{\"colorbar\":{\"outlinewidth\":0,\"ticks\":\"\"}}}],\"bar\":[{\"error_x\":{\"color\":\"#2a3f5f\"},\"error_y\":{\"color\":\"#2a3f5f\"},\"marker\":{\"line\":{\"color\":\"#E5ECF6\",\"width\":0.5},\"pattern\":{\"fillmode\":\"overlay\",\"size\":10,\"solidity\":0.2}},\"type\":\"bar\"}],\"scattergeo\":[{\"type\":\"scattergeo\",\"marker\":{\"colorbar\":{\"outlinewidth\":0,\"ticks\":\"\"}}}],\"scatterpolar\":[{\"type\":\"scatterpolar\",\"marker\":{\"colorbar\":{\"outlinewidth\":0,\"ticks\":\"\"}}}],\"histogram\":[{\"marker\":{\"pattern\":{\"fillmode\":\"overlay\",\"size\":10,\"solidity\":0.2}},\"type\":\"histogram\"}],\"scattergl\":[{\"type\":\"scattergl\",\"marker\":{\"colorbar\":{\"outlinewidth\":0,\"ticks\":\"\"}}}],\"scatter3d\":[{\"type\":\"scatter3d\",\"line\":{\"colorbar\":{\"outlinewidth\":0,\"ticks\":\"\"}},\"marker\":{\"colorbar\":{\"outlinewidth\":0,\"ticks\":\"\"}}}],\"scattermapbox\":[{\"type\":\"scattermapbox\",\"marker\":{\"colorbar\":{\"outlinewidth\":0,\"ticks\":\"\"}}}],\"scatterternary\":[{\"type\":\"scatterternary\",\"marker\":{\"colorbar\":{\"outlinewidth\":0,\"ticks\":\"\"}}}],\"scattercarpet\":[{\"type\":\"scattercarpet\",\"marker\":{\"colorbar\":{\"outlinewidth\":0,\"ticks\":\"\"}}}],\"carpet\":[{\"aaxis\":{\"endlinecolor\":\"#2a3f5f\",\"gridcolor\":\"white\",\"linecolor\":\"white\",\"minorgridcolor\":\"white\",\"startlinecolor\":\"#2a3f5f\"},\"baxis\":{\"endlinecolor\":\"#2a3f5f\",\"gridcolor\":\"white\",\"linecolor\":\"white\",\"minorgridcolor\":\"white\",\"startlinecolor\":\"#2a3f5f\"},\"type\":\"carpet\"}],\"table\":[{\"cells\":{\"fill\":{\"color\":\"#EBF0F8\"},\"line\":{\"color\":\"white\"}},\"header\":{\"fill\":{\"color\":\"#C8D4E3\"},\"line\":{\"color\":\"white\"}},\"type\":\"table\"}],\"barpolar\":[{\"marker\":{\"line\":{\"color\":\"#E5ECF6\",\"width\":0.5},\"pattern\":{\"fillmode\":\"overlay\",\"size\":10,\"solidity\":0.2}},\"type\":\"barpolar\"}],\"pie\":[{\"automargin\":true,\"type\":\"pie\"}]},\"layout\":{\"autotypenumbers\":\"strict\",\"colorway\":[\"#636efa\",\"#EF553B\",\"#00cc96\",\"#ab63fa\",\"#FFA15A\",\"#19d3f3\",\"#FF6692\",\"#B6E880\",\"#FF97FF\",\"#FECB52\"],\"font\":{\"color\":\"#2a3f5f\"},\"hovermode\":\"closest\",\"hoverlabel\":{\"align\":\"left\"},\"paper_bgcolor\":\"white\",\"plot_bgcolor\":\"#E5ECF6\",\"polar\":{\"bgcolor\":\"#E5ECF6\",\"angularaxis\":{\"gridcolor\":\"white\",\"linecolor\":\"white\",\"ticks\":\"\"},\"radialaxis\":{\"gridcolor\":\"white\",\"linecolor\":\"white\",\"ticks\":\"\"}},\"ternary\":{\"bgcolor\":\"#E5ECF6\",\"aaxis\":{\"gridcolor\":\"white\",\"linecolor\":\"white\",\"ticks\":\"\"},\"baxis\":{\"gridcolor\":\"white\",\"linecolor\":\"white\",\"ticks\":\"\"},\"caxis\":{\"gridcolor\":\"white\",\"linecolor\":\"white\",\"ticks\":\"\"}},\"coloraxis\":{\"colorbar\":{\"outlinewidth\":0,\"ticks\":\"\"}},\"colorscale\":{\"sequential\":[[0.0,\"#0d0887\"],[0.1111111111111111,\"#46039f\"],[0.2222222222222222,\"#7201a8\"],[0.3333333333333333,\"#9c179e\"],[0.4444444444444444,\"#bd3786\"],[0.5555555555555556,\"#d8576b\"],[0.6666666666666666,\"#ed7953\"],[0.7777777777777778,\"#fb9f3a\"],[0.8888888888888888,\"#fdca26\"],[1.0,\"#f0f921\"]],\"sequentialminus\":[[0.0,\"#0d0887\"],[0.1111111111111111,\"#46039f\"],[0.2222222222222222,\"#7201a8\"],[0.3333333333333333,\"#9c179e\"],[0.4444444444444444,\"#bd3786\"],[0.5555555555555556,\"#d8576b\"],[0.6666666666666666,\"#ed7953\"],[0.7777777777777778,\"#fb9f3a\"],[0.8888888888888888,\"#fdca26\"],[1.0,\"#f0f921\"]],\"diverging\":[[0,\"#8e0152\"],[0.1,\"#c51b7d\"],[0.2,\"#de77ae\"],[0.3,\"#f1b6da\"],[0.4,\"#fde0ef\"],[0.5,\"#f7f7f7\"],[0.6,\"#e6f5d0\"],[0.7,\"#b8e186\"],[0.8,\"#7fbc41\"],[0.9,\"#4d9221\"],[1,\"#276419\"]]},\"xaxis\":{\"gridcolor\":\"white\",\"linecolor\":\"white\",\"ticks\":\"\",\"title\":{\"standoff\":15},\"zerolinecolor\":\"white\",\"automargin\":true,\"zerolinewidth\":2},\"yaxis\":{\"gridcolor\":\"white\",\"linecolor\":\"white\",\"ticks\":\"\",\"title\":{\"standoff\":15},\"zerolinecolor\":\"white\",\"automargin\":true,\"zerolinewidth\":2},\"scene\":{\"xaxis\":{\"backgroundcolor\":\"#E5ECF6\",\"gridcolor\":\"white\",\"linecolor\":\"white\",\"showbackground\":true,\"ticks\":\"\",\"zerolinecolor\":\"white\",\"gridwidth\":2},\"yaxis\":{\"backgroundcolor\":\"#E5ECF6\",\"gridcolor\":\"white\",\"linecolor\":\"white\",\"showbackground\":true,\"ticks\":\"\",\"zerolinecolor\":\"white\",\"gridwidth\":2},\"zaxis\":{\"backgroundcolor\":\"#E5ECF6\",\"gridcolor\":\"white\",\"linecolor\":\"white\",\"showbackground\":true,\"ticks\":\"\",\"zerolinecolor\":\"white\",\"gridwidth\":2}},\"shapedefaults\":{\"line\":{\"color\":\"#2a3f5f\"}},\"annotationdefaults\":{\"arrowcolor\":\"#2a3f5f\",\"arrowhead\":0,\"arrowwidth\":1},\"geo\":{\"bgcolor\":\"white\",\"landcolor\":\"#E5ECF6\",\"subunitcolor\":\"white\",\"showland\":true,\"showlakes\":true,\"lakecolor\":\"white\"},\"title\":{\"x\":0.05},\"mapbox\":{\"style\":\"light\"}}},\"xaxis\":{\"anchor\":\"y\",\"domain\":[0.0,1.0],\"title\":{\"text\":\"index\"},\"range\":[0,96]},\"yaxis\":{\"anchor\":\"x\",\"domain\":[0.0,1.0],\"title\":{\"text\":\"value\"}},\"legend\":{\"title\":{\"text\":\"variable\"},\"tracegroupgap\":0},\"margin\":{\"t\":60}},                        {\"responsive\": true}                    ).then(function(){\n",
       "                            \n",
       "var gd = document.getElementById('765cb25c-b135-4956-9253-e98615bc360c');\n",
       "var x = new MutationObserver(function (mutations, observer) {{\n",
       "        var display = window.getComputedStyle(gd).display;\n",
       "        if (!display || display === 'none') {{\n",
       "            console.log([gd, 'removed!']);\n",
       "            Plotly.purge(gd);\n",
       "            observer.disconnect();\n",
       "        }}\n",
       "}});\n",
       "\n",
       "// Listen for the removal of the full notebook cells\n",
       "var notebookContainer = gd.closest('#notebook-container');\n",
       "if (notebookContainer) {{\n",
       "    x.observe(notebookContainer, {childList: true});\n",
       "}}\n",
       "\n",
       "// Listen for the clearing of the current output cell\n",
       "var outputEl = gd.closest('.output');\n",
       "if (outputEl) {{\n",
       "    x.observe(outputEl, {childList: true});\n",
       "}}\n",
       "\n",
       "                        })                };                });            </script>        </div>"
      ]
     },
     "metadata": {},
     "output_type": "display_data"
    }
   ],
   "source": [
    "# Create the environment\n",
    "env = CustomEnv(w1=0.8, w2=3.5, w3=1)\n",
    "\n",
    "\n",
    "# Reset the environment\n",
    "obs = env.reset()\n",
    "\n",
    "total_rew = 0\n",
    "steps = 0\n",
    "while True:\n",
    "    #print(f\"\\nObs: {obs}\")\n",
    "    action = env.action_space.sample()\n",
    "    obs, reward, terminated, _ , info = env.step(action)\n",
    "    total_rew += reward\n",
    "    steps += 1\n",
    "    #print(f\"Action: {action}\")\n",
    "    #print(f\"Rewars: {reward}\")\n",
    "    if terminated:\n",
    "        #print(info[\"rewards\"])\n",
    "        #print(\"step count:\",info[\"step count\"])\n",
    "        break\n",
    "\n",
    "env.close()\n",
    "print(\"total_rew\",total_rew)\n",
    "\n",
    "history = np.array(info[\"history\"])\n",
    "job_counter = 0\n",
    "for his in history:\n",
    "    if his[2] > 0:\n",
    "        job_counter += 1\n",
    "\n",
    "print(f\"completed jobs: {job_counter}/40\")\n",
    "\n",
    "render(info[\"history\"], info[\"prices\"])"
   ]
  },
  {
   "cell_type": "code",
   "execution_count": 5,
   "metadata": {},
   "outputs": [],
   "source": [
    "# Create the save path\n",
    "log_dir = \"test_4_ppo_checkpoints/rew2_1000k\"\n",
    "os.makedirs(log_dir, exist_ok=True)\n",
    "\n",
    "# Create the callback\n",
    "save_callback = SaveOnStepCallback(save_freq=100_000, save_path=log_dir)"
   ]
  },
  {
   "cell_type": "code",
   "execution_count": 6,
   "metadata": {},
   "outputs": [
    {
     "name": "stdout",
     "output_type": "stream",
     "text": [
      "Using cpu device\n",
      "Wrapping the env with a `Monitor` wrapper\n",
      "Wrapping the env in a DummyVecEnv.\n"
     ]
    }
   ],
   "source": [
    "# Check the environment\n",
    "check_env(env)\n",
    "\n",
    "\n",
    "# Create the PPO model\n",
    "model = PPO('MultiInputPolicy', env, tensorboard_log = log_dir, verbose=1)\n",
    "\n",
    "# Wrap the environment\n",
    "vec_env = DummyVecEnv([lambda: env])\n"
   ]
  },
  {
   "cell_type": "code",
   "execution_count": 105,
   "metadata": {},
   "outputs": [
    {
     "name": "stdout",
     "output_type": "stream",
     "text": [
      "Logging to test_4_ppo_checkpoints/rew2_1000k/PPO_3\n",
      "---------------------------------\n",
      "| rollout/           |          |\n",
      "|    ep_len_mean     | 86.8     |\n",
      "|    ep_rew_mean     | 518      |\n",
      "| time/              |          |\n",
      "|    fps             | 2570     |\n",
      "|    iterations      | 1        |\n",
      "|    time_elapsed    | 0        |\n",
      "|    total_timesteps | 2048     |\n",
      "---------------------------------\n",
      "------------------------------------------\n",
      "| rollout/                |              |\n",
      "|    ep_len_mean          | 86.3         |\n",
      "|    ep_rew_mean          | 515          |\n",
      "| time/                   |              |\n",
      "|    fps                  | 1780         |\n",
      "|    iterations           | 2            |\n",
      "|    time_elapsed         | 2            |\n",
      "|    total_timesteps      | 4096         |\n",
      "| train/                  |              |\n",
      "|    approx_kl            | 0.0030124427 |\n",
      "|    clip_fraction        | 0.0305       |\n",
      "|    clip_range           | 0.2          |\n",
      "|    entropy_loss         | -0.196       |\n",
      "|    explained_variance   | 0.99106395   |\n",
      "|    learning_rate        | 0.0003       |\n",
      "|    loss                 | 18.4         |\n",
      "|    n_updates            | 2460         |\n",
      "|    policy_gradient_loss | -0.00315     |\n",
      "|    value_loss           | 55.8         |\n",
      "------------------------------------------\n",
      "------------------------------------------\n",
      "| rollout/                |              |\n",
      "|    ep_len_mean          | 85.1         |\n",
      "|    ep_rew_mean          | 516          |\n",
      "| time/                   |              |\n",
      "|    fps                  | 1604         |\n",
      "|    iterations           | 3            |\n",
      "|    time_elapsed         | 3            |\n",
      "|    total_timesteps      | 6144         |\n",
      "| train/                  |              |\n",
      "|    approx_kl            | 0.0031776424 |\n",
      "|    clip_fraction        | 0.0305       |\n",
      "|    clip_range           | 0.2          |\n",
      "|    entropy_loss         | -0.179       |\n",
      "|    explained_variance   | 0.98606825   |\n",
      "|    learning_rate        | 0.0003       |\n",
      "|    loss                 | 15.4         |\n",
      "|    n_updates            | 2470         |\n",
      "|    policy_gradient_loss | 0.000495     |\n",
      "|    value_loss           | 83.1         |\n",
      "------------------------------------------\n",
      "------------------------------------------\n",
      "| rollout/                |              |\n",
      "|    ep_len_mean          | 85.6         |\n",
      "|    ep_rew_mean          | 516          |\n",
      "| time/                   |              |\n",
      "|    fps                  | 1532         |\n",
      "|    iterations           | 4            |\n",
      "|    time_elapsed         | 5            |\n",
      "|    total_timesteps      | 8192         |\n",
      "| train/                  |              |\n",
      "|    approx_kl            | 0.0033090704 |\n",
      "|    clip_fraction        | 0.0354       |\n",
      "|    clip_range           | 0.2          |\n",
      "|    entropy_loss         | -0.182       |\n",
      "|    explained_variance   | 0.9935754    |\n",
      "|    learning_rate        | 0.0003       |\n",
      "|    loss                 | 11           |\n",
      "|    n_updates            | 2480         |\n",
      "|    policy_gradient_loss | 0.00173      |\n",
      "|    value_loss           | 46.4         |\n",
      "------------------------------------------\n",
      "-----------------------------------------\n",
      "| rollout/                |             |\n",
      "|    ep_len_mean          | 87.3        |\n",
      "|    ep_rew_mean          | 517         |\n",
      "| time/                   |             |\n",
      "|    fps                  | 1492        |\n",
      "|    iterations           | 5           |\n",
      "|    time_elapsed         | 6           |\n",
      "|    total_timesteps      | 10240       |\n",
      "| train/                  |             |\n",
      "|    approx_kl            | 0.006468389 |\n",
      "|    clip_fraction        | 0.0396      |\n",
      "|    clip_range           | 0.2         |\n",
      "|    entropy_loss         | -0.198      |\n",
      "|    explained_variance   | 0.9889757   |\n",
      "|    learning_rate        | 0.0003      |\n",
      "|    loss                 | 18.3        |\n",
      "|    n_updates            | 2490        |\n",
      "|    policy_gradient_loss | -0.000959   |\n",
      "|    value_loss           | 83.4        |\n",
      "-----------------------------------------\n",
      "------------------------------------------\n",
      "| rollout/                |              |\n",
      "|    ep_len_mean          | 89.2         |\n",
      "|    ep_rew_mean          | 519          |\n",
      "| time/                   |              |\n",
      "|    fps                  | 1467         |\n",
      "|    iterations           | 6            |\n",
      "|    time_elapsed         | 8            |\n",
      "|    total_timesteps      | 12288        |\n",
      "| train/                  |              |\n",
      "|    approx_kl            | 0.0081969295 |\n",
      "|    clip_fraction        | 0.0456       |\n",
      "|    clip_range           | 0.2          |\n",
      "|    entropy_loss         | -0.215       |\n",
      "|    explained_variance   | 0.9898363    |\n",
      "|    learning_rate        | 0.0003       |\n",
      "|    loss                 | 15.8         |\n",
      "|    n_updates            | 2500         |\n",
      "|    policy_gradient_loss | -0.00442     |\n",
      "|    value_loss           | 68.6         |\n",
      "------------------------------------------\n",
      "------------------------------------------\n",
      "| rollout/                |              |\n",
      "|    ep_len_mean          | 89.9         |\n",
      "|    ep_rew_mean          | 520          |\n",
      "| time/                   |              |\n",
      "|    fps                  | 1449         |\n",
      "|    iterations           | 7            |\n",
      "|    time_elapsed         | 9            |\n",
      "|    total_timesteps      | 14336        |\n",
      "| train/                  |              |\n",
      "|    approx_kl            | 0.0038937337 |\n",
      "|    clip_fraction        | 0.0356       |\n",
      "|    clip_range           | 0.2          |\n",
      "|    entropy_loss         | -0.215       |\n",
      "|    explained_variance   | 0.99232465   |\n",
      "|    learning_rate        | 0.0003       |\n",
      "|    loss                 | 36.2         |\n",
      "|    n_updates            | 2510         |\n",
      "|    policy_gradient_loss | -0.000883    |\n",
      "|    value_loss           | 50.8         |\n",
      "------------------------------------------\n",
      "-----------------------------------------\n",
      "| rollout/                |             |\n",
      "|    ep_len_mean          | 90.5        |\n",
      "|    ep_rew_mean          | 521         |\n",
      "| time/                   |             |\n",
      "|    fps                  | 1429        |\n",
      "|    iterations           | 8           |\n",
      "|    time_elapsed         | 11          |\n",
      "|    total_timesteps      | 16384       |\n",
      "| train/                  |             |\n",
      "|    approx_kl            | 0.006732139 |\n",
      "|    clip_fraction        | 0.041       |\n",
      "|    clip_range           | 0.2         |\n",
      "|    entropy_loss         | -0.208      |\n",
      "|    explained_variance   | 0.9914749   |\n",
      "|    learning_rate        | 0.0003      |\n",
      "|    loss                 | 9.66        |\n",
      "|    n_updates            | 2520        |\n",
      "|    policy_gradient_loss | -0.0028     |\n",
      "|    value_loss           | 56.8        |\n",
      "-----------------------------------------\n",
      "-----------------------------------------\n",
      "| rollout/                |             |\n",
      "|    ep_len_mean          | 87.5        |\n",
      "|    ep_rew_mean          | 520         |\n",
      "| time/                   |             |\n",
      "|    fps                  | 1418        |\n",
      "|    iterations           | 9           |\n",
      "|    time_elapsed         | 12          |\n",
      "|    total_timesteps      | 18432       |\n",
      "| train/                  |             |\n",
      "|    approx_kl            | 0.012154698 |\n",
      "|    clip_fraction        | 0.0272      |\n",
      "|    clip_range           | 0.2         |\n",
      "|    entropy_loss         | -0.226      |\n",
      "|    explained_variance   | 0.9931169   |\n",
      "|    learning_rate        | 0.0003      |\n",
      "|    loss                 | 6.48        |\n",
      "|    n_updates            | 2530        |\n",
      "|    policy_gradient_loss | 0.000743    |\n",
      "|    value_loss           | 43.8        |\n",
      "-----------------------------------------\n",
      "------------------------------------------\n",
      "| rollout/                |              |\n",
      "|    ep_len_mean          | 83.9         |\n",
      "|    ep_rew_mean          | 516          |\n",
      "| time/                   |              |\n",
      "|    fps                  | 1410         |\n",
      "|    iterations           | 10           |\n",
      "|    time_elapsed         | 14           |\n",
      "|    total_timesteps      | 20480        |\n",
      "| train/                  |              |\n",
      "|    approx_kl            | 0.0070726867 |\n",
      "|    clip_fraction        | 0.031        |\n",
      "|    clip_range           | 0.2          |\n",
      "|    entropy_loss         | -0.229       |\n",
      "|    explained_variance   | 0.9915982    |\n",
      "|    learning_rate        | 0.0003       |\n",
      "|    loss                 | 10.9         |\n",
      "|    n_updates            | 2540         |\n",
      "|    policy_gradient_loss | -0.000395    |\n",
      "|    value_loss           | 56.1         |\n",
      "------------------------------------------\n",
      "-----------------------------------------\n",
      "| rollout/                |             |\n",
      "|    ep_len_mean          | 82          |\n",
      "|    ep_rew_mean          | 515         |\n",
      "| time/                   |             |\n",
      "|    fps                  | 1402        |\n",
      "|    iterations           | 11          |\n",
      "|    time_elapsed         | 16          |\n",
      "|    total_timesteps      | 22528       |\n",
      "| train/                  |             |\n",
      "|    approx_kl            | 0.020495996 |\n",
      "|    clip_fraction        | 0.0333      |\n",
      "|    clip_range           | 0.2         |\n",
      "|    entropy_loss         | -0.227      |\n",
      "|    explained_variance   | 0.9843893   |\n",
      "|    learning_rate        | 0.0003      |\n",
      "|    loss                 | 65.7        |\n",
      "|    n_updates            | 2550        |\n",
      "|    policy_gradient_loss | 0.000538    |\n",
      "|    value_loss           | 112         |\n",
      "-----------------------------------------\n",
      "-----------------------------------------\n",
      "| rollout/                |             |\n",
      "|    ep_len_mean          | 81.4        |\n",
      "|    ep_rew_mean          | 515         |\n",
      "| time/                   |             |\n",
      "|    fps                  | 1396        |\n",
      "|    iterations           | 12          |\n",
      "|    time_elapsed         | 17          |\n",
      "|    total_timesteps      | 24576       |\n",
      "| train/                  |             |\n",
      "|    approx_kl            | 0.017984178 |\n",
      "|    clip_fraction        | 0.0483      |\n",
      "|    clip_range           | 0.2         |\n",
      "|    entropy_loss         | -0.226      |\n",
      "|    explained_variance   | 0.99590975  |\n",
      "|    learning_rate        | 0.0003      |\n",
      "|    loss                 | 10.8        |\n",
      "|    n_updates            | 2560        |\n",
      "|    policy_gradient_loss | 0.00541     |\n",
      "|    value_loss           | 22.1        |\n",
      "-----------------------------------------\n",
      "-----------------------------------------\n",
      "| rollout/                |             |\n",
      "|    ep_len_mean          | 81.2        |\n",
      "|    ep_rew_mean          | 516         |\n",
      "| time/                   |             |\n",
      "|    fps                  | 1389        |\n",
      "|    iterations           | 13          |\n",
      "|    time_elapsed         | 19          |\n",
      "|    total_timesteps      | 26624       |\n",
      "| train/                  |             |\n",
      "|    approx_kl            | 0.006571384 |\n",
      "|    clip_fraction        | 0.0443      |\n",
      "|    clip_range           | 0.2         |\n",
      "|    entropy_loss         | -0.213      |\n",
      "|    explained_variance   | 0.9932541   |\n",
      "|    learning_rate        | 0.0003      |\n",
      "|    loss                 | 5.5         |\n",
      "|    n_updates            | 2570        |\n",
      "|    policy_gradient_loss | -0.00285    |\n",
      "|    value_loss           | 43.7        |\n",
      "-----------------------------------------\n",
      "------------------------------------------\n",
      "| rollout/                |              |\n",
      "|    ep_len_mean          | 80.5         |\n",
      "|    ep_rew_mean          | 518          |\n",
      "| time/                   |              |\n",
      "|    fps                  | 1385         |\n",
      "|    iterations           | 14           |\n",
      "|    time_elapsed         | 20           |\n",
      "|    total_timesteps      | 28672        |\n",
      "| train/                  |              |\n",
      "|    approx_kl            | 0.0058877943 |\n",
      "|    clip_fraction        | 0.0468       |\n",
      "|    clip_range           | 0.2          |\n",
      "|    entropy_loss         | -0.23        |\n",
      "|    explained_variance   | 0.9968839    |\n",
      "|    learning_rate        | 0.0003       |\n",
      "|    loss                 | 6.91         |\n",
      "|    n_updates            | 2580         |\n",
      "|    policy_gradient_loss | -0.00159     |\n",
      "|    value_loss           | 19.3         |\n",
      "------------------------------------------\n",
      "------------------------------------------\n",
      "| rollout/                |              |\n",
      "|    ep_len_mean          | 80.9         |\n",
      "|    ep_rew_mean          | 517          |\n",
      "| time/                   |              |\n",
      "|    fps                  | 1381         |\n",
      "|    iterations           | 15           |\n",
      "|    time_elapsed         | 22           |\n",
      "|    total_timesteps      | 30720        |\n",
      "| train/                  |              |\n",
      "|    approx_kl            | 0.0027054178 |\n",
      "|    clip_fraction        | 0.0408       |\n",
      "|    clip_range           | 0.2          |\n",
      "|    entropy_loss         | -0.224       |\n",
      "|    explained_variance   | 0.99666435   |\n",
      "|    learning_rate        | 0.0003       |\n",
      "|    loss                 | 9.4          |\n",
      "|    n_updates            | 2590         |\n",
      "|    policy_gradient_loss | 0.000421     |\n",
      "|    value_loss           | 19           |\n",
      "------------------------------------------\n",
      "-----------------------------------------\n",
      "| rollout/                |             |\n",
      "|    ep_len_mean          | 80.1        |\n",
      "|    ep_rew_mean          | 513         |\n",
      "| time/                   |             |\n",
      "|    fps                  | 1378        |\n",
      "|    iterations           | 16          |\n",
      "|    time_elapsed         | 23          |\n",
      "|    total_timesteps      | 32768       |\n",
      "| train/                  |             |\n",
      "|    approx_kl            | 0.005307547 |\n",
      "|    clip_fraction        | 0.0429      |\n",
      "|    clip_range           | 0.2         |\n",
      "|    entropy_loss         | -0.251      |\n",
      "|    explained_variance   | 0.99116856  |\n",
      "|    learning_rate        | 0.0003      |\n",
      "|    loss                 | 40.1        |\n",
      "|    n_updates            | 2600        |\n",
      "|    policy_gradient_loss | -0.00105    |\n",
      "|    value_loss           | 63.9        |\n",
      "-----------------------------------------\n",
      "------------------------------------------\n",
      "| rollout/                |              |\n",
      "|    ep_len_mean          | 79.2         |\n",
      "|    ep_rew_mean          | 509          |\n",
      "| time/                   |              |\n",
      "|    fps                  | 1375         |\n",
      "|    iterations           | 17           |\n",
      "|    time_elapsed         | 25           |\n",
      "|    total_timesteps      | 34816        |\n",
      "| train/                  |              |\n",
      "|    approx_kl            | 0.0032743025 |\n",
      "|    clip_fraction        | 0.0398       |\n",
      "|    clip_range           | 0.2          |\n",
      "|    entropy_loss         | -0.224       |\n",
      "|    explained_variance   | 0.97898054   |\n",
      "|    learning_rate        | 0.0003       |\n",
      "|    loss                 | 71.5         |\n",
      "|    n_updates            | 2610         |\n",
      "|    policy_gradient_loss | -0.00573     |\n",
      "|    value_loss           | 164          |\n",
      "------------------------------------------\n",
      "---------------------------------------\n",
      "| rollout/                |           |\n",
      "|    ep_len_mean          | 77.8      |\n",
      "|    ep_rew_mean          | 507       |\n",
      "| time/                   |           |\n",
      "|    fps                  | 1357      |\n",
      "|    iterations           | 18        |\n",
      "|    time_elapsed         | 27        |\n",
      "|    total_timesteps      | 36864     |\n",
      "| train/                  |           |\n",
      "|    approx_kl            | 0.0048209 |\n",
      "|    clip_fraction        | 0.0445    |\n",
      "|    clip_range           | 0.2       |\n",
      "|    entropy_loss         | -0.218    |\n",
      "|    explained_variance   | 0.9862593 |\n",
      "|    learning_rate        | 0.0003    |\n",
      "|    loss                 | 21.6      |\n",
      "|    n_updates            | 2620      |\n",
      "|    policy_gradient_loss | -0.0031   |\n",
      "|    value_loss           | 106       |\n",
      "---------------------------------------\n",
      "------------------------------------------\n",
      "| rollout/                |              |\n",
      "|    ep_len_mean          | 76.6         |\n",
      "|    ep_rew_mean          | 505          |\n",
      "| time/                   |              |\n",
      "|    fps                  | 1356         |\n",
      "|    iterations           | 19           |\n",
      "|    time_elapsed         | 28           |\n",
      "|    total_timesteps      | 38912        |\n",
      "| train/                  |              |\n",
      "|    approx_kl            | 0.0039993394 |\n",
      "|    clip_fraction        | 0.0408       |\n",
      "|    clip_range           | 0.2          |\n",
      "|    entropy_loss         | -0.192       |\n",
      "|    explained_variance   | 0.9912535    |\n",
      "|    learning_rate        | 0.0003       |\n",
      "|    loss                 | 20           |\n",
      "|    n_updates            | 2630         |\n",
      "|    policy_gradient_loss | -0.0015      |\n",
      "|    value_loss           | 66.1         |\n",
      "------------------------------------------\n",
      "------------------------------------------\n",
      "| rollout/                |              |\n",
      "|    ep_len_mean          | 76.6         |\n",
      "|    ep_rew_mean          | 506          |\n",
      "| time/                   |              |\n",
      "|    fps                  | 1355         |\n",
      "|    iterations           | 20           |\n",
      "|    time_elapsed         | 30           |\n",
      "|    total_timesteps      | 40960        |\n",
      "| train/                  |              |\n",
      "|    approx_kl            | 0.0071317675 |\n",
      "|    clip_fraction        | 0.0546       |\n",
      "|    clip_range           | 0.2          |\n",
      "|    entropy_loss         | -0.198       |\n",
      "|    explained_variance   | 0.9785531    |\n",
      "|    learning_rate        | 0.0003       |\n",
      "|    loss                 | 29.1         |\n",
      "|    n_updates            | 2640         |\n",
      "|    policy_gradient_loss | -0.00296     |\n",
      "|    value_loss           | 164          |\n",
      "------------------------------------------\n",
      "-----------------------------------------\n",
      "| rollout/                |             |\n",
      "|    ep_len_mean          | 78.2        |\n",
      "|    ep_rew_mean          | 510         |\n",
      "| time/                   |             |\n",
      "|    fps                  | 1353        |\n",
      "|    iterations           | 21          |\n",
      "|    time_elapsed         | 31          |\n",
      "|    total_timesteps      | 43008       |\n",
      "| train/                  |             |\n",
      "|    approx_kl            | 0.012748859 |\n",
      "|    clip_fraction        | 0.09        |\n",
      "|    clip_range           | 0.2         |\n",
      "|    entropy_loss         | -0.206      |\n",
      "|    explained_variance   | 0.99179995  |\n",
      "|    learning_rate        | 0.0003      |\n",
      "|    loss                 | 47.4        |\n",
      "|    n_updates            | 2650        |\n",
      "|    policy_gradient_loss | 0.01        |\n",
      "|    value_loss           | 58          |\n",
      "-----------------------------------------\n",
      "-----------------------------------------\n",
      "| rollout/                |             |\n",
      "|    ep_len_mean          | 79.4        |\n",
      "|    ep_rew_mean          | 512         |\n",
      "| time/                   |             |\n",
      "|    fps                  | 1352        |\n",
      "|    iterations           | 22          |\n",
      "|    time_elapsed         | 33          |\n",
      "|    total_timesteps      | 45056       |\n",
      "| train/                  |             |\n",
      "|    approx_kl            | 0.008916286 |\n",
      "|    clip_fraction        | 0.0522      |\n",
      "|    clip_range           | 0.2         |\n",
      "|    entropy_loss         | -0.207      |\n",
      "|    explained_variance   | 0.9962376   |\n",
      "|    learning_rate        | 0.0003      |\n",
      "|    loss                 | 11.5        |\n",
      "|    n_updates            | 2660        |\n",
      "|    policy_gradient_loss | -0.00209    |\n",
      "|    value_loss           | 24.2        |\n",
      "-----------------------------------------\n",
      "---------------------------------------\n",
      "| rollout/                |           |\n",
      "|    ep_len_mean          | 93.2      |\n",
      "|    ep_rew_mean          | 509       |\n",
      "| time/                   |           |\n",
      "|    fps                  | 1351      |\n",
      "|    iterations           | 23        |\n",
      "|    time_elapsed         | 34        |\n",
      "|    total_timesteps      | 47104     |\n",
      "| train/                  |           |\n",
      "|    approx_kl            | 0.1312471 |\n",
      "|    clip_fraction        | 0.0782    |\n",
      "|    clip_range           | 0.2       |\n",
      "|    entropy_loss         | -0.203    |\n",
      "|    explained_variance   | 0.9919649 |\n",
      "|    learning_rate        | 0.0003    |\n",
      "|    loss                 | 112       |\n",
      "|    n_updates            | 2670      |\n",
      "|    policy_gradient_loss | 0.00598   |\n",
      "|    value_loss           | 51.7      |\n",
      "---------------------------------------\n",
      "------------------------------------------\n",
      "| rollout/                |              |\n",
      "|    ep_len_mean          | 105          |\n",
      "|    ep_rew_mean          | 503          |\n",
      "| time/                   |              |\n",
      "|    fps                  | 1351         |\n",
      "|    iterations           | 24           |\n",
      "|    time_elapsed         | 36           |\n",
      "|    total_timesteps      | 49152        |\n",
      "| train/                  |              |\n",
      "|    approx_kl            | 0.0049441545 |\n",
      "|    clip_fraction        | 0.0291       |\n",
      "|    clip_range           | 0.2          |\n",
      "|    entropy_loss         | -0.154       |\n",
      "|    explained_variance   | 0.9584485    |\n",
      "|    learning_rate        | 0.0003       |\n",
      "|    loss                 | 86.8         |\n",
      "|    n_updates            | 2680         |\n",
      "|    policy_gradient_loss | -0.00268     |\n",
      "|    value_loss           | 250          |\n",
      "------------------------------------------\n",
      "-----------------------------------------\n",
      "| rollout/                |             |\n",
      "|    ep_len_mean          | 120         |\n",
      "|    ep_rew_mean          | 499         |\n",
      "| time/                   |             |\n",
      "|    fps                  | 1350        |\n",
      "|    iterations           | 25          |\n",
      "|    time_elapsed         | 37          |\n",
      "|    total_timesteps      | 51200       |\n",
      "| train/                  |             |\n",
      "|    approx_kl            | 0.004199325 |\n",
      "|    clip_fraction        | 0.0332      |\n",
      "|    clip_range           | 0.2         |\n",
      "|    entropy_loss         | -0.164      |\n",
      "|    explained_variance   | 0.9693958   |\n",
      "|    learning_rate        | 0.0003      |\n",
      "|    loss                 | 107         |\n",
      "|    n_updates            | 2690        |\n",
      "|    policy_gradient_loss | -0.00333    |\n",
      "|    value_loss           | 228         |\n",
      "-----------------------------------------\n",
      "-----------------------------------------\n",
      "| rollout/                |             |\n",
      "|    ep_len_mean          | 133         |\n",
      "|    ep_rew_mean          | 495         |\n",
      "| time/                   |             |\n",
      "|    fps                  | 1350        |\n",
      "|    iterations           | 26          |\n",
      "|    time_elapsed         | 39          |\n",
      "|    total_timesteps      | 53248       |\n",
      "| train/                  |             |\n",
      "|    approx_kl            | 0.012464465 |\n",
      "|    clip_fraction        | 0.0327      |\n",
      "|    clip_range           | 0.2         |\n",
      "|    entropy_loss         | -0.151      |\n",
      "|    explained_variance   | 0.98413     |\n",
      "|    learning_rate        | 0.0003      |\n",
      "|    loss                 | 33.9        |\n",
      "|    n_updates            | 2700        |\n",
      "|    policy_gradient_loss | 0.000176    |\n",
      "|    value_loss           | 86          |\n",
      "-----------------------------------------\n",
      "------------------------------------------\n",
      "| rollout/                |              |\n",
      "|    ep_len_mean          | 147          |\n",
      "|    ep_rew_mean          | 492          |\n",
      "| time/                   |              |\n",
      "|    fps                  | 1349         |\n",
      "|    iterations           | 27           |\n",
      "|    time_elapsed         | 40           |\n",
      "|    total_timesteps      | 55296        |\n",
      "| train/                  |              |\n",
      "|    approx_kl            | 0.0033655916 |\n",
      "|    clip_fraction        | 0.0382       |\n",
      "|    clip_range           | 0.2          |\n",
      "|    entropy_loss         | -0.162       |\n",
      "|    explained_variance   | 0.9859733    |\n",
      "|    learning_rate        | 0.0003       |\n",
      "|    loss                 | 34           |\n",
      "|    n_updates            | 2710         |\n",
      "|    policy_gradient_loss | -0.00276     |\n",
      "|    value_loss           | 79.1         |\n",
      "------------------------------------------\n",
      "-----------------------------------------\n",
      "| rollout/                |             |\n",
      "|    ep_len_mean          | 162         |\n",
      "|    ep_rew_mean          | 489         |\n",
      "| time/                   |             |\n",
      "|    fps                  | 1349        |\n",
      "|    iterations           | 28          |\n",
      "|    time_elapsed         | 42          |\n",
      "|    total_timesteps      | 57344       |\n",
      "| train/                  |             |\n",
      "|    approx_kl            | 0.003267649 |\n",
      "|    clip_fraction        | 0.0338      |\n",
      "|    clip_range           | 0.2         |\n",
      "|    entropy_loss         | -0.164      |\n",
      "|    explained_variance   | 0.98585564  |\n",
      "|    learning_rate        | 0.0003      |\n",
      "|    loss                 | 32.4        |\n",
      "|    n_updates            | 2720        |\n",
      "|    policy_gradient_loss | -0.000141   |\n",
      "|    value_loss           | 99.3        |\n",
      "-----------------------------------------\n",
      "------------------------------------------\n",
      "| rollout/                |              |\n",
      "|    ep_len_mean          | 177          |\n",
      "|    ep_rew_mean          | 485          |\n",
      "| time/                   |              |\n",
      "|    fps                  | 1348         |\n",
      "|    iterations           | 29           |\n",
      "|    time_elapsed         | 44           |\n",
      "|    total_timesteps      | 59392        |\n",
      "| train/                  |              |\n",
      "|    approx_kl            | 0.0062371064 |\n",
      "|    clip_fraction        | 0.0305       |\n",
      "|    clip_range           | 0.2          |\n",
      "|    entropy_loss         | -0.156       |\n",
      "|    explained_variance   | 0.9874304    |\n",
      "|    learning_rate        | 0.0003       |\n",
      "|    loss                 | 36.8         |\n",
      "|    n_updates            | 2730         |\n",
      "|    policy_gradient_loss | -0.00152     |\n",
      "|    value_loss           | 73.6         |\n",
      "------------------------------------------\n",
      "------------------------------------------\n",
      "| rollout/                |              |\n",
      "|    ep_len_mean          | 190          |\n",
      "|    ep_rew_mean          | 481          |\n",
      "| time/                   |              |\n",
      "|    fps                  | 1348         |\n",
      "|    iterations           | 30           |\n",
      "|    time_elapsed         | 45           |\n",
      "|    total_timesteps      | 61440        |\n",
      "| train/                  |              |\n",
      "|    approx_kl            | 0.0029582344 |\n",
      "|    clip_fraction        | 0.0293       |\n",
      "|    clip_range           | 0.2          |\n",
      "|    entropy_loss         | -0.14        |\n",
      "|    explained_variance   | 0.9847932    |\n",
      "|    learning_rate        | 0.0003       |\n",
      "|    loss                 | 23.7         |\n",
      "|    n_updates            | 2740         |\n",
      "|    policy_gradient_loss | -0.00149     |\n",
      "|    value_loss           | 74.4         |\n",
      "------------------------------------------\n",
      "-----------------------------------------\n",
      "| rollout/                |             |\n",
      "|    ep_len_mean          | 204         |\n",
      "|    ep_rew_mean          | 478         |\n",
      "| time/                   |             |\n",
      "|    fps                  | 1347        |\n",
      "|    iterations           | 31          |\n",
      "|    time_elapsed         | 47          |\n",
      "|    total_timesteps      | 63488       |\n",
      "| train/                  |             |\n",
      "|    approx_kl            | 0.014016837 |\n",
      "|    clip_fraction        | 0.0501      |\n",
      "|    clip_range           | 0.2         |\n",
      "|    entropy_loss         | -0.156      |\n",
      "|    explained_variance   | 0.98748237  |\n",
      "|    learning_rate        | 0.0003      |\n",
      "|    loss                 | 15.1        |\n",
      "|    n_updates            | 2750        |\n",
      "|    policy_gradient_loss | -0.00253    |\n",
      "|    value_loss           | 53.8        |\n",
      "-----------------------------------------\n",
      "-----------------------------------------\n",
      "| rollout/                |             |\n",
      "|    ep_len_mean          | 218         |\n",
      "|    ep_rew_mean          | 476         |\n",
      "| time/                   |             |\n",
      "|    fps                  | 1347        |\n",
      "|    iterations           | 32          |\n",
      "|    time_elapsed         | 48          |\n",
      "|    total_timesteps      | 65536       |\n",
      "| train/                  |             |\n",
      "|    approx_kl            | 0.005956997 |\n",
      "|    clip_fraction        | 0.0415      |\n",
      "|    clip_range           | 0.2         |\n",
      "|    entropy_loss         | -0.153      |\n",
      "|    explained_variance   | 0.98814577  |\n",
      "|    learning_rate        | 0.0003      |\n",
      "|    loss                 | 28.1        |\n",
      "|    n_updates            | 2760        |\n",
      "|    policy_gradient_loss | -0.00155    |\n",
      "|    value_loss           | 62          |\n",
      "-----------------------------------------\n",
      "------------------------------------------\n",
      "| rollout/                |              |\n",
      "|    ep_len_mean          | 228          |\n",
      "|    ep_rew_mean          | 472          |\n",
      "| time/                   |              |\n",
      "|    fps                  | 1347         |\n",
      "|    iterations           | 33           |\n",
      "|    time_elapsed         | 50           |\n",
      "|    total_timesteps      | 67584        |\n",
      "| train/                  |              |\n",
      "|    approx_kl            | 0.0019310252 |\n",
      "|    clip_fraction        | 0.0246       |\n",
      "|    clip_range           | 0.2          |\n",
      "|    entropy_loss         | -0.155       |\n",
      "|    explained_variance   | 0.9841425    |\n",
      "|    learning_rate        | 0.0003       |\n",
      "|    loss                 | 28.8         |\n",
      "|    n_updates            | 2770         |\n",
      "|    policy_gradient_loss | -0.00176     |\n",
      "|    value_loss           | 91.7         |\n",
      "------------------------------------------\n",
      "------------------------------------------\n",
      "| rollout/                |              |\n",
      "|    ep_len_mean          | 233          |\n",
      "|    ep_rew_mean          | 470          |\n",
      "| time/                   |              |\n",
      "|    fps                  | 1346         |\n",
      "|    iterations           | 34           |\n",
      "|    time_elapsed         | 51           |\n",
      "|    total_timesteps      | 69632        |\n",
      "| train/                  |              |\n",
      "|    approx_kl            | 0.0031290764 |\n",
      "|    clip_fraction        | 0.0436       |\n",
      "|    clip_range           | 0.2          |\n",
      "|    entropy_loss         | -0.191       |\n",
      "|    explained_variance   | 0.9804683    |\n",
      "|    learning_rate        | 0.0003       |\n",
      "|    loss                 | 114          |\n",
      "|    n_updates            | 2780         |\n",
      "|    policy_gradient_loss | -0.00234     |\n",
      "|    value_loss           | 150          |\n",
      "------------------------------------------\n",
      "------------------------------------------\n",
      "| rollout/                |              |\n",
      "|    ep_len_mean          | 231          |\n",
      "|    ep_rew_mean          | 474          |\n",
      "| time/                   |              |\n",
      "|    fps                  | 1346         |\n",
      "|    iterations           | 35           |\n",
      "|    time_elapsed         | 53           |\n",
      "|    total_timesteps      | 71680        |\n",
      "| train/                  |              |\n",
      "|    approx_kl            | 0.0037007134 |\n",
      "|    clip_fraction        | 0.0357       |\n",
      "|    clip_range           | 0.2          |\n",
      "|    entropy_loss         | -0.149       |\n",
      "|    explained_variance   | 0.99032307   |\n",
      "|    learning_rate        | 0.0003       |\n",
      "|    loss                 | 36.1         |\n",
      "|    n_updates            | 2790         |\n",
      "|    policy_gradient_loss | -0.00134     |\n",
      "|    value_loss           | 64.8         |\n",
      "------------------------------------------\n",
      "-----------------------------------------\n",
      "| rollout/                |             |\n",
      "|    ep_len_mean          | 226         |\n",
      "|    ep_rew_mean          | 479         |\n",
      "| time/                   |             |\n",
      "|    fps                  | 1346        |\n",
      "|    iterations           | 36          |\n",
      "|    time_elapsed         | 54          |\n",
      "|    total_timesteps      | 73728       |\n",
      "| train/                  |             |\n",
      "|    approx_kl            | 0.008463352 |\n",
      "|    clip_fraction        | 0.0534      |\n",
      "|    clip_range           | 0.2         |\n",
      "|    entropy_loss         | -0.156      |\n",
      "|    explained_variance   | 0.9847137   |\n",
      "|    learning_rate        | 0.0003      |\n",
      "|    loss                 | 66.7        |\n",
      "|    n_updates            | 2800        |\n",
      "|    policy_gradient_loss | -0.00232    |\n",
      "|    value_loss           | 88.1        |\n",
      "-----------------------------------------\n",
      "-----------------------------------------\n",
      "| rollout/                |             |\n",
      "|    ep_len_mean          | 209         |\n",
      "|    ep_rew_mean          | 483         |\n",
      "| time/                   |             |\n",
      "|    fps                  | 1345        |\n",
      "|    iterations           | 37          |\n",
      "|    time_elapsed         | 56          |\n",
      "|    total_timesteps      | 75776       |\n",
      "| train/                  |             |\n",
      "|    approx_kl            | 0.009608224 |\n",
      "|    clip_fraction        | 0.055       |\n",
      "|    clip_range           | 0.2         |\n",
      "|    entropy_loss         | -0.144      |\n",
      "|    explained_variance   | 0.9840109   |\n",
      "|    learning_rate        | 0.0003      |\n",
      "|    loss                 | 61.8        |\n",
      "|    n_updates            | 2810        |\n",
      "|    policy_gradient_loss | 0.00028     |\n",
      "|    value_loss           | 120         |\n",
      "-----------------------------------------\n",
      "-----------------------------------------\n",
      "| rollout/                |             |\n",
      "|    ep_len_mean          | 180         |\n",
      "|    ep_rew_mean          | 491         |\n",
      "| time/                   |             |\n",
      "|    fps                  | 1345        |\n",
      "|    iterations           | 38          |\n",
      "|    time_elapsed         | 57          |\n",
      "|    total_timesteps      | 77824       |\n",
      "| train/                  |             |\n",
      "|    approx_kl            | 0.011482534 |\n",
      "|    clip_fraction        | 0.0783      |\n",
      "|    clip_range           | 0.2         |\n",
      "|    entropy_loss         | -0.206      |\n",
      "|    explained_variance   | 0.96473074  |\n",
      "|    learning_rate        | 0.0003      |\n",
      "|    loss                 | 81.5        |\n",
      "|    n_updates            | 2820        |\n",
      "|    policy_gradient_loss | -0.00608    |\n",
      "|    value_loss           | 199         |\n",
      "-----------------------------------------\n",
      "-----------------------------------------\n",
      "| rollout/                |             |\n",
      "|    ep_len_mean          | 153         |\n",
      "|    ep_rew_mean          | 499         |\n",
      "| time/                   |             |\n",
      "|    fps                  | 1345        |\n",
      "|    iterations           | 39          |\n",
      "|    time_elapsed         | 59          |\n",
      "|    total_timesteps      | 79872       |\n",
      "| train/                  |             |\n",
      "|    approx_kl            | 0.008898963 |\n",
      "|    clip_fraction        | 0.107       |\n",
      "|    clip_range           | 0.2         |\n",
      "|    entropy_loss         | -0.259      |\n",
      "|    explained_variance   | 0.975107    |\n",
      "|    learning_rate        | 0.0003      |\n",
      "|    loss                 | 42.9        |\n",
      "|    n_updates            | 2830        |\n",
      "|    policy_gradient_loss | 0.00308     |\n",
      "|    value_loss           | 123         |\n",
      "-----------------------------------------\n",
      "----------------------------------------\n",
      "| rollout/                |            |\n",
      "|    ep_len_mean          | 149        |\n",
      "|    ep_rew_mean          | 504        |\n",
      "| time/                   |            |\n",
      "|    fps                  | 1345       |\n",
      "|    iterations           | 40         |\n",
      "|    time_elapsed         | 60         |\n",
      "|    total_timesteps      | 81920      |\n",
      "| train/                  |            |\n",
      "|    approx_kl            | 0.00723809 |\n",
      "|    clip_fraction        | 0.0826     |\n",
      "|    clip_range           | 0.2        |\n",
      "|    entropy_loss         | -0.294     |\n",
      "|    explained_variance   | 0.9782812  |\n",
      "|    learning_rate        | 0.0003     |\n",
      "|    loss                 | 31.5       |\n",
      "|    n_updates            | 2840       |\n",
      "|    policy_gradient_loss | -0.000816  |\n",
      "|    value_loss           | 108        |\n",
      "----------------------------------------\n",
      "------------------------------------------\n",
      "| rollout/                |              |\n",
      "|    ep_len_mean          | 141          |\n",
      "|    ep_rew_mean          | 509          |\n",
      "| time/                   |              |\n",
      "|    fps                  | 1344         |\n",
      "|    iterations           | 41           |\n",
      "|    time_elapsed         | 62           |\n",
      "|    total_timesteps      | 83968        |\n",
      "| train/                  |              |\n",
      "|    approx_kl            | 0.0057115504 |\n",
      "|    clip_fraction        | 0.0507       |\n",
      "|    clip_range           | 0.2          |\n",
      "|    entropy_loss         | -0.237       |\n",
      "|    explained_variance   | 0.9667533    |\n",
      "|    learning_rate        | 0.0003       |\n",
      "|    loss                 | 64.3         |\n",
      "|    n_updates            | 2850         |\n",
      "|    policy_gradient_loss | -0.00157     |\n",
      "|    value_loss           | 137          |\n",
      "------------------------------------------\n",
      "------------------------------------------\n",
      "| rollout/                |              |\n",
      "|    ep_len_mean          | 125          |\n",
      "|    ep_rew_mean          | 514          |\n",
      "| time/                   |              |\n",
      "|    fps                  | 1344         |\n",
      "|    iterations           | 42           |\n",
      "|    time_elapsed         | 63           |\n",
      "|    total_timesteps      | 86016        |\n",
      "| train/                  |              |\n",
      "|    approx_kl            | 0.0048472406 |\n",
      "|    clip_fraction        | 0.0487       |\n",
      "|    clip_range           | 0.2          |\n",
      "|    entropy_loss         | -0.249       |\n",
      "|    explained_variance   | 0.97857594   |\n",
      "|    learning_rate        | 0.0003       |\n",
      "|    loss                 | 60.2         |\n",
      "|    n_updates            | 2860         |\n",
      "|    policy_gradient_loss | -0.00287     |\n",
      "|    value_loss           | 104          |\n",
      "------------------------------------------\n",
      "------------------------------------------\n",
      "| rollout/                |              |\n",
      "|    ep_len_mean          | 119          |\n",
      "|    ep_rew_mean          | 516          |\n",
      "| time/                   |              |\n",
      "|    fps                  | 1344         |\n",
      "|    iterations           | 43           |\n",
      "|    time_elapsed         | 65           |\n",
      "|    total_timesteps      | 88064        |\n",
      "| train/                  |              |\n",
      "|    approx_kl            | 0.0021328889 |\n",
      "|    clip_fraction        | 0.0494       |\n",
      "|    clip_range           | 0.2          |\n",
      "|    entropy_loss         | -0.277       |\n",
      "|    explained_variance   | 0.9859628    |\n",
      "|    learning_rate        | 0.0003       |\n",
      "|    loss                 | 40.7         |\n",
      "|    n_updates            | 2870         |\n",
      "|    policy_gradient_loss | -0.00204     |\n",
      "|    value_loss           | 77.6         |\n",
      "------------------------------------------\n",
      "------------------------------------------\n",
      "| rollout/                |              |\n",
      "|    ep_len_mean          | 118          |\n",
      "|    ep_rew_mean          | 518          |\n",
      "| time/                   |              |\n",
      "|    fps                  | 1344         |\n",
      "|    iterations           | 44           |\n",
      "|    time_elapsed         | 67           |\n",
      "|    total_timesteps      | 90112        |\n",
      "| train/                  |              |\n",
      "|    approx_kl            | 0.0041797943 |\n",
      "|    clip_fraction        | 0.0598       |\n",
      "|    clip_range           | 0.2          |\n",
      "|    entropy_loss         | -0.279       |\n",
      "|    explained_variance   | 0.97850984   |\n",
      "|    learning_rate        | 0.0003       |\n",
      "|    loss                 | 90           |\n",
      "|    n_updates            | 2880         |\n",
      "|    policy_gradient_loss | -0.00142     |\n",
      "|    value_loss           | 130          |\n",
      "------------------------------------------\n",
      "-----------------------------------------\n",
      "| rollout/                |             |\n",
      "|    ep_len_mean          | 111         |\n",
      "|    ep_rew_mean          | 517         |\n",
      "| time/                   |             |\n",
      "|    fps                  | 1343        |\n",
      "|    iterations           | 45          |\n",
      "|    time_elapsed         | 68          |\n",
      "|    total_timesteps      | 92160       |\n",
      "| train/                  |             |\n",
      "|    approx_kl            | 0.008339621 |\n",
      "|    clip_fraction        | 0.0621      |\n",
      "|    clip_range           | 0.2         |\n",
      "|    entropy_loss         | -0.278      |\n",
      "|    explained_variance   | 0.9879255   |\n",
      "|    learning_rate        | 0.0003      |\n",
      "|    loss                 | 22.7        |\n",
      "|    n_updates            | 2890        |\n",
      "|    policy_gradient_loss | 0.000254    |\n",
      "|    value_loss           | 77.9        |\n",
      "-----------------------------------------\n",
      "-----------------------------------------\n",
      "| rollout/                |             |\n",
      "|    ep_len_mean          | 94.3        |\n",
      "|    ep_rew_mean          | 515         |\n",
      "| time/                   |             |\n",
      "|    fps                  | 1343        |\n",
      "|    iterations           | 46          |\n",
      "|    time_elapsed         | 70          |\n",
      "|    total_timesteps      | 94208       |\n",
      "| train/                  |             |\n",
      "|    approx_kl            | 0.007510105 |\n",
      "|    clip_fraction        | 0.0709      |\n",
      "|    clip_range           | 0.2         |\n",
      "|    entropy_loss         | -0.263      |\n",
      "|    explained_variance   | 0.9877194   |\n",
      "|    learning_rate        | 0.0003      |\n",
      "|    loss                 | 25.3        |\n",
      "|    n_updates            | 2900        |\n",
      "|    policy_gradient_loss | -0.00349    |\n",
      "|    value_loss           | 72.2        |\n",
      "-----------------------------------------\n",
      "-----------------------------------------\n",
      "| rollout/                |             |\n",
      "|    ep_len_mean          | 86.8        |\n",
      "|    ep_rew_mean          | 516         |\n",
      "| time/                   |             |\n",
      "|    fps                  | 1342        |\n",
      "|    iterations           | 47          |\n",
      "|    time_elapsed         | 71          |\n",
      "|    total_timesteps      | 96256       |\n",
      "| train/                  |             |\n",
      "|    approx_kl            | 0.015983496 |\n",
      "|    clip_fraction        | 0.0654      |\n",
      "|    clip_range           | 0.2         |\n",
      "|    entropy_loss         | -0.208      |\n",
      "|    explained_variance   | 0.99337393  |\n",
      "|    learning_rate        | 0.0003      |\n",
      "|    loss                 | 17.4        |\n",
      "|    n_updates            | 2910        |\n",
      "|    policy_gradient_loss | 0.00378     |\n",
      "|    value_loss           | 39.3        |\n",
      "-----------------------------------------\n",
      "Saving model checkpoint to test_4_ppo_checkpoints/rew2_1000k/model_600k_steps\n",
      "------------------------------------------\n",
      "| rollout/                |              |\n",
      "|    ep_len_mean          | 82           |\n",
      "|    ep_rew_mean          | 513          |\n",
      "| time/                   |              |\n",
      "|    fps                  | 1342         |\n",
      "|    iterations           | 48           |\n",
      "|    time_elapsed         | 73           |\n",
      "|    total_timesteps      | 98304        |\n",
      "| train/                  |              |\n",
      "|    approx_kl            | 0.0037318596 |\n",
      "|    clip_fraction        | 0.0353       |\n",
      "|    clip_range           | 0.2          |\n",
      "|    entropy_loss         | -0.179       |\n",
      "|    explained_variance   | 0.99597555   |\n",
      "|    learning_rate        | 0.0003       |\n",
      "|    loss                 | 4.5          |\n",
      "|    n_updates            | 2920         |\n",
      "|    policy_gradient_loss | -0.000185    |\n",
      "|    value_loss           | 26.7         |\n",
      "------------------------------------------\n",
      "-----------------------------------------\n",
      "| rollout/                |             |\n",
      "|    ep_len_mean          | 81.8        |\n",
      "|    ep_rew_mean          | 515         |\n",
      "| time/                   |             |\n",
      "|    fps                  | 1342        |\n",
      "|    iterations           | 49          |\n",
      "|    time_elapsed         | 74          |\n",
      "|    total_timesteps      | 100352      |\n",
      "| train/                  |             |\n",
      "|    approx_kl            | 0.004909196 |\n",
      "|    clip_fraction        | 0.0401      |\n",
      "|    clip_range           | 0.2         |\n",
      "|    entropy_loss         | -0.189      |\n",
      "|    explained_variance   | 0.9878938   |\n",
      "|    learning_rate        | 0.0003      |\n",
      "|    loss                 | 18.7        |\n",
      "|    n_updates            | 2930        |\n",
      "|    policy_gradient_loss | -0.00157    |\n",
      "|    value_loss           | 87.1        |\n",
      "-----------------------------------------\n",
      "-----------------------------------------\n",
      "| rollout/                |             |\n",
      "|    ep_len_mean          | 85          |\n",
      "|    ep_rew_mean          | 513         |\n",
      "| time/                   |             |\n",
      "|    fps                  | 1342        |\n",
      "|    iterations           | 50          |\n",
      "|    time_elapsed         | 76          |\n",
      "|    total_timesteps      | 102400      |\n",
      "| train/                  |             |\n",
      "|    approx_kl            | 0.019821145 |\n",
      "|    clip_fraction        | 0.0706      |\n",
      "|    clip_range           | 0.2         |\n",
      "|    entropy_loss         | -0.181      |\n",
      "|    explained_variance   | 0.9951554   |\n",
      "|    learning_rate        | 0.0003      |\n",
      "|    loss                 | 14.6        |\n",
      "|    n_updates            | 2940        |\n",
      "|    policy_gradient_loss | -0.00381    |\n",
      "|    value_loss           | 31.1        |\n",
      "-----------------------------------------\n",
      "-----------------------------------------\n",
      "| rollout/                |             |\n",
      "|    ep_len_mean          | 88.8        |\n",
      "|    ep_rew_mean          | 516         |\n",
      "| time/                   |             |\n",
      "|    fps                  | 1341        |\n",
      "|    iterations           | 51          |\n",
      "|    time_elapsed         | 77          |\n",
      "|    total_timesteps      | 104448      |\n",
      "| train/                  |             |\n",
      "|    approx_kl            | 0.007241523 |\n",
      "|    clip_fraction        | 0.0336      |\n",
      "|    clip_range           | 0.2         |\n",
      "|    entropy_loss         | -0.152      |\n",
      "|    explained_variance   | 0.9661979   |\n",
      "|    learning_rate        | 0.0003      |\n",
      "|    loss                 | 56.1        |\n",
      "|    n_updates            | 2950        |\n",
      "|    policy_gradient_loss | -0.0036     |\n",
      "|    value_loss           | 251         |\n",
      "-----------------------------------------\n",
      "----------------------------------------\n",
      "| rollout/                |            |\n",
      "|    ep_len_mean          | 93.4       |\n",
      "|    ep_rew_mean          | 515        |\n",
      "| time/                   |            |\n",
      "|    fps                  | 1341       |\n",
      "|    iterations           | 52         |\n",
      "|    time_elapsed         | 79         |\n",
      "|    total_timesteps      | 106496     |\n",
      "| train/                  |            |\n",
      "|    approx_kl            | 0.02809671 |\n",
      "|    clip_fraction        | 0.0558     |\n",
      "|    clip_range           | 0.2        |\n",
      "|    entropy_loss         | -0.158     |\n",
      "|    explained_variance   | 0.9861449  |\n",
      "|    learning_rate        | 0.0003     |\n",
      "|    loss                 | 82.4       |\n",
      "|    n_updates            | 2960       |\n",
      "|    policy_gradient_loss | -0.000557  |\n",
      "|    value_loss           | 102        |\n",
      "----------------------------------------\n",
      "-----------------------------------------\n",
      "| rollout/                |             |\n",
      "|    ep_len_mean          | 95.3        |\n",
      "|    ep_rew_mean          | 518         |\n",
      "| time/                   |             |\n",
      "|    fps                  | 1341        |\n",
      "|    iterations           | 53          |\n",
      "|    time_elapsed         | 80          |\n",
      "|    total_timesteps      | 108544      |\n",
      "| train/                  |             |\n",
      "|    approx_kl            | 0.010402383 |\n",
      "|    clip_fraction        | 0.0482      |\n",
      "|    clip_range           | 0.2         |\n",
      "|    entropy_loss         | -0.147      |\n",
      "|    explained_variance   | 0.9839483   |\n",
      "|    learning_rate        | 0.0003      |\n",
      "|    loss                 | 60.9        |\n",
      "|    n_updates            | 2970        |\n",
      "|    policy_gradient_loss | -0.003      |\n",
      "|    value_loss           | 123         |\n",
      "-----------------------------------------\n",
      "----------------------------------------\n",
      "| rollout/                |            |\n",
      "|    ep_len_mean          | 93.8       |\n",
      "|    ep_rew_mean          | 520        |\n",
      "| time/                   |            |\n",
      "|    fps                  | 1341       |\n",
      "|    iterations           | 54         |\n",
      "|    time_elapsed         | 82         |\n",
      "|    total_timesteps      | 110592     |\n",
      "| train/                  |            |\n",
      "|    approx_kl            | 0.00403173 |\n",
      "|    clip_fraction        | 0.0431     |\n",
      "|    clip_range           | 0.2        |\n",
      "|    entropy_loss         | -0.177     |\n",
      "|    explained_variance   | 0.9916352  |\n",
      "|    learning_rate        | 0.0003     |\n",
      "|    loss                 | 31.8       |\n",
      "|    n_updates            | 2980       |\n",
      "|    policy_gradient_loss | -0.000144  |\n",
      "|    value_loss           | 59.7       |\n",
      "----------------------------------------\n",
      "-----------------------------------------\n",
      "| rollout/                |             |\n",
      "|    ep_len_mean          | 93.1        |\n",
      "|    ep_rew_mean          | 521         |\n",
      "| time/                   |             |\n",
      "|    fps                  | 1341        |\n",
      "|    iterations           | 55          |\n",
      "|    time_elapsed         | 83          |\n",
      "|    total_timesteps      | 112640      |\n",
      "| train/                  |             |\n",
      "|    approx_kl            | 0.008436434 |\n",
      "|    clip_fraction        | 0.0456      |\n",
      "|    clip_range           | 0.2         |\n",
      "|    entropy_loss         | -0.169      |\n",
      "|    explained_variance   | 0.99417275  |\n",
      "|    learning_rate        | 0.0003      |\n",
      "|    loss                 | 11.2        |\n",
      "|    n_updates            | 2990        |\n",
      "|    policy_gradient_loss | -0.00284    |\n",
      "|    value_loss           | 28.1        |\n",
      "-----------------------------------------\n",
      "-----------------------------------------\n",
      "| rollout/                |             |\n",
      "|    ep_len_mean          | 91.8        |\n",
      "|    ep_rew_mean          | 525         |\n",
      "| time/                   |             |\n",
      "|    fps                  | 1341        |\n",
      "|    iterations           | 56          |\n",
      "|    time_elapsed         | 85          |\n",
      "|    total_timesteps      | 114688      |\n",
      "| train/                  |             |\n",
      "|    approx_kl            | 0.006227454 |\n",
      "|    clip_fraction        | 0.0442      |\n",
      "|    clip_range           | 0.2         |\n",
      "|    entropy_loss         | -0.164      |\n",
      "|    explained_variance   | 0.98622894  |\n",
      "|    learning_rate        | 0.0003      |\n",
      "|    loss                 | 71.4        |\n",
      "|    n_updates            | 3000        |\n",
      "|    policy_gradient_loss | -0.00309    |\n",
      "|    value_loss           | 102         |\n",
      "-----------------------------------------\n",
      "------------------------------------------\n",
      "| rollout/                |              |\n",
      "|    ep_len_mean          | 88.4         |\n",
      "|    ep_rew_mean          | 525          |\n",
      "| time/                   |              |\n",
      "|    fps                  | 1340         |\n",
      "|    iterations           | 57           |\n",
      "|    time_elapsed         | 87           |\n",
      "|    total_timesteps      | 116736       |\n",
      "| train/                  |              |\n",
      "|    approx_kl            | 0.0031547153 |\n",
      "|    clip_fraction        | 0.0638       |\n",
      "|    clip_range           | 0.2          |\n",
      "|    entropy_loss         | -0.173       |\n",
      "|    explained_variance   | 0.99598783   |\n",
      "|    learning_rate        | 0.0003       |\n",
      "|    loss                 | 21           |\n",
      "|    n_updates            | 3010         |\n",
      "|    policy_gradient_loss | 0.0154       |\n",
      "|    value_loss           | 27.2         |\n",
      "------------------------------------------\n",
      "-----------------------------------------\n",
      "| rollout/                |             |\n",
      "|    ep_len_mean          | 87.5        |\n",
      "|    ep_rew_mean          | 524         |\n",
      "| time/                   |             |\n",
      "|    fps                  | 1340        |\n",
      "|    iterations           | 58          |\n",
      "|    time_elapsed         | 88          |\n",
      "|    total_timesteps      | 118784      |\n",
      "| train/                  |             |\n",
      "|    approx_kl            | 0.004092372 |\n",
      "|    clip_fraction        | 0.031       |\n",
      "|    clip_range           | 0.2         |\n",
      "|    entropy_loss         | -0.166      |\n",
      "|    explained_variance   | 0.99639493  |\n",
      "|    learning_rate        | 0.0003      |\n",
      "|    loss                 | 9.06        |\n",
      "|    n_updates            | 3020        |\n",
      "|    policy_gradient_loss | -0.00143    |\n",
      "|    value_loss           | 26.5        |\n",
      "-----------------------------------------\n",
      "-----------------------------------------\n",
      "| rollout/                |             |\n",
      "|    ep_len_mean          | 85.7        |\n",
      "|    ep_rew_mean          | 521         |\n",
      "| time/                   |             |\n",
      "|    fps                  | 1340        |\n",
      "|    iterations           | 59          |\n",
      "|    time_elapsed         | 90          |\n",
      "|    total_timesteps      | 120832      |\n",
      "| train/                  |             |\n",
      "|    approx_kl            | 0.008151172 |\n",
      "|    clip_fraction        | 0.0601      |\n",
      "|    clip_range           | 0.2         |\n",
      "|    entropy_loss         | -0.169      |\n",
      "|    explained_variance   | 0.9934983   |\n",
      "|    learning_rate        | 0.0003      |\n",
      "|    loss                 | 12.5        |\n",
      "|    n_updates            | 3030        |\n",
      "|    policy_gradient_loss | 0.00052     |\n",
      "|    value_loss           | 47.4        |\n",
      "-----------------------------------------\n",
      "------------------------------------------\n",
      "| rollout/                |              |\n",
      "|    ep_len_mean          | 84.1         |\n",
      "|    ep_rew_mean          | 520          |\n",
      "| time/                   |              |\n",
      "|    fps                  | 1340         |\n",
      "|    iterations           | 60           |\n",
      "|    time_elapsed         | 91           |\n",
      "|    total_timesteps      | 122880       |\n",
      "| train/                  |              |\n",
      "|    approx_kl            | 0.0019223061 |\n",
      "|    clip_fraction        | 0.0338       |\n",
      "|    clip_range           | 0.2          |\n",
      "|    entropy_loss         | -0.156       |\n",
      "|    explained_variance   | 0.9816586    |\n",
      "|    learning_rate        | 0.0003       |\n",
      "|    loss                 | 31.2         |\n",
      "|    n_updates            | 3040         |\n",
      "|    policy_gradient_loss | -0.00147     |\n",
      "|    value_loss           | 137          |\n",
      "------------------------------------------\n",
      "------------------------------------------\n",
      "| rollout/                |              |\n",
      "|    ep_len_mean          | 81.3         |\n",
      "|    ep_rew_mean          | 517          |\n",
      "| time/                   |              |\n",
      "|    fps                  | 1340         |\n",
      "|    iterations           | 61           |\n",
      "|    time_elapsed         | 93           |\n",
      "|    total_timesteps      | 124928       |\n",
      "| train/                  |              |\n",
      "|    approx_kl            | 0.0065220403 |\n",
      "|    clip_fraction        | 0.0472       |\n",
      "|    clip_range           | 0.2          |\n",
      "|    entropy_loss         | -0.161       |\n",
      "|    explained_variance   | 0.9956099    |\n",
      "|    learning_rate        | 0.0003       |\n",
      "|    loss                 | 8.85         |\n",
      "|    n_updates            | 3050         |\n",
      "|    policy_gradient_loss | 0.00158      |\n",
      "|    value_loss           | 21.6         |\n",
      "------------------------------------------\n",
      "-----------------------------------------\n",
      "| rollout/                |             |\n",
      "|    ep_len_mean          | 78.1        |\n",
      "|    ep_rew_mean          | 509         |\n",
      "| time/                   |             |\n",
      "|    fps                  | 1340        |\n",
      "|    iterations           | 62          |\n",
      "|    time_elapsed         | 94          |\n",
      "|    total_timesteps      | 126976      |\n",
      "| train/                  |             |\n",
      "|    approx_kl            | 0.005977802 |\n",
      "|    clip_fraction        | 0.0689      |\n",
      "|    clip_range           | 0.2         |\n",
      "|    entropy_loss         | -0.171      |\n",
      "|    explained_variance   | 0.9972448   |\n",
      "|    learning_rate        | 0.0003      |\n",
      "|    loss                 | 5.04        |\n",
      "|    n_updates            | 3060        |\n",
      "|    policy_gradient_loss | 0.0016      |\n",
      "|    value_loss           | 14.2        |\n",
      "-----------------------------------------\n",
      "------------------------------------------\n",
      "| rollout/                |              |\n",
      "|    ep_len_mean          | 75.6         |\n",
      "|    ep_rew_mean          | 507          |\n",
      "| time/                   |              |\n",
      "|    fps                  | 1340         |\n",
      "|    iterations           | 63           |\n",
      "|    time_elapsed         | 96           |\n",
      "|    total_timesteps      | 129024       |\n",
      "| train/                  |              |\n",
      "|    approx_kl            | 0.0043438785 |\n",
      "|    clip_fraction        | 0.0393       |\n",
      "|    clip_range           | 0.2          |\n",
      "|    entropy_loss         | -0.172       |\n",
      "|    explained_variance   | 0.9821786    |\n",
      "|    learning_rate        | 0.0003       |\n",
      "|    loss                 | 41.2         |\n",
      "|    n_updates            | 3070         |\n",
      "|    policy_gradient_loss | -0.00136     |\n",
      "|    value_loss           | 132          |\n",
      "------------------------------------------\n",
      "-----------------------------------------\n",
      "| rollout/                |             |\n",
      "|    ep_len_mean          | 74.3        |\n",
      "|    ep_rew_mean          | 500         |\n",
      "| time/                   |             |\n",
      "|    fps                  | 1340        |\n",
      "|    iterations           | 64          |\n",
      "|    time_elapsed         | 97          |\n",
      "|    total_timesteps      | 131072      |\n",
      "| train/                  |             |\n",
      "|    approx_kl            | 0.004813835 |\n",
      "|    clip_fraction        | 0.0439      |\n",
      "|    clip_range           | 0.2         |\n",
      "|    entropy_loss         | -0.171      |\n",
      "|    explained_variance   | 0.9907391   |\n",
      "|    learning_rate        | 0.0003      |\n",
      "|    loss                 | 17.2        |\n",
      "|    n_updates            | 3080        |\n",
      "|    policy_gradient_loss | 0.00127     |\n",
      "|    value_loss           | 64.6        |\n",
      "-----------------------------------------\n",
      "------------------------------------------\n",
      "| rollout/                |              |\n",
      "|    ep_len_mean          | 72.7         |\n",
      "|    ep_rew_mean          | 497          |\n",
      "| time/                   |              |\n",
      "|    fps                  | 1339         |\n",
      "|    iterations           | 65           |\n",
      "|    time_elapsed         | 99           |\n",
      "|    total_timesteps      | 133120       |\n",
      "| train/                  |              |\n",
      "|    approx_kl            | 0.0060113966 |\n",
      "|    clip_fraction        | 0.0779       |\n",
      "|    clip_range           | 0.2          |\n",
      "|    entropy_loss         | -0.174       |\n",
      "|    explained_variance   | 0.9790751    |\n",
      "|    learning_rate        | 0.0003       |\n",
      "|    loss                 | 54.7         |\n",
      "|    n_updates            | 3090         |\n",
      "|    policy_gradient_loss | -0.00384     |\n",
      "|    value_loss           | 166          |\n",
      "------------------------------------------\n",
      "----------------------------------------\n",
      "| rollout/                |            |\n",
      "|    ep_len_mean          | 71.2       |\n",
      "|    ep_rew_mean          | 495        |\n",
      "| time/                   |            |\n",
      "|    fps                  | 1339       |\n",
      "|    iterations           | 66         |\n",
      "|    time_elapsed         | 100        |\n",
      "|    total_timesteps      | 135168     |\n",
      "| train/                  |            |\n",
      "|    approx_kl            | 0.01036476 |\n",
      "|    clip_fraction        | 0.0627     |\n",
      "|    clip_range           | 0.2        |\n",
      "|    entropy_loss         | -0.182     |\n",
      "|    explained_variance   | 0.98560023 |\n",
      "|    learning_rate        | 0.0003     |\n",
      "|    loss                 | 19.6       |\n",
      "|    n_updates            | 3100       |\n",
      "|    policy_gradient_loss | 0.000603   |\n",
      "|    value_loss           | 103        |\n",
      "----------------------------------------\n",
      "------------------------------------------\n",
      "| rollout/                |              |\n",
      "|    ep_len_mean          | 67.4         |\n",
      "|    ep_rew_mean          | 492          |\n",
      "| time/                   |              |\n",
      "|    fps                  | 1339         |\n",
      "|    iterations           | 67           |\n",
      "|    time_elapsed         | 102          |\n",
      "|    total_timesteps      | 137216       |\n",
      "| train/                  |              |\n",
      "|    approx_kl            | 0.0039688516 |\n",
      "|    clip_fraction        | 0.0726       |\n",
      "|    clip_range           | 0.2          |\n",
      "|    entropy_loss         | -0.196       |\n",
      "|    explained_variance   | 0.9874065    |\n",
      "|    learning_rate        | 0.0003       |\n",
      "|    loss                 | 42.2         |\n",
      "|    n_updates            | 3110         |\n",
      "|    policy_gradient_loss | 0.00178      |\n",
      "|    value_loss           | 105          |\n",
      "------------------------------------------\n",
      "-----------------------------------------\n",
      "| rollout/                |             |\n",
      "|    ep_len_mean          | 65          |\n",
      "|    ep_rew_mean          | 492         |\n",
      "| time/                   |             |\n",
      "|    fps                  | 1339        |\n",
      "|    iterations           | 68          |\n",
      "|    time_elapsed         | 103         |\n",
      "|    total_timesteps      | 139264      |\n",
      "| train/                  |             |\n",
      "|    approx_kl            | 0.008301611 |\n",
      "|    clip_fraction        | 0.0706      |\n",
      "|    clip_range           | 0.2         |\n",
      "|    entropy_loss         | -0.186      |\n",
      "|    explained_variance   | 0.9958362   |\n",
      "|    learning_rate        | 0.0003      |\n",
      "|    loss                 | 8.08        |\n",
      "|    n_updates            | 3120        |\n",
      "|    policy_gradient_loss | 0.00207     |\n",
      "|    value_loss           | 26.2        |\n",
      "-----------------------------------------\n",
      "-----------------------------------------\n",
      "| rollout/                |             |\n",
      "|    ep_len_mean          | 63.1        |\n",
      "|    ep_rew_mean          | 490         |\n",
      "| time/                   |             |\n",
      "|    fps                  | 1339        |\n",
      "|    iterations           | 69          |\n",
      "|    time_elapsed         | 105         |\n",
      "|    total_timesteps      | 141312      |\n",
      "| train/                  |             |\n",
      "|    approx_kl            | 0.004504325 |\n",
      "|    clip_fraction        | 0.0669      |\n",
      "|    clip_range           | 0.2         |\n",
      "|    entropy_loss         | -0.165      |\n",
      "|    explained_variance   | 0.99241     |\n",
      "|    learning_rate        | 0.0003      |\n",
      "|    loss                 | 58.9        |\n",
      "|    n_updates            | 3130        |\n",
      "|    policy_gradient_loss | 0.00609     |\n",
      "|    value_loss           | 57.4        |\n",
      "-----------------------------------------\n",
      "------------------------------------------\n",
      "| rollout/                |              |\n",
      "|    ep_len_mean          | 62.6         |\n",
      "|    ep_rew_mean          | 489          |\n",
      "| time/                   |              |\n",
      "|    fps                  | 1339         |\n",
      "|    iterations           | 70           |\n",
      "|    time_elapsed         | 107          |\n",
      "|    total_timesteps      | 143360       |\n",
      "| train/                  |              |\n",
      "|    approx_kl            | 0.0018135019 |\n",
      "|    clip_fraction        | 0.0329       |\n",
      "|    clip_range           | 0.2          |\n",
      "|    entropy_loss         | -0.152       |\n",
      "|    explained_variance   | 0.9914628    |\n",
      "|    learning_rate        | 0.0003       |\n",
      "|    loss                 | 47.8         |\n",
      "|    n_updates            | 3140         |\n",
      "|    policy_gradient_loss | -0.00187     |\n",
      "|    value_loss           | 67.4         |\n",
      "------------------------------------------\n",
      "-----------------------------------------\n",
      "| rollout/                |             |\n",
      "|    ep_len_mean          | 62.7        |\n",
      "|    ep_rew_mean          | 489         |\n",
      "| time/                   |             |\n",
      "|    fps                  | 1339        |\n",
      "|    iterations           | 71          |\n",
      "|    time_elapsed         | 108         |\n",
      "|    total_timesteps      | 145408      |\n",
      "| train/                  |             |\n",
      "|    approx_kl            | 0.004615224 |\n",
      "|    clip_fraction        | 0.0608      |\n",
      "|    clip_range           | 0.2         |\n",
      "|    entropy_loss         | -0.166      |\n",
      "|    explained_variance   | 0.9981794   |\n",
      "|    learning_rate        | 0.0003      |\n",
      "|    loss                 | 10.2        |\n",
      "|    n_updates            | 3150        |\n",
      "|    policy_gradient_loss | -0.00471    |\n",
      "|    value_loss           | 13.1        |\n",
      "-----------------------------------------\n",
      "-----------------------------------------\n",
      "| rollout/                |             |\n",
      "|    ep_len_mean          | 62.8        |\n",
      "|    ep_rew_mean          | 490         |\n",
      "| time/                   |             |\n",
      "|    fps                  | 1339        |\n",
      "|    iterations           | 72          |\n",
      "|    time_elapsed         | 110         |\n",
      "|    total_timesteps      | 147456      |\n",
      "| train/                  |             |\n",
      "|    approx_kl            | 0.009381894 |\n",
      "|    clip_fraction        | 0.0565      |\n",
      "|    clip_range           | 0.2         |\n",
      "|    entropy_loss         | -0.158      |\n",
      "|    explained_variance   | 0.9940413   |\n",
      "|    learning_rate        | 0.0003      |\n",
      "|    loss                 | 4.04        |\n",
      "|    n_updates            | 3160        |\n",
      "|    policy_gradient_loss | 0.00108     |\n",
      "|    value_loss           | 45.6        |\n",
      "-----------------------------------------\n",
      "-----------------------------------------\n",
      "| rollout/                |             |\n",
      "|    ep_len_mean          | 62.4        |\n",
      "|    ep_rew_mean          | 488         |\n",
      "| time/                   |             |\n",
      "|    fps                  | 1339        |\n",
      "|    iterations           | 73          |\n",
      "|    time_elapsed         | 111         |\n",
      "|    total_timesteps      | 149504      |\n",
      "| train/                  |             |\n",
      "|    approx_kl            | 0.014882502 |\n",
      "|    clip_fraction        | 0.032       |\n",
      "|    clip_range           | 0.2         |\n",
      "|    entropy_loss         | -0.164      |\n",
      "|    explained_variance   | 0.994556    |\n",
      "|    learning_rate        | 0.0003      |\n",
      "|    loss                 | 5.2         |\n",
      "|    n_updates            | 3170        |\n",
      "|    policy_gradient_loss | -0.000347   |\n",
      "|    value_loss           | 38          |\n",
      "-----------------------------------------\n",
      "-----------------------------------------\n",
      "| rollout/                |             |\n",
      "|    ep_len_mean          | 63          |\n",
      "|    ep_rew_mean          | 487         |\n",
      "| time/                   |             |\n",
      "|    fps                  | 1338        |\n",
      "|    iterations           | 74          |\n",
      "|    time_elapsed         | 113         |\n",
      "|    total_timesteps      | 151552      |\n",
      "| train/                  |             |\n",
      "|    approx_kl            | 0.007195363 |\n",
      "|    clip_fraction        | 0.0579      |\n",
      "|    clip_range           | 0.2         |\n",
      "|    entropy_loss         | -0.152      |\n",
      "|    explained_variance   | 0.98778373  |\n",
      "|    learning_rate        | 0.0003      |\n",
      "|    loss                 | 23.6        |\n",
      "|    n_updates            | 3180        |\n",
      "|    policy_gradient_loss | -0.00422    |\n",
      "|    value_loss           | 92.8        |\n",
      "-----------------------------------------\n",
      "----------------------------------------\n",
      "| rollout/                |            |\n",
      "|    ep_len_mean          | 63.5       |\n",
      "|    ep_rew_mean          | 484        |\n",
      "| time/                   |            |\n",
      "|    fps                  | 1338       |\n",
      "|    iterations           | 75         |\n",
      "|    time_elapsed         | 114        |\n",
      "|    total_timesteps      | 153600     |\n",
      "| train/                  |            |\n",
      "|    approx_kl            | 0.00912071 |\n",
      "|    clip_fraction        | 0.0532     |\n",
      "|    clip_range           | 0.2        |\n",
      "|    entropy_loss         | -0.181     |\n",
      "|    explained_variance   | 0.9819035  |\n",
      "|    learning_rate        | 0.0003     |\n",
      "|    loss                 | 20.8       |\n",
      "|    n_updates            | 3190       |\n",
      "|    policy_gradient_loss | -0.00174   |\n",
      "|    value_loss           | 147        |\n",
      "----------------------------------------\n",
      "------------------------------------------\n",
      "| rollout/                |              |\n",
      "|    ep_len_mean          | 63.8         |\n",
      "|    ep_rew_mean          | 483          |\n",
      "| time/                   |              |\n",
      "|    fps                  | 1338         |\n",
      "|    iterations           | 76           |\n",
      "|    time_elapsed         | 116          |\n",
      "|    total_timesteps      | 155648       |\n",
      "| train/                  |              |\n",
      "|    approx_kl            | 0.0024975017 |\n",
      "|    clip_fraction        | 0.0458       |\n",
      "|    clip_range           | 0.2          |\n",
      "|    entropy_loss         | -0.16        |\n",
      "|    explained_variance   | 0.975352     |\n",
      "|    learning_rate        | 0.0003       |\n",
      "|    loss                 | 28.7         |\n",
      "|    n_updates            | 3200         |\n",
      "|    policy_gradient_loss | -0.0024      |\n",
      "|    value_loss           | 192          |\n",
      "------------------------------------------\n",
      "-----------------------------------------\n",
      "| rollout/                |             |\n",
      "|    ep_len_mean          | 63.2        |\n",
      "|    ep_rew_mean          | 485         |\n",
      "| time/                   |             |\n",
      "|    fps                  | 1338        |\n",
      "|    iterations           | 77          |\n",
      "|    time_elapsed         | 117         |\n",
      "|    total_timesteps      | 157696      |\n",
      "| train/                  |             |\n",
      "|    approx_kl            | 0.015605848 |\n",
      "|    clip_fraction        | 0.0565      |\n",
      "|    clip_range           | 0.2         |\n",
      "|    entropy_loss         | -0.165      |\n",
      "|    explained_variance   | 0.98946255  |\n",
      "|    learning_rate        | 0.0003      |\n",
      "|    loss                 | 10.6        |\n",
      "|    n_updates            | 3210        |\n",
      "|    policy_gradient_loss | -0.000503   |\n",
      "|    value_loss           | 76.8        |\n",
      "-----------------------------------------\n",
      "------------------------------------------\n",
      "| rollout/                |              |\n",
      "|    ep_len_mean          | 62.3         |\n",
      "|    ep_rew_mean          | 485          |\n",
      "| time/                   |              |\n",
      "|    fps                  | 1338         |\n",
      "|    iterations           | 78           |\n",
      "|    time_elapsed         | 119          |\n",
      "|    total_timesteps      | 159744       |\n",
      "| train/                  |              |\n",
      "|    approx_kl            | 0.0073947767 |\n",
      "|    clip_fraction        | 0.0351       |\n",
      "|    clip_range           | 0.2          |\n",
      "|    entropy_loss         | -0.158       |\n",
      "|    explained_variance   | 0.9915399    |\n",
      "|    learning_rate        | 0.0003       |\n",
      "|    loss                 | 2.13         |\n",
      "|    n_updates            | 3220         |\n",
      "|    policy_gradient_loss | -0.000446    |\n",
      "|    value_loss           | 65.5         |\n",
      "------------------------------------------\n",
      "------------------------------------------\n",
      "| rollout/                |              |\n",
      "|    ep_len_mean          | 61.2         |\n",
      "|    ep_rew_mean          | 484          |\n",
      "| time/                   |              |\n",
      "|    fps                  | 1338         |\n",
      "|    iterations           | 79           |\n",
      "|    time_elapsed         | 120          |\n",
      "|    total_timesteps      | 161792       |\n",
      "| train/                  |              |\n",
      "|    approx_kl            | 0.0037855986 |\n",
      "|    clip_fraction        | 0.0337       |\n",
      "|    clip_range           | 0.2          |\n",
      "|    entropy_loss         | -0.124       |\n",
      "|    explained_variance   | 0.99135315   |\n",
      "|    learning_rate        | 0.0003       |\n",
      "|    loss                 | 6.37         |\n",
      "|    n_updates            | 3230         |\n",
      "|    policy_gradient_loss | -0.00518     |\n",
      "|    value_loss           | 63.9         |\n",
      "------------------------------------------\n",
      "------------------------------------------\n",
      "| rollout/                |              |\n",
      "|    ep_len_mean          | 60.4         |\n",
      "|    ep_rew_mean          | 484          |\n",
      "| time/                   |              |\n",
      "|    fps                  | 1338         |\n",
      "|    iterations           | 80           |\n",
      "|    time_elapsed         | 122          |\n",
      "|    total_timesteps      | 163840       |\n",
      "| train/                  |              |\n",
      "|    approx_kl            | 0.0015852138 |\n",
      "|    clip_fraction        | 0.023        |\n",
      "|    clip_range           | 0.2          |\n",
      "|    entropy_loss         | -0.113       |\n",
      "|    explained_variance   | 0.98999906   |\n",
      "|    learning_rate        | 0.0003       |\n",
      "|    loss                 | 45.1         |\n",
      "|    n_updates            | 3240         |\n",
      "|    policy_gradient_loss | -0.00277     |\n",
      "|    value_loss           | 74.7         |\n",
      "------------------------------------------\n",
      "-----------------------------------------\n",
      "| rollout/                |             |\n",
      "|    ep_len_mean          | 60.8        |\n",
      "|    ep_rew_mean          | 484         |\n",
      "| time/                   |             |\n",
      "|    fps                  | 1338        |\n",
      "|    iterations           | 81          |\n",
      "|    time_elapsed         | 123         |\n",
      "|    total_timesteps      | 165888      |\n",
      "| train/                  |             |\n",
      "|    approx_kl            | 0.011305904 |\n",
      "|    clip_fraction        | 0.048       |\n",
      "|    clip_range           | 0.2         |\n",
      "|    entropy_loss         | -0.141      |\n",
      "|    explained_variance   | 0.9982233   |\n",
      "|    learning_rate        | 0.0003      |\n",
      "|    loss                 | 3.96        |\n",
      "|    n_updates            | 3250        |\n",
      "|    policy_gradient_loss | -0.00576    |\n",
      "|    value_loss           | 12.9        |\n",
      "-----------------------------------------\n",
      "-----------------------------------------\n",
      "| rollout/                |             |\n",
      "|    ep_len_mean          | 61.4        |\n",
      "|    ep_rew_mean          | 485         |\n",
      "| time/                   |             |\n",
      "|    fps                  | 1338        |\n",
      "|    iterations           | 82          |\n",
      "|    time_elapsed         | 125         |\n",
      "|    total_timesteps      | 167936      |\n",
      "| train/                  |             |\n",
      "|    approx_kl            | 0.013049616 |\n",
      "|    clip_fraction        | 0.0613      |\n",
      "|    clip_range           | 0.2         |\n",
      "|    entropy_loss         | -0.194      |\n",
      "|    explained_variance   | 0.982376    |\n",
      "|    learning_rate        | 0.0003      |\n",
      "|    loss                 | 24.6        |\n",
      "|    n_updates            | 3260        |\n",
      "|    policy_gradient_loss | 1.27e-05    |\n",
      "|    value_loss           | 137         |\n",
      "-----------------------------------------\n",
      "----------------------------------------\n",
      "| rollout/                |            |\n",
      "|    ep_len_mean          | 52.3       |\n",
      "|    ep_rew_mean          | 422        |\n",
      "| time/                   |            |\n",
      "|    fps                  | 1338       |\n",
      "|    iterations           | 83         |\n",
      "|    time_elapsed         | 127        |\n",
      "|    total_timesteps      | 169984     |\n",
      "| train/                  |            |\n",
      "|    approx_kl            | 0.5851207  |\n",
      "|    clip_fraction        | 0.0935     |\n",
      "|    clip_range           | 0.2        |\n",
      "|    entropy_loss         | -0.145     |\n",
      "|    explained_variance   | 0.99152243 |\n",
      "|    learning_rate        | 0.0003     |\n",
      "|    loss                 | 31.2       |\n",
      "|    n_updates            | 3270       |\n",
      "|    policy_gradient_loss | 0.00354    |\n",
      "|    value_loss           | 63.9       |\n",
      "----------------------------------------\n",
      "------------------------------------------\n",
      "| rollout/                |              |\n",
      "|    ep_len_mean          | 42.8         |\n",
      "|    ep_rew_mean          | 358          |\n",
      "| time/                   |              |\n",
      "|    fps                  | 1338         |\n",
      "|    iterations           | 84           |\n",
      "|    time_elapsed         | 128          |\n",
      "|    total_timesteps      | 172032       |\n",
      "| train/                  |              |\n",
      "|    approx_kl            | 0.0031420747 |\n",
      "|    clip_fraction        | 0.036        |\n",
      "|    clip_range           | 0.2          |\n",
      "|    entropy_loss         | -0.101       |\n",
      "|    explained_variance   | 0.78445035   |\n",
      "|    learning_rate        | 0.0003       |\n",
      "|    loss                 | 20.3         |\n",
      "|    n_updates            | 3280         |\n",
      "|    policy_gradient_loss | -0.00334     |\n",
      "|    value_loss           | 137          |\n",
      "------------------------------------------\n",
      "-----------------------------------------\n",
      "| rollout/                |             |\n",
      "|    ep_len_mean          | 42.3        |\n",
      "|    ep_rew_mean          | 355         |\n",
      "| time/                   |             |\n",
      "|    fps                  | 1338        |\n",
      "|    iterations           | 85          |\n",
      "|    time_elapsed         | 130         |\n",
      "|    total_timesteps      | 174080      |\n",
      "| train/                  |             |\n",
      "|    approx_kl            | 0.008062301 |\n",
      "|    clip_fraction        | 0.0521      |\n",
      "|    clip_range           | 0.2         |\n",
      "|    entropy_loss         | -0.0949     |\n",
      "|    explained_variance   | 0.9353735   |\n",
      "|    learning_rate        | 0.0003      |\n",
      "|    loss                 | 7.77        |\n",
      "|    n_updates            | 3290        |\n",
      "|    policy_gradient_loss | -0.00526    |\n",
      "|    value_loss           | 30.2        |\n",
      "-----------------------------------------\n",
      "------------------------------------------\n",
      "| rollout/                |              |\n",
      "|    ep_len_mean          | 42.8         |\n",
      "|    ep_rew_mean          | 362          |\n",
      "| time/                   |              |\n",
      "|    fps                  | 1337         |\n",
      "|    iterations           | 86           |\n",
      "|    time_elapsed         | 131          |\n",
      "|    total_timesteps      | 176128       |\n",
      "| train/                  |              |\n",
      "|    approx_kl            | 0.0052989284 |\n",
      "|    clip_fraction        | 0.0538       |\n",
      "|    clip_range           | 0.2          |\n",
      "|    entropy_loss         | -0.0996      |\n",
      "|    explained_variance   | 0.9847034    |\n",
      "|    learning_rate        | 0.0003       |\n",
      "|    loss                 | 19.6         |\n",
      "|    n_updates            | 3300         |\n",
      "|    policy_gradient_loss | -0.00847     |\n",
      "|    value_loss           | 30.3         |\n",
      "------------------------------------------\n",
      "-----------------------------------------\n",
      "| rollout/                |             |\n",
      "|    ep_len_mean          | 44.1        |\n",
      "|    ep_rew_mean          | 382         |\n",
      "| time/                   |             |\n",
      "|    fps                  | 1337        |\n",
      "|    iterations           | 87          |\n",
      "|    time_elapsed         | 133         |\n",
      "|    total_timesteps      | 178176      |\n",
      "| train/                  |             |\n",
      "|    approx_kl            | 0.013194054 |\n",
      "|    clip_fraction        | 0.0611      |\n",
      "|    clip_range           | 0.2         |\n",
      "|    entropy_loss         | -0.101      |\n",
      "|    explained_variance   | 0.9791822   |\n",
      "|    learning_rate        | 0.0003      |\n",
      "|    loss                 | 35.8        |\n",
      "|    n_updates            | 3310        |\n",
      "|    policy_gradient_loss | -0.0134     |\n",
      "|    value_loss           | 61.3        |\n",
      "-----------------------------------------\n",
      "------------------------------------------\n",
      "| rollout/                |              |\n",
      "|    ep_len_mean          | 46.4         |\n",
      "|    ep_rew_mean          | 412          |\n",
      "| time/                   |              |\n",
      "|    fps                  | 1337         |\n",
      "|    iterations           | 88           |\n",
      "|    time_elapsed         | 134          |\n",
      "|    total_timesteps      | 180224       |\n",
      "| train/                  |              |\n",
      "|    approx_kl            | 0.0123590585 |\n",
      "|    clip_fraction        | 0.0626       |\n",
      "|    clip_range           | 0.2          |\n",
      "|    entropy_loss         | -0.0905      |\n",
      "|    explained_variance   | 0.94815516   |\n",
      "|    learning_rate        | 0.0003       |\n",
      "|    loss                 | 63.2         |\n",
      "|    n_updates            | 3320         |\n",
      "|    policy_gradient_loss | -0.0137      |\n",
      "|    value_loss           | 145          |\n",
      "------------------------------------------\n",
      "-----------------------------------------\n",
      "| rollout/                |             |\n",
      "|    ep_len_mean          | 48.3        |\n",
      "|    ep_rew_mean          | 435         |\n",
      "| time/                   |             |\n",
      "|    fps                  | 1337        |\n",
      "|    iterations           | 89          |\n",
      "|    time_elapsed         | 136         |\n",
      "|    total_timesteps      | 182272      |\n",
      "| train/                  |             |\n",
      "|    approx_kl            | 0.014579953 |\n",
      "|    clip_fraction        | 0.0226      |\n",
      "|    clip_range           | 0.2         |\n",
      "|    entropy_loss         | -0.0843     |\n",
      "|    explained_variance   | 0.97078776  |\n",
      "|    learning_rate        | 0.0003      |\n",
      "|    loss                 | 26.1        |\n",
      "|    n_updates            | 3330        |\n",
      "|    policy_gradient_loss | -0.00443    |\n",
      "|    value_loss           | 58.8        |\n",
      "-----------------------------------------\n",
      "----------------------------------------\n",
      "| rollout/                |            |\n",
      "|    ep_len_mean          | 51.4       |\n",
      "|    ep_rew_mean          | 454        |\n",
      "| time/                   |            |\n",
      "|    fps                  | 1337       |\n",
      "|    iterations           | 90         |\n",
      "|    time_elapsed         | 137        |\n",
      "|    total_timesteps      | 184320     |\n",
      "| train/                  |            |\n",
      "|    approx_kl            | 0.06965638 |\n",
      "|    clip_fraction        | 0.0415     |\n",
      "|    clip_range           | 0.2        |\n",
      "|    entropy_loss         | -0.0959    |\n",
      "|    explained_variance   | 0.9831098  |\n",
      "|    learning_rate        | 0.0003     |\n",
      "|    loss                 | 59.4       |\n",
      "|    n_updates            | 3340       |\n",
      "|    policy_gradient_loss | 0.00872    |\n",
      "|    value_loss           | 52.6       |\n",
      "----------------------------------------\n",
      "-----------------------------------------\n",
      "| rollout/                |             |\n",
      "|    ep_len_mean          | 54.5        |\n",
      "|    ep_rew_mean          | 468         |\n",
      "| time/                   |             |\n",
      "|    fps                  | 1337        |\n",
      "|    iterations           | 91          |\n",
      "|    time_elapsed         | 139         |\n",
      "|    total_timesteps      | 186368      |\n",
      "| train/                  |             |\n",
      "|    approx_kl            | 0.012602107 |\n",
      "|    clip_fraction        | 0.0535      |\n",
      "|    clip_range           | 0.2         |\n",
      "|    entropy_loss         | -0.116      |\n",
      "|    explained_variance   | 0.97183204  |\n",
      "|    learning_rate        | 0.0003      |\n",
      "|    loss                 | 29.6        |\n",
      "|    n_updates            | 3350        |\n",
      "|    policy_gradient_loss | -0.00691    |\n",
      "|    value_loss           | 102         |\n",
      "-----------------------------------------\n",
      "-----------------------------------------\n",
      "| rollout/                |             |\n",
      "|    ep_len_mean          | 57.5        |\n",
      "|    ep_rew_mean          | 477         |\n",
      "| time/                   |             |\n",
      "|    fps                  | 1337        |\n",
      "|    iterations           | 92          |\n",
      "|    time_elapsed         | 140         |\n",
      "|    total_timesteps      | 188416      |\n",
      "| train/                  |             |\n",
      "|    approx_kl            | 0.009961493 |\n",
      "|    clip_fraction        | 0.0349      |\n",
      "|    clip_range           | 0.2         |\n",
      "|    entropy_loss         | -0.125      |\n",
      "|    explained_variance   | 0.99164486  |\n",
      "|    learning_rate        | 0.0003      |\n",
      "|    loss                 | 14.7        |\n",
      "|    n_updates            | 3360        |\n",
      "|    policy_gradient_loss | -0.00484    |\n",
      "|    value_loss           | 35.7        |\n",
      "-----------------------------------------\n",
      "------------------------------------------\n",
      "| rollout/                |              |\n",
      "|    ep_len_mean          | 59.7         |\n",
      "|    ep_rew_mean          | 483          |\n",
      "| time/                   |              |\n",
      "|    fps                  | 1337         |\n",
      "|    iterations           | 93           |\n",
      "|    time_elapsed         | 142          |\n",
      "|    total_timesteps      | 190464       |\n",
      "| train/                  |              |\n",
      "|    approx_kl            | 0.0026567827 |\n",
      "|    clip_fraction        | 0.0333       |\n",
      "|    clip_range           | 0.2          |\n",
      "|    entropy_loss         | -0.135       |\n",
      "|    explained_variance   | 0.9905268    |\n",
      "|    learning_rate        | 0.0003       |\n",
      "|    loss                 | 13.4         |\n",
      "|    n_updates            | 3370         |\n",
      "|    policy_gradient_loss | 0.00225      |\n",
      "|    value_loss           | 65.5         |\n",
      "------------------------------------------\n",
      "------------------------------------------\n",
      "| rollout/                |              |\n",
      "|    ep_len_mean          | 61           |\n",
      "|    ep_rew_mean          | 487          |\n",
      "| time/                   |              |\n",
      "|    fps                  | 1337         |\n",
      "|    iterations           | 94           |\n",
      "|    time_elapsed         | 143          |\n",
      "|    total_timesteps      | 192512       |\n",
      "| train/                  |              |\n",
      "|    approx_kl            | 0.0043644435 |\n",
      "|    clip_fraction        | 0.0432       |\n",
      "|    clip_range           | 0.2          |\n",
      "|    entropy_loss         | -0.129       |\n",
      "|    explained_variance   | 0.9933266    |\n",
      "|    learning_rate        | 0.0003       |\n",
      "|    loss                 | 5.46         |\n",
      "|    n_updates            | 3380         |\n",
      "|    policy_gradient_loss | -0.00338     |\n",
      "|    value_loss           | 49           |\n",
      "------------------------------------------\n",
      "---------------------------------------\n",
      "| rollout/                |           |\n",
      "|    ep_len_mean          | 62        |\n",
      "|    ep_rew_mean          | 491       |\n",
      "| time/                   |           |\n",
      "|    fps                  | 1337      |\n",
      "|    iterations           | 95        |\n",
      "|    time_elapsed         | 145       |\n",
      "|    total_timesteps      | 194560    |\n",
      "| train/                  |           |\n",
      "|    approx_kl            | 0.0373316 |\n",
      "|    clip_fraction        | 0.0579    |\n",
      "|    clip_range           | 0.2       |\n",
      "|    entropy_loss         | -0.138    |\n",
      "|    explained_variance   | 0.9992004 |\n",
      "|    learning_rate        | 0.0003    |\n",
      "|    loss                 | 1.27      |\n",
      "|    n_updates            | 3390      |\n",
      "|    policy_gradient_loss | 0.0025    |\n",
      "|    value_loss           | 5.76      |\n",
      "---------------------------------------\n",
      "------------------------------------------\n",
      "| rollout/                |              |\n",
      "|    ep_len_mean          | 62.7         |\n",
      "|    ep_rew_mean          | 492          |\n",
      "| time/                   |              |\n",
      "|    fps                  | 1337         |\n",
      "|    iterations           | 96           |\n",
      "|    time_elapsed         | 146          |\n",
      "|    total_timesteps      | 196608       |\n",
      "| train/                  |              |\n",
      "|    approx_kl            | 0.0072185975 |\n",
      "|    clip_fraction        | 0.0525       |\n",
      "|    clip_range           | 0.2          |\n",
      "|    entropy_loss         | -0.139       |\n",
      "|    explained_variance   | 0.99950796   |\n",
      "|    learning_rate        | 0.0003       |\n",
      "|    loss                 | 2.14         |\n",
      "|    n_updates            | 3400         |\n",
      "|    policy_gradient_loss | 0.00221      |\n",
      "|    value_loss           | 4.38         |\n",
      "------------------------------------------\n",
      "Saving model checkpoint to test_4_ppo_checkpoints/rew2_1000k/model_700k_steps\n",
      "------------------------------------------\n",
      "| rollout/                |              |\n",
      "|    ep_len_mean          | 63.7         |\n",
      "|    ep_rew_mean          | 492          |\n",
      "| time/                   |              |\n",
      "|    fps                  | 1337         |\n",
      "|    iterations           | 97           |\n",
      "|    time_elapsed         | 148          |\n",
      "|    total_timesteps      | 198656       |\n",
      "| train/                  |              |\n",
      "|    approx_kl            | 0.0047261217 |\n",
      "|    clip_fraction        | 0.063        |\n",
      "|    clip_range           | 0.2          |\n",
      "|    entropy_loss         | -0.139       |\n",
      "|    explained_variance   | 0.99280345   |\n",
      "|    learning_rate        | 0.0003       |\n",
      "|    loss                 | 2.41         |\n",
      "|    n_updates            | 3410         |\n",
      "|    policy_gradient_loss | -0.00133     |\n",
      "|    value_loss           | 57.4         |\n",
      "------------------------------------------\n",
      "----------------------------------------\n",
      "| rollout/                |            |\n",
      "|    ep_len_mean          | 65.5       |\n",
      "|    ep_rew_mean          | 494        |\n",
      "| time/                   |            |\n",
      "|    fps                  | 1337       |\n",
      "|    iterations           | 98         |\n",
      "|    time_elapsed         | 150        |\n",
      "|    total_timesteps      | 200704     |\n",
      "| train/                  |            |\n",
      "|    approx_kl            | 0.06752288 |\n",
      "|    clip_fraction        | 0.136      |\n",
      "|    clip_range           | 0.2        |\n",
      "|    entropy_loss         | -0.144     |\n",
      "|    explained_variance   | 0.9935545  |\n",
      "|    learning_rate        | 0.0003     |\n",
      "|    loss                 | 4.88       |\n",
      "|    n_updates            | 3420       |\n",
      "|    policy_gradient_loss | 0.0431     |\n",
      "|    value_loss           | 51.5       |\n",
      "----------------------------------------\n",
      "------------------------------------------\n",
      "| rollout/                |              |\n",
      "|    ep_len_mean          | 67.8         |\n",
      "|    ep_rew_mean          | 496          |\n",
      "| time/                   |              |\n",
      "|    fps                  | 1337         |\n",
      "|    iterations           | 99           |\n",
      "|    time_elapsed         | 151          |\n",
      "|    total_timesteps      | 202752       |\n",
      "| train/                  |              |\n",
      "|    approx_kl            | 0.0018611744 |\n",
      "|    clip_fraction        | 0.0357       |\n",
      "|    clip_range           | 0.2          |\n",
      "|    entropy_loss         | -0.184       |\n",
      "|    explained_variance   | 0.9889822    |\n",
      "|    learning_rate        | 0.0003       |\n",
      "|    loss                 | 9.5          |\n",
      "|    n_updates            | 3430         |\n",
      "|    policy_gradient_loss | 1.71e-05     |\n",
      "|    value_loss           | 79.9         |\n",
      "------------------------------------------\n",
      "------------------------------------------\n",
      "| rollout/                |              |\n",
      "|    ep_len_mean          | 70.3         |\n",
      "|    ep_rew_mean          | 496          |\n",
      "| time/                   |              |\n",
      "|    fps                  | 1337         |\n",
      "|    iterations           | 100          |\n",
      "|    time_elapsed         | 153          |\n",
      "|    total_timesteps      | 204800       |\n",
      "| train/                  |              |\n",
      "|    approx_kl            | 0.0036973713 |\n",
      "|    clip_fraction        | 0.0355       |\n",
      "|    clip_range           | 0.2          |\n",
      "|    entropy_loss         | -0.179       |\n",
      "|    explained_variance   | 0.99058235   |\n",
      "|    learning_rate        | 0.0003       |\n",
      "|    loss                 | 31.5         |\n",
      "|    n_updates            | 3440         |\n",
      "|    policy_gradient_loss | -0.000841    |\n",
      "|    value_loss           | 72.7         |\n",
      "------------------------------------------\n",
      "------------------------------------------\n",
      "| rollout/                |              |\n",
      "|    ep_len_mean          | 72.3         |\n",
      "|    ep_rew_mean          | 499          |\n",
      "| time/                   |              |\n",
      "|    fps                  | 1337         |\n",
      "|    iterations           | 101          |\n",
      "|    time_elapsed         | 154          |\n",
      "|    total_timesteps      | 206848       |\n",
      "| train/                  |              |\n",
      "|    approx_kl            | 0.0036852194 |\n",
      "|    clip_fraction        | 0.0435       |\n",
      "|    clip_range           | 0.2          |\n",
      "|    entropy_loss         | -0.17        |\n",
      "|    explained_variance   | 0.9724261    |\n",
      "|    learning_rate        | 0.0003       |\n",
      "|    loss                 | 94.8         |\n",
      "|    n_updates            | 3450         |\n",
      "|    policy_gradient_loss | -0.00411     |\n",
      "|    value_loss           | 201          |\n",
      "------------------------------------------\n",
      "-----------------------------------------\n",
      "| rollout/                |             |\n",
      "|    ep_len_mean          | 74.2        |\n",
      "|    ep_rew_mean          | 502         |\n",
      "| time/                   |             |\n",
      "|    fps                  | 1337        |\n",
      "|    iterations           | 102         |\n",
      "|    time_elapsed         | 156         |\n",
      "|    total_timesteps      | 208896      |\n",
      "| train/                  |             |\n",
      "|    approx_kl            | 0.013928365 |\n",
      "|    clip_fraction        | 0.0622      |\n",
      "|    clip_range           | 0.2         |\n",
      "|    entropy_loss         | -0.168      |\n",
      "|    explained_variance   | 0.9903151   |\n",
      "|    learning_rate        | 0.0003      |\n",
      "|    loss                 | 7.8         |\n",
      "|    n_updates            | 3460        |\n",
      "|    policy_gradient_loss | 0.00118     |\n",
      "|    value_loss           | 63.3        |\n",
      "-----------------------------------------\n",
      "------------------------------------------\n",
      "| rollout/                |              |\n",
      "|    ep_len_mean          | 75.5         |\n",
      "|    ep_rew_mean          | 505          |\n",
      "| time/                   |              |\n",
      "|    fps                  | 1337         |\n",
      "|    iterations           | 103          |\n",
      "|    time_elapsed         | 157          |\n",
      "|    total_timesteps      | 210944       |\n",
      "| train/                  |              |\n",
      "|    approx_kl            | 0.0054791104 |\n",
      "|    clip_fraction        | 0.0534       |\n",
      "|    clip_range           | 0.2          |\n",
      "|    entropy_loss         | -0.162       |\n",
      "|    explained_variance   | 0.99703676   |\n",
      "|    learning_rate        | 0.0003       |\n",
      "|    loss                 | 8.89         |\n",
      "|    n_updates            | 3470         |\n",
      "|    policy_gradient_loss | 0.000568     |\n",
      "|    value_loss           | 18.1         |\n",
      "------------------------------------------\n",
      "------------------------------------------\n",
      "| rollout/                |              |\n",
      "|    ep_len_mean          | 75.8         |\n",
      "|    ep_rew_mean          | 504          |\n",
      "| time/                   |              |\n",
      "|    fps                  | 1333         |\n",
      "|    iterations           | 104          |\n",
      "|    time_elapsed         | 159          |\n",
      "|    total_timesteps      | 212992       |\n",
      "| train/                  |              |\n",
      "|    approx_kl            | 0.0054722857 |\n",
      "|    clip_fraction        | 0.0372       |\n",
      "|    clip_range           | 0.2          |\n",
      "|    entropy_loss         | -0.163       |\n",
      "|    explained_variance   | 0.97763425   |\n",
      "|    learning_rate        | 0.0003       |\n",
      "|    loss                 | 274          |\n",
      "|    n_updates            | 3480         |\n",
      "|    policy_gradient_loss | -0.000667    |\n",
      "|    value_loss           | 182          |\n",
      "------------------------------------------\n",
      "----------------------------------------\n",
      "| rollout/                |            |\n",
      "|    ep_len_mean          | 78.7       |\n",
      "|    ep_rew_mean          | 507        |\n",
      "| time/                   |            |\n",
      "|    fps                  | 1333       |\n",
      "|    iterations           | 105        |\n",
      "|    time_elapsed         | 161        |\n",
      "|    total_timesteps      | 215040     |\n",
      "| train/                  |            |\n",
      "|    approx_kl            | 0.01765482 |\n",
      "|    clip_fraction        | 0.046      |\n",
      "|    clip_range           | 0.2        |\n",
      "|    entropy_loss         | -0.163     |\n",
      "|    explained_variance   | 0.9823894  |\n",
      "|    learning_rate        | 0.0003     |\n",
      "|    loss                 | 120        |\n",
      "|    n_updates            | 3490       |\n",
      "|    policy_gradient_loss | -4.92e-05  |\n",
      "|    value_loss           | 131        |\n",
      "----------------------------------------\n",
      "------------------------------------------\n",
      "| rollout/                |              |\n",
      "|    ep_len_mean          | 80.1         |\n",
      "|    ep_rew_mean          | 508          |\n",
      "| time/                   |              |\n",
      "|    fps                  | 1333         |\n",
      "|    iterations           | 106          |\n",
      "|    time_elapsed         | 162          |\n",
      "|    total_timesteps      | 217088       |\n",
      "| train/                  |              |\n",
      "|    approx_kl            | 0.0076675755 |\n",
      "|    clip_fraction        | 0.0594       |\n",
      "|    clip_range           | 0.2          |\n",
      "|    entropy_loss         | -0.162       |\n",
      "|    explained_variance   | 0.9913825    |\n",
      "|    learning_rate        | 0.0003       |\n",
      "|    loss                 | 7.17         |\n",
      "|    n_updates            | 3500         |\n",
      "|    policy_gradient_loss | 0.0032       |\n",
      "|    value_loss           | 64.6         |\n",
      "------------------------------------------\n",
      "-----------------------------------------\n",
      "| rollout/                |             |\n",
      "|    ep_len_mean          | 82          |\n",
      "|    ep_rew_mean          | 510         |\n",
      "| time/                   |             |\n",
      "|    fps                  | 1333        |\n",
      "|    iterations           | 107         |\n",
      "|    time_elapsed         | 164         |\n",
      "|    total_timesteps      | 219136      |\n",
      "| train/                  |             |\n",
      "|    approx_kl            | 0.004710217 |\n",
      "|    clip_fraction        | 0.0512      |\n",
      "|    clip_range           | 0.2         |\n",
      "|    entropy_loss         | -0.159      |\n",
      "|    explained_variance   | 0.9963891   |\n",
      "|    learning_rate        | 0.0003      |\n",
      "|    loss                 | 11.3        |\n",
      "|    n_updates            | 3510        |\n",
      "|    policy_gradient_loss | -0.000366   |\n",
      "|    value_loss           | 27.2        |\n",
      "-----------------------------------------\n",
      "------------------------------------------\n",
      "| rollout/                |              |\n",
      "|    ep_len_mean          | 84.3         |\n",
      "|    ep_rew_mean          | 517          |\n",
      "| time/                   |              |\n",
      "|    fps                  | 1333         |\n",
      "|    iterations           | 108          |\n",
      "|    time_elapsed         | 165          |\n",
      "|    total_timesteps      | 221184       |\n",
      "| train/                  |              |\n",
      "|    approx_kl            | 0.0056087407 |\n",
      "|    clip_fraction        | 0.0599       |\n",
      "|    clip_range           | 0.2          |\n",
      "|    entropy_loss         | -0.148       |\n",
      "|    explained_variance   | 0.9859071    |\n",
      "|    learning_rate        | 0.0003       |\n",
      "|    loss                 | 24.9         |\n",
      "|    n_updates            | 3520         |\n",
      "|    policy_gradient_loss | -0.000954    |\n",
      "|    value_loss           | 116          |\n",
      "------------------------------------------\n",
      "-----------------------------------------\n",
      "| rollout/                |             |\n",
      "|    ep_len_mean          | 82.8        |\n",
      "|    ep_rew_mean          | 515         |\n",
      "| time/                   |             |\n",
      "|    fps                  | 1333        |\n",
      "|    iterations           | 109         |\n",
      "|    time_elapsed         | 167         |\n",
      "|    total_timesteps      | 223232      |\n",
      "| train/                  |             |\n",
      "|    approx_kl            | 0.020368904 |\n",
      "|    clip_fraction        | 0.0469      |\n",
      "|    clip_range           | 0.2         |\n",
      "|    entropy_loss         | -0.16       |\n",
      "|    explained_variance   | 0.99748904  |\n",
      "|    learning_rate        | 0.0003      |\n",
      "|    loss                 | 7.29        |\n",
      "|    n_updates            | 3530        |\n",
      "|    policy_gradient_loss | 0.000739    |\n",
      "|    value_loss           | 16.7        |\n",
      "-----------------------------------------\n",
      "-----------------------------------------\n",
      "| rollout/                |             |\n",
      "|    ep_len_mean          | 81.1        |\n",
      "|    ep_rew_mean          | 514         |\n",
      "| time/                   |             |\n",
      "|    fps                  | 1333        |\n",
      "|    iterations           | 110         |\n",
      "|    time_elapsed         | 168         |\n",
      "|    total_timesteps      | 225280      |\n",
      "| train/                  |             |\n",
      "|    approx_kl            | 0.007351457 |\n",
      "|    clip_fraction        | 0.0843      |\n",
      "|    clip_range           | 0.2         |\n",
      "|    entropy_loss         | -0.166      |\n",
      "|    explained_variance   | 0.99015254  |\n",
      "|    learning_rate        | 0.0003      |\n",
      "|    loss                 | 31.3        |\n",
      "|    n_updates            | 3540        |\n",
      "|    policy_gradient_loss | 0.000149    |\n",
      "|    value_loss           | 65.7        |\n",
      "-----------------------------------------\n",
      "------------------------------------------\n",
      "| rollout/                |              |\n",
      "|    ep_len_mean          | 78.7         |\n",
      "|    ep_rew_mean          | 511          |\n",
      "| time/                   |              |\n",
      "|    fps                  | 1333         |\n",
      "|    iterations           | 111          |\n",
      "|    time_elapsed         | 170          |\n",
      "|    total_timesteps      | 227328       |\n",
      "| train/                  |              |\n",
      "|    approx_kl            | 0.0035826697 |\n",
      "|    clip_fraction        | 0.0573       |\n",
      "|    clip_range           | 0.2          |\n",
      "|    entropy_loss         | -0.157       |\n",
      "|    explained_variance   | 0.99706626   |\n",
      "|    learning_rate        | 0.0003       |\n",
      "|    loss                 | 6.23         |\n",
      "|    n_updates            | 3550         |\n",
      "|    policy_gradient_loss | 0.000666     |\n",
      "|    value_loss           | 17.9         |\n",
      "------------------------------------------\n",
      "------------------------------------------\n",
      "| rollout/                |              |\n",
      "|    ep_len_mean          | 78.4         |\n",
      "|    ep_rew_mean          | 511          |\n",
      "| time/                   |              |\n",
      "|    fps                  | 1333         |\n",
      "|    iterations           | 112          |\n",
      "|    time_elapsed         | 171          |\n",
      "|    total_timesteps      | 229376       |\n",
      "| train/                  |              |\n",
      "|    approx_kl            | 0.0040048864 |\n",
      "|    clip_fraction        | 0.0445       |\n",
      "|    clip_range           | 0.2          |\n",
      "|    entropy_loss         | -0.146       |\n",
      "|    explained_variance   | 0.98229384   |\n",
      "|    learning_rate        | 0.0003       |\n",
      "|    loss                 | 17.6         |\n",
      "|    n_updates            | 3560         |\n",
      "|    policy_gradient_loss | -0.00227     |\n",
      "|    value_loss           | 132          |\n",
      "------------------------------------------\n",
      "----------------------------------------\n",
      "| rollout/                |            |\n",
      "|    ep_len_mean          | 78.8       |\n",
      "|    ep_rew_mean          | 511        |\n",
      "| time/                   |            |\n",
      "|    fps                  | 1333       |\n",
      "|    iterations           | 113        |\n",
      "|    time_elapsed         | 173        |\n",
      "|    total_timesteps      | 231424     |\n",
      "| train/                  |            |\n",
      "|    approx_kl            | 0.01287684 |\n",
      "|    clip_fraction        | 0.0744     |\n",
      "|    clip_range           | 0.2        |\n",
      "|    entropy_loss         | -0.144     |\n",
      "|    explained_variance   | 0.9968782  |\n",
      "|    learning_rate        | 0.0003     |\n",
      "|    loss                 | 5.74       |\n",
      "|    n_updates            | 3570       |\n",
      "|    policy_gradient_loss | 0.00239    |\n",
      "|    value_loss           | 17.7       |\n",
      "----------------------------------------\n",
      "---------------------------------------\n",
      "| rollout/                |           |\n",
      "|    ep_len_mean          | 78.8      |\n",
      "|    ep_rew_mean          | 512       |\n",
      "| time/                   |           |\n",
      "|    fps                  | 1333      |\n",
      "|    iterations           | 114       |\n",
      "|    time_elapsed         | 175       |\n",
      "|    total_timesteps      | 233472    |\n",
      "| train/                  |           |\n",
      "|    approx_kl            | 0.0116848 |\n",
      "|    clip_fraction        | 0.0627    |\n",
      "|    clip_range           | 0.2       |\n",
      "|    entropy_loss         | -0.144    |\n",
      "|    explained_variance   | 0.9877397 |\n",
      "|    learning_rate        | 0.0003    |\n",
      "|    loss                 | 48.8      |\n",
      "|    n_updates            | 3580      |\n",
      "|    policy_gradient_loss | 0.00197   |\n",
      "|    value_loss           | 85.4      |\n",
      "---------------------------------------\n",
      "-----------------------------------------\n",
      "| rollout/                |             |\n",
      "|    ep_len_mean          | 79.6        |\n",
      "|    ep_rew_mean          | 516         |\n",
      "| time/                   |             |\n",
      "|    fps                  | 1333        |\n",
      "|    iterations           | 115         |\n",
      "|    time_elapsed         | 176         |\n",
      "|    total_timesteps      | 235520      |\n",
      "| train/                  |             |\n",
      "|    approx_kl            | 0.008319777 |\n",
      "|    clip_fraction        | 0.0469      |\n",
      "|    clip_range           | 0.2         |\n",
      "|    entropy_loss         | -0.133      |\n",
      "|    explained_variance   | 0.99838084  |\n",
      "|    learning_rate        | 0.0003      |\n",
      "|    loss                 | 4.52        |\n",
      "|    n_updates            | 3590        |\n",
      "|    policy_gradient_loss | 0.00156     |\n",
      "|    value_loss           | 8.07        |\n",
      "-----------------------------------------\n",
      "----------------------------------------\n",
      "| rollout/                |            |\n",
      "|    ep_len_mean          | 78.2       |\n",
      "|    ep_rew_mean          | 513        |\n",
      "| time/                   |            |\n",
      "|    fps                  | 1333       |\n",
      "|    iterations           | 116        |\n",
      "|    time_elapsed         | 178        |\n",
      "|    total_timesteps      | 237568     |\n",
      "| train/                  |            |\n",
      "|    approx_kl            | 0.01416943 |\n",
      "|    clip_fraction        | 0.0529     |\n",
      "|    clip_range           | 0.2        |\n",
      "|    entropy_loss         | -0.128     |\n",
      "|    explained_variance   | 0.9992313  |\n",
      "|    learning_rate        | 0.0003     |\n",
      "|    loss                 | 2.75       |\n",
      "|    n_updates            | 3600       |\n",
      "|    policy_gradient_loss | -0.000198  |\n",
      "|    value_loss           | 4.86       |\n",
      "----------------------------------------\n",
      "-----------------------------------------\n",
      "| rollout/                |             |\n",
      "|    ep_len_mean          | 75.9        |\n",
      "|    ep_rew_mean          | 511         |\n",
      "| time/                   |             |\n",
      "|    fps                  | 1333        |\n",
      "|    iterations           | 117         |\n",
      "|    time_elapsed         | 179         |\n",
      "|    total_timesteps      | 239616      |\n",
      "| train/                  |             |\n",
      "|    approx_kl            | 0.010583727 |\n",
      "|    clip_fraction        | 0.0599      |\n",
      "|    clip_range           | 0.2         |\n",
      "|    entropy_loss         | -0.134      |\n",
      "|    explained_variance   | 0.9933422   |\n",
      "|    learning_rate        | 0.0003      |\n",
      "|    loss                 | 26.7        |\n",
      "|    n_updates            | 3610        |\n",
      "|    policy_gradient_loss | 0.00385     |\n",
      "|    value_loss           | 50.3        |\n",
      "-----------------------------------------\n",
      "-----------------------------------------\n",
      "| rollout/                |             |\n",
      "|    ep_len_mean          | 75.2        |\n",
      "|    ep_rew_mean          | 509         |\n",
      "| time/                   |             |\n",
      "|    fps                  | 1333        |\n",
      "|    iterations           | 118         |\n",
      "|    time_elapsed         | 181         |\n",
      "|    total_timesteps      | 241664      |\n",
      "| train/                  |             |\n",
      "|    approx_kl            | 0.010253028 |\n",
      "|    clip_fraction        | 0.0991      |\n",
      "|    clip_range           | 0.2         |\n",
      "|    entropy_loss         | -0.135      |\n",
      "|    explained_variance   | 0.99957454  |\n",
      "|    learning_rate        | 0.0003      |\n",
      "|    loss                 | 1.27        |\n",
      "|    n_updates            | 3620        |\n",
      "|    policy_gradient_loss | 0.0442      |\n",
      "|    value_loss           | 2.45        |\n",
      "-----------------------------------------\n",
      "------------------------------------------\n",
      "| rollout/                |              |\n",
      "|    ep_len_mean          | 75.2         |\n",
      "|    ep_rew_mean          | 509          |\n",
      "| time/                   |              |\n",
      "|    fps                  | 1333         |\n",
      "|    iterations           | 119          |\n",
      "|    time_elapsed         | 182          |\n",
      "|    total_timesteps      | 243712       |\n",
      "| train/                  |              |\n",
      "|    approx_kl            | 0.0035982267 |\n",
      "|    clip_fraction        | 0.0397       |\n",
      "|    clip_range           | 0.2          |\n",
      "|    entropy_loss         | -0.159       |\n",
      "|    explained_variance   | 0.99293816   |\n",
      "|    learning_rate        | 0.0003       |\n",
      "|    loss                 | 14.5         |\n",
      "|    n_updates            | 3630         |\n",
      "|    policy_gradient_loss | -0.00119     |\n",
      "|    value_loss           | 57.1         |\n",
      "------------------------------------------\n",
      "-----------------------------------------\n",
      "| rollout/                |             |\n",
      "|    ep_len_mean          | 77.4        |\n",
      "|    ep_rew_mean          | 513         |\n",
      "| time/                   |             |\n",
      "|    fps                  | 1333        |\n",
      "|    iterations           | 120         |\n",
      "|    time_elapsed         | 184         |\n",
      "|    total_timesteps      | 245760      |\n",
      "| train/                  |             |\n",
      "|    approx_kl            | 0.009035226 |\n",
      "|    clip_fraction        | 0.0506      |\n",
      "|    clip_range           | 0.2         |\n",
      "|    entropy_loss         | -0.163      |\n",
      "|    explained_variance   | 0.9990377   |\n",
      "|    learning_rate        | 0.0003      |\n",
      "|    loss                 | 2.16        |\n",
      "|    n_updates            | 3640        |\n",
      "|    policy_gradient_loss | 0.000481    |\n",
      "|    value_loss           | 4.85        |\n",
      "-----------------------------------------\n",
      "------------------------------------------\n",
      "| rollout/                |              |\n",
      "|    ep_len_mean          | 79.5         |\n",
      "|    ep_rew_mean          | 516          |\n",
      "| time/                   |              |\n",
      "|    fps                  | 1333         |\n",
      "|    iterations           | 121          |\n",
      "|    time_elapsed         | 185          |\n",
      "|    total_timesteps      | 247808       |\n",
      "| train/                  |              |\n",
      "|    approx_kl            | 0.0033714953 |\n",
      "|    clip_fraction        | 0.0561       |\n",
      "|    clip_range           | 0.2          |\n",
      "|    entropy_loss         | -0.147       |\n",
      "|    explained_variance   | 0.99786186   |\n",
      "|    learning_rate        | 0.0003       |\n",
      "|    loss                 | 9.57         |\n",
      "|    n_updates            | 3650         |\n",
      "|    policy_gradient_loss | 0.0022       |\n",
      "|    value_loss           | 15.6         |\n",
      "------------------------------------------\n",
      "-----------------------------------------\n",
      "| rollout/                |             |\n",
      "|    ep_len_mean          | 81          |\n",
      "|    ep_rew_mean          | 518         |\n",
      "| time/                   |             |\n",
      "|    fps                  | 1333        |\n",
      "|    iterations           | 122         |\n",
      "|    time_elapsed         | 187         |\n",
      "|    total_timesteps      | 249856      |\n",
      "| train/                  |             |\n",
      "|    approx_kl            | 0.005651241 |\n",
      "|    clip_fraction        | 0.0531      |\n",
      "|    clip_range           | 0.2         |\n",
      "|    entropy_loss         | -0.141      |\n",
      "|    explained_variance   | 0.9992226   |\n",
      "|    learning_rate        | 0.0003      |\n",
      "|    loss                 | 2.74        |\n",
      "|    n_updates            | 3660        |\n",
      "|    policy_gradient_loss | 0.00247     |\n",
      "|    value_loss           | 6.13        |\n",
      "-----------------------------------------\n",
      "------------------------------------------\n",
      "| rollout/                |              |\n",
      "|    ep_len_mean          | 84.1         |\n",
      "|    ep_rew_mean          | 519          |\n",
      "| time/                   |              |\n",
      "|    fps                  | 1333         |\n",
      "|    iterations           | 123          |\n",
      "|    time_elapsed         | 188          |\n",
      "|    total_timesteps      | 251904       |\n",
      "| train/                  |              |\n",
      "|    approx_kl            | 0.0040666456 |\n",
      "|    clip_fraction        | 0.0348       |\n",
      "|    clip_range           | 0.2          |\n",
      "|    entropy_loss         | -0.143       |\n",
      "|    explained_variance   | 0.9941605    |\n",
      "|    learning_rate        | 0.0003       |\n",
      "|    loss                 | 4.76         |\n",
      "|    n_updates            | 3670         |\n",
      "|    policy_gradient_loss | 0.000689     |\n",
      "|    value_loss           | 48.6         |\n",
      "------------------------------------------\n",
      "------------------------------------------\n",
      "| rollout/                |              |\n",
      "|    ep_len_mean          | 85.6         |\n",
      "|    ep_rew_mean          | 521          |\n",
      "| time/                   |              |\n",
      "|    fps                  | 1333         |\n",
      "|    iterations           | 124          |\n",
      "|    time_elapsed         | 190          |\n",
      "|    total_timesteps      | 253952       |\n",
      "| train/                  |              |\n",
      "|    approx_kl            | 0.0026269942 |\n",
      "|    clip_fraction        | 0.0272       |\n",
      "|    clip_range           | 0.2          |\n",
      "|    entropy_loss         | -0.118       |\n",
      "|    explained_variance   | 0.9913901    |\n",
      "|    learning_rate        | 0.0003       |\n",
      "|    loss                 | 11.1         |\n",
      "|    n_updates            | 3680         |\n",
      "|    policy_gradient_loss | -0.000158    |\n",
      "|    value_loss           | 67.1         |\n",
      "------------------------------------------\n",
      "----------------------------------------\n",
      "| rollout/                |            |\n",
      "|    ep_len_mean          | 90         |\n",
      "|    ep_rew_mean          | 523        |\n",
      "| time/                   |            |\n",
      "|    fps                  | 1333       |\n",
      "|    iterations           | 125        |\n",
      "|    time_elapsed         | 192        |\n",
      "|    total_timesteps      | 256000     |\n",
      "| train/                  |            |\n",
      "|    approx_kl            | 0.0557592  |\n",
      "|    clip_fraction        | 0.0652     |\n",
      "|    clip_range           | 0.2        |\n",
      "|    entropy_loss         | -0.127     |\n",
      "|    explained_variance   | 0.99867576 |\n",
      "|    learning_rate        | 0.0003     |\n",
      "|    loss                 | 3.15       |\n",
      "|    n_updates            | 3690       |\n",
      "|    policy_gradient_loss | 0.00555    |\n",
      "|    value_loss           | 7.23       |\n",
      "----------------------------------------\n",
      "-----------------------------------------\n",
      "| rollout/                |             |\n",
      "|    ep_len_mean          | 94.5        |\n",
      "|    ep_rew_mean          | 521         |\n",
      "| time/                   |             |\n",
      "|    fps                  | 1333        |\n",
      "|    iterations           | 126         |\n",
      "|    time_elapsed         | 193         |\n",
      "|    total_timesteps      | 258048      |\n",
      "| train/                  |             |\n",
      "|    approx_kl            | 0.002373943 |\n",
      "|    clip_fraction        | 0.0312      |\n",
      "|    clip_range           | 0.2         |\n",
      "|    entropy_loss         | -0.128      |\n",
      "|    explained_variance   | 0.98953146  |\n",
      "|    learning_rate        | 0.0003      |\n",
      "|    loss                 | 26.5        |\n",
      "|    n_updates            | 3700        |\n",
      "|    policy_gradient_loss | -0.00132    |\n",
      "|    value_loss           | 78.8        |\n",
      "-----------------------------------------\n",
      "------------------------------------------\n",
      "| rollout/                |              |\n",
      "|    ep_len_mean          | 97.5         |\n",
      "|    ep_rew_mean          | 519          |\n",
      "| time/                   |              |\n",
      "|    fps                  | 1333         |\n",
      "|    iterations           | 127          |\n",
      "|    time_elapsed         | 195          |\n",
      "|    total_timesteps      | 260096       |\n",
      "| train/                  |              |\n",
      "|    approx_kl            | 0.0030560666 |\n",
      "|    clip_fraction        | 0.0338       |\n",
      "|    clip_range           | 0.2          |\n",
      "|    entropy_loss         | -0.124       |\n",
      "|    explained_variance   | 0.9793253    |\n",
      "|    learning_rate        | 0.0003       |\n",
      "|    loss                 | 36.5         |\n",
      "|    n_updates            | 3710         |\n",
      "|    policy_gradient_loss | -0.00345     |\n",
      "|    value_loss           | 167          |\n",
      "------------------------------------------\n",
      "------------------------------------------\n",
      "| rollout/                |              |\n",
      "|    ep_len_mean          | 98.9         |\n",
      "|    ep_rew_mean          | 520          |\n",
      "| time/                   |              |\n",
      "|    fps                  | 1333         |\n",
      "|    iterations           | 128          |\n",
      "|    time_elapsed         | 196          |\n",
      "|    total_timesteps      | 262144       |\n",
      "| train/                  |              |\n",
      "|    approx_kl            | 0.0024199362 |\n",
      "|    clip_fraction        | 0.0255       |\n",
      "|    clip_range           | 0.2          |\n",
      "|    entropy_loss         | -0.131       |\n",
      "|    explained_variance   | 0.97973377   |\n",
      "|    learning_rate        | 0.0003       |\n",
      "|    loss                 | 56.8         |\n",
      "|    n_updates            | 3720         |\n",
      "|    policy_gradient_loss | -0.00203     |\n",
      "|    value_loss           | 174          |\n",
      "------------------------------------------\n",
      "------------------------------------------\n",
      "| rollout/                |              |\n",
      "|    ep_len_mean          | 100          |\n",
      "|    ep_rew_mean          | 518          |\n",
      "| time/                   |              |\n",
      "|    fps                  | 1333         |\n",
      "|    iterations           | 129          |\n",
      "|    time_elapsed         | 198          |\n",
      "|    total_timesteps      | 264192       |\n",
      "| train/                  |              |\n",
      "|    approx_kl            | 0.0027897265 |\n",
      "|    clip_fraction        | 0.0267       |\n",
      "|    clip_range           | 0.2          |\n",
      "|    entropy_loss         | -0.131       |\n",
      "|    explained_variance   | 0.98992074   |\n",
      "|    learning_rate        | 0.0003       |\n",
      "|    loss                 | 43.5         |\n",
      "|    n_updates            | 3730         |\n",
      "|    policy_gradient_loss | -0.00244     |\n",
      "|    value_loss           | 67.3         |\n",
      "------------------------------------------\n",
      "------------------------------------------\n",
      "| rollout/                |              |\n",
      "|    ep_len_mean          | 98.5         |\n",
      "|    ep_rew_mean          | 518          |\n",
      "| time/                   |              |\n",
      "|    fps                  | 1333         |\n",
      "|    iterations           | 130          |\n",
      "|    time_elapsed         | 199          |\n",
      "|    total_timesteps      | 266240       |\n",
      "| train/                  |              |\n",
      "|    approx_kl            | 0.0015949314 |\n",
      "|    clip_fraction        | 0.0257       |\n",
      "|    clip_range           | 0.2          |\n",
      "|    entropy_loss         | -0.124       |\n",
      "|    explained_variance   | 0.98088926   |\n",
      "|    learning_rate        | 0.0003       |\n",
      "|    loss                 | 42.7         |\n",
      "|    n_updates            | 3740         |\n",
      "|    policy_gradient_loss | -0.00315     |\n",
      "|    value_loss           | 155          |\n",
      "------------------------------------------\n",
      "-----------------------------------------\n",
      "| rollout/                |             |\n",
      "|    ep_len_mean          | 95.6        |\n",
      "|    ep_rew_mean          | 521         |\n",
      "| time/                   |             |\n",
      "|    fps                  | 1333        |\n",
      "|    iterations           | 131         |\n",
      "|    time_elapsed         | 201         |\n",
      "|    total_timesteps      | 268288      |\n",
      "| train/                  |             |\n",
      "|    approx_kl            | 0.002890043 |\n",
      "|    clip_fraction        | 0.0364      |\n",
      "|    clip_range           | 0.2         |\n",
      "|    entropy_loss         | -0.133      |\n",
      "|    explained_variance   | 0.99164313  |\n",
      "|    learning_rate        | 0.0003      |\n",
      "|    loss                 | 20.4        |\n",
      "|    n_updates            | 3750        |\n",
      "|    policy_gradient_loss | -0.00056    |\n",
      "|    value_loss           | 52.3        |\n",
      "-----------------------------------------\n",
      "-----------------------------------------\n",
      "| rollout/                |             |\n",
      "|    ep_len_mean          | 93.5        |\n",
      "|    ep_rew_mean          | 525         |\n",
      "| time/                   |             |\n",
      "|    fps                  | 1333        |\n",
      "|    iterations           | 132         |\n",
      "|    time_elapsed         | 202         |\n",
      "|    total_timesteps      | 270336      |\n",
      "| train/                  |             |\n",
      "|    approx_kl            | 0.007860531 |\n",
      "|    clip_fraction        | 0.0392      |\n",
      "|    clip_range           | 0.2         |\n",
      "|    entropy_loss         | -0.139      |\n",
      "|    explained_variance   | 0.9918768   |\n",
      "|    learning_rate        | 0.0003      |\n",
      "|    loss                 | 28.7        |\n",
      "|    n_updates            | 3760        |\n",
      "|    policy_gradient_loss | -0.00273    |\n",
      "|    value_loss           | 56.4        |\n",
      "-----------------------------------------\n",
      "-----------------------------------------\n",
      "| rollout/                |             |\n",
      "|    ep_len_mean          | 91.3        |\n",
      "|    ep_rew_mean          | 525         |\n",
      "| time/                   |             |\n",
      "|    fps                  | 1333        |\n",
      "|    iterations           | 133         |\n",
      "|    time_elapsed         | 204         |\n",
      "|    total_timesteps      | 272384      |\n",
      "| train/                  |             |\n",
      "|    approx_kl            | 0.006172904 |\n",
      "|    clip_fraction        | 0.0621      |\n",
      "|    clip_range           | 0.2         |\n",
      "|    entropy_loss         | -0.146      |\n",
      "|    explained_variance   | 0.99685794  |\n",
      "|    learning_rate        | 0.0003      |\n",
      "|    loss                 | 11.3        |\n",
      "|    n_updates            | 3770        |\n",
      "|    policy_gradient_loss | 0.00903     |\n",
      "|    value_loss           | 18.7        |\n",
      "-----------------------------------------\n",
      "------------------------------------------\n",
      "| rollout/                |              |\n",
      "|    ep_len_mean          | 89.8         |\n",
      "|    ep_rew_mean          | 529          |\n",
      "| time/                   |              |\n",
      "|    fps                  | 1333         |\n",
      "|    iterations           | 134          |\n",
      "|    time_elapsed         | 205          |\n",
      "|    total_timesteps      | 274432       |\n",
      "| train/                  |              |\n",
      "|    approx_kl            | 0.0028519342 |\n",
      "|    clip_fraction        | 0.0265       |\n",
      "|    clip_range           | 0.2          |\n",
      "|    entropy_loss         | -0.138       |\n",
      "|    explained_variance   | 0.9974051    |\n",
      "|    learning_rate        | 0.0003       |\n",
      "|    loss                 | 4.94         |\n",
      "|    n_updates            | 3780         |\n",
      "|    policy_gradient_loss | -0.000141    |\n",
      "|    value_loss           | 15.1         |\n",
      "------------------------------------------\n",
      "----------------------------------------\n",
      "| rollout/                |            |\n",
      "|    ep_len_mean          | 87.3       |\n",
      "|    ep_rew_mean          | 526        |\n",
      "| time/                   |            |\n",
      "|    fps                  | 1333       |\n",
      "|    iterations           | 135        |\n",
      "|    time_elapsed         | 207        |\n",
      "|    total_timesteps      | 276480     |\n",
      "| train/                  |            |\n",
      "|    approx_kl            | 0.00354459 |\n",
      "|    clip_fraction        | 0.0318     |\n",
      "|    clip_range           | 0.2        |\n",
      "|    entropy_loss         | -0.134     |\n",
      "|    explained_variance   | 0.99737823 |\n",
      "|    learning_rate        | 0.0003     |\n",
      "|    loss                 | 5.04       |\n",
      "|    n_updates            | 3790       |\n",
      "|    policy_gradient_loss | 0.000551   |\n",
      "|    value_loss           | 16.5       |\n",
      "----------------------------------------\n",
      "-----------------------------------------\n",
      "| rollout/                |             |\n",
      "|    ep_len_mean          | 86.2        |\n",
      "|    ep_rew_mean          | 525         |\n",
      "| time/                   |             |\n",
      "|    fps                  | 1333        |\n",
      "|    iterations           | 136         |\n",
      "|    time_elapsed         | 208         |\n",
      "|    total_timesteps      | 278528      |\n",
      "| train/                  |             |\n",
      "|    approx_kl            | 0.024641266 |\n",
      "|    clip_fraction        | 0.0452      |\n",
      "|    clip_range           | 0.2         |\n",
      "|    entropy_loss         | -0.149      |\n",
      "|    explained_variance   | 0.9903239   |\n",
      "|    learning_rate        | 0.0003      |\n",
      "|    loss                 | 51.9        |\n",
      "|    n_updates            | 3800        |\n",
      "|    policy_gradient_loss | -0.000211   |\n",
      "|    value_loss           | 59.6        |\n",
      "-----------------------------------------\n",
      "-----------------------------------------\n",
      "| rollout/                |             |\n",
      "|    ep_len_mean          | 80          |\n",
      "|    ep_rew_mean          | 516         |\n",
      "| time/                   |             |\n",
      "|    fps                  | 1333        |\n",
      "|    iterations           | 137         |\n",
      "|    time_elapsed         | 210         |\n",
      "|    total_timesteps      | 280576      |\n",
      "| train/                  |             |\n",
      "|    approx_kl            | 0.012431623 |\n",
      "|    clip_fraction        | 0.0588      |\n",
      "|    clip_range           | 0.2         |\n",
      "|    entropy_loss         | -0.149      |\n",
      "|    explained_variance   | 0.9933223   |\n",
      "|    learning_rate        | 0.0003      |\n",
      "|    loss                 | 3.43        |\n",
      "|    n_updates            | 3810        |\n",
      "|    policy_gradient_loss | 0.00208     |\n",
      "|    value_loss           | 46.5        |\n",
      "-----------------------------------------\n",
      "---------------------------------------\n",
      "| rollout/                |           |\n",
      "|    ep_len_mean          | 74.6      |\n",
      "|    ep_rew_mean          | 506       |\n",
      "| time/                   |           |\n",
      "|    fps                  | 1333      |\n",
      "|    iterations           | 138       |\n",
      "|    time_elapsed         | 211       |\n",
      "|    total_timesteps      | 282624    |\n",
      "| train/                  |           |\n",
      "|    approx_kl            | 0.0220945 |\n",
      "|    clip_fraction        | 0.0648    |\n",
      "|    clip_range           | 0.2       |\n",
      "|    entropy_loss         | -0.138    |\n",
      "|    explained_variance   | 0.9987062 |\n",
      "|    learning_rate        | 0.0003    |\n",
      "|    loss                 | 1.88      |\n",
      "|    n_updates            | 3820      |\n",
      "|    policy_gradient_loss | 0.00156   |\n",
      "|    value_loss           | 8.55      |\n",
      "---------------------------------------\n",
      "-----------------------------------------\n",
      "| rollout/                |             |\n",
      "|    ep_len_mean          | 71.4        |\n",
      "|    ep_rew_mean          | 502         |\n",
      "| time/                   |             |\n",
      "|    fps                  | 1333        |\n",
      "|    iterations           | 139         |\n",
      "|    time_elapsed         | 213         |\n",
      "|    total_timesteps      | 284672      |\n",
      "| train/                  |             |\n",
      "|    approx_kl            | 0.011488018 |\n",
      "|    clip_fraction        | 0.0763      |\n",
      "|    clip_range           | 0.2         |\n",
      "|    entropy_loss         | -0.15       |\n",
      "|    explained_variance   | 0.9889923   |\n",
      "|    learning_rate        | 0.0003      |\n",
      "|    loss                 | 13.4        |\n",
      "|    n_updates            | 3830        |\n",
      "|    policy_gradient_loss | -0.003      |\n",
      "|    value_loss           | 89.5        |\n",
      "-----------------------------------------\n",
      "-----------------------------------------\n",
      "| rollout/                |             |\n",
      "|    ep_len_mean          | 69.5        |\n",
      "|    ep_rew_mean          | 500         |\n",
      "| time/                   |             |\n",
      "|    fps                  | 1333        |\n",
      "|    iterations           | 140         |\n",
      "|    time_elapsed         | 215         |\n",
      "|    total_timesteps      | 286720      |\n",
      "| train/                  |             |\n",
      "|    approx_kl            | 0.010701919 |\n",
      "|    clip_fraction        | 0.0668      |\n",
      "|    clip_range           | 0.2         |\n",
      "|    entropy_loss         | -0.166      |\n",
      "|    explained_variance   | 0.9939456   |\n",
      "|    learning_rate        | 0.0003      |\n",
      "|    loss                 | 36.4        |\n",
      "|    n_updates            | 3840        |\n",
      "|    policy_gradient_loss | -0.00108    |\n",
      "|    value_loss           | 25.7        |\n",
      "-----------------------------------------\n",
      "-----------------------------------------\n",
      "| rollout/                |             |\n",
      "|    ep_len_mean          | 69.8        |\n",
      "|    ep_rew_mean          | 502         |\n",
      "| time/                   |             |\n",
      "|    fps                  | 1333        |\n",
      "|    iterations           | 141         |\n",
      "|    time_elapsed         | 216         |\n",
      "|    total_timesteps      | 288768      |\n",
      "| train/                  |             |\n",
      "|    approx_kl            | 0.008570624 |\n",
      "|    clip_fraction        | 0.0457      |\n",
      "|    clip_range           | 0.2         |\n",
      "|    entropy_loss         | -0.155      |\n",
      "|    explained_variance   | 0.9988689   |\n",
      "|    learning_rate        | 0.0003      |\n",
      "|    loss                 | 2.42        |\n",
      "|    n_updates            | 3850        |\n",
      "|    policy_gradient_loss | 0.000265    |\n",
      "|    value_loss           | 8.92        |\n",
      "-----------------------------------------\n",
      "-----------------------------------------\n",
      "| rollout/                |             |\n",
      "|    ep_len_mean          | 71.4        |\n",
      "|    ep_rew_mean          | 505         |\n",
      "| time/                   |             |\n",
      "|    fps                  | 1333        |\n",
      "|    iterations           | 142         |\n",
      "|    time_elapsed         | 218         |\n",
      "|    total_timesteps      | 290816      |\n",
      "| train/                  |             |\n",
      "|    approx_kl            | 0.015874598 |\n",
      "|    clip_fraction        | 0.0625      |\n",
      "|    clip_range           | 0.2         |\n",
      "|    entropy_loss         | -0.146      |\n",
      "|    explained_variance   | 0.99950826  |\n",
      "|    learning_rate        | 0.0003      |\n",
      "|    loss                 | 1.16        |\n",
      "|    n_updates            | 3860        |\n",
      "|    policy_gradient_loss | 0.00386     |\n",
      "|    value_loss           | 3.25        |\n",
      "-----------------------------------------\n",
      "-----------------------------------------\n",
      "| rollout/                |             |\n",
      "|    ep_len_mean          | 72.6        |\n",
      "|    ep_rew_mean          | 508         |\n",
      "| time/                   |             |\n",
      "|    fps                  | 1333        |\n",
      "|    iterations           | 143         |\n",
      "|    time_elapsed         | 219         |\n",
      "|    total_timesteps      | 292864      |\n",
      "| train/                  |             |\n",
      "|    approx_kl            | 0.008650171 |\n",
      "|    clip_fraction        | 0.0704      |\n",
      "|    clip_range           | 0.2         |\n",
      "|    entropy_loss         | -0.157      |\n",
      "|    explained_variance   | 0.9992158   |\n",
      "|    learning_rate        | 0.0003      |\n",
      "|    loss                 | 2.26        |\n",
      "|    n_updates            | 3870        |\n",
      "|    policy_gradient_loss | -0.00161    |\n",
      "|    value_loss           | 4.93        |\n",
      "-----------------------------------------\n",
      "-----------------------------------------\n",
      "| rollout/                |             |\n",
      "|    ep_len_mean          | 76          |\n",
      "|    ep_rew_mean          | 502         |\n",
      "| time/                   |             |\n",
      "|    fps                  | 1333        |\n",
      "|    iterations           | 144         |\n",
      "|    time_elapsed         | 221         |\n",
      "|    total_timesteps      | 294912      |\n",
      "| train/                  |             |\n",
      "|    approx_kl            | 0.007932189 |\n",
      "|    clip_fraction        | 0.0721      |\n",
      "|    clip_range           | 0.2         |\n",
      "|    entropy_loss         | -0.134      |\n",
      "|    explained_variance   | 0.9995444   |\n",
      "|    learning_rate        | 0.0003      |\n",
      "|    loss                 | 1.01        |\n",
      "|    n_updates            | 3880        |\n",
      "|    policy_gradient_loss | -0.00031    |\n",
      "|    value_loss           | 4.06        |\n",
      "-----------------------------------------\n",
      "------------------------------------------\n",
      "| rollout/                |              |\n",
      "|    ep_len_mean          | 79.4         |\n",
      "|    ep_rew_mean          | 504          |\n",
      "| time/                   |              |\n",
      "|    fps                  | 1333         |\n",
      "|    iterations           | 145          |\n",
      "|    time_elapsed         | 222          |\n",
      "|    total_timesteps      | 296960       |\n",
      "| train/                  |              |\n",
      "|    approx_kl            | 0.0048511326 |\n",
      "|    clip_fraction        | 0.0502       |\n",
      "|    clip_range           | 0.2          |\n",
      "|    entropy_loss         | -0.135       |\n",
      "|    explained_variance   | 0.95598865   |\n",
      "|    learning_rate        | 0.0003       |\n",
      "|    loss                 | 153          |\n",
      "|    n_updates            | 3890         |\n",
      "|    policy_gradient_loss | -0.00646     |\n",
      "|    value_loss           | 371          |\n",
      "------------------------------------------\n",
      "Saving model checkpoint to test_4_ppo_checkpoints/rew2_1000k/model_800k_steps\n",
      "-----------------------------------------\n",
      "| rollout/                |             |\n",
      "|    ep_len_mean          | 80.4        |\n",
      "|    ep_rew_mean          | 504         |\n",
      "| time/                   |             |\n",
      "|    fps                  | 1333        |\n",
      "|    iterations           | 146         |\n",
      "|    time_elapsed         | 224         |\n",
      "|    total_timesteps      | 299008      |\n",
      "| train/                  |             |\n",
      "|    approx_kl            | 0.005374645 |\n",
      "|    clip_fraction        | 0.0437      |\n",
      "|    clip_range           | 0.2         |\n",
      "|    entropy_loss         | -0.145      |\n",
      "|    explained_variance   | 0.99000263  |\n",
      "|    learning_rate        | 0.0003      |\n",
      "|    loss                 | 9.86        |\n",
      "|    n_updates            | 3900        |\n",
      "|    policy_gradient_loss | -0.00022    |\n",
      "|    value_loss           | 62.1        |\n",
      "-----------------------------------------\n",
      "------------------------------------------\n",
      "| rollout/                |              |\n",
      "|    ep_len_mean          | 82.2         |\n",
      "|    ep_rew_mean          | 504          |\n",
      "| time/                   |              |\n",
      "|    fps                  | 1333         |\n",
      "|    iterations           | 147          |\n",
      "|    time_elapsed         | 225          |\n",
      "|    total_timesteps      | 301056       |\n",
      "| train/                  |              |\n",
      "|    approx_kl            | 0.0014763192 |\n",
      "|    clip_fraction        | 0.0304       |\n",
      "|    clip_range           | 0.2          |\n",
      "|    entropy_loss         | -0.141       |\n",
      "|    explained_variance   | 0.991596     |\n",
      "|    learning_rate        | 0.0003       |\n",
      "|    loss                 | 5.24         |\n",
      "|    n_updates            | 3910         |\n",
      "|    policy_gradient_loss | -0.00062     |\n",
      "|    value_loss           | 63.4         |\n",
      "------------------------------------------\n",
      "-----------------------------------------\n",
      "| rollout/                |             |\n",
      "|    ep_len_mean          | 81.8        |\n",
      "|    ep_rew_mean          | 514         |\n",
      "| time/                   |             |\n",
      "|    fps                  | 1333        |\n",
      "|    iterations           | 148         |\n",
      "|    time_elapsed         | 227         |\n",
      "|    total_timesteps      | 303104      |\n",
      "| train/                  |             |\n",
      "|    approx_kl            | 0.007549742 |\n",
      "|    clip_fraction        | 0.0505      |\n",
      "|    clip_range           | 0.2         |\n",
      "|    entropy_loss         | -0.147      |\n",
      "|    explained_variance   | 0.9870837   |\n",
      "|    learning_rate        | 0.0003      |\n",
      "|    loss                 | 36.4        |\n",
      "|    n_updates            | 3920        |\n",
      "|    policy_gradient_loss | -0.00245    |\n",
      "|    value_loss           | 102         |\n",
      "-----------------------------------------\n",
      "-----------------------------------------\n",
      "| rollout/                |             |\n",
      "|    ep_len_mean          | 83.5        |\n",
      "|    ep_rew_mean          | 516         |\n",
      "| time/                   |             |\n",
      "|    fps                  | 1333        |\n",
      "|    iterations           | 149         |\n",
      "|    time_elapsed         | 228         |\n",
      "|    total_timesteps      | 305152      |\n",
      "| train/                  |             |\n",
      "|    approx_kl            | 0.006064908 |\n",
      "|    clip_fraction        | 0.0488      |\n",
      "|    clip_range           | 0.2         |\n",
      "|    entropy_loss         | -0.123      |\n",
      "|    explained_variance   | 0.9936931   |\n",
      "|    learning_rate        | 0.0003      |\n",
      "|    loss                 | 79.5        |\n",
      "|    n_updates            | 3930        |\n",
      "|    policy_gradient_loss | 0.00016     |\n",
      "|    value_loss           | 51.6        |\n",
      "-----------------------------------------\n",
      "-----------------------------------------\n",
      "| rollout/                |             |\n",
      "|    ep_len_mean          | 86.7        |\n",
      "|    ep_rew_mean          | 517         |\n",
      "| time/                   |             |\n",
      "|    fps                  | 1333        |\n",
      "|    iterations           | 150         |\n",
      "|    time_elapsed         | 230         |\n",
      "|    total_timesteps      | 307200      |\n",
      "| train/                  |             |\n",
      "|    approx_kl            | 0.006120925 |\n",
      "|    clip_fraction        | 0.055       |\n",
      "|    clip_range           | 0.2         |\n",
      "|    entropy_loss         | -0.127      |\n",
      "|    explained_variance   | 0.98827225  |\n",
      "|    learning_rate        | 0.0003      |\n",
      "|    loss                 | 25.4        |\n",
      "|    n_updates            | 3940        |\n",
      "|    policy_gradient_loss | 0.00388     |\n",
      "|    value_loss           | 91.2        |\n",
      "-----------------------------------------\n",
      "-----------------------------------------\n",
      "| rollout/                |             |\n",
      "|    ep_len_mean          | 88.9        |\n",
      "|    ep_rew_mean          | 519         |\n",
      "| time/                   |             |\n",
      "|    fps                  | 1333        |\n",
      "|    iterations           | 151         |\n",
      "|    time_elapsed         | 231         |\n",
      "|    total_timesteps      | 309248      |\n",
      "| train/                  |             |\n",
      "|    approx_kl            | 0.007146661 |\n",
      "|    clip_fraction        | 0.0507      |\n",
      "|    clip_range           | 0.2         |\n",
      "|    entropy_loss         | -0.131      |\n",
      "|    explained_variance   | 0.9915371   |\n",
      "|    learning_rate        | 0.0003      |\n",
      "|    loss                 | 38.1        |\n",
      "|    n_updates            | 3950        |\n",
      "|    policy_gradient_loss | -0.00194    |\n",
      "|    value_loss           | 61.9        |\n",
      "-----------------------------------------\n",
      "-----------------------------------------\n",
      "| rollout/                |             |\n",
      "|    ep_len_mean          | 89.5        |\n",
      "|    ep_rew_mean          | 521         |\n",
      "| time/                   |             |\n",
      "|    fps                  | 1333        |\n",
      "|    iterations           | 152         |\n",
      "|    time_elapsed         | 233         |\n",
      "|    total_timesteps      | 311296      |\n",
      "| train/                  |             |\n",
      "|    approx_kl            | 0.003418119 |\n",
      "|    clip_fraction        | 0.0423      |\n",
      "|    clip_range           | 0.2         |\n",
      "|    entropy_loss         | -0.127      |\n",
      "|    explained_variance   | 0.9871932   |\n",
      "|    learning_rate        | 0.0003      |\n",
      "|    loss                 | 176         |\n",
      "|    n_updates            | 3960        |\n",
      "|    policy_gradient_loss | 0.00562     |\n",
      "|    value_loss           | 104         |\n",
      "-----------------------------------------\n",
      "-----------------------------------------\n",
      "| rollout/                |             |\n",
      "|    ep_len_mean          | 88          |\n",
      "|    ep_rew_mean          | 522         |\n",
      "| time/                   |             |\n",
      "|    fps                  | 1333        |\n",
      "|    iterations           | 153         |\n",
      "|    time_elapsed         | 234         |\n",
      "|    total_timesteps      | 313344      |\n",
      "| train/                  |             |\n",
      "|    approx_kl            | 0.007138255 |\n",
      "|    clip_fraction        | 0.0668      |\n",
      "|    clip_range           | 0.2         |\n",
      "|    entropy_loss         | -0.134      |\n",
      "|    explained_variance   | 0.9980481   |\n",
      "|    learning_rate        | 0.0003      |\n",
      "|    loss                 | 3.37        |\n",
      "|    n_updates            | 3970        |\n",
      "|    policy_gradient_loss | 0.0634      |\n",
      "|    value_loss           | 13.2        |\n",
      "-----------------------------------------\n",
      "------------------------------------------\n",
      "| rollout/                |              |\n",
      "|    ep_len_mean          | 86.9         |\n",
      "|    ep_rew_mean          | 521          |\n",
      "| time/                   |              |\n",
      "|    fps                  | 1333         |\n",
      "|    iterations           | 154          |\n",
      "|    time_elapsed         | 236          |\n",
      "|    total_timesteps      | 315392       |\n",
      "| train/                  |              |\n",
      "|    approx_kl            | 0.0060322676 |\n",
      "|    clip_fraction        | 0.0396       |\n",
      "|    clip_range           | 0.2          |\n",
      "|    entropy_loss         | -0.133       |\n",
      "|    explained_variance   | 0.9991768    |\n",
      "|    learning_rate        | 0.0003       |\n",
      "|    loss                 | 1.29         |\n",
      "|    n_updates            | 3980         |\n",
      "|    policy_gradient_loss | 0.000279     |\n",
      "|    value_loss           | 4.46         |\n",
      "------------------------------------------\n",
      "------------------------------------------\n",
      "| rollout/                |              |\n",
      "|    ep_len_mean          | 85.5         |\n",
      "|    ep_rew_mean          | 524          |\n",
      "| time/                   |              |\n",
      "|    fps                  | 1333         |\n",
      "|    iterations           | 155          |\n",
      "|    time_elapsed         | 238          |\n",
      "|    total_timesteps      | 317440       |\n",
      "| train/                  |              |\n",
      "|    approx_kl            | 0.0048700343 |\n",
      "|    clip_fraction        | 0.0365       |\n",
      "|    clip_range           | 0.2          |\n",
      "|    entropy_loss         | -0.132       |\n",
      "|    explained_variance   | 0.99394685   |\n",
      "|    learning_rate        | 0.0003       |\n",
      "|    loss                 | 6.51         |\n",
      "|    n_updates            | 3990         |\n",
      "|    policy_gradient_loss | -0.00412     |\n",
      "|    value_loss           | 37.3         |\n",
      "------------------------------------------\n",
      "-----------------------------------------\n",
      "| rollout/                |             |\n",
      "|    ep_len_mean          | 87.6        |\n",
      "|    ep_rew_mean          | 524         |\n",
      "| time/                   |             |\n",
      "|    fps                  | 1333        |\n",
      "|    iterations           | 156         |\n",
      "|    time_elapsed         | 239         |\n",
      "|    total_timesteps      | 319488      |\n",
      "| train/                  |             |\n",
      "|    approx_kl            | 0.003955573 |\n",
      "|    clip_fraction        | 0.0438      |\n",
      "|    clip_range           | 0.2         |\n",
      "|    entropy_loss         | -0.132      |\n",
      "|    explained_variance   | 0.99891627  |\n",
      "|    learning_rate        | 0.0003      |\n",
      "|    loss                 | 2.49        |\n",
      "|    n_updates            | 4000        |\n",
      "|    policy_gradient_loss | -0.00329    |\n",
      "|    value_loss           | 6.98        |\n",
      "-----------------------------------------\n",
      "-----------------------------------------\n",
      "| rollout/                |             |\n",
      "|    ep_len_mean          | 87.7        |\n",
      "|    ep_rew_mean          | 520         |\n",
      "| time/                   |             |\n",
      "|    fps                  | 1333        |\n",
      "|    iterations           | 157         |\n",
      "|    time_elapsed         | 241         |\n",
      "|    total_timesteps      | 321536      |\n",
      "| train/                  |             |\n",
      "|    approx_kl            | 0.008514646 |\n",
      "|    clip_fraction        | 0.0469      |\n",
      "|    clip_range           | 0.2         |\n",
      "|    entropy_loss         | -0.14       |\n",
      "|    explained_variance   | 0.99368674  |\n",
      "|    learning_rate        | 0.0003      |\n",
      "|    loss                 | 7.85        |\n",
      "|    n_updates            | 4010        |\n",
      "|    policy_gradient_loss | -0.004      |\n",
      "|    value_loss           | 45.5        |\n",
      "-----------------------------------------\n",
      "------------------------------------------\n",
      "| rollout/                |              |\n",
      "|    ep_len_mean          | 88.6         |\n",
      "|    ep_rew_mean          | 516          |\n",
      "| time/                   |              |\n",
      "|    fps                  | 1333         |\n",
      "|    iterations           | 158          |\n",
      "|    time_elapsed         | 242          |\n",
      "|    total_timesteps      | 323584       |\n",
      "| train/                  |              |\n",
      "|    approx_kl            | 0.0049106893 |\n",
      "|    clip_fraction        | 0.0282       |\n",
      "|    clip_range           | 0.2          |\n",
      "|    entropy_loss         | -0.123       |\n",
      "|    explained_variance   | 0.9807523    |\n",
      "|    learning_rate        | 0.0003       |\n",
      "|    loss                 | 71.8         |\n",
      "|    n_updates            | 4020         |\n",
      "|    policy_gradient_loss | -0.00186     |\n",
      "|    value_loss           | 168          |\n",
      "------------------------------------------\n",
      "-----------------------------------------\n",
      "| rollout/                |             |\n",
      "|    ep_len_mean          | 88.1        |\n",
      "|    ep_rew_mean          | 515         |\n",
      "| time/                   |             |\n",
      "|    fps                  | 1333        |\n",
      "|    iterations           | 159         |\n",
      "|    time_elapsed         | 244         |\n",
      "|    total_timesteps      | 325632      |\n",
      "| train/                  |             |\n",
      "|    approx_kl            | 0.006064187 |\n",
      "|    clip_fraction        | 0.0459      |\n",
      "|    clip_range           | 0.2         |\n",
      "|    entropy_loss         | -0.136      |\n",
      "|    explained_variance   | 0.98022044  |\n",
      "|    learning_rate        | 0.0003      |\n",
      "|    loss                 | 45.2        |\n",
      "|    n_updates            | 4030        |\n",
      "|    policy_gradient_loss | -0.00888    |\n",
      "|    value_loss           | 154         |\n",
      "-----------------------------------------\n",
      "------------------------------------------\n",
      "| rollout/                |              |\n",
      "|    ep_len_mean          | 87.2         |\n",
      "|    ep_rew_mean          | 516          |\n",
      "| time/                   |              |\n",
      "|    fps                  | 1333         |\n",
      "|    iterations           | 160          |\n",
      "|    time_elapsed         | 245          |\n",
      "|    total_timesteps      | 327680       |\n",
      "| train/                  |              |\n",
      "|    approx_kl            | 0.0023715906 |\n",
      "|    clip_fraction        | 0.0206       |\n",
      "|    clip_range           | 0.2          |\n",
      "|    entropy_loss         | -0.129       |\n",
      "|    explained_variance   | 0.9912404    |\n",
      "|    learning_rate        | 0.0003       |\n",
      "|    loss                 | 16.2         |\n",
      "|    n_updates            | 4040         |\n",
      "|    policy_gradient_loss | -0.000553    |\n",
      "|    value_loss           | 59           |\n",
      "------------------------------------------\n",
      "------------------------------------------\n",
      "| rollout/                |              |\n",
      "|    ep_len_mean          | 87.3         |\n",
      "|    ep_rew_mean          | 517          |\n",
      "| time/                   |              |\n",
      "|    fps                  | 1333         |\n",
      "|    iterations           | 161          |\n",
      "|    time_elapsed         | 247          |\n",
      "|    total_timesteps      | 329728       |\n",
      "| train/                  |              |\n",
      "|    approx_kl            | 0.0033676121 |\n",
      "|    clip_fraction        | 0.0359       |\n",
      "|    clip_range           | 0.2          |\n",
      "|    entropy_loss         | -0.131       |\n",
      "|    explained_variance   | 0.99330586   |\n",
      "|    learning_rate        | 0.0003       |\n",
      "|    loss                 | 3.23         |\n",
      "|    n_updates            | 4050         |\n",
      "|    policy_gradient_loss | -0.000497    |\n",
      "|    value_loss           | 52.5         |\n",
      "------------------------------------------\n",
      "-----------------------------------------\n",
      "| rollout/                |             |\n",
      "|    ep_len_mean          | 86.8        |\n",
      "|    ep_rew_mean          | 521         |\n",
      "| time/                   |             |\n",
      "|    fps                  | 1334        |\n",
      "|    iterations           | 162         |\n",
      "|    time_elapsed         | 248         |\n",
      "|    total_timesteps      | 331776      |\n",
      "| train/                  |             |\n",
      "|    approx_kl            | 0.004140839 |\n",
      "|    clip_fraction        | 0.0268      |\n",
      "|    clip_range           | 0.2         |\n",
      "|    entropy_loss         | -0.119      |\n",
      "|    explained_variance   | 0.9875318   |\n",
      "|    learning_rate        | 0.0003      |\n",
      "|    loss                 | 25.1        |\n",
      "|    n_updates            | 4060        |\n",
      "|    policy_gradient_loss | -0.00177    |\n",
      "|    value_loss           | 99          |\n",
      "-----------------------------------------\n",
      "-----------------------------------------\n",
      "| rollout/                |             |\n",
      "|    ep_len_mean          | 87.3        |\n",
      "|    ep_rew_mean          | 522         |\n",
      "| time/                   |             |\n",
      "|    fps                  | 1334        |\n",
      "|    iterations           | 163         |\n",
      "|    time_elapsed         | 250         |\n",
      "|    total_timesteps      | 333824      |\n",
      "| train/                  |             |\n",
      "|    approx_kl            | 0.004237384 |\n",
      "|    clip_fraction        | 0.0463      |\n",
      "|    clip_range           | 0.2         |\n",
      "|    entropy_loss         | -0.116      |\n",
      "|    explained_variance   | 0.9983857   |\n",
      "|    learning_rate        | 0.0003      |\n",
      "|    loss                 | 7.71        |\n",
      "|    n_updates            | 4070        |\n",
      "|    policy_gradient_loss | 0.000208    |\n",
      "|    value_loss           | 12.2        |\n",
      "-----------------------------------------\n",
      "-----------------------------------------\n",
      "| rollout/                |             |\n",
      "|    ep_len_mean          | 88          |\n",
      "|    ep_rew_mean          | 522         |\n",
      "| time/                   |             |\n",
      "|    fps                  | 1333        |\n",
      "|    iterations           | 164         |\n",
      "|    time_elapsed         | 251         |\n",
      "|    total_timesteps      | 335872      |\n",
      "| train/                  |             |\n",
      "|    approx_kl            | 0.005323885 |\n",
      "|    clip_fraction        | 0.0413      |\n",
      "|    clip_range           | 0.2         |\n",
      "|    entropy_loss         | -0.128      |\n",
      "|    explained_variance   | 0.99302995  |\n",
      "|    learning_rate        | 0.0003      |\n",
      "|    loss                 | 5.24        |\n",
      "|    n_updates            | 4080        |\n",
      "|    policy_gradient_loss | -0.000403   |\n",
      "|    value_loss           | 52.5        |\n",
      "-----------------------------------------\n",
      "-----------------------------------------\n",
      "| rollout/                |             |\n",
      "|    ep_len_mean          | 87.4        |\n",
      "|    ep_rew_mean          | 523         |\n",
      "| time/                   |             |\n",
      "|    fps                  | 1333        |\n",
      "|    iterations           | 165         |\n",
      "|    time_elapsed         | 253         |\n",
      "|    total_timesteps      | 337920      |\n",
      "| train/                  |             |\n",
      "|    approx_kl            | 0.015097681 |\n",
      "|    clip_fraction        | 0.0813      |\n",
      "|    clip_range           | 0.2         |\n",
      "|    entropy_loss         | -0.158      |\n",
      "|    explained_variance   | 0.99798614  |\n",
      "|    learning_rate        | 0.0003      |\n",
      "|    loss                 | 5.59        |\n",
      "|    n_updates            | 4090        |\n",
      "|    policy_gradient_loss | -0.000904   |\n",
      "|    value_loss           | 12.5        |\n",
      "-----------------------------------------\n",
      "-----------------------------------------\n",
      "| rollout/                |             |\n",
      "|    ep_len_mean          | 83.4        |\n",
      "|    ep_rew_mean          | 518         |\n",
      "| time/                   |             |\n",
      "|    fps                  | 1333        |\n",
      "|    iterations           | 166         |\n",
      "|    time_elapsed         | 254         |\n",
      "|    total_timesteps      | 339968      |\n",
      "| train/                  |             |\n",
      "|    approx_kl            | 0.009732748 |\n",
      "|    clip_fraction        | 0.0548      |\n",
      "|    clip_range           | 0.2         |\n",
      "|    entropy_loss         | -0.155      |\n",
      "|    explained_variance   | 0.9935376   |\n",
      "|    learning_rate        | 0.0003      |\n",
      "|    loss                 | 7.19        |\n",
      "|    n_updates            | 4100        |\n",
      "|    policy_gradient_loss | 0.000911    |\n",
      "|    value_loss           | 46.2        |\n",
      "-----------------------------------------\n",
      "-----------------------------------------\n",
      "| rollout/                |             |\n",
      "|    ep_len_mean          | 80.5        |\n",
      "|    ep_rew_mean          | 515         |\n",
      "| time/                   |             |\n",
      "|    fps                  | 1333        |\n",
      "|    iterations           | 167         |\n",
      "|    time_elapsed         | 256         |\n",
      "|    total_timesteps      | 342016      |\n",
      "| train/                  |             |\n",
      "|    approx_kl            | 0.006954428 |\n",
      "|    clip_fraction        | 0.0643      |\n",
      "|    clip_range           | 0.2         |\n",
      "|    entropy_loss         | -0.16       |\n",
      "|    explained_variance   | 0.9969127   |\n",
      "|    learning_rate        | 0.0003      |\n",
      "|    loss                 | 13.5        |\n",
      "|    n_updates            | 4110        |\n",
      "|    policy_gradient_loss | -0.000943   |\n",
      "|    value_loss           | 20.1        |\n",
      "-----------------------------------------\n",
      "----------------------------------------\n",
      "| rollout/                |            |\n",
      "|    ep_len_mean          | 78.4       |\n",
      "|    ep_rew_mean          | 511        |\n",
      "| time/                   |            |\n",
      "|    fps                  | 1334       |\n",
      "|    iterations           | 168        |\n",
      "|    time_elapsed         | 257        |\n",
      "|    total_timesteps      | 344064     |\n",
      "| train/                  |            |\n",
      "|    approx_kl            | 0.03061277 |\n",
      "|    clip_fraction        | 0.108      |\n",
      "|    clip_range           | 0.2        |\n",
      "|    entropy_loss         | -0.152     |\n",
      "|    explained_variance   | 0.9979828  |\n",
      "|    learning_rate        | 0.0003     |\n",
      "|    loss                 | 6.37       |\n",
      "|    n_updates            | 4120       |\n",
      "|    policy_gradient_loss | 0.0977     |\n",
      "|    value_loss           | 16.4       |\n",
      "----------------------------------------\n",
      "------------------------------------------\n",
      "| rollout/                |              |\n",
      "|    ep_len_mean          | 79.1         |\n",
      "|    ep_rew_mean          | 512          |\n",
      "| time/                   |              |\n",
      "|    fps                  | 1334         |\n",
      "|    iterations           | 169          |\n",
      "|    time_elapsed         | 259          |\n",
      "|    total_timesteps      | 346112       |\n",
      "| train/                  |              |\n",
      "|    approx_kl            | 0.0048945583 |\n",
      "|    clip_fraction        | 0.0321       |\n",
      "|    clip_range           | 0.2          |\n",
      "|    entropy_loss         | -0.141       |\n",
      "|    explained_variance   | 0.985696     |\n",
      "|    learning_rate        | 0.0003       |\n",
      "|    loss                 | 17.7         |\n",
      "|    n_updates            | 4130         |\n",
      "|    policy_gradient_loss | -0.00524     |\n",
      "|    value_loss           | 113          |\n",
      "------------------------------------------\n",
      "------------------------------------------\n",
      "| rollout/                |              |\n",
      "|    ep_len_mean          | 80.3         |\n",
      "|    ep_rew_mean          | 512          |\n",
      "| time/                   |              |\n",
      "|    fps                  | 1334         |\n",
      "|    iterations           | 170          |\n",
      "|    time_elapsed         | 260          |\n",
      "|    total_timesteps      | 348160       |\n",
      "| train/                  |              |\n",
      "|    approx_kl            | 0.0050784918 |\n",
      "|    clip_fraction        | 0.0367       |\n",
      "|    clip_range           | 0.2          |\n",
      "|    entropy_loss         | -0.145       |\n",
      "|    explained_variance   | 0.9936081    |\n",
      "|    learning_rate        | 0.0003       |\n",
      "|    loss                 | 5.82         |\n",
      "|    n_updates            | 4140         |\n",
      "|    policy_gradient_loss | -0.00268     |\n",
      "|    value_loss           | 49.3         |\n",
      "------------------------------------------\n",
      "------------------------------------------\n",
      "| rollout/                |              |\n",
      "|    ep_len_mean          | 82.8         |\n",
      "|    ep_rew_mean          | 513          |\n",
      "| time/                   |              |\n",
      "|    fps                  | 1334         |\n",
      "|    iterations           | 171          |\n",
      "|    time_elapsed         | 262          |\n",
      "|    total_timesteps      | 350208       |\n",
      "| train/                  |              |\n",
      "|    approx_kl            | 0.0030456763 |\n",
      "|    clip_fraction        | 0.0331       |\n",
      "|    clip_range           | 0.2          |\n",
      "|    entropy_loss         | -0.141       |\n",
      "|    explained_variance   | 0.9880358    |\n",
      "|    learning_rate        | 0.0003       |\n",
      "|    loss                 | 45.2         |\n",
      "|    n_updates            | 4150         |\n",
      "|    policy_gradient_loss | -0.00373     |\n",
      "|    value_loss           | 99           |\n",
      "------------------------------------------\n",
      "-----------------------------------------\n",
      "| rollout/                |             |\n",
      "|    ep_len_mean          | 78.4        |\n",
      "|    ep_rew_mean          | 505         |\n",
      "| time/                   |             |\n",
      "|    fps                  | 1334        |\n",
      "|    iterations           | 172         |\n",
      "|    time_elapsed         | 264         |\n",
      "|    total_timesteps      | 352256      |\n",
      "| train/                  |             |\n",
      "|    approx_kl            | 0.023945374 |\n",
      "|    clip_fraction        | 0.111       |\n",
      "|    clip_range           | 0.2         |\n",
      "|    entropy_loss         | -0.169      |\n",
      "|    explained_variance   | 0.9971368   |\n",
      "|    learning_rate        | 0.0003      |\n",
      "|    loss                 | 5.03        |\n",
      "|    n_updates            | 4160        |\n",
      "|    policy_gradient_loss | -0.0197     |\n",
      "|    value_loss           | 13.7        |\n",
      "-----------------------------------------\n",
      "------------------------------------------\n",
      "| rollout/                |              |\n",
      "|    ep_len_mean          | 73.7         |\n",
      "|    ep_rew_mean          | 500          |\n",
      "| time/                   |              |\n",
      "|    fps                  | 1334         |\n",
      "|    iterations           | 173          |\n",
      "|    time_elapsed         | 265          |\n",
      "|    total_timesteps      | 354304       |\n",
      "| train/                  |              |\n",
      "|    approx_kl            | 0.0032112277 |\n",
      "|    clip_fraction        | 0.0367       |\n",
      "|    clip_range           | 0.2          |\n",
      "|    entropy_loss         | -0.138       |\n",
      "|    explained_variance   | 0.9783495    |\n",
      "|    learning_rate        | 0.0003       |\n",
      "|    loss                 | 36.3         |\n",
      "|    n_updates            | 4170         |\n",
      "|    policy_gradient_loss | -0.00513     |\n",
      "|    value_loss           | 165          |\n",
      "------------------------------------------\n",
      "-----------------------------------------\n",
      "| rollout/                |             |\n",
      "|    ep_len_mean          | 70          |\n",
      "|    ep_rew_mean          | 497         |\n",
      "| time/                   |             |\n",
      "|    fps                  | 1334        |\n",
      "|    iterations           | 174         |\n",
      "|    time_elapsed         | 267         |\n",
      "|    total_timesteps      | 356352      |\n",
      "| train/                  |             |\n",
      "|    approx_kl            | 0.025441252 |\n",
      "|    clip_fraction        | 0.0477      |\n",
      "|    clip_range           | 0.2         |\n",
      "|    entropy_loss         | -0.124      |\n",
      "|    explained_variance   | 0.9934821   |\n",
      "|    learning_rate        | 0.0003      |\n",
      "|    loss                 | 13.7        |\n",
      "|    n_updates            | 4180        |\n",
      "|    policy_gradient_loss | 0.00262     |\n",
      "|    value_loss           | 48.9        |\n",
      "-----------------------------------------\n",
      "------------------------------------------\n",
      "| rollout/                |              |\n",
      "|    ep_len_mean          | 70.6         |\n",
      "|    ep_rew_mean          | 501          |\n",
      "| time/                   |              |\n",
      "|    fps                  | 1334         |\n",
      "|    iterations           | 175          |\n",
      "|    time_elapsed         | 268          |\n",
      "|    total_timesteps      | 358400       |\n",
      "| train/                  |              |\n",
      "|    approx_kl            | 0.0039293505 |\n",
      "|    clip_fraction        | 0.0439       |\n",
      "|    clip_range           | 0.2          |\n",
      "|    entropy_loss         | -0.141       |\n",
      "|    explained_variance   | 0.9900866    |\n",
      "|    learning_rate        | 0.0003       |\n",
      "|    loss                 | 33.4         |\n",
      "|    n_updates            | 4190         |\n",
      "|    policy_gradient_loss | -0.00358     |\n",
      "|    value_loss           | 79.2         |\n",
      "------------------------------------------\n",
      "------------------------------------------\n",
      "| rollout/                |              |\n",
      "|    ep_len_mean          | 72.7         |\n",
      "|    ep_rew_mean          | 503          |\n",
      "| time/                   |              |\n",
      "|    fps                  | 1334         |\n",
      "|    iterations           | 176          |\n",
      "|    time_elapsed         | 270          |\n",
      "|    total_timesteps      | 360448       |\n",
      "| train/                  |              |\n",
      "|    approx_kl            | 0.0027887775 |\n",
      "|    clip_fraction        | 0.0301       |\n",
      "|    clip_range           | 0.2          |\n",
      "|    entropy_loss         | -0.125       |\n",
      "|    explained_variance   | 0.99861234   |\n",
      "|    learning_rate        | 0.0003       |\n",
      "|    loss                 | 2.52         |\n",
      "|    n_updates            | 4200         |\n",
      "|    policy_gradient_loss | -4.8e-05     |\n",
      "|    value_loss           | 4.39         |\n",
      "------------------------------------------\n",
      "------------------------------------------\n",
      "| rollout/                |              |\n",
      "|    ep_len_mean          | 74.3         |\n",
      "|    ep_rew_mean          | 506          |\n",
      "| time/                   |              |\n",
      "|    fps                  | 1334         |\n",
      "|    iterations           | 177          |\n",
      "|    time_elapsed         | 271          |\n",
      "|    total_timesteps      | 362496       |\n",
      "| train/                  |              |\n",
      "|    approx_kl            | 0.0037242933 |\n",
      "|    clip_fraction        | 0.0377       |\n",
      "|    clip_range           | 0.2          |\n",
      "|    entropy_loss         | -0.125       |\n",
      "|    explained_variance   | 0.9886822    |\n",
      "|    learning_rate        | 0.0003       |\n",
      "|    loss                 | 144          |\n",
      "|    n_updates            | 4210         |\n",
      "|    policy_gradient_loss | -0.00306     |\n",
      "|    value_loss           | 90.8         |\n",
      "------------------------------------------\n",
      "------------------------------------------\n",
      "| rollout/                |              |\n",
      "|    ep_len_mean          | 74.1         |\n",
      "|    ep_rew_mean          | 506          |\n",
      "| time/                   |              |\n",
      "|    fps                  | 1334         |\n",
      "|    iterations           | 178          |\n",
      "|    time_elapsed         | 273          |\n",
      "|    total_timesteps      | 364544       |\n",
      "| train/                  |              |\n",
      "|    approx_kl            | 0.0037046096 |\n",
      "|    clip_fraction        | 0.0439       |\n",
      "|    clip_range           | 0.2          |\n",
      "|    entropy_loss         | -0.125       |\n",
      "|    explained_variance   | 0.99381787   |\n",
      "|    learning_rate        | 0.0003       |\n",
      "|    loss                 | 12.8         |\n",
      "|    n_updates            | 4220         |\n",
      "|    policy_gradient_loss | -0.00015     |\n",
      "|    value_loss           | 45.5         |\n",
      "------------------------------------------\n",
      "------------------------------------------\n",
      "| rollout/                |              |\n",
      "|    ep_len_mean          | 75.1         |\n",
      "|    ep_rew_mean          | 507          |\n",
      "| time/                   |              |\n",
      "|    fps                  | 1334         |\n",
      "|    iterations           | 179          |\n",
      "|    time_elapsed         | 274          |\n",
      "|    total_timesteps      | 366592       |\n",
      "| train/                  |              |\n",
      "|    approx_kl            | 0.0058661364 |\n",
      "|    clip_fraction        | 0.0409       |\n",
      "|    clip_range           | 0.2          |\n",
      "|    entropy_loss         | -0.123       |\n",
      "|    explained_variance   | 0.98960483   |\n",
      "|    learning_rate        | 0.0003       |\n",
      "|    loss                 | 16.4         |\n",
      "|    n_updates            | 4230         |\n",
      "|    policy_gradient_loss | -0.000812    |\n",
      "|    value_loss           | 79.3         |\n",
      "------------------------------------------\n",
      "-----------------------------------------\n",
      "| rollout/                |             |\n",
      "|    ep_len_mean          | 76.2        |\n",
      "|    ep_rew_mean          | 511         |\n",
      "| time/                   |             |\n",
      "|    fps                  | 1334        |\n",
      "|    iterations           | 180         |\n",
      "|    time_elapsed         | 276         |\n",
      "|    total_timesteps      | 368640      |\n",
      "| train/                  |             |\n",
      "|    approx_kl            | 0.003258565 |\n",
      "|    clip_fraction        | 0.0908      |\n",
      "|    clip_range           | 0.2         |\n",
      "|    entropy_loss         | -0.121      |\n",
      "|    explained_variance   | 0.99901384  |\n",
      "|    learning_rate        | 0.0003      |\n",
      "|    loss                 | 2.82        |\n",
      "|    n_updates            | 4240        |\n",
      "|    policy_gradient_loss | 0.0675      |\n",
      "|    value_loss           | 4.58        |\n",
      "-----------------------------------------\n",
      "------------------------------------------\n",
      "| rollout/                |              |\n",
      "|    ep_len_mean          | 78           |\n",
      "|    ep_rew_mean          | 514          |\n",
      "| time/                   |              |\n",
      "|    fps                  | 1334         |\n",
      "|    iterations           | 181          |\n",
      "|    time_elapsed         | 277          |\n",
      "|    total_timesteps      | 370688       |\n",
      "| train/                  |              |\n",
      "|    approx_kl            | 0.0044004377 |\n",
      "|    clip_fraction        | 0.0572       |\n",
      "|    clip_range           | 0.2          |\n",
      "|    entropy_loss         | -0.126       |\n",
      "|    explained_variance   | 0.99891925   |\n",
      "|    learning_rate        | 0.0003       |\n",
      "|    loss                 | 2.06         |\n",
      "|    n_updates            | 4250         |\n",
      "|    policy_gradient_loss | -0.00338     |\n",
      "|    value_loss           | 6.99         |\n",
      "------------------------------------------\n",
      "------------------------------------------\n",
      "| rollout/                |              |\n",
      "|    ep_len_mean          | 79.5         |\n",
      "|    ep_rew_mean          | 519          |\n",
      "| time/                   |              |\n",
      "|    fps                  | 1334         |\n",
      "|    iterations           | 182          |\n",
      "|    time_elapsed         | 279          |\n",
      "|    total_timesteps      | 372736       |\n",
      "| train/                  |              |\n",
      "|    approx_kl            | 0.0031868303 |\n",
      "|    clip_fraction        | 0.034        |\n",
      "|    clip_range           | 0.2          |\n",
      "|    entropy_loss         | -0.121       |\n",
      "|    explained_variance   | 0.9985095    |\n",
      "|    learning_rate        | 0.0003       |\n",
      "|    loss                 | 3.68         |\n",
      "|    n_updates            | 4260         |\n",
      "|    policy_gradient_loss | -0.0024      |\n",
      "|    value_loss           | 10.4         |\n",
      "------------------------------------------\n",
      "-----------------------------------------\n",
      "| rollout/                |             |\n",
      "|    ep_len_mean          | 83.6        |\n",
      "|    ep_rew_mean          | 523         |\n",
      "| time/                   |             |\n",
      "|    fps                  | 1334        |\n",
      "|    iterations           | 183         |\n",
      "|    time_elapsed         | 280         |\n",
      "|    total_timesteps      | 374784      |\n",
      "| train/                  |             |\n",
      "|    approx_kl            | 0.013532171 |\n",
      "|    clip_fraction        | 0.0594      |\n",
      "|    clip_range           | 0.2         |\n",
      "|    entropy_loss         | -0.117      |\n",
      "|    explained_variance   | 0.9992503   |\n",
      "|    learning_rate        | 0.0003      |\n",
      "|    loss                 | 0.978       |\n",
      "|    n_updates            | 4270        |\n",
      "|    policy_gradient_loss | -0.00252    |\n",
      "|    value_loss           | 4.77        |\n",
      "-----------------------------------------\n",
      "------------------------------------------\n",
      "| rollout/                |              |\n",
      "|    ep_len_mean          | 87.5         |\n",
      "|    ep_rew_mean          | 525          |\n",
      "| time/                   |              |\n",
      "|    fps                  | 1334         |\n",
      "|    iterations           | 184          |\n",
      "|    time_elapsed         | 282          |\n",
      "|    total_timesteps      | 376832       |\n",
      "| train/                  |              |\n",
      "|    approx_kl            | 0.0061612874 |\n",
      "|    clip_fraction        | 0.0488       |\n",
      "|    clip_range           | 0.2          |\n",
      "|    entropy_loss         | -0.126       |\n",
      "|    explained_variance   | 0.99482733   |\n",
      "|    learning_rate        | 0.0003       |\n",
      "|    loss                 | 16.4         |\n",
      "|    n_updates            | 4280         |\n",
      "|    policy_gradient_loss | -0.00448     |\n",
      "|    value_loss           | 26.3         |\n",
      "------------------------------------------\n",
      "-----------------------------------------\n",
      "| rollout/                |             |\n",
      "|    ep_len_mean          | 88.4        |\n",
      "|    ep_rew_mean          | 526         |\n",
      "| time/                   |             |\n",
      "|    fps                  | 1334        |\n",
      "|    iterations           | 185         |\n",
      "|    time_elapsed         | 283         |\n",
      "|    total_timesteps      | 378880      |\n",
      "| train/                  |             |\n",
      "|    approx_kl            | 0.011584597 |\n",
      "|    clip_fraction        | 0.058       |\n",
      "|    clip_range           | 0.2         |\n",
      "|    entropy_loss         | -0.133      |\n",
      "|    explained_variance   | 0.99398714  |\n",
      "|    learning_rate        | 0.0003      |\n",
      "|    loss                 | 21.6        |\n",
      "|    n_updates            | 4290        |\n",
      "|    policy_gradient_loss | -0.00503    |\n",
      "|    value_loss           | 48.4        |\n",
      "-----------------------------------------\n",
      "-----------------------------------------\n",
      "| rollout/                |             |\n",
      "|    ep_len_mean          | 90.1        |\n",
      "|    ep_rew_mean          | 527         |\n",
      "| time/                   |             |\n",
      "|    fps                  | 1334        |\n",
      "|    iterations           | 186         |\n",
      "|    time_elapsed         | 285         |\n",
      "|    total_timesteps      | 380928      |\n",
      "| train/                  |             |\n",
      "|    approx_kl            | 0.003198756 |\n",
      "|    clip_fraction        | 0.0358      |\n",
      "|    clip_range           | 0.2         |\n",
      "|    entropy_loss         | -0.124      |\n",
      "|    explained_variance   | 0.9986673   |\n",
      "|    learning_rate        | 0.0003      |\n",
      "|    loss                 | 3.6         |\n",
      "|    n_updates            | 4300        |\n",
      "|    policy_gradient_loss | 0.00206     |\n",
      "|    value_loss           | 9.76        |\n",
      "-----------------------------------------\n",
      "------------------------------------------\n",
      "| rollout/                |              |\n",
      "|    ep_len_mean          | 87.3         |\n",
      "|    ep_rew_mean          | 524          |\n",
      "| time/                   |              |\n",
      "|    fps                  | 1334         |\n",
      "|    iterations           | 187          |\n",
      "|    time_elapsed         | 286          |\n",
      "|    total_timesteps      | 382976       |\n",
      "| train/                  |              |\n",
      "|    approx_kl            | 0.0030839446 |\n",
      "|    clip_fraction        | 0.0402       |\n",
      "|    clip_range           | 0.2          |\n",
      "|    entropy_loss         | -0.12        |\n",
      "|    explained_variance   | 0.99395907   |\n",
      "|    learning_rate        | 0.0003       |\n",
      "|    loss                 | 77.8         |\n",
      "|    n_updates            | 4310         |\n",
      "|    policy_gradient_loss | 0.000321     |\n",
      "|    value_loss           | 51           |\n",
      "------------------------------------------\n",
      "-----------------------------------------\n",
      "| rollout/                |             |\n",
      "|    ep_len_mean          | 84.1        |\n",
      "|    ep_rew_mean          | 523         |\n",
      "| time/                   |             |\n",
      "|    fps                  | 1334        |\n",
      "|    iterations           | 188         |\n",
      "|    time_elapsed         | 288         |\n",
      "|    total_timesteps      | 385024      |\n",
      "| train/                  |             |\n",
      "|    approx_kl            | 0.009588523 |\n",
      "|    clip_fraction        | 0.055       |\n",
      "|    clip_range           | 0.2         |\n",
      "|    entropy_loss         | -0.112      |\n",
      "|    explained_variance   | 0.9993597   |\n",
      "|    learning_rate        | 0.0003      |\n",
      "|    loss                 | 2.12        |\n",
      "|    n_updates            | 4320        |\n",
      "|    policy_gradient_loss | 0.00325     |\n",
      "|    value_loss           | 4.3         |\n",
      "-----------------------------------------\n",
      "------------------------------------------\n",
      "| rollout/                |              |\n",
      "|    ep_len_mean          | 83.9         |\n",
      "|    ep_rew_mean          | 523          |\n",
      "| time/                   |              |\n",
      "|    fps                  | 1334         |\n",
      "|    iterations           | 189          |\n",
      "|    time_elapsed         | 290          |\n",
      "|    total_timesteps      | 387072       |\n",
      "| train/                  |              |\n",
      "|    approx_kl            | 0.0067748157 |\n",
      "|    clip_fraction        | 0.0408       |\n",
      "|    clip_range           | 0.2          |\n",
      "|    entropy_loss         | -0.118       |\n",
      "|    explained_variance   | 0.99902153   |\n",
      "|    learning_rate        | 0.0003       |\n",
      "|    loss                 | 2.46         |\n",
      "|    n_updates            | 4330         |\n",
      "|    policy_gradient_loss | -0.00162     |\n",
      "|    value_loss           | 7.5          |\n",
      "------------------------------------------\n",
      "-----------------------------------------\n",
      "| rollout/                |             |\n",
      "|    ep_len_mean          | 83.8        |\n",
      "|    ep_rew_mean          | 522         |\n",
      "| time/                   |             |\n",
      "|    fps                  | 1334        |\n",
      "|    iterations           | 190         |\n",
      "|    time_elapsed         | 291         |\n",
      "|    total_timesteps      | 389120      |\n",
      "| train/                  |             |\n",
      "|    approx_kl            | 0.004181139 |\n",
      "|    clip_fraction        | 0.0357      |\n",
      "|    clip_range           | 0.2         |\n",
      "|    entropy_loss         | -0.111      |\n",
      "|    explained_variance   | 0.99830765  |\n",
      "|    learning_rate        | 0.0003      |\n",
      "|    loss                 | 6.01        |\n",
      "|    n_updates            | 4340        |\n",
      "|    policy_gradient_loss | 0.000667    |\n",
      "|    value_loss           | 12          |\n",
      "-----------------------------------------\n",
      "------------------------------------------\n",
      "| rollout/                |              |\n",
      "|    ep_len_mean          | 83.6         |\n",
      "|    ep_rew_mean          | 521          |\n",
      "| time/                   |              |\n",
      "|    fps                  | 1334         |\n",
      "|    iterations           | 191          |\n",
      "|    time_elapsed         | 293          |\n",
      "|    total_timesteps      | 391168       |\n",
      "| train/                  |              |\n",
      "|    approx_kl            | 0.0144175645 |\n",
      "|    clip_fraction        | 0.0942       |\n",
      "|    clip_range           | 0.2          |\n",
      "|    entropy_loss         | -0.125       |\n",
      "|    explained_variance   | 0.9883279    |\n",
      "|    learning_rate        | 0.0003       |\n",
      "|    loss                 | 118          |\n",
      "|    n_updates            | 4350         |\n",
      "|    policy_gradient_loss | 0.0113       |\n",
      "|    value_loss           | 87           |\n",
      "------------------------------------------\n",
      "----------------------------------------\n",
      "| rollout/                |            |\n",
      "|    ep_len_mean          | 85.1       |\n",
      "|    ep_rew_mean          | 521        |\n",
      "| time/                   |            |\n",
      "|    fps                  | 1334       |\n",
      "|    iterations           | 192        |\n",
      "|    time_elapsed         | 294        |\n",
      "|    total_timesteps      | 393216     |\n",
      "| train/                  |            |\n",
      "|    approx_kl            | 0.00521871 |\n",
      "|    clip_fraction        | 0.04       |\n",
      "|    clip_range           | 0.2        |\n",
      "|    entropy_loss         | -0.128     |\n",
      "|    explained_variance   | 0.9939601  |\n",
      "|    learning_rate        | 0.0003     |\n",
      "|    loss                 | 6.56       |\n",
      "|    n_updates            | 4360       |\n",
      "|    policy_gradient_loss | -0.0011    |\n",
      "|    value_loss           | 46         |\n",
      "----------------------------------------\n",
      "------------------------------------------\n",
      "| rollout/                |              |\n",
      "|    ep_len_mean          | 87.3         |\n",
      "|    ep_rew_mean          | 523          |\n",
      "| time/                   |              |\n",
      "|    fps                  | 1334         |\n",
      "|    iterations           | 193          |\n",
      "|    time_elapsed         | 296          |\n",
      "|    total_timesteps      | 395264       |\n",
      "| train/                  |              |\n",
      "|    approx_kl            | 0.0081786215 |\n",
      "|    clip_fraction        | 0.0412       |\n",
      "|    clip_range           | 0.2          |\n",
      "|    entropy_loss         | -0.108       |\n",
      "|    explained_variance   | 0.99340403   |\n",
      "|    learning_rate        | 0.0003       |\n",
      "|    loss                 | 6.68         |\n",
      "|    n_updates            | 4370         |\n",
      "|    policy_gradient_loss | -0.000255    |\n",
      "|    value_loss           | 52.9         |\n",
      "------------------------------------------\n",
      "----------------------------------------\n",
      "| rollout/                |            |\n",
      "|    ep_len_mean          | 88.3       |\n",
      "|    ep_rew_mean          | 525        |\n",
      "| time/                   |            |\n",
      "|    fps                  | 1334       |\n",
      "|    iterations           | 194        |\n",
      "|    time_elapsed         | 297        |\n",
      "|    total_timesteps      | 397312     |\n",
      "| train/                  |            |\n",
      "|    approx_kl            | 0.00496374 |\n",
      "|    clip_fraction        | 0.0549     |\n",
      "|    clip_range           | 0.2        |\n",
      "|    entropy_loss         | -0.115     |\n",
      "|    explained_variance   | 0.99812907 |\n",
      "|    learning_rate        | 0.0003     |\n",
      "|    loss                 | 9.68       |\n",
      "|    n_updates            | 4380       |\n",
      "|    policy_gradient_loss | -0.000619  |\n",
      "|    value_loss           | 13         |\n",
      "----------------------------------------\n",
      "Saving model checkpoint to test_4_ppo_checkpoints/rew2_1000k/model_900k_steps\n",
      "----------------------------------------\n",
      "| rollout/                |            |\n",
      "|    ep_len_mean          | 74.6       |\n",
      "|    ep_rew_mean          | 494        |\n",
      "| time/                   |            |\n",
      "|    fps                  | 1334       |\n",
      "|    iterations           | 195        |\n",
      "|    time_elapsed         | 299        |\n",
      "|    total_timesteps      | 399360     |\n",
      "| train/                  |            |\n",
      "|    approx_kl            | 1.3909559  |\n",
      "|    clip_fraction        | 0.229      |\n",
      "|    clip_range           | 0.2        |\n",
      "|    entropy_loss         | -0.114     |\n",
      "|    explained_variance   | 0.99885255 |\n",
      "|    learning_rate        | 0.0003     |\n",
      "|    loss                 | 1.79       |\n",
      "|    n_updates            | 4390       |\n",
      "|    policy_gradient_loss | 0.313      |\n",
      "|    value_loss           | 6.51       |\n",
      "----------------------------------------\n",
      "------------------------------------------\n",
      "| rollout/                |              |\n",
      "|    ep_len_mean          | 57.7         |\n",
      "|    ep_rew_mean          | 459          |\n",
      "| time/                   |              |\n",
      "|    fps                  | 1334         |\n",
      "|    iterations           | 196          |\n",
      "|    time_elapsed         | 300          |\n",
      "|    total_timesteps      | 401408       |\n",
      "| train/                  |              |\n",
      "|    approx_kl            | 0.0015586442 |\n",
      "|    clip_fraction        | 0.0148       |\n",
      "|    clip_range           | 0.2          |\n",
      "|    entropy_loss         | -0.124       |\n",
      "|    explained_variance   | 0.91890657   |\n",
      "|    learning_rate        | 0.0003       |\n",
      "|    loss                 | 43.2         |\n",
      "|    n_updates            | 4400         |\n",
      "|    policy_gradient_loss | -0.00151     |\n",
      "|    value_loss           | 170          |\n",
      "------------------------------------------\n",
      "------------------------------------------\n",
      "| rollout/                |              |\n",
      "|    ep_len_mean          | 50.6         |\n",
      "|    ep_rew_mean          | 446          |\n",
      "| time/                   |              |\n",
      "|    fps                  | 1334         |\n",
      "|    iterations           | 197          |\n",
      "|    time_elapsed         | 302          |\n",
      "|    total_timesteps      | 403456       |\n",
      "| train/                  |              |\n",
      "|    approx_kl            | 0.0046656197 |\n",
      "|    clip_fraction        | 0.0397       |\n",
      "|    clip_range           | 0.2          |\n",
      "|    entropy_loss         | -0.111       |\n",
      "|    explained_variance   | 0.97957563   |\n",
      "|    learning_rate        | 0.0003       |\n",
      "|    loss                 | 43.4         |\n",
      "|    n_updates            | 4410         |\n",
      "|    policy_gradient_loss | -0.00649     |\n",
      "|    value_loss           | 76.3         |\n",
      "------------------------------------------\n",
      "-----------------------------------------\n",
      "| rollout/                |             |\n",
      "|    ep_len_mean          | 51.4        |\n",
      "|    ep_rew_mean          | 454         |\n",
      "| time/                   |             |\n",
      "|    fps                  | 1334        |\n",
      "|    iterations           | 198         |\n",
      "|    time_elapsed         | 303         |\n",
      "|    total_timesteps      | 405504      |\n",
      "| train/                  |             |\n",
      "|    approx_kl            | 0.004704781 |\n",
      "|    clip_fraction        | 0.0405      |\n",
      "|    clip_range           | 0.2         |\n",
      "|    entropy_loss         | -0.102      |\n",
      "|    explained_variance   | 0.9818002   |\n",
      "|    learning_rate        | 0.0003      |\n",
      "|    loss                 | 25.8        |\n",
      "|    n_updates            | 4420        |\n",
      "|    policy_gradient_loss | -0.00581    |\n",
      "|    value_loss           | 97.1        |\n",
      "-----------------------------------------\n",
      "------------------------------------------\n",
      "| rollout/                |              |\n",
      "|    ep_len_mean          | 51.9         |\n",
      "|    ep_rew_mean          | 456          |\n",
      "| time/                   |              |\n",
      "|    fps                  | 1334         |\n",
      "|    iterations           | 199          |\n",
      "|    time_elapsed         | 305          |\n",
      "|    total_timesteps      | 407552       |\n",
      "| train/                  |              |\n",
      "|    approx_kl            | 0.0030445466 |\n",
      "|    clip_fraction        | 0.0424       |\n",
      "|    clip_range           | 0.2          |\n",
      "|    entropy_loss         | -0.0906      |\n",
      "|    explained_variance   | 0.98784983   |\n",
      "|    learning_rate        | 0.0003       |\n",
      "|    loss                 | 38.9         |\n",
      "|    n_updates            | 4430         |\n",
      "|    policy_gradient_loss | -0.00678     |\n",
      "|    value_loss           | 76.2         |\n",
      "------------------------------------------\n",
      "------------------------------------------\n",
      "| rollout/                |              |\n",
      "|    ep_len_mean          | 53.3         |\n",
      "|    ep_rew_mean          | 463          |\n",
      "| time/                   |              |\n",
      "|    fps                  | 1334         |\n",
      "|    iterations           | 200          |\n",
      "|    time_elapsed         | 306          |\n",
      "|    total_timesteps      | 409600       |\n",
      "| train/                  |              |\n",
      "|    approx_kl            | 0.0086182505 |\n",
      "|    clip_fraction        | 0.0453       |\n",
      "|    clip_range           | 0.2          |\n",
      "|    entropy_loss         | -0.0923      |\n",
      "|    explained_variance   | 0.98946255   |\n",
      "|    learning_rate        | 0.0003       |\n",
      "|    loss                 | 14.7         |\n",
      "|    n_updates            | 4440         |\n",
      "|    policy_gradient_loss | -0.00502     |\n",
      "|    value_loss           | 65.6         |\n",
      "------------------------------------------\n",
      "-----------------------------------------\n",
      "| rollout/                |             |\n",
      "|    ep_len_mean          | 55.6        |\n",
      "|    ep_rew_mean          | 472         |\n",
      "| time/                   |             |\n",
      "|    fps                  | 1334        |\n",
      "|    iterations           | 201         |\n",
      "|    time_elapsed         | 308         |\n",
      "|    total_timesteps      | 411648      |\n",
      "| train/                  |             |\n",
      "|    approx_kl            | 0.012848028 |\n",
      "|    clip_fraction        | 0.0384      |\n",
      "|    clip_range           | 0.2         |\n",
      "|    entropy_loss         | -0.0907     |\n",
      "|    explained_variance   | 0.99497867  |\n",
      "|    learning_rate        | 0.0003      |\n",
      "|    loss                 | 12.1        |\n",
      "|    n_updates            | 4450        |\n",
      "|    policy_gradient_loss | -0.00425    |\n",
      "|    value_loss           | 29.5        |\n",
      "-----------------------------------------\n",
      "-----------------------------------------\n",
      "| rollout/                |             |\n",
      "|    ep_len_mean          | 58          |\n",
      "|    ep_rew_mean          | 479         |\n",
      "| time/                   |             |\n",
      "|    fps                  | 1334        |\n",
      "|    iterations           | 202         |\n",
      "|    time_elapsed         | 309         |\n",
      "|    total_timesteps      | 413696      |\n",
      "| train/                  |             |\n",
      "|    approx_kl            | 0.011728099 |\n",
      "|    clip_fraction        | 0.0372      |\n",
      "|    clip_range           | 0.2         |\n",
      "|    entropy_loss         | -0.0922     |\n",
      "|    explained_variance   | 0.99197555  |\n",
      "|    learning_rate        | 0.0003      |\n",
      "|    loss                 | 18.8        |\n",
      "|    n_updates            | 4460        |\n",
      "|    policy_gradient_loss | -0.0034     |\n",
      "|    value_loss           | 29.7        |\n",
      "-----------------------------------------\n",
      "-----------------------------------------\n",
      "| rollout/                |             |\n",
      "|    ep_len_mean          | 60.8        |\n",
      "|    ep_rew_mean          | 486         |\n",
      "| time/                   |             |\n",
      "|    fps                  | 1334        |\n",
      "|    iterations           | 203         |\n",
      "|    time_elapsed         | 311         |\n",
      "|    total_timesteps      | 415744      |\n",
      "| train/                  |             |\n",
      "|    approx_kl            | 0.020805316 |\n",
      "|    clip_fraction        | 0.0382      |\n",
      "|    clip_range           | 0.2         |\n",
      "|    entropy_loss         | -0.105      |\n",
      "|    explained_variance   | 0.99493766  |\n",
      "|    learning_rate        | 0.0003      |\n",
      "|    loss                 | 13.1        |\n",
      "|    n_updates            | 4470        |\n",
      "|    policy_gradient_loss | -0.00597    |\n",
      "|    value_loss           | 24          |\n",
      "-----------------------------------------\n",
      "-----------------------------------------\n",
      "| rollout/                |             |\n",
      "|    ep_len_mean          | 62.7        |\n",
      "|    ep_rew_mean          | 490         |\n",
      "| time/                   |             |\n",
      "|    fps                  | 1334        |\n",
      "|    iterations           | 204         |\n",
      "|    time_elapsed         | 312         |\n",
      "|    total_timesteps      | 417792      |\n",
      "| train/                  |             |\n",
      "|    approx_kl            | 0.009023609 |\n",
      "|    clip_fraction        | 0.0488      |\n",
      "|    clip_range           | 0.2         |\n",
      "|    entropy_loss         | -0.121      |\n",
      "|    explained_variance   | 0.9974525   |\n",
      "|    learning_rate        | 0.0003      |\n",
      "|    loss                 | 6.75        |\n",
      "|    n_updates            | 4480        |\n",
      "|    policy_gradient_loss | -0.00309    |\n",
      "|    value_loss           | 11.6        |\n",
      "-----------------------------------------\n",
      "----------------------------------------\n",
      "| rollout/                |            |\n",
      "|    ep_len_mean          | 67.4       |\n",
      "|    ep_rew_mean          | 499        |\n",
      "| time/                   |            |\n",
      "|    fps                  | 1334       |\n",
      "|    iterations           | 205        |\n",
      "|    time_elapsed         | 314        |\n",
      "|    total_timesteps      | 419840     |\n",
      "| train/                  |            |\n",
      "|    approx_kl            | 0.01766301 |\n",
      "|    clip_fraction        | 0.0555     |\n",
      "|    clip_range           | 0.2        |\n",
      "|    entropy_loss         | -0.114     |\n",
      "|    explained_variance   | 0.9991289  |\n",
      "|    learning_rate        | 0.0003     |\n",
      "|    loss                 | 1.42       |\n",
      "|    n_updates            | 4490       |\n",
      "|    policy_gradient_loss | 0.0017     |\n",
      "|    value_loss           | 3.99       |\n",
      "----------------------------------------\n",
      "-----------------------------------------\n",
      "| rollout/                |             |\n",
      "|    ep_len_mean          | 74.8        |\n",
      "|    ep_rew_mean          | 504         |\n",
      "| time/                   |             |\n",
      "|    fps                  | 1334        |\n",
      "|    iterations           | 206         |\n",
      "|    time_elapsed         | 316         |\n",
      "|    total_timesteps      | 421888      |\n",
      "| train/                  |             |\n",
      "|    approx_kl            | 0.023843743 |\n",
      "|    clip_fraction        | 0.0793      |\n",
      "|    clip_range           | 0.2         |\n",
      "|    entropy_loss         | -0.127      |\n",
      "|    explained_variance   | 0.9993366   |\n",
      "|    learning_rate        | 0.0003      |\n",
      "|    loss                 | 2.16        |\n",
      "|    n_updates            | 4500        |\n",
      "|    policy_gradient_loss | -0.00332    |\n",
      "|    value_loss           | 4.84        |\n",
      "-----------------------------------------\n",
      "-----------------------------------------\n",
      "| rollout/                |             |\n",
      "|    ep_len_mean          | 80.5        |\n",
      "|    ep_rew_mean          | 509         |\n",
      "| time/                   |             |\n",
      "|    fps                  | 1334        |\n",
      "|    iterations           | 207         |\n",
      "|    time_elapsed         | 317         |\n",
      "|    total_timesteps      | 423936      |\n",
      "| train/                  |             |\n",
      "|    approx_kl            | 0.008033311 |\n",
      "|    clip_fraction        | 0.0707      |\n",
      "|    clip_range           | 0.2         |\n",
      "|    entropy_loss         | -0.156      |\n",
      "|    explained_variance   | 0.9808888   |\n",
      "|    learning_rate        | 0.0003      |\n",
      "|    loss                 | 20.9        |\n",
      "|    n_updates            | 4510        |\n",
      "|    policy_gradient_loss | -0.0109     |\n",
      "|    value_loss           | 129         |\n",
      "-----------------------------------------\n",
      "-----------------------------------------\n",
      "| rollout/                |             |\n",
      "|    ep_len_mean          | 84.9        |\n",
      "|    ep_rew_mean          | 516         |\n",
      "| time/                   |             |\n",
      "|    fps                  | 1334        |\n",
      "|    iterations           | 208         |\n",
      "|    time_elapsed         | 319         |\n",
      "|    total_timesteps      | 425984      |\n",
      "| train/                  |             |\n",
      "|    approx_kl            | 0.006215958 |\n",
      "|    clip_fraction        | 0.0521      |\n",
      "|    clip_range           | 0.2         |\n",
      "|    entropy_loss         | -0.133      |\n",
      "|    explained_variance   | 0.9864975   |\n",
      "|    learning_rate        | 0.0003      |\n",
      "|    loss                 | 65.1        |\n",
      "|    n_updates            | 4520        |\n",
      "|    policy_gradient_loss | -0.00221    |\n",
      "|    value_loss           | 106         |\n",
      "-----------------------------------------\n",
      "-----------------------------------------\n",
      "| rollout/                |             |\n",
      "|    ep_len_mean          | 84.9        |\n",
      "|    ep_rew_mean          | 516         |\n",
      "| time/                   |             |\n",
      "|    fps                  | 1335        |\n",
      "|    iterations           | 209         |\n",
      "|    time_elapsed         | 320         |\n",
      "|    total_timesteps      | 428032      |\n",
      "| train/                  |             |\n",
      "|    approx_kl            | 0.015408492 |\n",
      "|    clip_fraction        | 0.0349      |\n",
      "|    clip_range           | 0.2         |\n",
      "|    entropy_loss         | -0.131      |\n",
      "|    explained_variance   | 0.9968785   |\n",
      "|    learning_rate        | 0.0003      |\n",
      "|    loss                 | 3.66        |\n",
      "|    n_updates            | 4530        |\n",
      "|    policy_gradient_loss | 0.000135    |\n",
      "|    value_loss           | 8.13        |\n",
      "-----------------------------------------\n",
      "------------------------------------------\n",
      "| rollout/                |              |\n",
      "|    ep_len_mean          | 81.9         |\n",
      "|    ep_rew_mean          | 519          |\n",
      "| time/                   |              |\n",
      "|    fps                  | 1335         |\n",
      "|    iterations           | 210          |\n",
      "|    time_elapsed         | 322          |\n",
      "|    total_timesteps      | 430080       |\n",
      "| train/                  |              |\n",
      "|    approx_kl            | 0.0055768024 |\n",
      "|    clip_fraction        | 0.0512       |\n",
      "|    clip_range           | 0.2          |\n",
      "|    entropy_loss         | -0.125       |\n",
      "|    explained_variance   | 0.999049     |\n",
      "|    learning_rate        | 0.0003       |\n",
      "|    loss                 | 2.16         |\n",
      "|    n_updates            | 4540         |\n",
      "|    policy_gradient_loss | 0.00615      |\n",
      "|    value_loss           | 3.84         |\n",
      "------------------------------------------\n",
      "------------------------------------------\n",
      "| rollout/                |              |\n",
      "|    ep_len_mean          | 82.3         |\n",
      "|    ep_rew_mean          | 520          |\n",
      "| time/                   |              |\n",
      "|    fps                  | 1335         |\n",
      "|    iterations           | 211          |\n",
      "|    time_elapsed         | 323          |\n",
      "|    total_timesteps      | 432128       |\n",
      "| train/                  |              |\n",
      "|    approx_kl            | 0.0058810897 |\n",
      "|    clip_fraction        | 0.0533       |\n",
      "|    clip_range           | 0.2          |\n",
      "|    entropy_loss         | -0.113       |\n",
      "|    explained_variance   | 0.9990824    |\n",
      "|    learning_rate        | 0.0003       |\n",
      "|    loss                 | 3.1          |\n",
      "|    n_updates            | 4550         |\n",
      "|    policy_gradient_loss | -0.00362     |\n",
      "|    value_loss           | 5.12         |\n",
      "------------------------------------------\n",
      "------------------------------------------\n",
      "| rollout/                |              |\n",
      "|    ep_len_mean          | 83.5         |\n",
      "|    ep_rew_mean          | 522          |\n",
      "| time/                   |              |\n",
      "|    fps                  | 1335         |\n",
      "|    iterations           | 212          |\n",
      "|    time_elapsed         | 325          |\n",
      "|    total_timesteps      | 434176       |\n",
      "| train/                  |              |\n",
      "|    approx_kl            | 0.0034157191 |\n",
      "|    clip_fraction        | 0.0377       |\n",
      "|    clip_range           | 0.2          |\n",
      "|    entropy_loss         | -0.113       |\n",
      "|    explained_variance   | 0.9878746    |\n",
      "|    learning_rate        | 0.0003       |\n",
      "|    loss                 | 60.4         |\n",
      "|    n_updates            | 4560         |\n",
      "|    policy_gradient_loss | 0.000455     |\n",
      "|    value_loss           | 76.8         |\n",
      "------------------------------------------\n",
      "-----------------------------------------\n",
      "| rollout/                |             |\n",
      "|    ep_len_mean          | 87          |\n",
      "|    ep_rew_mean          | 524         |\n",
      "| time/                   |             |\n",
      "|    fps                  | 1335        |\n",
      "|    iterations           | 213         |\n",
      "|    time_elapsed         | 326         |\n",
      "|    total_timesteps      | 436224      |\n",
      "| train/                  |             |\n",
      "|    approx_kl            | 0.010570124 |\n",
      "|    clip_fraction        | 0.0458      |\n",
      "|    clip_range           | 0.2         |\n",
      "|    entropy_loss         | -0.104      |\n",
      "|    explained_variance   | 0.9990314   |\n",
      "|    learning_rate        | 0.0003      |\n",
      "|    loss                 | 1.11        |\n",
      "|    n_updates            | 4570        |\n",
      "|    policy_gradient_loss | -0.00108    |\n",
      "|    value_loss           | 5.47        |\n",
      "-----------------------------------------\n",
      "-----------------------------------------\n",
      "| rollout/                |             |\n",
      "|    ep_len_mean          | 90.9        |\n",
      "|    ep_rew_mean          | 527         |\n",
      "| time/                   |             |\n",
      "|    fps                  | 1335        |\n",
      "|    iterations           | 214         |\n",
      "|    time_elapsed         | 328         |\n",
      "|    total_timesteps      | 438272      |\n",
      "| train/                  |             |\n",
      "|    approx_kl            | 0.004216631 |\n",
      "|    clip_fraction        | 0.0408      |\n",
      "|    clip_range           | 0.2         |\n",
      "|    entropy_loss         | -0.101      |\n",
      "|    explained_variance   | 0.9907569   |\n",
      "|    learning_rate        | 0.0003      |\n",
      "|    loss                 | 6.89        |\n",
      "|    n_updates            | 4580        |\n",
      "|    policy_gradient_loss | 0.0027      |\n",
      "|    value_loss           | 72.5        |\n",
      "-----------------------------------------\n",
      "----------------------------------------\n",
      "| rollout/                |            |\n",
      "|    ep_len_mean          | 77         |\n",
      "|    ep_rew_mean          | 499        |\n",
      "| time/                   |            |\n",
      "|    fps                  | 1335       |\n",
      "|    iterations           | 215        |\n",
      "|    time_elapsed         | 329        |\n",
      "|    total_timesteps      | 440320     |\n",
      "| train/                  |            |\n",
      "|    approx_kl            | 0.8590208  |\n",
      "|    clip_fraction        | 0.136      |\n",
      "|    clip_range           | 0.2        |\n",
      "|    entropy_loss         | -0.116     |\n",
      "|    explained_variance   | 0.99815285 |\n",
      "|    learning_rate        | 0.0003     |\n",
      "|    loss                 | 9.75       |\n",
      "|    n_updates            | 4590       |\n",
      "|    policy_gradient_loss | 0.0582     |\n",
      "|    value_loss           | 13.2       |\n",
      "----------------------------------------\n",
      "------------------------------------------\n",
      "| rollout/                |              |\n",
      "|    ep_len_mean          | 62.5         |\n",
      "|    ep_rew_mean          | 472          |\n",
      "| time/                   |              |\n",
      "|    fps                  | 1335         |\n",
      "|    iterations           | 216          |\n",
      "|    time_elapsed         | 331          |\n",
      "|    total_timesteps      | 442368       |\n",
      "| train/                  |              |\n",
      "|    approx_kl            | 0.0017192854 |\n",
      "|    clip_fraction        | 0.0167       |\n",
      "|    clip_range           | 0.2          |\n",
      "|    entropy_loss         | -0.114       |\n",
      "|    explained_variance   | 0.95728505   |\n",
      "|    learning_rate        | 0.0003       |\n",
      "|    loss                 | 18.9         |\n",
      "|    n_updates            | 4600         |\n",
      "|    policy_gradient_loss | -0.00155     |\n",
      "|    value_loss           | 114          |\n",
      "------------------------------------------\n",
      "------------------------------------------\n",
      "| rollout/                |              |\n",
      "|    ep_len_mean          | 53           |\n",
      "|    ep_rew_mean          | 457          |\n",
      "| time/                   |              |\n",
      "|    fps                  | 1335         |\n",
      "|    iterations           | 217          |\n",
      "|    time_elapsed         | 332          |\n",
      "|    total_timesteps      | 444416       |\n",
      "| train/                  |              |\n",
      "|    approx_kl            | 0.0066941725 |\n",
      "|    clip_fraction        | 0.0347       |\n",
      "|    clip_range           | 0.2          |\n",
      "|    entropy_loss         | -0.115       |\n",
      "|    explained_variance   | 0.98453575   |\n",
      "|    learning_rate        | 0.0003       |\n",
      "|    loss                 | 11.7         |\n",
      "|    n_updates            | 4610         |\n",
      "|    policy_gradient_loss | -0.00465     |\n",
      "|    value_loss           | 96           |\n",
      "------------------------------------------\n",
      "-----------------------------------------\n",
      "| rollout/                |             |\n",
      "|    ep_len_mean          | 54.2        |\n",
      "|    ep_rew_mean          | 463         |\n",
      "| time/                   |             |\n",
      "|    fps                  | 1335        |\n",
      "|    iterations           | 218         |\n",
      "|    time_elapsed         | 334         |\n",
      "|    total_timesteps      | 446464      |\n",
      "| train/                  |             |\n",
      "|    approx_kl            | 0.004177936 |\n",
      "|    clip_fraction        | 0.0445      |\n",
      "|    clip_range           | 0.2         |\n",
      "|    entropy_loss         | -0.112      |\n",
      "|    explained_variance   | 0.9871251   |\n",
      "|    learning_rate        | 0.0003      |\n",
      "|    loss                 | 29.6        |\n",
      "|    n_updates            | 4620        |\n",
      "|    policy_gradient_loss | -0.00559    |\n",
      "|    value_loss           | 82          |\n",
      "-----------------------------------------\n",
      "-----------------------------------------\n",
      "| rollout/                |             |\n",
      "|    ep_len_mean          | 56          |\n",
      "|    ep_rew_mean          | 470         |\n",
      "| time/                   |             |\n",
      "|    fps                  | 1335        |\n",
      "|    iterations           | 219         |\n",
      "|    time_elapsed         | 335         |\n",
      "|    total_timesteps      | 448512      |\n",
      "| train/                  |             |\n",
      "|    approx_kl            | 0.004499602 |\n",
      "|    clip_fraction        | 0.0542      |\n",
      "|    clip_range           | 0.2         |\n",
      "|    entropy_loss         | -0.117      |\n",
      "|    explained_variance   | 0.9930333   |\n",
      "|    learning_rate        | 0.0003      |\n",
      "|    loss                 | 16.7        |\n",
      "|    n_updates            | 4630        |\n",
      "|    policy_gradient_loss | -0.00528    |\n",
      "|    value_loss           | 40.4        |\n",
      "-----------------------------------------\n",
      "-----------------------------------------\n",
      "| rollout/                |             |\n",
      "|    ep_len_mean          | 57.4        |\n",
      "|    ep_rew_mean          | 475         |\n",
      "| time/                   |             |\n",
      "|    fps                  | 1335        |\n",
      "|    iterations           | 220         |\n",
      "|    time_elapsed         | 337         |\n",
      "|    total_timesteps      | 450560      |\n",
      "| train/                  |             |\n",
      "|    approx_kl            | 0.004255062 |\n",
      "|    clip_fraction        | 0.0458      |\n",
      "|    clip_range           | 0.2         |\n",
      "|    entropy_loss         | -0.113      |\n",
      "|    explained_variance   | 0.9952374   |\n",
      "|    learning_rate        | 0.0003      |\n",
      "|    loss                 | 15          |\n",
      "|    n_updates            | 4640        |\n",
      "|    policy_gradient_loss | -0.00766    |\n",
      "|    value_loss           | 32.4        |\n",
      "-----------------------------------------\n",
      "------------------------------------------\n",
      "| rollout/                |              |\n",
      "|    ep_len_mean          | 58.2         |\n",
      "|    ep_rew_mean          | 477          |\n",
      "| time/                   |              |\n",
      "|    fps                  | 1335         |\n",
      "|    iterations           | 221          |\n",
      "|    time_elapsed         | 338          |\n",
      "|    total_timesteps      | 452608       |\n",
      "| train/                  |              |\n",
      "|    approx_kl            | 0.0037072743 |\n",
      "|    clip_fraction        | 0.027        |\n",
      "|    clip_range           | 0.2          |\n",
      "|    entropy_loss         | -0.108       |\n",
      "|    explained_variance   | 0.98088557   |\n",
      "|    learning_rate        | 0.0003       |\n",
      "|    loss                 | 139          |\n",
      "|    n_updates            | 4650         |\n",
      "|    policy_gradient_loss | -0.00491     |\n",
      "|    value_loss           | 135          |\n",
      "------------------------------------------\n",
      "-----------------------------------------\n",
      "| rollout/                |             |\n",
      "|    ep_len_mean          | 59.9        |\n",
      "|    ep_rew_mean          | 481         |\n",
      "| time/                   |             |\n",
      "|    fps                  | 1335        |\n",
      "|    iterations           | 222         |\n",
      "|    time_elapsed         | 340         |\n",
      "|    total_timesteps      | 454656      |\n",
      "| train/                  |             |\n",
      "|    approx_kl            | 0.011163918 |\n",
      "|    clip_fraction        | 0.0326      |\n",
      "|    clip_range           | 0.2         |\n",
      "|    entropy_loss         | -0.0971     |\n",
      "|    explained_variance   | 0.9916315   |\n",
      "|    learning_rate        | 0.0003      |\n",
      "|    loss                 | 13          |\n",
      "|    n_updates            | 4660        |\n",
      "|    policy_gradient_loss | -0.00639    |\n",
      "|    value_loss           | 60.4        |\n",
      "-----------------------------------------\n",
      "-----------------------------------------\n",
      "| rollout/                |             |\n",
      "|    ep_len_mean          | 62.6        |\n",
      "|    ep_rew_mean          | 489         |\n",
      "| time/                   |             |\n",
      "|    fps                  | 1335        |\n",
      "|    iterations           | 223         |\n",
      "|    time_elapsed         | 342         |\n",
      "|    total_timesteps      | 456704      |\n",
      "| train/                  |             |\n",
      "|    approx_kl            | 0.010040369 |\n",
      "|    clip_fraction        | 0.026       |\n",
      "|    clip_range           | 0.2         |\n",
      "|    entropy_loss         | -0.0934     |\n",
      "|    explained_variance   | 0.99341816  |\n",
      "|    learning_rate        | 0.0003      |\n",
      "|    loss                 | 24.8        |\n",
      "|    n_updates            | 4670        |\n",
      "|    policy_gradient_loss | -0.0012     |\n",
      "|    value_loss           | 45.9        |\n",
      "-----------------------------------------\n",
      "-----------------------------------------\n",
      "| rollout/                |             |\n",
      "|    ep_len_mean          | 63.1        |\n",
      "|    ep_rew_mean          | 492         |\n",
      "| time/                   |             |\n",
      "|    fps                  | 1335        |\n",
      "|    iterations           | 224         |\n",
      "|    time_elapsed         | 343         |\n",
      "|    total_timesteps      | 458752      |\n",
      "| train/                  |             |\n",
      "|    approx_kl            | 0.013791176 |\n",
      "|    clip_fraction        | 0.0542      |\n",
      "|    clip_range           | 0.2         |\n",
      "|    entropy_loss         | -0.111      |\n",
      "|    explained_variance   | 0.9984583   |\n",
      "|    learning_rate        | 0.0003      |\n",
      "|    loss                 | 0.797       |\n",
      "|    n_updates            | 4680        |\n",
      "|    policy_gradient_loss | 0.00945     |\n",
      "|    value_loss           | 3.59        |\n",
      "-----------------------------------------\n",
      "------------------------------------------\n",
      "| rollout/                |              |\n",
      "|    ep_len_mean          | 63.2         |\n",
      "|    ep_rew_mean          | 492          |\n",
      "| time/                   |              |\n",
      "|    fps                  | 1335         |\n",
      "|    iterations           | 225          |\n",
      "|    time_elapsed         | 345          |\n",
      "|    total_timesteps      | 460800       |\n",
      "| train/                  |              |\n",
      "|    approx_kl            | 0.0018620007 |\n",
      "|    clip_fraction        | 0.026        |\n",
      "|    clip_range           | 0.2          |\n",
      "|    entropy_loss         | -0.11        |\n",
      "|    explained_variance   | 0.9956393    |\n",
      "|    learning_rate        | 0.0003       |\n",
      "|    loss                 | 13.7         |\n",
      "|    n_updates            | 4690         |\n",
      "|    policy_gradient_loss | -0.00534     |\n",
      "|    value_loss           | 27.1         |\n",
      "------------------------------------------\n",
      "-----------------------------------------\n",
      "| rollout/                |             |\n",
      "|    ep_len_mean          | 64.6        |\n",
      "|    ep_rew_mean          | 492         |\n",
      "| time/                   |             |\n",
      "|    fps                  | 1335        |\n",
      "|    iterations           | 226         |\n",
      "|    time_elapsed         | 346         |\n",
      "|    total_timesteps      | 462848      |\n",
      "| train/                  |             |\n",
      "|    approx_kl            | 0.014760023 |\n",
      "|    clip_fraction        | 0.0478      |\n",
      "|    clip_range           | 0.2         |\n",
      "|    entropy_loss         | -0.112      |\n",
      "|    explained_variance   | 0.9988944   |\n",
      "|    learning_rate        | 0.0003      |\n",
      "|    loss                 | 4.94        |\n",
      "|    n_updates            | 4700        |\n",
      "|    policy_gradient_loss | -0.00557    |\n",
      "|    value_loss           | 8.93        |\n",
      "-----------------------------------------\n",
      "------------------------------------------\n",
      "| rollout/                |              |\n",
      "|    ep_len_mean          | 67.1         |\n",
      "|    ep_rew_mean          | 496          |\n",
      "| time/                   |              |\n",
      "|    fps                  | 1335         |\n",
      "|    iterations           | 227          |\n",
      "|    time_elapsed         | 348          |\n",
      "|    total_timesteps      | 464896       |\n",
      "| train/                  |              |\n",
      "|    approx_kl            | 0.0040897853 |\n",
      "|    clip_fraction        | 0.0375       |\n",
      "|    clip_range           | 0.2          |\n",
      "|    entropy_loss         | -0.128       |\n",
      "|    explained_variance   | 0.9855699    |\n",
      "|    learning_rate        | 0.0003       |\n",
      "|    loss                 | 30.1         |\n",
      "|    n_updates            | 4710         |\n",
      "|    policy_gradient_loss | -0.00241     |\n",
      "|    value_loss           | 115          |\n",
      "------------------------------------------\n",
      "-----------------------------------------\n",
      "| rollout/                |             |\n",
      "|    ep_len_mean          | 71.5        |\n",
      "|    ep_rew_mean          | 503         |\n",
      "| time/                   |             |\n",
      "|    fps                  | 1335        |\n",
      "|    iterations           | 228         |\n",
      "|    time_elapsed         | 349         |\n",
      "|    total_timesteps      | 466944      |\n",
      "| train/                  |             |\n",
      "|    approx_kl            | 0.023611512 |\n",
      "|    clip_fraction        | 0.0506      |\n",
      "|    clip_range           | 0.2         |\n",
      "|    entropy_loss         | -0.124      |\n",
      "|    explained_variance   | 0.9939558   |\n",
      "|    learning_rate        | 0.0003      |\n",
      "|    loss                 | 8.98        |\n",
      "|    n_updates            | 4720        |\n",
      "|    policy_gradient_loss | 0.000664    |\n",
      "|    value_loss           | 32.3        |\n",
      "-----------------------------------------\n",
      "-----------------------------------------\n",
      "| rollout/                |             |\n",
      "|    ep_len_mean          | 74.5        |\n",
      "|    ep_rew_mean          | 507         |\n",
      "| time/                   |             |\n",
      "|    fps                  | 1335        |\n",
      "|    iterations           | 229         |\n",
      "|    time_elapsed         | 351         |\n",
      "|    total_timesteps      | 468992      |\n",
      "| train/                  |             |\n",
      "|    approx_kl            | 0.010262761 |\n",
      "|    clip_fraction        | 0.0667      |\n",
      "|    clip_range           | 0.2         |\n",
      "|    entropy_loss         | -0.132      |\n",
      "|    explained_variance   | 0.9913019   |\n",
      "|    learning_rate        | 0.0003      |\n",
      "|    loss                 | 5.51        |\n",
      "|    n_updates            | 4730        |\n",
      "|    policy_gradient_loss | 0.00102     |\n",
      "|    value_loss           | 54.4        |\n",
      "-----------------------------------------\n",
      "----------------------------------------\n",
      "| rollout/                |            |\n",
      "|    ep_len_mean          | 76.8       |\n",
      "|    ep_rew_mean          | 509        |\n",
      "| time/                   |            |\n",
      "|    fps                  | 1335       |\n",
      "|    iterations           | 230        |\n",
      "|    time_elapsed         | 352        |\n",
      "|    total_timesteps      | 471040     |\n",
      "| train/                  |            |\n",
      "|    approx_kl            | 0.02246736 |\n",
      "|    clip_fraction        | 0.0722     |\n",
      "|    clip_range           | 0.2        |\n",
      "|    entropy_loss         | -0.169     |\n",
      "|    explained_variance   | 0.99886787 |\n",
      "|    learning_rate        | 0.0003     |\n",
      "|    loss                 | 2.08       |\n",
      "|    n_updates            | 4740       |\n",
      "|    policy_gradient_loss | -0.0033    |\n",
      "|    value_loss           | 5.85       |\n",
      "----------------------------------------\n",
      "------------------------------------------\n",
      "| rollout/                |              |\n",
      "|    ep_len_mean          | 79.1         |\n",
      "|    ep_rew_mean          | 512          |\n",
      "| time/                   |              |\n",
      "|    fps                  | 1335         |\n",
      "|    iterations           | 231          |\n",
      "|    time_elapsed         | 354          |\n",
      "|    total_timesteps      | 473088       |\n",
      "| train/                  |              |\n",
      "|    approx_kl            | 0.0047084372 |\n",
      "|    clip_fraction        | 0.0487       |\n",
      "|    clip_range           | 0.2          |\n",
      "|    entropy_loss         | -0.173       |\n",
      "|    explained_variance   | 0.9824817    |\n",
      "|    learning_rate        | 0.0003       |\n",
      "|    loss                 | 87.4         |\n",
      "|    n_updates            | 4750         |\n",
      "|    policy_gradient_loss | -0.00203     |\n",
      "|    value_loss           | 133          |\n",
      "------------------------------------------\n",
      "-----------------------------------------\n",
      "| rollout/                |             |\n",
      "|    ep_len_mean          | 77.5        |\n",
      "|    ep_rew_mean          | 510         |\n",
      "| time/                   |             |\n",
      "|    fps                  | 1335        |\n",
      "|    iterations           | 232         |\n",
      "|    time_elapsed         | 355         |\n",
      "|    total_timesteps      | 475136      |\n",
      "| train/                  |             |\n",
      "|    approx_kl            | 0.005587305 |\n",
      "|    clip_fraction        | 0.0465      |\n",
      "|    clip_range           | 0.2         |\n",
      "|    entropy_loss         | -0.172      |\n",
      "|    explained_variance   | 0.9965704   |\n",
      "|    learning_rate        | 0.0003      |\n",
      "|    loss                 | 8.45        |\n",
      "|    n_updates            | 4760        |\n",
      "|    policy_gradient_loss | 0.00204     |\n",
      "|    value_loss           | 19.3        |\n",
      "-----------------------------------------\n",
      "----------------------------------------\n",
      "| rollout/                |            |\n",
      "|    ep_len_mean          | 77.9       |\n",
      "|    ep_rew_mean          | 513        |\n",
      "| time/                   |            |\n",
      "|    fps                  | 1335       |\n",
      "|    iterations           | 233        |\n",
      "|    time_elapsed         | 357        |\n",
      "|    total_timesteps      | 477184     |\n",
      "| train/                  |            |\n",
      "|    approx_kl            | 0.00401762 |\n",
      "|    clip_fraction        | 0.0589     |\n",
      "|    clip_range           | 0.2        |\n",
      "|    entropy_loss         | -0.166     |\n",
      "|    explained_variance   | 0.99793196 |\n",
      "|    learning_rate        | 0.0003     |\n",
      "|    loss                 | 6.26       |\n",
      "|    n_updates            | 4770       |\n",
      "|    policy_gradient_loss | 0.00484    |\n",
      "|    value_loss           | 15.8       |\n",
      "----------------------------------------\n",
      "----------------------------------------\n",
      "| rollout/                |            |\n",
      "|    ep_len_mean          | 78         |\n",
      "|    ep_rew_mean          | 515        |\n",
      "| time/                   |            |\n",
      "|    fps                  | 1335       |\n",
      "|    iterations           | 234        |\n",
      "|    time_elapsed         | 358        |\n",
      "|    total_timesteps      | 479232     |\n",
      "| train/                  |            |\n",
      "|    approx_kl            | 0.0205617  |\n",
      "|    clip_fraction        | 0.0625     |\n",
      "|    clip_range           | 0.2        |\n",
      "|    entropy_loss         | -0.156     |\n",
      "|    explained_variance   | 0.99894226 |\n",
      "|    learning_rate        | 0.0003     |\n",
      "|    loss                 | 4.49       |\n",
      "|    n_updates            | 4780       |\n",
      "|    policy_gradient_loss | -0.00328   |\n",
      "|    value_loss           | 7.54       |\n",
      "----------------------------------------\n",
      "-----------------------------------------\n",
      "| rollout/                |             |\n",
      "|    ep_len_mean          | 80.9        |\n",
      "|    ep_rew_mean          | 517         |\n",
      "| time/                   |             |\n",
      "|    fps                  | 1335        |\n",
      "|    iterations           | 235         |\n",
      "|    time_elapsed         | 360         |\n",
      "|    total_timesteps      | 481280      |\n",
      "| train/                  |             |\n",
      "|    approx_kl            | 0.078262046 |\n",
      "|    clip_fraction        | 0.0803      |\n",
      "|    clip_range           | 0.2         |\n",
      "|    entropy_loss         | -0.137      |\n",
      "|    explained_variance   | 0.9990379   |\n",
      "|    learning_rate        | 0.0003      |\n",
      "|    loss                 | 1.83        |\n",
      "|    n_updates            | 4790        |\n",
      "|    policy_gradient_loss | 0.00858     |\n",
      "|    value_loss           | 6.08        |\n",
      "-----------------------------------------\n",
      "------------------------------------------\n",
      "| rollout/                |              |\n",
      "|    ep_len_mean          | 84           |\n",
      "|    ep_rew_mean          | 521          |\n",
      "| time/                   |              |\n",
      "|    fps                  | 1335         |\n",
      "|    iterations           | 236          |\n",
      "|    time_elapsed         | 361          |\n",
      "|    total_timesteps      | 483328       |\n",
      "| train/                  |              |\n",
      "|    approx_kl            | 0.0089135775 |\n",
      "|    clip_fraction        | 0.0423       |\n",
      "|    clip_range           | 0.2          |\n",
      "|    entropy_loss         | -0.132       |\n",
      "|    explained_variance   | 0.992699     |\n",
      "|    learning_rate        | 0.0003       |\n",
      "|    loss                 | 18           |\n",
      "|    n_updates            | 4800         |\n",
      "|    policy_gradient_loss | -0.00178     |\n",
      "|    value_loss           | 49           |\n",
      "------------------------------------------\n",
      "-----------------------------------------\n",
      "| rollout/                |             |\n",
      "|    ep_len_mean          | 88.9        |\n",
      "|    ep_rew_mean          | 521         |\n",
      "| time/                   |             |\n",
      "|    fps                  | 1335        |\n",
      "|    iterations           | 237         |\n",
      "|    time_elapsed         | 363         |\n",
      "|    total_timesteps      | 485376      |\n",
      "| train/                  |             |\n",
      "|    approx_kl            | 0.008933403 |\n",
      "|    clip_fraction        | 0.0681      |\n",
      "|    clip_range           | 0.2         |\n",
      "|    entropy_loss         | -0.136      |\n",
      "|    explained_variance   | 0.99813247  |\n",
      "|    learning_rate        | 0.0003      |\n",
      "|    loss                 | 3.03        |\n",
      "|    n_updates            | 4810        |\n",
      "|    policy_gradient_loss | 0.00159     |\n",
      "|    value_loss           | 7.98        |\n",
      "-----------------------------------------\n",
      "-----------------------------------------\n",
      "| rollout/                |             |\n",
      "|    ep_len_mean          | 89.7        |\n",
      "|    ep_rew_mean          | 519         |\n",
      "| time/                   |             |\n",
      "|    fps                  | 1335        |\n",
      "|    iterations           | 238         |\n",
      "|    time_elapsed         | 364         |\n",
      "|    total_timesteps      | 487424      |\n",
      "| train/                  |             |\n",
      "|    approx_kl            | 0.012688101 |\n",
      "|    clip_fraction        | 0.0796      |\n",
      "|    clip_range           | 0.2         |\n",
      "|    entropy_loss         | -0.166      |\n",
      "|    explained_variance   | 0.9797167   |\n",
      "|    learning_rate        | 0.0003      |\n",
      "|    loss                 | 41.7        |\n",
      "|    n_updates            | 4820        |\n",
      "|    policy_gradient_loss | -0.0126     |\n",
      "|    value_loss           | 130         |\n",
      "-----------------------------------------\n",
      "---------------------------------------\n",
      "| rollout/                |           |\n",
      "|    ep_len_mean          | 87.7      |\n",
      "|    ep_rew_mean          | 517       |\n",
      "| time/                   |           |\n",
      "|    fps                  | 1335      |\n",
      "|    iterations           | 239       |\n",
      "|    time_elapsed         | 366       |\n",
      "|    total_timesteps      | 489472    |\n",
      "| train/                  |           |\n",
      "|    approx_kl            | 0.0130597 |\n",
      "|    clip_fraction        | 0.0336    |\n",
      "|    clip_range           | 0.2       |\n",
      "|    entropy_loss         | -0.151    |\n",
      "|    explained_variance   | 0.9843441 |\n",
      "|    learning_rate        | 0.0003    |\n",
      "|    loss                 | 90.5      |\n",
      "|    n_updates            | 4830      |\n",
      "|    policy_gradient_loss | -0.00245  |\n",
      "|    value_loss           | 123       |\n",
      "---------------------------------------\n",
      "-----------------------------------------\n",
      "| rollout/                |             |\n",
      "|    ep_len_mean          | 90.2        |\n",
      "|    ep_rew_mean          | 519         |\n",
      "| time/                   |             |\n",
      "|    fps                  | 1335        |\n",
      "|    iterations           | 240         |\n",
      "|    time_elapsed         | 368         |\n",
      "|    total_timesteps      | 491520      |\n",
      "| train/                  |             |\n",
      "|    approx_kl            | 0.011825487 |\n",
      "|    clip_fraction        | 0.0599      |\n",
      "|    clip_range           | 0.2         |\n",
      "|    entropy_loss         | -0.152      |\n",
      "|    explained_variance   | 0.99389875  |\n",
      "|    learning_rate        | 0.0003      |\n",
      "|    loss                 | 56.7        |\n",
      "|    n_updates            | 4840        |\n",
      "|    policy_gradient_loss | -0.000732   |\n",
      "|    value_loss           | 45          |\n",
      "-----------------------------------------\n",
      "-----------------------------------------\n",
      "| rollout/                |             |\n",
      "|    ep_len_mean          | 87.9        |\n",
      "|    ep_rew_mean          | 522         |\n",
      "| time/                   |             |\n",
      "|    fps                  | 1335        |\n",
      "|    iterations           | 241         |\n",
      "|    time_elapsed         | 369         |\n",
      "|    total_timesteps      | 493568      |\n",
      "| train/                  |             |\n",
      "|    approx_kl            | 0.008078916 |\n",
      "|    clip_fraction        | 0.0741      |\n",
      "|    clip_range           | 0.2         |\n",
      "|    entropy_loss         | -0.16       |\n",
      "|    explained_variance   | 0.9970386   |\n",
      "|    learning_rate        | 0.0003      |\n",
      "|    loss                 | 9.34        |\n",
      "|    n_updates            | 4850        |\n",
      "|    policy_gradient_loss | -0.00477    |\n",
      "|    value_loss           | 19.7        |\n",
      "-----------------------------------------\n",
      "-----------------------------------------\n",
      "| rollout/                |             |\n",
      "|    ep_len_mean          | 88          |\n",
      "|    ep_rew_mean          | 523         |\n",
      "| time/                   |             |\n",
      "|    fps                  | 1335        |\n",
      "|    iterations           | 242         |\n",
      "|    time_elapsed         | 371         |\n",
      "|    total_timesteps      | 495616      |\n",
      "| train/                  |             |\n",
      "|    approx_kl            | 0.006064995 |\n",
      "|    clip_fraction        | 0.0432      |\n",
      "|    clip_range           | 0.2         |\n",
      "|    entropy_loss         | -0.165      |\n",
      "|    explained_variance   | 0.99380124  |\n",
      "|    learning_rate        | 0.0003      |\n",
      "|    loss                 | 20.9        |\n",
      "|    n_updates            | 4860        |\n",
      "|    policy_gradient_loss | -0.00204    |\n",
      "|    value_loss           | 45          |\n",
      "-----------------------------------------\n",
      "----------------------------------------\n",
      "| rollout/                |            |\n",
      "|    ep_len_mean          | 90.3       |\n",
      "|    ep_rew_mean          | 526        |\n",
      "| time/                   |            |\n",
      "|    fps                  | 1335       |\n",
      "|    iterations           | 243        |\n",
      "|    time_elapsed         | 372        |\n",
      "|    total_timesteps      | 497664     |\n",
      "| train/                  |            |\n",
      "|    approx_kl            | 0.00439893 |\n",
      "|    clip_fraction        | 0.0561     |\n",
      "|    clip_range           | 0.2        |\n",
      "|    entropy_loss         | -0.165     |\n",
      "|    explained_variance   | 0.98687303 |\n",
      "|    learning_rate        | 0.0003     |\n",
      "|    loss                 | 9.28       |\n",
      "|    n_updates            | 4870       |\n",
      "|    policy_gradient_loss | -0.00414   |\n",
      "|    value_loss           | 87.9       |\n",
      "----------------------------------------\n",
      "Saving model checkpoint to test_4_ppo_checkpoints/rew2_1000k/model_1000k_steps\n",
      "----------------------------------------\n",
      "| rollout/                |            |\n",
      "|    ep_len_mean          | 89         |\n",
      "|    ep_rew_mean          | 524        |\n",
      "| time/                   |            |\n",
      "|    fps                  | 1335       |\n",
      "|    iterations           | 244        |\n",
      "|    time_elapsed         | 374        |\n",
      "|    total_timesteps      | 499712     |\n",
      "| train/                  |            |\n",
      "|    approx_kl            | 0.01604013 |\n",
      "|    clip_fraction        | 0.0736     |\n",
      "|    clip_range           | 0.2        |\n",
      "|    entropy_loss         | -0.144     |\n",
      "|    explained_variance   | 0.9932843  |\n",
      "|    learning_rate        | 0.0003     |\n",
      "|    loss                 | 12.2       |\n",
      "|    n_updates            | 4880       |\n",
      "|    policy_gradient_loss | 0.000374   |\n",
      "|    value_loss           | 47.5       |\n",
      "----------------------------------------\n",
      "-----------------------------------------\n",
      "| rollout/                |             |\n",
      "|    ep_len_mean          | 87.4        |\n",
      "|    ep_rew_mean          | 523         |\n",
      "| time/                   |             |\n",
      "|    fps                  | 1335        |\n",
      "|    iterations           | 245         |\n",
      "|    time_elapsed         | 375         |\n",
      "|    total_timesteps      | 501760      |\n",
      "| train/                  |             |\n",
      "|    approx_kl            | 0.006399165 |\n",
      "|    clip_fraction        | 0.0517      |\n",
      "|    clip_range           | 0.2         |\n",
      "|    entropy_loss         | -0.139      |\n",
      "|    explained_variance   | 0.9932483   |\n",
      "|    learning_rate        | 0.0003      |\n",
      "|    loss                 | 4.45        |\n",
      "|    n_updates            | 4890        |\n",
      "|    policy_gradient_loss | -0.00719    |\n",
      "|    value_loss           | 31.1        |\n",
      "-----------------------------------------\n"
     ]
    },
    {
     "data": {
      "text/plain": [
       "<stable_baselines3.ppo.ppo.PPO at 0x7f9e7f399e80>"
      ]
     },
     "execution_count": 105,
     "metadata": {},
     "output_type": "execute_result"
    }
   ],
   "source": [
    "# Train the model\n",
    "model.learn(total_timesteps=500_000, callback=save_callback)"
   ]
  },
  {
   "cell_type": "code",
   "execution_count": 142,
   "metadata": {},
   "outputs": [],
   "source": [
    "env_test = CustomEnv(test=True)\n",
    "vec_env_test = DummyVecEnv([lambda: env_test])\n",
    "test_model = PPO.load(os.path.join(log_dir,\"model_1000k_steps\"))"
   ]
  },
  {
   "cell_type": "code",
   "execution_count": 143,
   "metadata": {},
   "outputs": [
    {
     "name": "stdout",
     "output_type": "stream",
     "text": [
      "Done: [ True]\n",
      "total_rew [307.9947]\n",
      "completed jobs: 40/40\n"
     ]
    },
    {
     "data": {
      "application/vnd.plotly.v1+json": {
       "config": {
        "plotlyServerURL": "https://plot.ly"
       },
       "data": [
        {
         "alignmentgroup": "True",
         "hovertemplate": "<b>%{hovertext}</b><br><br>duration=%{x}<br>machine=%{y}<br>reward=%{marker.color}<extra></extra>",
         "hovertext": [
          7,
          6,
          6,
          7,
          5,
          5,
          6,
          7,
          0,
          6,
          4,
          0,
          6,
          7,
          0,
          7,
          4,
          4,
          4,
          4,
          4,
          6,
          4,
          4,
          6,
          4,
          4,
          6,
          4,
          0,
          7,
          4,
          0,
          6,
          6,
          0,
          7,
          6,
          0,
          4,
          7,
          0,
          4,
          4,
          0,
          5,
          5,
          4,
          5
         ],
         "legendgroup": "",
         "marker": {
          "color": [
           15,
           6.5,
           0.3333333333333333,
           14.875,
           5.5,
           0.3333333333333333,
           13,
           7.4375,
           0,
           13,
           4.5,
           2.5,
           13,
           7.5,
           0,
           15,
           4.5,
           0.3333333333333333,
           9,
           4.5,
           0.3333333333333333,
           13,
           4.5,
           0.3333333333333333,
           13,
           4.5,
           0.3333333333333333,
           13,
           4.5,
           0,
           15,
           4.5,
           0,
           13,
           6.5,
           0,
           14.636363636363637,
           6.5,
           0,
           9,
           7.5,
           0,
           9,
           4.4,
           0,
           11,
           5.3125,
           0.3333333333333333,
           11
          ],
          "coloraxis": "coloraxis",
          "pattern": {
           "shape": ""
          }
         },
         "name": "",
         "offsetgroup": "",
         "orientation": "h",
         "showlegend": false,
         "textposition": "auto",
         "type": "bar",
         "x": [
          7,
          6,
          6,
          7,
          5,
          5,
          6,
          7,
          1,
          6,
          4,
          1,
          6,
          7,
          1,
          7,
          4,
          4,
          4,
          4,
          4,
          6,
          4,
          4,
          6,
          4,
          4,
          6,
          4,
          1,
          7,
          4,
          1,
          6,
          6,
          1,
          7,
          6,
          1,
          4,
          7,
          1,
          4,
          4,
          1,
          5,
          5,
          4,
          5
         ],
         "xaxis": "x",
         "y": [
          0,
          1,
          2,
          0,
          1,
          2,
          0,
          1,
          2,
          0,
          1,
          2,
          0,
          1,
          2,
          0,
          1,
          2,
          0,
          1,
          2,
          0,
          1,
          2,
          0,
          1,
          2,
          0,
          1,
          2,
          0,
          1,
          2,
          0,
          1,
          2,
          0,
          1,
          2,
          0,
          1,
          2,
          0,
          1,
          2,
          0,
          1,
          2,
          0
         ],
         "yaxis": "y"
        }
       ],
       "layout": {
        "barmode": "relative",
        "coloraxis": {
         "colorbar": {
          "title": {
           "text": "reward"
          }
         },
         "colorscale": [
          [
           0,
           "#0d0887"
          ],
          [
           0.1111111111111111,
           "#46039f"
          ],
          [
           0.2222222222222222,
           "#7201a8"
          ],
          [
           0.3333333333333333,
           "#9c179e"
          ],
          [
           0.4444444444444444,
           "#bd3786"
          ],
          [
           0.5555555555555556,
           "#d8576b"
          ],
          [
           0.6666666666666666,
           "#ed7953"
          ],
          [
           0.7777777777777778,
           "#fb9f3a"
          ],
          [
           0.8888888888888888,
           "#fdca26"
          ],
          [
           1,
           "#f0f921"
          ]
         ]
        },
        "legend": {
         "tracegroupgap": 0
        },
        "margin": {
         "t": 60
        },
        "template": {
         "data": {
          "bar": [
           {
            "error_x": {
             "color": "#2a3f5f"
            },
            "error_y": {
             "color": "#2a3f5f"
            },
            "marker": {
             "line": {
              "color": "#E5ECF6",
              "width": 0.5
             },
             "pattern": {
              "fillmode": "overlay",
              "size": 10,
              "solidity": 0.2
             }
            },
            "type": "bar"
           }
          ],
          "barpolar": [
           {
            "marker": {
             "line": {
              "color": "#E5ECF6",
              "width": 0.5
             },
             "pattern": {
              "fillmode": "overlay",
              "size": 10,
              "solidity": 0.2
             }
            },
            "type": "barpolar"
           }
          ],
          "carpet": [
           {
            "aaxis": {
             "endlinecolor": "#2a3f5f",
             "gridcolor": "white",
             "linecolor": "white",
             "minorgridcolor": "white",
             "startlinecolor": "#2a3f5f"
            },
            "baxis": {
             "endlinecolor": "#2a3f5f",
             "gridcolor": "white",
             "linecolor": "white",
             "minorgridcolor": "white",
             "startlinecolor": "#2a3f5f"
            },
            "type": "carpet"
           }
          ],
          "choropleth": [
           {
            "colorbar": {
             "outlinewidth": 0,
             "ticks": ""
            },
            "type": "choropleth"
           }
          ],
          "contour": [
           {
            "colorbar": {
             "outlinewidth": 0,
             "ticks": ""
            },
            "colorscale": [
             [
              0,
              "#0d0887"
             ],
             [
              0.1111111111111111,
              "#46039f"
             ],
             [
              0.2222222222222222,
              "#7201a8"
             ],
             [
              0.3333333333333333,
              "#9c179e"
             ],
             [
              0.4444444444444444,
              "#bd3786"
             ],
             [
              0.5555555555555556,
              "#d8576b"
             ],
             [
              0.6666666666666666,
              "#ed7953"
             ],
             [
              0.7777777777777778,
              "#fb9f3a"
             ],
             [
              0.8888888888888888,
              "#fdca26"
             ],
             [
              1,
              "#f0f921"
             ]
            ],
            "type": "contour"
           }
          ],
          "contourcarpet": [
           {
            "colorbar": {
             "outlinewidth": 0,
             "ticks": ""
            },
            "type": "contourcarpet"
           }
          ],
          "heatmap": [
           {
            "colorbar": {
             "outlinewidth": 0,
             "ticks": ""
            },
            "colorscale": [
             [
              0,
              "#0d0887"
             ],
             [
              0.1111111111111111,
              "#46039f"
             ],
             [
              0.2222222222222222,
              "#7201a8"
             ],
             [
              0.3333333333333333,
              "#9c179e"
             ],
             [
              0.4444444444444444,
              "#bd3786"
             ],
             [
              0.5555555555555556,
              "#d8576b"
             ],
             [
              0.6666666666666666,
              "#ed7953"
             ],
             [
              0.7777777777777778,
              "#fb9f3a"
             ],
             [
              0.8888888888888888,
              "#fdca26"
             ],
             [
              1,
              "#f0f921"
             ]
            ],
            "type": "heatmap"
           }
          ],
          "heatmapgl": [
           {
            "colorbar": {
             "outlinewidth": 0,
             "ticks": ""
            },
            "colorscale": [
             [
              0,
              "#0d0887"
             ],
             [
              0.1111111111111111,
              "#46039f"
             ],
             [
              0.2222222222222222,
              "#7201a8"
             ],
             [
              0.3333333333333333,
              "#9c179e"
             ],
             [
              0.4444444444444444,
              "#bd3786"
             ],
             [
              0.5555555555555556,
              "#d8576b"
             ],
             [
              0.6666666666666666,
              "#ed7953"
             ],
             [
              0.7777777777777778,
              "#fb9f3a"
             ],
             [
              0.8888888888888888,
              "#fdca26"
             ],
             [
              1,
              "#f0f921"
             ]
            ],
            "type": "heatmapgl"
           }
          ],
          "histogram": [
           {
            "marker": {
             "pattern": {
              "fillmode": "overlay",
              "size": 10,
              "solidity": 0.2
             }
            },
            "type": "histogram"
           }
          ],
          "histogram2d": [
           {
            "colorbar": {
             "outlinewidth": 0,
             "ticks": ""
            },
            "colorscale": [
             [
              0,
              "#0d0887"
             ],
             [
              0.1111111111111111,
              "#46039f"
             ],
             [
              0.2222222222222222,
              "#7201a8"
             ],
             [
              0.3333333333333333,
              "#9c179e"
             ],
             [
              0.4444444444444444,
              "#bd3786"
             ],
             [
              0.5555555555555556,
              "#d8576b"
             ],
             [
              0.6666666666666666,
              "#ed7953"
             ],
             [
              0.7777777777777778,
              "#fb9f3a"
             ],
             [
              0.8888888888888888,
              "#fdca26"
             ],
             [
              1,
              "#f0f921"
             ]
            ],
            "type": "histogram2d"
           }
          ],
          "histogram2dcontour": [
           {
            "colorbar": {
             "outlinewidth": 0,
             "ticks": ""
            },
            "colorscale": [
             [
              0,
              "#0d0887"
             ],
             [
              0.1111111111111111,
              "#46039f"
             ],
             [
              0.2222222222222222,
              "#7201a8"
             ],
             [
              0.3333333333333333,
              "#9c179e"
             ],
             [
              0.4444444444444444,
              "#bd3786"
             ],
             [
              0.5555555555555556,
              "#d8576b"
             ],
             [
              0.6666666666666666,
              "#ed7953"
             ],
             [
              0.7777777777777778,
              "#fb9f3a"
             ],
             [
              0.8888888888888888,
              "#fdca26"
             ],
             [
              1,
              "#f0f921"
             ]
            ],
            "type": "histogram2dcontour"
           }
          ],
          "mesh3d": [
           {
            "colorbar": {
             "outlinewidth": 0,
             "ticks": ""
            },
            "type": "mesh3d"
           }
          ],
          "parcoords": [
           {
            "line": {
             "colorbar": {
              "outlinewidth": 0,
              "ticks": ""
             }
            },
            "type": "parcoords"
           }
          ],
          "pie": [
           {
            "automargin": true,
            "type": "pie"
           }
          ],
          "scatter": [
           {
            "fillpattern": {
             "fillmode": "overlay",
             "size": 10,
             "solidity": 0.2
            },
            "type": "scatter"
           }
          ],
          "scatter3d": [
           {
            "line": {
             "colorbar": {
              "outlinewidth": 0,
              "ticks": ""
             }
            },
            "marker": {
             "colorbar": {
              "outlinewidth": 0,
              "ticks": ""
             }
            },
            "type": "scatter3d"
           }
          ],
          "scattercarpet": [
           {
            "marker": {
             "colorbar": {
              "outlinewidth": 0,
              "ticks": ""
             }
            },
            "type": "scattercarpet"
           }
          ],
          "scattergeo": [
           {
            "marker": {
             "colorbar": {
              "outlinewidth": 0,
              "ticks": ""
             }
            },
            "type": "scattergeo"
           }
          ],
          "scattergl": [
           {
            "marker": {
             "colorbar": {
              "outlinewidth": 0,
              "ticks": ""
             }
            },
            "type": "scattergl"
           }
          ],
          "scattermapbox": [
           {
            "marker": {
             "colorbar": {
              "outlinewidth": 0,
              "ticks": ""
             }
            },
            "type": "scattermapbox"
           }
          ],
          "scatterpolar": [
           {
            "marker": {
             "colorbar": {
              "outlinewidth": 0,
              "ticks": ""
             }
            },
            "type": "scatterpolar"
           }
          ],
          "scatterpolargl": [
           {
            "marker": {
             "colorbar": {
              "outlinewidth": 0,
              "ticks": ""
             }
            },
            "type": "scatterpolargl"
           }
          ],
          "scatterternary": [
           {
            "marker": {
             "colorbar": {
              "outlinewidth": 0,
              "ticks": ""
             }
            },
            "type": "scatterternary"
           }
          ],
          "surface": [
           {
            "colorbar": {
             "outlinewidth": 0,
             "ticks": ""
            },
            "colorscale": [
             [
              0,
              "#0d0887"
             ],
             [
              0.1111111111111111,
              "#46039f"
             ],
             [
              0.2222222222222222,
              "#7201a8"
             ],
             [
              0.3333333333333333,
              "#9c179e"
             ],
             [
              0.4444444444444444,
              "#bd3786"
             ],
             [
              0.5555555555555556,
              "#d8576b"
             ],
             [
              0.6666666666666666,
              "#ed7953"
             ],
             [
              0.7777777777777778,
              "#fb9f3a"
             ],
             [
              0.8888888888888888,
              "#fdca26"
             ],
             [
              1,
              "#f0f921"
             ]
            ],
            "type": "surface"
           }
          ],
          "table": [
           {
            "cells": {
             "fill": {
              "color": "#EBF0F8"
             },
             "line": {
              "color": "white"
             }
            },
            "header": {
             "fill": {
              "color": "#C8D4E3"
             },
             "line": {
              "color": "white"
             }
            },
            "type": "table"
           }
          ]
         },
         "layout": {
          "annotationdefaults": {
           "arrowcolor": "#2a3f5f",
           "arrowhead": 0,
           "arrowwidth": 1
          },
          "autotypenumbers": "strict",
          "coloraxis": {
           "colorbar": {
            "outlinewidth": 0,
            "ticks": ""
           }
          },
          "colorscale": {
           "diverging": [
            [
             0,
             "#8e0152"
            ],
            [
             0.1,
             "#c51b7d"
            ],
            [
             0.2,
             "#de77ae"
            ],
            [
             0.3,
             "#f1b6da"
            ],
            [
             0.4,
             "#fde0ef"
            ],
            [
             0.5,
             "#f7f7f7"
            ],
            [
             0.6,
             "#e6f5d0"
            ],
            [
             0.7,
             "#b8e186"
            ],
            [
             0.8,
             "#7fbc41"
            ],
            [
             0.9,
             "#4d9221"
            ],
            [
             1,
             "#276419"
            ]
           ],
           "sequential": [
            [
             0,
             "#0d0887"
            ],
            [
             0.1111111111111111,
             "#46039f"
            ],
            [
             0.2222222222222222,
             "#7201a8"
            ],
            [
             0.3333333333333333,
             "#9c179e"
            ],
            [
             0.4444444444444444,
             "#bd3786"
            ],
            [
             0.5555555555555556,
             "#d8576b"
            ],
            [
             0.6666666666666666,
             "#ed7953"
            ],
            [
             0.7777777777777778,
             "#fb9f3a"
            ],
            [
             0.8888888888888888,
             "#fdca26"
            ],
            [
             1,
             "#f0f921"
            ]
           ],
           "sequentialminus": [
            [
             0,
             "#0d0887"
            ],
            [
             0.1111111111111111,
             "#46039f"
            ],
            [
             0.2222222222222222,
             "#7201a8"
            ],
            [
             0.3333333333333333,
             "#9c179e"
            ],
            [
             0.4444444444444444,
             "#bd3786"
            ],
            [
             0.5555555555555556,
             "#d8576b"
            ],
            [
             0.6666666666666666,
             "#ed7953"
            ],
            [
             0.7777777777777778,
             "#fb9f3a"
            ],
            [
             0.8888888888888888,
             "#fdca26"
            ],
            [
             1,
             "#f0f921"
            ]
           ]
          },
          "colorway": [
           "#636efa",
           "#EF553B",
           "#00cc96",
           "#ab63fa",
           "#FFA15A",
           "#19d3f3",
           "#FF6692",
           "#B6E880",
           "#FF97FF",
           "#FECB52"
          ],
          "font": {
           "color": "#2a3f5f"
          },
          "geo": {
           "bgcolor": "white",
           "lakecolor": "white",
           "landcolor": "#E5ECF6",
           "showlakes": true,
           "showland": true,
           "subunitcolor": "white"
          },
          "hoverlabel": {
           "align": "left"
          },
          "hovermode": "closest",
          "mapbox": {
           "style": "light"
          },
          "paper_bgcolor": "white",
          "plot_bgcolor": "#E5ECF6",
          "polar": {
           "angularaxis": {
            "gridcolor": "white",
            "linecolor": "white",
            "ticks": ""
           },
           "bgcolor": "#E5ECF6",
           "radialaxis": {
            "gridcolor": "white",
            "linecolor": "white",
            "ticks": ""
           }
          },
          "scene": {
           "xaxis": {
            "backgroundcolor": "#E5ECF6",
            "gridcolor": "white",
            "gridwidth": 2,
            "linecolor": "white",
            "showbackground": true,
            "ticks": "",
            "zerolinecolor": "white"
           },
           "yaxis": {
            "backgroundcolor": "#E5ECF6",
            "gridcolor": "white",
            "gridwidth": 2,
            "linecolor": "white",
            "showbackground": true,
            "ticks": "",
            "zerolinecolor": "white"
           },
           "zaxis": {
            "backgroundcolor": "#E5ECF6",
            "gridcolor": "white",
            "gridwidth": 2,
            "linecolor": "white",
            "showbackground": true,
            "ticks": "",
            "zerolinecolor": "white"
           }
          },
          "shapedefaults": {
           "line": {
            "color": "#2a3f5f"
           }
          },
          "ternary": {
           "aaxis": {
            "gridcolor": "white",
            "linecolor": "white",
            "ticks": ""
           },
           "baxis": {
            "gridcolor": "white",
            "linecolor": "white",
            "ticks": ""
           },
           "bgcolor": "#E5ECF6",
           "caxis": {
            "gridcolor": "white",
            "linecolor": "white",
            "ticks": ""
           }
          },
          "title": {
           "x": 0.05
          },
          "xaxis": {
           "automargin": true,
           "gridcolor": "white",
           "linecolor": "white",
           "ticks": "",
           "title": {
            "standoff": 15
           },
           "zerolinecolor": "white",
           "zerolinewidth": 2
          },
          "yaxis": {
           "automargin": true,
           "gridcolor": "white",
           "linecolor": "white",
           "ticks": "",
           "title": {
            "standoff": 15
           },
           "zerolinecolor": "white",
           "zerolinewidth": 2
          }
         }
        },
        "xaxis": {
         "anchor": "y",
         "domain": [
          0,
          1
         ],
         "range": [
          0,
          96
         ],
         "title": {
          "text": "duration"
         }
        },
        "yaxis": {
         "anchor": "x",
         "domain": [
          0,
          1
         ],
         "title": {
          "text": "machine"
         }
        }
       }
      },
      "text/html": [
       "<div>                            <div id=\"a82eac02-8cf6-4f24-9983-87369e937da0\" class=\"plotly-graph-div\" style=\"height:525px; width:100%;\"></div>            <script type=\"text/javascript\">                require([\"plotly\"], function(Plotly) {                    window.PLOTLYENV=window.PLOTLYENV || {};                                    if (document.getElementById(\"a82eac02-8cf6-4f24-9983-87369e937da0\")) {                    Plotly.newPlot(                        \"a82eac02-8cf6-4f24-9983-87369e937da0\",                        [{\"alignmentgroup\":\"True\",\"hovertemplate\":\"\\u003cb\\u003e%{hovertext}\\u003c\\u002fb\\u003e\\u003cbr\\u003e\\u003cbr\\u003eduration=%{x}\\u003cbr\\u003emachine=%{y}\\u003cbr\\u003ereward=%{marker.color}\\u003cextra\\u003e\\u003c\\u002fextra\\u003e\",\"hovertext\":[7.0,6.0,6.0,7.0,5.0,5.0,6.0,7.0,0.0,6.0,4.0,0.0,6.0,7.0,0.0,7.0,4.0,4.0,4.0,4.0,4.0,6.0,4.0,4.0,6.0,4.0,4.0,6.0,4.0,0.0,7.0,4.0,0.0,6.0,6.0,0.0,7.0,6.0,0.0,4.0,7.0,0.0,4.0,4.0,0.0,5.0,5.0,4.0,5.0],\"legendgroup\":\"\",\"marker\":{\"color\":[15.0,6.5,0.3333333333333333,14.875,5.5,0.3333333333333333,13.0,7.4375,0.0,13.0,4.5,2.5,13.0,7.5,0.0,15.0,4.5,0.3333333333333333,9.0,4.5,0.3333333333333333,13.0,4.5,0.3333333333333333,13.0,4.5,0.3333333333333333,13.0,4.5,0.0,15.0,4.5,0.0,13.0,6.5,0.0,14.636363636363637,6.5,0.0,9.0,7.5,0.0,9.0,4.4,0.0,11.0,5.3125,0.3333333333333333,11.0],\"coloraxis\":\"coloraxis\",\"pattern\":{\"shape\":\"\"}},\"name\":\"\",\"offsetgroup\":\"\",\"orientation\":\"h\",\"showlegend\":false,\"textposition\":\"auto\",\"x\":[7,6,6,7,5,5,6,7,1,6,4,1,6,7,1,7,4,4,4,4,4,6,4,4,6,4,4,6,4,1,7,4,1,6,6,1,7,6,1,4,7,1,4,4,1,5,5,4,5],\"xaxis\":\"x\",\"y\":[0,1,2,0,1,2,0,1,2,0,1,2,0,1,2,0,1,2,0,1,2,0,1,2,0,1,2,0,1,2,0,1,2,0,1,2,0,1,2,0,1,2,0,1,2,0,1,2,0],\"yaxis\":\"y\",\"type\":\"bar\"}],                        {\"template\":{\"data\":{\"histogram2dcontour\":[{\"type\":\"histogram2dcontour\",\"colorbar\":{\"outlinewidth\":0,\"ticks\":\"\"},\"colorscale\":[[0.0,\"#0d0887\"],[0.1111111111111111,\"#46039f\"],[0.2222222222222222,\"#7201a8\"],[0.3333333333333333,\"#9c179e\"],[0.4444444444444444,\"#bd3786\"],[0.5555555555555556,\"#d8576b\"],[0.6666666666666666,\"#ed7953\"],[0.7777777777777778,\"#fb9f3a\"],[0.8888888888888888,\"#fdca26\"],[1.0,\"#f0f921\"]]}],\"choropleth\":[{\"type\":\"choropleth\",\"colorbar\":{\"outlinewidth\":0,\"ticks\":\"\"}}],\"histogram2d\":[{\"type\":\"histogram2d\",\"colorbar\":{\"outlinewidth\":0,\"ticks\":\"\"},\"colorscale\":[[0.0,\"#0d0887\"],[0.1111111111111111,\"#46039f\"],[0.2222222222222222,\"#7201a8\"],[0.3333333333333333,\"#9c179e\"],[0.4444444444444444,\"#bd3786\"],[0.5555555555555556,\"#d8576b\"],[0.6666666666666666,\"#ed7953\"],[0.7777777777777778,\"#fb9f3a\"],[0.8888888888888888,\"#fdca26\"],[1.0,\"#f0f921\"]]}],\"heatmap\":[{\"type\":\"heatmap\",\"colorbar\":{\"outlinewidth\":0,\"ticks\":\"\"},\"colorscale\":[[0.0,\"#0d0887\"],[0.1111111111111111,\"#46039f\"],[0.2222222222222222,\"#7201a8\"],[0.3333333333333333,\"#9c179e\"],[0.4444444444444444,\"#bd3786\"],[0.5555555555555556,\"#d8576b\"],[0.6666666666666666,\"#ed7953\"],[0.7777777777777778,\"#fb9f3a\"],[0.8888888888888888,\"#fdca26\"],[1.0,\"#f0f921\"]]}],\"heatmapgl\":[{\"type\":\"heatmapgl\",\"colorbar\":{\"outlinewidth\":0,\"ticks\":\"\"},\"colorscale\":[[0.0,\"#0d0887\"],[0.1111111111111111,\"#46039f\"],[0.2222222222222222,\"#7201a8\"],[0.3333333333333333,\"#9c179e\"],[0.4444444444444444,\"#bd3786\"],[0.5555555555555556,\"#d8576b\"],[0.6666666666666666,\"#ed7953\"],[0.7777777777777778,\"#fb9f3a\"],[0.8888888888888888,\"#fdca26\"],[1.0,\"#f0f921\"]]}],\"contourcarpet\":[{\"type\":\"contourcarpet\",\"colorbar\":{\"outlinewidth\":0,\"ticks\":\"\"}}],\"contour\":[{\"type\":\"contour\",\"colorbar\":{\"outlinewidth\":0,\"ticks\":\"\"},\"colorscale\":[[0.0,\"#0d0887\"],[0.1111111111111111,\"#46039f\"],[0.2222222222222222,\"#7201a8\"],[0.3333333333333333,\"#9c179e\"],[0.4444444444444444,\"#bd3786\"],[0.5555555555555556,\"#d8576b\"],[0.6666666666666666,\"#ed7953\"],[0.7777777777777778,\"#fb9f3a\"],[0.8888888888888888,\"#fdca26\"],[1.0,\"#f0f921\"]]}],\"surface\":[{\"type\":\"surface\",\"colorbar\":{\"outlinewidth\":0,\"ticks\":\"\"},\"colorscale\":[[0.0,\"#0d0887\"],[0.1111111111111111,\"#46039f\"],[0.2222222222222222,\"#7201a8\"],[0.3333333333333333,\"#9c179e\"],[0.4444444444444444,\"#bd3786\"],[0.5555555555555556,\"#d8576b\"],[0.6666666666666666,\"#ed7953\"],[0.7777777777777778,\"#fb9f3a\"],[0.8888888888888888,\"#fdca26\"],[1.0,\"#f0f921\"]]}],\"mesh3d\":[{\"type\":\"mesh3d\",\"colorbar\":{\"outlinewidth\":0,\"ticks\":\"\"}}],\"scatter\":[{\"fillpattern\":{\"fillmode\":\"overlay\",\"size\":10,\"solidity\":0.2},\"type\":\"scatter\"}],\"parcoords\":[{\"type\":\"parcoords\",\"line\":{\"colorbar\":{\"outlinewidth\":0,\"ticks\":\"\"}}}],\"scatterpolargl\":[{\"type\":\"scatterpolargl\",\"marker\":{\"colorbar\":{\"outlinewidth\":0,\"ticks\":\"\"}}}],\"bar\":[{\"error_x\":{\"color\":\"#2a3f5f\"},\"error_y\":{\"color\":\"#2a3f5f\"},\"marker\":{\"line\":{\"color\":\"#E5ECF6\",\"width\":0.5},\"pattern\":{\"fillmode\":\"overlay\",\"size\":10,\"solidity\":0.2}},\"type\":\"bar\"}],\"scattergeo\":[{\"type\":\"scattergeo\",\"marker\":{\"colorbar\":{\"outlinewidth\":0,\"ticks\":\"\"}}}],\"scatterpolar\":[{\"type\":\"scatterpolar\",\"marker\":{\"colorbar\":{\"outlinewidth\":0,\"ticks\":\"\"}}}],\"histogram\":[{\"marker\":{\"pattern\":{\"fillmode\":\"overlay\",\"size\":10,\"solidity\":0.2}},\"type\":\"histogram\"}],\"scattergl\":[{\"type\":\"scattergl\",\"marker\":{\"colorbar\":{\"outlinewidth\":0,\"ticks\":\"\"}}}],\"scatter3d\":[{\"type\":\"scatter3d\",\"line\":{\"colorbar\":{\"outlinewidth\":0,\"ticks\":\"\"}},\"marker\":{\"colorbar\":{\"outlinewidth\":0,\"ticks\":\"\"}}}],\"scattermapbox\":[{\"type\":\"scattermapbox\",\"marker\":{\"colorbar\":{\"outlinewidth\":0,\"ticks\":\"\"}}}],\"scatterternary\":[{\"type\":\"scatterternary\",\"marker\":{\"colorbar\":{\"outlinewidth\":0,\"ticks\":\"\"}}}],\"scattercarpet\":[{\"type\":\"scattercarpet\",\"marker\":{\"colorbar\":{\"outlinewidth\":0,\"ticks\":\"\"}}}],\"carpet\":[{\"aaxis\":{\"endlinecolor\":\"#2a3f5f\",\"gridcolor\":\"white\",\"linecolor\":\"white\",\"minorgridcolor\":\"white\",\"startlinecolor\":\"#2a3f5f\"},\"baxis\":{\"endlinecolor\":\"#2a3f5f\",\"gridcolor\":\"white\",\"linecolor\":\"white\",\"minorgridcolor\":\"white\",\"startlinecolor\":\"#2a3f5f\"},\"type\":\"carpet\"}],\"table\":[{\"cells\":{\"fill\":{\"color\":\"#EBF0F8\"},\"line\":{\"color\":\"white\"}},\"header\":{\"fill\":{\"color\":\"#C8D4E3\"},\"line\":{\"color\":\"white\"}},\"type\":\"table\"}],\"barpolar\":[{\"marker\":{\"line\":{\"color\":\"#E5ECF6\",\"width\":0.5},\"pattern\":{\"fillmode\":\"overlay\",\"size\":10,\"solidity\":0.2}},\"type\":\"barpolar\"}],\"pie\":[{\"automargin\":true,\"type\":\"pie\"}]},\"layout\":{\"autotypenumbers\":\"strict\",\"colorway\":[\"#636efa\",\"#EF553B\",\"#00cc96\",\"#ab63fa\",\"#FFA15A\",\"#19d3f3\",\"#FF6692\",\"#B6E880\",\"#FF97FF\",\"#FECB52\"],\"font\":{\"color\":\"#2a3f5f\"},\"hovermode\":\"closest\",\"hoverlabel\":{\"align\":\"left\"},\"paper_bgcolor\":\"white\",\"plot_bgcolor\":\"#E5ECF6\",\"polar\":{\"bgcolor\":\"#E5ECF6\",\"angularaxis\":{\"gridcolor\":\"white\",\"linecolor\":\"white\",\"ticks\":\"\"},\"radialaxis\":{\"gridcolor\":\"white\",\"linecolor\":\"white\",\"ticks\":\"\"}},\"ternary\":{\"bgcolor\":\"#E5ECF6\",\"aaxis\":{\"gridcolor\":\"white\",\"linecolor\":\"white\",\"ticks\":\"\"},\"baxis\":{\"gridcolor\":\"white\",\"linecolor\":\"white\",\"ticks\":\"\"},\"caxis\":{\"gridcolor\":\"white\",\"linecolor\":\"white\",\"ticks\":\"\"}},\"coloraxis\":{\"colorbar\":{\"outlinewidth\":0,\"ticks\":\"\"}},\"colorscale\":{\"sequential\":[[0.0,\"#0d0887\"],[0.1111111111111111,\"#46039f\"],[0.2222222222222222,\"#7201a8\"],[0.3333333333333333,\"#9c179e\"],[0.4444444444444444,\"#bd3786\"],[0.5555555555555556,\"#d8576b\"],[0.6666666666666666,\"#ed7953\"],[0.7777777777777778,\"#fb9f3a\"],[0.8888888888888888,\"#fdca26\"],[1.0,\"#f0f921\"]],\"sequentialminus\":[[0.0,\"#0d0887\"],[0.1111111111111111,\"#46039f\"],[0.2222222222222222,\"#7201a8\"],[0.3333333333333333,\"#9c179e\"],[0.4444444444444444,\"#bd3786\"],[0.5555555555555556,\"#d8576b\"],[0.6666666666666666,\"#ed7953\"],[0.7777777777777778,\"#fb9f3a\"],[0.8888888888888888,\"#fdca26\"],[1.0,\"#f0f921\"]],\"diverging\":[[0,\"#8e0152\"],[0.1,\"#c51b7d\"],[0.2,\"#de77ae\"],[0.3,\"#f1b6da\"],[0.4,\"#fde0ef\"],[0.5,\"#f7f7f7\"],[0.6,\"#e6f5d0\"],[0.7,\"#b8e186\"],[0.8,\"#7fbc41\"],[0.9,\"#4d9221\"],[1,\"#276419\"]]},\"xaxis\":{\"gridcolor\":\"white\",\"linecolor\":\"white\",\"ticks\":\"\",\"title\":{\"standoff\":15},\"zerolinecolor\":\"white\",\"automargin\":true,\"zerolinewidth\":2},\"yaxis\":{\"gridcolor\":\"white\",\"linecolor\":\"white\",\"ticks\":\"\",\"title\":{\"standoff\":15},\"zerolinecolor\":\"white\",\"automargin\":true,\"zerolinewidth\":2},\"scene\":{\"xaxis\":{\"backgroundcolor\":\"#E5ECF6\",\"gridcolor\":\"white\",\"linecolor\":\"white\",\"showbackground\":true,\"ticks\":\"\",\"zerolinecolor\":\"white\",\"gridwidth\":2},\"yaxis\":{\"backgroundcolor\":\"#E5ECF6\",\"gridcolor\":\"white\",\"linecolor\":\"white\",\"showbackground\":true,\"ticks\":\"\",\"zerolinecolor\":\"white\",\"gridwidth\":2},\"zaxis\":{\"backgroundcolor\":\"#E5ECF6\",\"gridcolor\":\"white\",\"linecolor\":\"white\",\"showbackground\":true,\"ticks\":\"\",\"zerolinecolor\":\"white\",\"gridwidth\":2}},\"shapedefaults\":{\"line\":{\"color\":\"#2a3f5f\"}},\"annotationdefaults\":{\"arrowcolor\":\"#2a3f5f\",\"arrowhead\":0,\"arrowwidth\":1},\"geo\":{\"bgcolor\":\"white\",\"landcolor\":\"#E5ECF6\",\"subunitcolor\":\"white\",\"showland\":true,\"showlakes\":true,\"lakecolor\":\"white\"},\"title\":{\"x\":0.05},\"mapbox\":{\"style\":\"light\"}}},\"xaxis\":{\"anchor\":\"y\",\"domain\":[0.0,1.0],\"title\":{\"text\":\"duration\"},\"range\":[0,96]},\"yaxis\":{\"anchor\":\"x\",\"domain\":[0.0,1.0],\"title\":{\"text\":\"machine\"}},\"coloraxis\":{\"colorbar\":{\"title\":{\"text\":\"reward\"}},\"colorscale\":[[0.0,\"#0d0887\"],[0.1111111111111111,\"#46039f\"],[0.2222222222222222,\"#7201a8\"],[0.3333333333333333,\"#9c179e\"],[0.4444444444444444,\"#bd3786\"],[0.5555555555555556,\"#d8576b\"],[0.6666666666666666,\"#ed7953\"],[0.7777777777777778,\"#fb9f3a\"],[0.8888888888888888,\"#fdca26\"],[1.0,\"#f0f921\"]]},\"legend\":{\"tracegroupgap\":0},\"margin\":{\"t\":60},\"barmode\":\"relative\"},                        {\"responsive\": true}                    ).then(function(){\n",
       "                            \n",
       "var gd = document.getElementById('a82eac02-8cf6-4f24-9983-87369e937da0');\n",
       "var x = new MutationObserver(function (mutations, observer) {{\n",
       "        var display = window.getComputedStyle(gd).display;\n",
       "        if (!display || display === 'none') {{\n",
       "            console.log([gd, 'removed!']);\n",
       "            Plotly.purge(gd);\n",
       "            observer.disconnect();\n",
       "        }}\n",
       "}});\n",
       "\n",
       "// Listen for the removal of the full notebook cells\n",
       "var notebookContainer = gd.closest('#notebook-container');\n",
       "if (notebookContainer) {{\n",
       "    x.observe(notebookContainer, {childList: true});\n",
       "}}\n",
       "\n",
       "// Listen for the clearing of the current output cell\n",
       "var outputEl = gd.closest('.output');\n",
       "if (outputEl) {{\n",
       "    x.observe(outputEl, {childList: true});\n",
       "}}\n",
       "\n",
       "                        })                };                });            </script>        </div>"
      ]
     },
     "metadata": {},
     "output_type": "display_data"
    },
    {
     "data": {
      "application/vnd.plotly.v1+json": {
       "config": {
        "plotlyServerURL": "https://plot.ly"
       },
       "data": [
        {
         "hovertemplate": "variable=0<br>index=%{x}<br>value=%{y}<extra></extra>",
         "legendgroup": "0",
         "line": {
          "color": "#636efa",
          "dash": "solid",
          "shape": "hv"
         },
         "marker": {
          "symbol": "circle"
         },
         "mode": "lines",
         "name": "0",
         "orientation": "v",
         "showlegend": true,
         "type": "scatter",
         "x": [
          0,
          1,
          2,
          3,
          4,
          5,
          6,
          7,
          8,
          9,
          10,
          11,
          12,
          13,
          14,
          15,
          16,
          17,
          18,
          19,
          20,
          21,
          22,
          23,
          24,
          25,
          26,
          27,
          28,
          29,
          30,
          31,
          32,
          33,
          34,
          35,
          36,
          37,
          38,
          39,
          40,
          41,
          42,
          43,
          44,
          45,
          46,
          47,
          48,
          49,
          50,
          51,
          52,
          53,
          54,
          55,
          56,
          57,
          58,
          59,
          60,
          61,
          62,
          63,
          64,
          65,
          66,
          67,
          68,
          69,
          70,
          71,
          72,
          73,
          74,
          75,
          76,
          77,
          78,
          79,
          80,
          81,
          82,
          83,
          84,
          85,
          86,
          87,
          88,
          89,
          90,
          91,
          92,
          93,
          94,
          95,
          96,
          97,
          98,
          99,
          100,
          101,
          102,
          103,
          104,
          105,
          106,
          107,
          108,
          109
         ],
         "xaxis": "x",
         "y": [
          1,
          1,
          1,
          1,
          1,
          1,
          1,
          1,
          1,
          1,
          1,
          1,
          2,
          1,
          1,
          1,
          1,
          1,
          1,
          1,
          1,
          1,
          1,
          1,
          1,
          1,
          1,
          1,
          1,
          1,
          1,
          1,
          1,
          1,
          1,
          1,
          1,
          1,
          1,
          1,
          1,
          1,
          1,
          1,
          1,
          1,
          1,
          1,
          1,
          1,
          1,
          1,
          1,
          1,
          1,
          1,
          1,
          1,
          1,
          1,
          1,
          1,
          1,
          1,
          1,
          1,
          1,
          1,
          1,
          1,
          1,
          1,
          1,
          1,
          1,
          2,
          2,
          2,
          2,
          1,
          1,
          1,
          1,
          1,
          1,
          1,
          1,
          1,
          1,
          1,
          1,
          1,
          1,
          1,
          1,
          1,
          1,
          1,
          1,
          1,
          1,
          1,
          1,
          1,
          1,
          1,
          1,
          1,
          1,
          1
         ],
         "yaxis": "y"
        }
       ],
       "layout": {
        "legend": {
         "title": {
          "text": "variable"
         },
         "tracegroupgap": 0
        },
        "margin": {
         "t": 60
        },
        "template": {
         "data": {
          "bar": [
           {
            "error_x": {
             "color": "#2a3f5f"
            },
            "error_y": {
             "color": "#2a3f5f"
            },
            "marker": {
             "line": {
              "color": "#E5ECF6",
              "width": 0.5
             },
             "pattern": {
              "fillmode": "overlay",
              "size": 10,
              "solidity": 0.2
             }
            },
            "type": "bar"
           }
          ],
          "barpolar": [
           {
            "marker": {
             "line": {
              "color": "#E5ECF6",
              "width": 0.5
             },
             "pattern": {
              "fillmode": "overlay",
              "size": 10,
              "solidity": 0.2
             }
            },
            "type": "barpolar"
           }
          ],
          "carpet": [
           {
            "aaxis": {
             "endlinecolor": "#2a3f5f",
             "gridcolor": "white",
             "linecolor": "white",
             "minorgridcolor": "white",
             "startlinecolor": "#2a3f5f"
            },
            "baxis": {
             "endlinecolor": "#2a3f5f",
             "gridcolor": "white",
             "linecolor": "white",
             "minorgridcolor": "white",
             "startlinecolor": "#2a3f5f"
            },
            "type": "carpet"
           }
          ],
          "choropleth": [
           {
            "colorbar": {
             "outlinewidth": 0,
             "ticks": ""
            },
            "type": "choropleth"
           }
          ],
          "contour": [
           {
            "colorbar": {
             "outlinewidth": 0,
             "ticks": ""
            },
            "colorscale": [
             [
              0,
              "#0d0887"
             ],
             [
              0.1111111111111111,
              "#46039f"
             ],
             [
              0.2222222222222222,
              "#7201a8"
             ],
             [
              0.3333333333333333,
              "#9c179e"
             ],
             [
              0.4444444444444444,
              "#bd3786"
             ],
             [
              0.5555555555555556,
              "#d8576b"
             ],
             [
              0.6666666666666666,
              "#ed7953"
             ],
             [
              0.7777777777777778,
              "#fb9f3a"
             ],
             [
              0.8888888888888888,
              "#fdca26"
             ],
             [
              1,
              "#f0f921"
             ]
            ],
            "type": "contour"
           }
          ],
          "contourcarpet": [
           {
            "colorbar": {
             "outlinewidth": 0,
             "ticks": ""
            },
            "type": "contourcarpet"
           }
          ],
          "heatmap": [
           {
            "colorbar": {
             "outlinewidth": 0,
             "ticks": ""
            },
            "colorscale": [
             [
              0,
              "#0d0887"
             ],
             [
              0.1111111111111111,
              "#46039f"
             ],
             [
              0.2222222222222222,
              "#7201a8"
             ],
             [
              0.3333333333333333,
              "#9c179e"
             ],
             [
              0.4444444444444444,
              "#bd3786"
             ],
             [
              0.5555555555555556,
              "#d8576b"
             ],
             [
              0.6666666666666666,
              "#ed7953"
             ],
             [
              0.7777777777777778,
              "#fb9f3a"
             ],
             [
              0.8888888888888888,
              "#fdca26"
             ],
             [
              1,
              "#f0f921"
             ]
            ],
            "type": "heatmap"
           }
          ],
          "heatmapgl": [
           {
            "colorbar": {
             "outlinewidth": 0,
             "ticks": ""
            },
            "colorscale": [
             [
              0,
              "#0d0887"
             ],
             [
              0.1111111111111111,
              "#46039f"
             ],
             [
              0.2222222222222222,
              "#7201a8"
             ],
             [
              0.3333333333333333,
              "#9c179e"
             ],
             [
              0.4444444444444444,
              "#bd3786"
             ],
             [
              0.5555555555555556,
              "#d8576b"
             ],
             [
              0.6666666666666666,
              "#ed7953"
             ],
             [
              0.7777777777777778,
              "#fb9f3a"
             ],
             [
              0.8888888888888888,
              "#fdca26"
             ],
             [
              1,
              "#f0f921"
             ]
            ],
            "type": "heatmapgl"
           }
          ],
          "histogram": [
           {
            "marker": {
             "pattern": {
              "fillmode": "overlay",
              "size": 10,
              "solidity": 0.2
             }
            },
            "type": "histogram"
           }
          ],
          "histogram2d": [
           {
            "colorbar": {
             "outlinewidth": 0,
             "ticks": ""
            },
            "colorscale": [
             [
              0,
              "#0d0887"
             ],
             [
              0.1111111111111111,
              "#46039f"
             ],
             [
              0.2222222222222222,
              "#7201a8"
             ],
             [
              0.3333333333333333,
              "#9c179e"
             ],
             [
              0.4444444444444444,
              "#bd3786"
             ],
             [
              0.5555555555555556,
              "#d8576b"
             ],
             [
              0.6666666666666666,
              "#ed7953"
             ],
             [
              0.7777777777777778,
              "#fb9f3a"
             ],
             [
              0.8888888888888888,
              "#fdca26"
             ],
             [
              1,
              "#f0f921"
             ]
            ],
            "type": "histogram2d"
           }
          ],
          "histogram2dcontour": [
           {
            "colorbar": {
             "outlinewidth": 0,
             "ticks": ""
            },
            "colorscale": [
             [
              0,
              "#0d0887"
             ],
             [
              0.1111111111111111,
              "#46039f"
             ],
             [
              0.2222222222222222,
              "#7201a8"
             ],
             [
              0.3333333333333333,
              "#9c179e"
             ],
             [
              0.4444444444444444,
              "#bd3786"
             ],
             [
              0.5555555555555556,
              "#d8576b"
             ],
             [
              0.6666666666666666,
              "#ed7953"
             ],
             [
              0.7777777777777778,
              "#fb9f3a"
             ],
             [
              0.8888888888888888,
              "#fdca26"
             ],
             [
              1,
              "#f0f921"
             ]
            ],
            "type": "histogram2dcontour"
           }
          ],
          "mesh3d": [
           {
            "colorbar": {
             "outlinewidth": 0,
             "ticks": ""
            },
            "type": "mesh3d"
           }
          ],
          "parcoords": [
           {
            "line": {
             "colorbar": {
              "outlinewidth": 0,
              "ticks": ""
             }
            },
            "type": "parcoords"
           }
          ],
          "pie": [
           {
            "automargin": true,
            "type": "pie"
           }
          ],
          "scatter": [
           {
            "fillpattern": {
             "fillmode": "overlay",
             "size": 10,
             "solidity": 0.2
            },
            "type": "scatter"
           }
          ],
          "scatter3d": [
           {
            "line": {
             "colorbar": {
              "outlinewidth": 0,
              "ticks": ""
             }
            },
            "marker": {
             "colorbar": {
              "outlinewidth": 0,
              "ticks": ""
             }
            },
            "type": "scatter3d"
           }
          ],
          "scattercarpet": [
           {
            "marker": {
             "colorbar": {
              "outlinewidth": 0,
              "ticks": ""
             }
            },
            "type": "scattercarpet"
           }
          ],
          "scattergeo": [
           {
            "marker": {
             "colorbar": {
              "outlinewidth": 0,
              "ticks": ""
             }
            },
            "type": "scattergeo"
           }
          ],
          "scattergl": [
           {
            "marker": {
             "colorbar": {
              "outlinewidth": 0,
              "ticks": ""
             }
            },
            "type": "scattergl"
           }
          ],
          "scattermapbox": [
           {
            "marker": {
             "colorbar": {
              "outlinewidth": 0,
              "ticks": ""
             }
            },
            "type": "scattermapbox"
           }
          ],
          "scatterpolar": [
           {
            "marker": {
             "colorbar": {
              "outlinewidth": 0,
              "ticks": ""
             }
            },
            "type": "scatterpolar"
           }
          ],
          "scatterpolargl": [
           {
            "marker": {
             "colorbar": {
              "outlinewidth": 0,
              "ticks": ""
             }
            },
            "type": "scatterpolargl"
           }
          ],
          "scatterternary": [
           {
            "marker": {
             "colorbar": {
              "outlinewidth": 0,
              "ticks": ""
             }
            },
            "type": "scatterternary"
           }
          ],
          "surface": [
           {
            "colorbar": {
             "outlinewidth": 0,
             "ticks": ""
            },
            "colorscale": [
             [
              0,
              "#0d0887"
             ],
             [
              0.1111111111111111,
              "#46039f"
             ],
             [
              0.2222222222222222,
              "#7201a8"
             ],
             [
              0.3333333333333333,
              "#9c179e"
             ],
             [
              0.4444444444444444,
              "#bd3786"
             ],
             [
              0.5555555555555556,
              "#d8576b"
             ],
             [
              0.6666666666666666,
              "#ed7953"
             ],
             [
              0.7777777777777778,
              "#fb9f3a"
             ],
             [
              0.8888888888888888,
              "#fdca26"
             ],
             [
              1,
              "#f0f921"
             ]
            ],
            "type": "surface"
           }
          ],
          "table": [
           {
            "cells": {
             "fill": {
              "color": "#EBF0F8"
             },
             "line": {
              "color": "white"
             }
            },
            "header": {
             "fill": {
              "color": "#C8D4E3"
             },
             "line": {
              "color": "white"
             }
            },
            "type": "table"
           }
          ]
         },
         "layout": {
          "annotationdefaults": {
           "arrowcolor": "#2a3f5f",
           "arrowhead": 0,
           "arrowwidth": 1
          },
          "autotypenumbers": "strict",
          "coloraxis": {
           "colorbar": {
            "outlinewidth": 0,
            "ticks": ""
           }
          },
          "colorscale": {
           "diverging": [
            [
             0,
             "#8e0152"
            ],
            [
             0.1,
             "#c51b7d"
            ],
            [
             0.2,
             "#de77ae"
            ],
            [
             0.3,
             "#f1b6da"
            ],
            [
             0.4,
             "#fde0ef"
            ],
            [
             0.5,
             "#f7f7f7"
            ],
            [
             0.6,
             "#e6f5d0"
            ],
            [
             0.7,
             "#b8e186"
            ],
            [
             0.8,
             "#7fbc41"
            ],
            [
             0.9,
             "#4d9221"
            ],
            [
             1,
             "#276419"
            ]
           ],
           "sequential": [
            [
             0,
             "#0d0887"
            ],
            [
             0.1111111111111111,
             "#46039f"
            ],
            [
             0.2222222222222222,
             "#7201a8"
            ],
            [
             0.3333333333333333,
             "#9c179e"
            ],
            [
             0.4444444444444444,
             "#bd3786"
            ],
            [
             0.5555555555555556,
             "#d8576b"
            ],
            [
             0.6666666666666666,
             "#ed7953"
            ],
            [
             0.7777777777777778,
             "#fb9f3a"
            ],
            [
             0.8888888888888888,
             "#fdca26"
            ],
            [
             1,
             "#f0f921"
            ]
           ],
           "sequentialminus": [
            [
             0,
             "#0d0887"
            ],
            [
             0.1111111111111111,
             "#46039f"
            ],
            [
             0.2222222222222222,
             "#7201a8"
            ],
            [
             0.3333333333333333,
             "#9c179e"
            ],
            [
             0.4444444444444444,
             "#bd3786"
            ],
            [
             0.5555555555555556,
             "#d8576b"
            ],
            [
             0.6666666666666666,
             "#ed7953"
            ],
            [
             0.7777777777777778,
             "#fb9f3a"
            ],
            [
             0.8888888888888888,
             "#fdca26"
            ],
            [
             1,
             "#f0f921"
            ]
           ]
          },
          "colorway": [
           "#636efa",
           "#EF553B",
           "#00cc96",
           "#ab63fa",
           "#FFA15A",
           "#19d3f3",
           "#FF6692",
           "#B6E880",
           "#FF97FF",
           "#FECB52"
          ],
          "font": {
           "color": "#2a3f5f"
          },
          "geo": {
           "bgcolor": "white",
           "lakecolor": "white",
           "landcolor": "#E5ECF6",
           "showlakes": true,
           "showland": true,
           "subunitcolor": "white"
          },
          "hoverlabel": {
           "align": "left"
          },
          "hovermode": "closest",
          "mapbox": {
           "style": "light"
          },
          "paper_bgcolor": "white",
          "plot_bgcolor": "#E5ECF6",
          "polar": {
           "angularaxis": {
            "gridcolor": "white",
            "linecolor": "white",
            "ticks": ""
           },
           "bgcolor": "#E5ECF6",
           "radialaxis": {
            "gridcolor": "white",
            "linecolor": "white",
            "ticks": ""
           }
          },
          "scene": {
           "xaxis": {
            "backgroundcolor": "#E5ECF6",
            "gridcolor": "white",
            "gridwidth": 2,
            "linecolor": "white",
            "showbackground": true,
            "ticks": "",
            "zerolinecolor": "white"
           },
           "yaxis": {
            "backgroundcolor": "#E5ECF6",
            "gridcolor": "white",
            "gridwidth": 2,
            "linecolor": "white",
            "showbackground": true,
            "ticks": "",
            "zerolinecolor": "white"
           },
           "zaxis": {
            "backgroundcolor": "#E5ECF6",
            "gridcolor": "white",
            "gridwidth": 2,
            "linecolor": "white",
            "showbackground": true,
            "ticks": "",
            "zerolinecolor": "white"
           }
          },
          "shapedefaults": {
           "line": {
            "color": "#2a3f5f"
           }
          },
          "ternary": {
           "aaxis": {
            "gridcolor": "white",
            "linecolor": "white",
            "ticks": ""
           },
           "baxis": {
            "gridcolor": "white",
            "linecolor": "white",
            "ticks": ""
           },
           "bgcolor": "#E5ECF6",
           "caxis": {
            "gridcolor": "white",
            "linecolor": "white",
            "ticks": ""
           }
          },
          "title": {
           "x": 0.05
          },
          "xaxis": {
           "automargin": true,
           "gridcolor": "white",
           "linecolor": "white",
           "ticks": "",
           "title": {
            "standoff": 15
           },
           "zerolinecolor": "white",
           "zerolinewidth": 2
          },
          "yaxis": {
           "automargin": true,
           "gridcolor": "white",
           "linecolor": "white",
           "ticks": "",
           "title": {
            "standoff": 15
           },
           "zerolinecolor": "white",
           "zerolinewidth": 2
          }
         }
        },
        "xaxis": {
         "anchor": "y",
         "domain": [
          0,
          1
         ],
         "range": [
          0,
          96
         ],
         "title": {
          "text": "index"
         }
        },
        "yaxis": {
         "anchor": "x",
         "domain": [
          0,
          1
         ],
         "title": {
          "text": "value"
         }
        }
       }
      },
      "text/html": [
       "<div>                            <div id=\"1f269891-88fd-4ea1-a516-ba83c7948696\" class=\"plotly-graph-div\" style=\"height:525px; width:100%;\"></div>            <script type=\"text/javascript\">                require([\"plotly\"], function(Plotly) {                    window.PLOTLYENV=window.PLOTLYENV || {};                                    if (document.getElementById(\"1f269891-88fd-4ea1-a516-ba83c7948696\")) {                    Plotly.newPlot(                        \"1f269891-88fd-4ea1-a516-ba83c7948696\",                        [{\"hovertemplate\":\"variable=0\\u003cbr\\u003eindex=%{x}\\u003cbr\\u003evalue=%{y}\\u003cextra\\u003e\\u003c\\u002fextra\\u003e\",\"legendgroup\":\"0\",\"line\":{\"color\":\"#636efa\",\"dash\":\"solid\",\"shape\":\"hv\"},\"marker\":{\"symbol\":\"circle\"},\"mode\":\"lines\",\"name\":\"0\",\"orientation\":\"v\",\"showlegend\":true,\"x\":[0,1,2,3,4,5,6,7,8,9,10,11,12,13,14,15,16,17,18,19,20,21,22,23,24,25,26,27,28,29,30,31,32,33,34,35,36,37,38,39,40,41,42,43,44,45,46,47,48,49,50,51,52,53,54,55,56,57,58,59,60,61,62,63,64,65,66,67,68,69,70,71,72,73,74,75,76,77,78,79,80,81,82,83,84,85,86,87,88,89,90,91,92,93,94,95,96,97,98,99,100,101,102,103,104,105,106,107,108,109],\"xaxis\":\"x\",\"y\":[1.0,1.0,1.0,1.0,1.0,1.0,1.0,1.0,1.0,1.0,1.0,1.0,2.0,1.0,1.0,1.0,1.0,1.0,1.0,1.0,1.0,1.0,1.0,1.0,1.0,1.0,1.0,1.0,1.0,1.0,1.0,1.0,1.0,1.0,1.0,1.0,1.0,1.0,1.0,1.0,1.0,1.0,1.0,1.0,1.0,1.0,1.0,1.0,1.0,1.0,1.0,1.0,1.0,1.0,1.0,1.0,1.0,1.0,1.0,1.0,1.0,1.0,1.0,1.0,1.0,1.0,1.0,1.0,1.0,1.0,1.0,1.0,1.0,1.0,1.0,2.0,2.0,2.0,2.0,1.0,1.0,1.0,1.0,1.0,1.0,1.0,1.0,1.0,1.0,1.0,1.0,1.0,1.0,1.0,1.0,1.0,1.0,1.0,1.0,1.0,1.0,1.0,1.0,1.0,1.0,1.0,1.0,1.0,1.0,1.0],\"yaxis\":\"y\",\"type\":\"scatter\"}],                        {\"template\":{\"data\":{\"histogram2dcontour\":[{\"type\":\"histogram2dcontour\",\"colorbar\":{\"outlinewidth\":0,\"ticks\":\"\"},\"colorscale\":[[0.0,\"#0d0887\"],[0.1111111111111111,\"#46039f\"],[0.2222222222222222,\"#7201a8\"],[0.3333333333333333,\"#9c179e\"],[0.4444444444444444,\"#bd3786\"],[0.5555555555555556,\"#d8576b\"],[0.6666666666666666,\"#ed7953\"],[0.7777777777777778,\"#fb9f3a\"],[0.8888888888888888,\"#fdca26\"],[1.0,\"#f0f921\"]]}],\"choropleth\":[{\"type\":\"choropleth\",\"colorbar\":{\"outlinewidth\":0,\"ticks\":\"\"}}],\"histogram2d\":[{\"type\":\"histogram2d\",\"colorbar\":{\"outlinewidth\":0,\"ticks\":\"\"},\"colorscale\":[[0.0,\"#0d0887\"],[0.1111111111111111,\"#46039f\"],[0.2222222222222222,\"#7201a8\"],[0.3333333333333333,\"#9c179e\"],[0.4444444444444444,\"#bd3786\"],[0.5555555555555556,\"#d8576b\"],[0.6666666666666666,\"#ed7953\"],[0.7777777777777778,\"#fb9f3a\"],[0.8888888888888888,\"#fdca26\"],[1.0,\"#f0f921\"]]}],\"heatmap\":[{\"type\":\"heatmap\",\"colorbar\":{\"outlinewidth\":0,\"ticks\":\"\"},\"colorscale\":[[0.0,\"#0d0887\"],[0.1111111111111111,\"#46039f\"],[0.2222222222222222,\"#7201a8\"],[0.3333333333333333,\"#9c179e\"],[0.4444444444444444,\"#bd3786\"],[0.5555555555555556,\"#d8576b\"],[0.6666666666666666,\"#ed7953\"],[0.7777777777777778,\"#fb9f3a\"],[0.8888888888888888,\"#fdca26\"],[1.0,\"#f0f921\"]]}],\"heatmapgl\":[{\"type\":\"heatmapgl\",\"colorbar\":{\"outlinewidth\":0,\"ticks\":\"\"},\"colorscale\":[[0.0,\"#0d0887\"],[0.1111111111111111,\"#46039f\"],[0.2222222222222222,\"#7201a8\"],[0.3333333333333333,\"#9c179e\"],[0.4444444444444444,\"#bd3786\"],[0.5555555555555556,\"#d8576b\"],[0.6666666666666666,\"#ed7953\"],[0.7777777777777778,\"#fb9f3a\"],[0.8888888888888888,\"#fdca26\"],[1.0,\"#f0f921\"]]}],\"contourcarpet\":[{\"type\":\"contourcarpet\",\"colorbar\":{\"outlinewidth\":0,\"ticks\":\"\"}}],\"contour\":[{\"type\":\"contour\",\"colorbar\":{\"outlinewidth\":0,\"ticks\":\"\"},\"colorscale\":[[0.0,\"#0d0887\"],[0.1111111111111111,\"#46039f\"],[0.2222222222222222,\"#7201a8\"],[0.3333333333333333,\"#9c179e\"],[0.4444444444444444,\"#bd3786\"],[0.5555555555555556,\"#d8576b\"],[0.6666666666666666,\"#ed7953\"],[0.7777777777777778,\"#fb9f3a\"],[0.8888888888888888,\"#fdca26\"],[1.0,\"#f0f921\"]]}],\"surface\":[{\"type\":\"surface\",\"colorbar\":{\"outlinewidth\":0,\"ticks\":\"\"},\"colorscale\":[[0.0,\"#0d0887\"],[0.1111111111111111,\"#46039f\"],[0.2222222222222222,\"#7201a8\"],[0.3333333333333333,\"#9c179e\"],[0.4444444444444444,\"#bd3786\"],[0.5555555555555556,\"#d8576b\"],[0.6666666666666666,\"#ed7953\"],[0.7777777777777778,\"#fb9f3a\"],[0.8888888888888888,\"#fdca26\"],[1.0,\"#f0f921\"]]}],\"mesh3d\":[{\"type\":\"mesh3d\",\"colorbar\":{\"outlinewidth\":0,\"ticks\":\"\"}}],\"scatter\":[{\"fillpattern\":{\"fillmode\":\"overlay\",\"size\":10,\"solidity\":0.2},\"type\":\"scatter\"}],\"parcoords\":[{\"type\":\"parcoords\",\"line\":{\"colorbar\":{\"outlinewidth\":0,\"ticks\":\"\"}}}],\"scatterpolargl\":[{\"type\":\"scatterpolargl\",\"marker\":{\"colorbar\":{\"outlinewidth\":0,\"ticks\":\"\"}}}],\"bar\":[{\"error_x\":{\"color\":\"#2a3f5f\"},\"error_y\":{\"color\":\"#2a3f5f\"},\"marker\":{\"line\":{\"color\":\"#E5ECF6\",\"width\":0.5},\"pattern\":{\"fillmode\":\"overlay\",\"size\":10,\"solidity\":0.2}},\"type\":\"bar\"}],\"scattergeo\":[{\"type\":\"scattergeo\",\"marker\":{\"colorbar\":{\"outlinewidth\":0,\"ticks\":\"\"}}}],\"scatterpolar\":[{\"type\":\"scatterpolar\",\"marker\":{\"colorbar\":{\"outlinewidth\":0,\"ticks\":\"\"}}}],\"histogram\":[{\"marker\":{\"pattern\":{\"fillmode\":\"overlay\",\"size\":10,\"solidity\":0.2}},\"type\":\"histogram\"}],\"scattergl\":[{\"type\":\"scattergl\",\"marker\":{\"colorbar\":{\"outlinewidth\":0,\"ticks\":\"\"}}}],\"scatter3d\":[{\"type\":\"scatter3d\",\"line\":{\"colorbar\":{\"outlinewidth\":0,\"ticks\":\"\"}},\"marker\":{\"colorbar\":{\"outlinewidth\":0,\"ticks\":\"\"}}}],\"scattermapbox\":[{\"type\":\"scattermapbox\",\"marker\":{\"colorbar\":{\"outlinewidth\":0,\"ticks\":\"\"}}}],\"scatterternary\":[{\"type\":\"scatterternary\",\"marker\":{\"colorbar\":{\"outlinewidth\":0,\"ticks\":\"\"}}}],\"scattercarpet\":[{\"type\":\"scattercarpet\",\"marker\":{\"colorbar\":{\"outlinewidth\":0,\"ticks\":\"\"}}}],\"carpet\":[{\"aaxis\":{\"endlinecolor\":\"#2a3f5f\",\"gridcolor\":\"white\",\"linecolor\":\"white\",\"minorgridcolor\":\"white\",\"startlinecolor\":\"#2a3f5f\"},\"baxis\":{\"endlinecolor\":\"#2a3f5f\",\"gridcolor\":\"white\",\"linecolor\":\"white\",\"minorgridcolor\":\"white\",\"startlinecolor\":\"#2a3f5f\"},\"type\":\"carpet\"}],\"table\":[{\"cells\":{\"fill\":{\"color\":\"#EBF0F8\"},\"line\":{\"color\":\"white\"}},\"header\":{\"fill\":{\"color\":\"#C8D4E3\"},\"line\":{\"color\":\"white\"}},\"type\":\"table\"}],\"barpolar\":[{\"marker\":{\"line\":{\"color\":\"#E5ECF6\",\"width\":0.5},\"pattern\":{\"fillmode\":\"overlay\",\"size\":10,\"solidity\":0.2}},\"type\":\"barpolar\"}],\"pie\":[{\"automargin\":true,\"type\":\"pie\"}]},\"layout\":{\"autotypenumbers\":\"strict\",\"colorway\":[\"#636efa\",\"#EF553B\",\"#00cc96\",\"#ab63fa\",\"#FFA15A\",\"#19d3f3\",\"#FF6692\",\"#B6E880\",\"#FF97FF\",\"#FECB52\"],\"font\":{\"color\":\"#2a3f5f\"},\"hovermode\":\"closest\",\"hoverlabel\":{\"align\":\"left\"},\"paper_bgcolor\":\"white\",\"plot_bgcolor\":\"#E5ECF6\",\"polar\":{\"bgcolor\":\"#E5ECF6\",\"angularaxis\":{\"gridcolor\":\"white\",\"linecolor\":\"white\",\"ticks\":\"\"},\"radialaxis\":{\"gridcolor\":\"white\",\"linecolor\":\"white\",\"ticks\":\"\"}},\"ternary\":{\"bgcolor\":\"#E5ECF6\",\"aaxis\":{\"gridcolor\":\"white\",\"linecolor\":\"white\",\"ticks\":\"\"},\"baxis\":{\"gridcolor\":\"white\",\"linecolor\":\"white\",\"ticks\":\"\"},\"caxis\":{\"gridcolor\":\"white\",\"linecolor\":\"white\",\"ticks\":\"\"}},\"coloraxis\":{\"colorbar\":{\"outlinewidth\":0,\"ticks\":\"\"}},\"colorscale\":{\"sequential\":[[0.0,\"#0d0887\"],[0.1111111111111111,\"#46039f\"],[0.2222222222222222,\"#7201a8\"],[0.3333333333333333,\"#9c179e\"],[0.4444444444444444,\"#bd3786\"],[0.5555555555555556,\"#d8576b\"],[0.6666666666666666,\"#ed7953\"],[0.7777777777777778,\"#fb9f3a\"],[0.8888888888888888,\"#fdca26\"],[1.0,\"#f0f921\"]],\"sequentialminus\":[[0.0,\"#0d0887\"],[0.1111111111111111,\"#46039f\"],[0.2222222222222222,\"#7201a8\"],[0.3333333333333333,\"#9c179e\"],[0.4444444444444444,\"#bd3786\"],[0.5555555555555556,\"#d8576b\"],[0.6666666666666666,\"#ed7953\"],[0.7777777777777778,\"#fb9f3a\"],[0.8888888888888888,\"#fdca26\"],[1.0,\"#f0f921\"]],\"diverging\":[[0,\"#8e0152\"],[0.1,\"#c51b7d\"],[0.2,\"#de77ae\"],[0.3,\"#f1b6da\"],[0.4,\"#fde0ef\"],[0.5,\"#f7f7f7\"],[0.6,\"#e6f5d0\"],[0.7,\"#b8e186\"],[0.8,\"#7fbc41\"],[0.9,\"#4d9221\"],[1,\"#276419\"]]},\"xaxis\":{\"gridcolor\":\"white\",\"linecolor\":\"white\",\"ticks\":\"\",\"title\":{\"standoff\":15},\"zerolinecolor\":\"white\",\"automargin\":true,\"zerolinewidth\":2},\"yaxis\":{\"gridcolor\":\"white\",\"linecolor\":\"white\",\"ticks\":\"\",\"title\":{\"standoff\":15},\"zerolinecolor\":\"white\",\"automargin\":true,\"zerolinewidth\":2},\"scene\":{\"xaxis\":{\"backgroundcolor\":\"#E5ECF6\",\"gridcolor\":\"white\",\"linecolor\":\"white\",\"showbackground\":true,\"ticks\":\"\",\"zerolinecolor\":\"white\",\"gridwidth\":2},\"yaxis\":{\"backgroundcolor\":\"#E5ECF6\",\"gridcolor\":\"white\",\"linecolor\":\"white\",\"showbackground\":true,\"ticks\":\"\",\"zerolinecolor\":\"white\",\"gridwidth\":2},\"zaxis\":{\"backgroundcolor\":\"#E5ECF6\",\"gridcolor\":\"white\",\"linecolor\":\"white\",\"showbackground\":true,\"ticks\":\"\",\"zerolinecolor\":\"white\",\"gridwidth\":2}},\"shapedefaults\":{\"line\":{\"color\":\"#2a3f5f\"}},\"annotationdefaults\":{\"arrowcolor\":\"#2a3f5f\",\"arrowhead\":0,\"arrowwidth\":1},\"geo\":{\"bgcolor\":\"white\",\"landcolor\":\"#E5ECF6\",\"subunitcolor\":\"white\",\"showland\":true,\"showlakes\":true,\"lakecolor\":\"white\"},\"title\":{\"x\":0.05},\"mapbox\":{\"style\":\"light\"}}},\"xaxis\":{\"anchor\":\"y\",\"domain\":[0.0,1.0],\"title\":{\"text\":\"index\"},\"range\":[0,96]},\"yaxis\":{\"anchor\":\"x\",\"domain\":[0.0,1.0],\"title\":{\"text\":\"value\"}},\"legend\":{\"title\":{\"text\":\"variable\"},\"tracegroupgap\":0},\"margin\":{\"t\":60}},                        {\"responsive\": true}                    ).then(function(){\n",
       "                            \n",
       "var gd = document.getElementById('1f269891-88fd-4ea1-a516-ba83c7948696');\n",
       "var x = new MutationObserver(function (mutations, observer) {{\n",
       "        var display = window.getComputedStyle(gd).display;\n",
       "        if (!display || display === 'none') {{\n",
       "            console.log([gd, 'removed!']);\n",
       "            Plotly.purge(gd);\n",
       "            observer.disconnect();\n",
       "        }}\n",
       "}});\n",
       "\n",
       "// Listen for the removal of the full notebook cells\n",
       "var notebookContainer = gd.closest('#notebook-container');\n",
       "if (notebookContainer) {{\n",
       "    x.observe(notebookContainer, {childList: true});\n",
       "}}\n",
       "\n",
       "// Listen for the clearing of the current output cell\n",
       "var outputEl = gd.closest('.output');\n",
       "if (outputEl) {{\n",
       "    x.observe(outputEl, {childList: true});\n",
       "}}\n",
       "\n",
       "                        })                };                });            </script>        </div>"
      ]
     },
     "metadata": {},
     "output_type": "display_data"
    },
    {
     "name": "stdout",
     "output_type": "stream",
     "text": [
      "Done: [ True]\n",
      "total_rew [519.5155]\n",
      "completed jobs: 40/40\n"
     ]
    },
    {
     "data": {
      "application/vnd.plotly.v1+json": {
       "config": {
        "plotlyServerURL": "https://plot.ly"
       },
       "data": [
        {
         "alignmentgroup": "True",
         "hovertemplate": "<b>%{hovertext}</b><br><br>duration=%{x}<br>machine=%{y}<br>reward=%{marker.color}<extra></extra>",
         "hovertext": [
          7,
          4,
          4,
          5,
          4,
          7,
          6,
          4,
          5,
          5,
          5,
          4,
          4,
          4,
          0,
          0,
          0,
          0,
          6,
          0,
          0,
          7,
          0,
          0,
          7,
          0,
          0,
          5,
          0,
          0,
          5,
          0,
          0,
          6,
          0,
          0,
          7,
          0,
          0,
          7,
          6,
          0,
          5,
          6,
          0,
          4,
          7,
          0,
          4,
          4,
          0,
          0,
          4,
          0,
          0,
          6,
          0,
          0,
          4,
          0,
          0,
          7,
          0,
          0,
          4,
          0,
          0,
          6,
          0,
          0,
          5,
          5,
          0,
          0,
          7,
          0,
          0,
          7,
          0,
          0,
          5,
          0
         ],
         "legendgroup": "",
         "marker": {
          "color": [
           13.6,
           4.5,
           1.133333333333333,
           10,
           4.5,
           1.733333333333333,
           11.8,
           4.5,
           1.333333333333333,
           9.625,
           5.5,
           1.133333333333333,
           7.7,
           4.4,
           8.75,
           1.75,
           5.25,
           8.75,
           11.657142857142857,
           5.25,
           8.75,
           13.6,
           5.25,
           8.75,
           13.6,
           5.25,
           8.75,
           10,
           5.25,
           8.75,
           10,
           5.25,
           8.75,
           11.8,
           5.25,
           8.75,
           13.6,
           5.25,
           8.75,
           13.6,
           6.5,
           0,
           10,
           6.5,
           0,
           8.2,
           7.5,
           0,
           7.866666666666667,
           4.5,
           0,
           1.75,
           4.5,
           0,
           1.75,
           6.5,
           0,
           1.75,
           4.5,
           0,
           1.75,
           7.5,
           0,
           1.75,
           4.5,
           0,
           0,
           6.5,
           0,
           0,
           5.5,
           1.333333333333333,
           0,
           0,
           1.733333333333333,
           0,
           5.25,
           1.733333333333333,
           0,
           5.25,
           1.333333333333333,
           1.75
          ],
          "coloraxis": "coloraxis",
          "pattern": {
           "shape": ""
          }
         },
         "name": "",
         "offsetgroup": "",
         "orientation": "h",
         "showlegend": false,
         "textposition": "auto",
         "type": "bar",
         "x": [
          7,
          4,
          4,
          5,
          4,
          7,
          6,
          4,
          5,
          5,
          5,
          4,
          4,
          4,
          1,
          1,
          1,
          1,
          6,
          1,
          1,
          7,
          1,
          1,
          7,
          1,
          1,
          5,
          1,
          1,
          5,
          1,
          1,
          6,
          1,
          1,
          7,
          1,
          1,
          7,
          6,
          1,
          5,
          6,
          1,
          4,
          7,
          1,
          4,
          4,
          1,
          1,
          4,
          1,
          1,
          6,
          1,
          1,
          4,
          1,
          1,
          7,
          1,
          1,
          4,
          1,
          0,
          6,
          1,
          0,
          5,
          5,
          0,
          1,
          7,
          0,
          1,
          7,
          0,
          1,
          5,
          1
         ],
         "xaxis": "x",
         "y": [
          0,
          1,
          2,
          0,
          1,
          2,
          0,
          1,
          2,
          0,
          1,
          2,
          0,
          1,
          2,
          0,
          1,
          2,
          0,
          1,
          2,
          0,
          1,
          2,
          0,
          1,
          2,
          0,
          1,
          2,
          0,
          1,
          2,
          0,
          1,
          2,
          0,
          1,
          2,
          0,
          1,
          2,
          0,
          1,
          2,
          0,
          1,
          2,
          0,
          1,
          2,
          0,
          1,
          2,
          0,
          1,
          2,
          0,
          1,
          2,
          0,
          1,
          2,
          0,
          1,
          2,
          0,
          1,
          2,
          0,
          1,
          2,
          0,
          1,
          2,
          0,
          1,
          2,
          0,
          1,
          2,
          0
         ],
         "yaxis": "y"
        }
       ],
       "layout": {
        "barmode": "relative",
        "coloraxis": {
         "colorbar": {
          "title": {
           "text": "reward"
          }
         },
         "colorscale": [
          [
           0,
           "#0d0887"
          ],
          [
           0.1111111111111111,
           "#46039f"
          ],
          [
           0.2222222222222222,
           "#7201a8"
          ],
          [
           0.3333333333333333,
           "#9c179e"
          ],
          [
           0.4444444444444444,
           "#bd3786"
          ],
          [
           0.5555555555555556,
           "#d8576b"
          ],
          [
           0.6666666666666666,
           "#ed7953"
          ],
          [
           0.7777777777777778,
           "#fb9f3a"
          ],
          [
           0.8888888888888888,
           "#fdca26"
          ],
          [
           1,
           "#f0f921"
          ]
         ]
        },
        "legend": {
         "tracegroupgap": 0
        },
        "margin": {
         "t": 60
        },
        "template": {
         "data": {
          "bar": [
           {
            "error_x": {
             "color": "#2a3f5f"
            },
            "error_y": {
             "color": "#2a3f5f"
            },
            "marker": {
             "line": {
              "color": "#E5ECF6",
              "width": 0.5
             },
             "pattern": {
              "fillmode": "overlay",
              "size": 10,
              "solidity": 0.2
             }
            },
            "type": "bar"
           }
          ],
          "barpolar": [
           {
            "marker": {
             "line": {
              "color": "#E5ECF6",
              "width": 0.5
             },
             "pattern": {
              "fillmode": "overlay",
              "size": 10,
              "solidity": 0.2
             }
            },
            "type": "barpolar"
           }
          ],
          "carpet": [
           {
            "aaxis": {
             "endlinecolor": "#2a3f5f",
             "gridcolor": "white",
             "linecolor": "white",
             "minorgridcolor": "white",
             "startlinecolor": "#2a3f5f"
            },
            "baxis": {
             "endlinecolor": "#2a3f5f",
             "gridcolor": "white",
             "linecolor": "white",
             "minorgridcolor": "white",
             "startlinecolor": "#2a3f5f"
            },
            "type": "carpet"
           }
          ],
          "choropleth": [
           {
            "colorbar": {
             "outlinewidth": 0,
             "ticks": ""
            },
            "type": "choropleth"
           }
          ],
          "contour": [
           {
            "colorbar": {
             "outlinewidth": 0,
             "ticks": ""
            },
            "colorscale": [
             [
              0,
              "#0d0887"
             ],
             [
              0.1111111111111111,
              "#46039f"
             ],
             [
              0.2222222222222222,
              "#7201a8"
             ],
             [
              0.3333333333333333,
              "#9c179e"
             ],
             [
              0.4444444444444444,
              "#bd3786"
             ],
             [
              0.5555555555555556,
              "#d8576b"
             ],
             [
              0.6666666666666666,
              "#ed7953"
             ],
             [
              0.7777777777777778,
              "#fb9f3a"
             ],
             [
              0.8888888888888888,
              "#fdca26"
             ],
             [
              1,
              "#f0f921"
             ]
            ],
            "type": "contour"
           }
          ],
          "contourcarpet": [
           {
            "colorbar": {
             "outlinewidth": 0,
             "ticks": ""
            },
            "type": "contourcarpet"
           }
          ],
          "heatmap": [
           {
            "colorbar": {
             "outlinewidth": 0,
             "ticks": ""
            },
            "colorscale": [
             [
              0,
              "#0d0887"
             ],
             [
              0.1111111111111111,
              "#46039f"
             ],
             [
              0.2222222222222222,
              "#7201a8"
             ],
             [
              0.3333333333333333,
              "#9c179e"
             ],
             [
              0.4444444444444444,
              "#bd3786"
             ],
             [
              0.5555555555555556,
              "#d8576b"
             ],
             [
              0.6666666666666666,
              "#ed7953"
             ],
             [
              0.7777777777777778,
              "#fb9f3a"
             ],
             [
              0.8888888888888888,
              "#fdca26"
             ],
             [
              1,
              "#f0f921"
             ]
            ],
            "type": "heatmap"
           }
          ],
          "heatmapgl": [
           {
            "colorbar": {
             "outlinewidth": 0,
             "ticks": ""
            },
            "colorscale": [
             [
              0,
              "#0d0887"
             ],
             [
              0.1111111111111111,
              "#46039f"
             ],
             [
              0.2222222222222222,
              "#7201a8"
             ],
             [
              0.3333333333333333,
              "#9c179e"
             ],
             [
              0.4444444444444444,
              "#bd3786"
             ],
             [
              0.5555555555555556,
              "#d8576b"
             ],
             [
              0.6666666666666666,
              "#ed7953"
             ],
             [
              0.7777777777777778,
              "#fb9f3a"
             ],
             [
              0.8888888888888888,
              "#fdca26"
             ],
             [
              1,
              "#f0f921"
             ]
            ],
            "type": "heatmapgl"
           }
          ],
          "histogram": [
           {
            "marker": {
             "pattern": {
              "fillmode": "overlay",
              "size": 10,
              "solidity": 0.2
             }
            },
            "type": "histogram"
           }
          ],
          "histogram2d": [
           {
            "colorbar": {
             "outlinewidth": 0,
             "ticks": ""
            },
            "colorscale": [
             [
              0,
              "#0d0887"
             ],
             [
              0.1111111111111111,
              "#46039f"
             ],
             [
              0.2222222222222222,
              "#7201a8"
             ],
             [
              0.3333333333333333,
              "#9c179e"
             ],
             [
              0.4444444444444444,
              "#bd3786"
             ],
             [
              0.5555555555555556,
              "#d8576b"
             ],
             [
              0.6666666666666666,
              "#ed7953"
             ],
             [
              0.7777777777777778,
              "#fb9f3a"
             ],
             [
              0.8888888888888888,
              "#fdca26"
             ],
             [
              1,
              "#f0f921"
             ]
            ],
            "type": "histogram2d"
           }
          ],
          "histogram2dcontour": [
           {
            "colorbar": {
             "outlinewidth": 0,
             "ticks": ""
            },
            "colorscale": [
             [
              0,
              "#0d0887"
             ],
             [
              0.1111111111111111,
              "#46039f"
             ],
             [
              0.2222222222222222,
              "#7201a8"
             ],
             [
              0.3333333333333333,
              "#9c179e"
             ],
             [
              0.4444444444444444,
              "#bd3786"
             ],
             [
              0.5555555555555556,
              "#d8576b"
             ],
             [
              0.6666666666666666,
              "#ed7953"
             ],
             [
              0.7777777777777778,
              "#fb9f3a"
             ],
             [
              0.8888888888888888,
              "#fdca26"
             ],
             [
              1,
              "#f0f921"
             ]
            ],
            "type": "histogram2dcontour"
           }
          ],
          "mesh3d": [
           {
            "colorbar": {
             "outlinewidth": 0,
             "ticks": ""
            },
            "type": "mesh3d"
           }
          ],
          "parcoords": [
           {
            "line": {
             "colorbar": {
              "outlinewidth": 0,
              "ticks": ""
             }
            },
            "type": "parcoords"
           }
          ],
          "pie": [
           {
            "automargin": true,
            "type": "pie"
           }
          ],
          "scatter": [
           {
            "fillpattern": {
             "fillmode": "overlay",
             "size": 10,
             "solidity": 0.2
            },
            "type": "scatter"
           }
          ],
          "scatter3d": [
           {
            "line": {
             "colorbar": {
              "outlinewidth": 0,
              "ticks": ""
             }
            },
            "marker": {
             "colorbar": {
              "outlinewidth": 0,
              "ticks": ""
             }
            },
            "type": "scatter3d"
           }
          ],
          "scattercarpet": [
           {
            "marker": {
             "colorbar": {
              "outlinewidth": 0,
              "ticks": ""
             }
            },
            "type": "scattercarpet"
           }
          ],
          "scattergeo": [
           {
            "marker": {
             "colorbar": {
              "outlinewidth": 0,
              "ticks": ""
             }
            },
            "type": "scattergeo"
           }
          ],
          "scattergl": [
           {
            "marker": {
             "colorbar": {
              "outlinewidth": 0,
              "ticks": ""
             }
            },
            "type": "scattergl"
           }
          ],
          "scattermapbox": [
           {
            "marker": {
             "colorbar": {
              "outlinewidth": 0,
              "ticks": ""
             }
            },
            "type": "scattermapbox"
           }
          ],
          "scatterpolar": [
           {
            "marker": {
             "colorbar": {
              "outlinewidth": 0,
              "ticks": ""
             }
            },
            "type": "scatterpolar"
           }
          ],
          "scatterpolargl": [
           {
            "marker": {
             "colorbar": {
              "outlinewidth": 0,
              "ticks": ""
             }
            },
            "type": "scatterpolargl"
           }
          ],
          "scatterternary": [
           {
            "marker": {
             "colorbar": {
              "outlinewidth": 0,
              "ticks": ""
             }
            },
            "type": "scatterternary"
           }
          ],
          "surface": [
           {
            "colorbar": {
             "outlinewidth": 0,
             "ticks": ""
            },
            "colorscale": [
             [
              0,
              "#0d0887"
             ],
             [
              0.1111111111111111,
              "#46039f"
             ],
             [
              0.2222222222222222,
              "#7201a8"
             ],
             [
              0.3333333333333333,
              "#9c179e"
             ],
             [
              0.4444444444444444,
              "#bd3786"
             ],
             [
              0.5555555555555556,
              "#d8576b"
             ],
             [
              0.6666666666666666,
              "#ed7953"
             ],
             [
              0.7777777777777778,
              "#fb9f3a"
             ],
             [
              0.8888888888888888,
              "#fdca26"
             ],
             [
              1,
              "#f0f921"
             ]
            ],
            "type": "surface"
           }
          ],
          "table": [
           {
            "cells": {
             "fill": {
              "color": "#EBF0F8"
             },
             "line": {
              "color": "white"
             }
            },
            "header": {
             "fill": {
              "color": "#C8D4E3"
             },
             "line": {
              "color": "white"
             }
            },
            "type": "table"
           }
          ]
         },
         "layout": {
          "annotationdefaults": {
           "arrowcolor": "#2a3f5f",
           "arrowhead": 0,
           "arrowwidth": 1
          },
          "autotypenumbers": "strict",
          "coloraxis": {
           "colorbar": {
            "outlinewidth": 0,
            "ticks": ""
           }
          },
          "colorscale": {
           "diverging": [
            [
             0,
             "#8e0152"
            ],
            [
             0.1,
             "#c51b7d"
            ],
            [
             0.2,
             "#de77ae"
            ],
            [
             0.3,
             "#f1b6da"
            ],
            [
             0.4,
             "#fde0ef"
            ],
            [
             0.5,
             "#f7f7f7"
            ],
            [
             0.6,
             "#e6f5d0"
            ],
            [
             0.7,
             "#b8e186"
            ],
            [
             0.8,
             "#7fbc41"
            ],
            [
             0.9,
             "#4d9221"
            ],
            [
             1,
             "#276419"
            ]
           ],
           "sequential": [
            [
             0,
             "#0d0887"
            ],
            [
             0.1111111111111111,
             "#46039f"
            ],
            [
             0.2222222222222222,
             "#7201a8"
            ],
            [
             0.3333333333333333,
             "#9c179e"
            ],
            [
             0.4444444444444444,
             "#bd3786"
            ],
            [
             0.5555555555555556,
             "#d8576b"
            ],
            [
             0.6666666666666666,
             "#ed7953"
            ],
            [
             0.7777777777777778,
             "#fb9f3a"
            ],
            [
             0.8888888888888888,
             "#fdca26"
            ],
            [
             1,
             "#f0f921"
            ]
           ],
           "sequentialminus": [
            [
             0,
             "#0d0887"
            ],
            [
             0.1111111111111111,
             "#46039f"
            ],
            [
             0.2222222222222222,
             "#7201a8"
            ],
            [
             0.3333333333333333,
             "#9c179e"
            ],
            [
             0.4444444444444444,
             "#bd3786"
            ],
            [
             0.5555555555555556,
             "#d8576b"
            ],
            [
             0.6666666666666666,
             "#ed7953"
            ],
            [
             0.7777777777777778,
             "#fb9f3a"
            ],
            [
             0.8888888888888888,
             "#fdca26"
            ],
            [
             1,
             "#f0f921"
            ]
           ]
          },
          "colorway": [
           "#636efa",
           "#EF553B",
           "#00cc96",
           "#ab63fa",
           "#FFA15A",
           "#19d3f3",
           "#FF6692",
           "#B6E880",
           "#FF97FF",
           "#FECB52"
          ],
          "font": {
           "color": "#2a3f5f"
          },
          "geo": {
           "bgcolor": "white",
           "lakecolor": "white",
           "landcolor": "#E5ECF6",
           "showlakes": true,
           "showland": true,
           "subunitcolor": "white"
          },
          "hoverlabel": {
           "align": "left"
          },
          "hovermode": "closest",
          "mapbox": {
           "style": "light"
          },
          "paper_bgcolor": "white",
          "plot_bgcolor": "#E5ECF6",
          "polar": {
           "angularaxis": {
            "gridcolor": "white",
            "linecolor": "white",
            "ticks": ""
           },
           "bgcolor": "#E5ECF6",
           "radialaxis": {
            "gridcolor": "white",
            "linecolor": "white",
            "ticks": ""
           }
          },
          "scene": {
           "xaxis": {
            "backgroundcolor": "#E5ECF6",
            "gridcolor": "white",
            "gridwidth": 2,
            "linecolor": "white",
            "showbackground": true,
            "ticks": "",
            "zerolinecolor": "white"
           },
           "yaxis": {
            "backgroundcolor": "#E5ECF6",
            "gridcolor": "white",
            "gridwidth": 2,
            "linecolor": "white",
            "showbackground": true,
            "ticks": "",
            "zerolinecolor": "white"
           },
           "zaxis": {
            "backgroundcolor": "#E5ECF6",
            "gridcolor": "white",
            "gridwidth": 2,
            "linecolor": "white",
            "showbackground": true,
            "ticks": "",
            "zerolinecolor": "white"
           }
          },
          "shapedefaults": {
           "line": {
            "color": "#2a3f5f"
           }
          },
          "ternary": {
           "aaxis": {
            "gridcolor": "white",
            "linecolor": "white",
            "ticks": ""
           },
           "baxis": {
            "gridcolor": "white",
            "linecolor": "white",
            "ticks": ""
           },
           "bgcolor": "#E5ECF6",
           "caxis": {
            "gridcolor": "white",
            "linecolor": "white",
            "ticks": ""
           }
          },
          "title": {
           "x": 0.05
          },
          "xaxis": {
           "automargin": true,
           "gridcolor": "white",
           "linecolor": "white",
           "ticks": "",
           "title": {
            "standoff": 15
           },
           "zerolinecolor": "white",
           "zerolinewidth": 2
          },
          "yaxis": {
           "automargin": true,
           "gridcolor": "white",
           "linecolor": "white",
           "ticks": "",
           "title": {
            "standoff": 15
           },
           "zerolinecolor": "white",
           "zerolinewidth": 2
          }
         }
        },
        "xaxis": {
         "anchor": "y",
         "domain": [
          0,
          1
         ],
         "range": [
          0,
          96
         ],
         "title": {
          "text": "duration"
         }
        },
        "yaxis": {
         "anchor": "x",
         "domain": [
          0,
          1
         ],
         "title": {
          "text": "machine"
         }
        }
       }
      },
      "text/html": [
       "<div>                            <div id=\"f93de40a-1e06-49fb-b13f-a78feefd42bb\" class=\"plotly-graph-div\" style=\"height:525px; width:100%;\"></div>            <script type=\"text/javascript\">                require([\"plotly\"], function(Plotly) {                    window.PLOTLYENV=window.PLOTLYENV || {};                                    if (document.getElementById(\"f93de40a-1e06-49fb-b13f-a78feefd42bb\")) {                    Plotly.newPlot(                        \"f93de40a-1e06-49fb-b13f-a78feefd42bb\",                        [{\"alignmentgroup\":\"True\",\"hovertemplate\":\"\\u003cb\\u003e%{hovertext}\\u003c\\u002fb\\u003e\\u003cbr\\u003e\\u003cbr\\u003eduration=%{x}\\u003cbr\\u003emachine=%{y}\\u003cbr\\u003ereward=%{marker.color}\\u003cextra\\u003e\\u003c\\u002fextra\\u003e\",\"hovertext\":[7.0,4.0,4.0,5.0,4.0,7.0,6.0,4.0,5.0,5.0,5.0,4.0,4.0,4.0,0.0,0.0,0.0,0.0,6.0,0.0,0.0,7.0,0.0,0.0,7.0,0.0,0.0,5.0,0.0,0.0,5.0,0.0,0.0,6.0,0.0,0.0,7.0,0.0,0.0,7.0,6.0,0.0,5.0,6.0,0.0,4.0,7.0,0.0,4.0,4.0,0.0,0.0,4.0,0.0,0.0,6.0,0.0,0.0,4.0,0.0,0.0,7.0,0.0,0.0,4.0,0.0,0.0,6.0,0.0,0.0,5.0,5.0,0.0,0.0,7.0,0.0,0.0,7.0,0.0,0.0,5.0,0.0],\"legendgroup\":\"\",\"marker\":{\"color\":[13.6,4.5,1.133333333333333,10.0,4.5,1.733333333333333,11.8,4.5,1.333333333333333,9.625,5.5,1.133333333333333,7.7,4.4,8.75,1.75,5.25,8.75,11.657142857142857,5.25,8.75,13.6,5.25,8.75,13.6,5.25,8.75,10.0,5.25,8.75,10.0,5.25,8.75,11.8,5.25,8.75,13.6,5.25,8.75,13.6,6.5,0.0,10.0,6.5,0.0,8.2,7.5,0.0,7.866666666666667,4.5,0.0,1.75,4.5,0.0,1.75,6.5,0.0,1.75,4.5,0.0,1.75,7.5,0.0,1.75,4.5,0.0,0.0,6.5,0.0,0.0,5.5,1.333333333333333,0.0,0.0,1.733333333333333,0.0,5.25,1.733333333333333,0.0,5.25,1.333333333333333,1.75],\"coloraxis\":\"coloraxis\",\"pattern\":{\"shape\":\"\"}},\"name\":\"\",\"offsetgroup\":\"\",\"orientation\":\"h\",\"showlegend\":false,\"textposition\":\"auto\",\"x\":[7,4,4,5,4,7,6,4,5,5,5,4,4,4,1,1,1,1,6,1,1,7,1,1,7,1,1,5,1,1,5,1,1,6,1,1,7,1,1,7,6,1,5,6,1,4,7,1,4,4,1,1,4,1,1,6,1,1,4,1,1,7,1,1,4,1,0,6,1,0,5,5,0,1,7,0,1,7,0,1,5,1],\"xaxis\":\"x\",\"y\":[0,1,2,0,1,2,0,1,2,0,1,2,0,1,2,0,1,2,0,1,2,0,1,2,0,1,2,0,1,2,0,1,2,0,1,2,0,1,2,0,1,2,0,1,2,0,1,2,0,1,2,0,1,2,0,1,2,0,1,2,0,1,2,0,1,2,0,1,2,0,1,2,0,1,2,0,1,2,0,1,2,0],\"yaxis\":\"y\",\"type\":\"bar\"}],                        {\"template\":{\"data\":{\"histogram2dcontour\":[{\"type\":\"histogram2dcontour\",\"colorbar\":{\"outlinewidth\":0,\"ticks\":\"\"},\"colorscale\":[[0.0,\"#0d0887\"],[0.1111111111111111,\"#46039f\"],[0.2222222222222222,\"#7201a8\"],[0.3333333333333333,\"#9c179e\"],[0.4444444444444444,\"#bd3786\"],[0.5555555555555556,\"#d8576b\"],[0.6666666666666666,\"#ed7953\"],[0.7777777777777778,\"#fb9f3a\"],[0.8888888888888888,\"#fdca26\"],[1.0,\"#f0f921\"]]}],\"choropleth\":[{\"type\":\"choropleth\",\"colorbar\":{\"outlinewidth\":0,\"ticks\":\"\"}}],\"histogram2d\":[{\"type\":\"histogram2d\",\"colorbar\":{\"outlinewidth\":0,\"ticks\":\"\"},\"colorscale\":[[0.0,\"#0d0887\"],[0.1111111111111111,\"#46039f\"],[0.2222222222222222,\"#7201a8\"],[0.3333333333333333,\"#9c179e\"],[0.4444444444444444,\"#bd3786\"],[0.5555555555555556,\"#d8576b\"],[0.6666666666666666,\"#ed7953\"],[0.7777777777777778,\"#fb9f3a\"],[0.8888888888888888,\"#fdca26\"],[1.0,\"#f0f921\"]]}],\"heatmap\":[{\"type\":\"heatmap\",\"colorbar\":{\"outlinewidth\":0,\"ticks\":\"\"},\"colorscale\":[[0.0,\"#0d0887\"],[0.1111111111111111,\"#46039f\"],[0.2222222222222222,\"#7201a8\"],[0.3333333333333333,\"#9c179e\"],[0.4444444444444444,\"#bd3786\"],[0.5555555555555556,\"#d8576b\"],[0.6666666666666666,\"#ed7953\"],[0.7777777777777778,\"#fb9f3a\"],[0.8888888888888888,\"#fdca26\"],[1.0,\"#f0f921\"]]}],\"heatmapgl\":[{\"type\":\"heatmapgl\",\"colorbar\":{\"outlinewidth\":0,\"ticks\":\"\"},\"colorscale\":[[0.0,\"#0d0887\"],[0.1111111111111111,\"#46039f\"],[0.2222222222222222,\"#7201a8\"],[0.3333333333333333,\"#9c179e\"],[0.4444444444444444,\"#bd3786\"],[0.5555555555555556,\"#d8576b\"],[0.6666666666666666,\"#ed7953\"],[0.7777777777777778,\"#fb9f3a\"],[0.8888888888888888,\"#fdca26\"],[1.0,\"#f0f921\"]]}],\"contourcarpet\":[{\"type\":\"contourcarpet\",\"colorbar\":{\"outlinewidth\":0,\"ticks\":\"\"}}],\"contour\":[{\"type\":\"contour\",\"colorbar\":{\"outlinewidth\":0,\"ticks\":\"\"},\"colorscale\":[[0.0,\"#0d0887\"],[0.1111111111111111,\"#46039f\"],[0.2222222222222222,\"#7201a8\"],[0.3333333333333333,\"#9c179e\"],[0.4444444444444444,\"#bd3786\"],[0.5555555555555556,\"#d8576b\"],[0.6666666666666666,\"#ed7953\"],[0.7777777777777778,\"#fb9f3a\"],[0.8888888888888888,\"#fdca26\"],[1.0,\"#f0f921\"]]}],\"surface\":[{\"type\":\"surface\",\"colorbar\":{\"outlinewidth\":0,\"ticks\":\"\"},\"colorscale\":[[0.0,\"#0d0887\"],[0.1111111111111111,\"#46039f\"],[0.2222222222222222,\"#7201a8\"],[0.3333333333333333,\"#9c179e\"],[0.4444444444444444,\"#bd3786\"],[0.5555555555555556,\"#d8576b\"],[0.6666666666666666,\"#ed7953\"],[0.7777777777777778,\"#fb9f3a\"],[0.8888888888888888,\"#fdca26\"],[1.0,\"#f0f921\"]]}],\"mesh3d\":[{\"type\":\"mesh3d\",\"colorbar\":{\"outlinewidth\":0,\"ticks\":\"\"}}],\"scatter\":[{\"fillpattern\":{\"fillmode\":\"overlay\",\"size\":10,\"solidity\":0.2},\"type\":\"scatter\"}],\"parcoords\":[{\"type\":\"parcoords\",\"line\":{\"colorbar\":{\"outlinewidth\":0,\"ticks\":\"\"}}}],\"scatterpolargl\":[{\"type\":\"scatterpolargl\",\"marker\":{\"colorbar\":{\"outlinewidth\":0,\"ticks\":\"\"}}}],\"bar\":[{\"error_x\":{\"color\":\"#2a3f5f\"},\"error_y\":{\"color\":\"#2a3f5f\"},\"marker\":{\"line\":{\"color\":\"#E5ECF6\",\"width\":0.5},\"pattern\":{\"fillmode\":\"overlay\",\"size\":10,\"solidity\":0.2}},\"type\":\"bar\"}],\"scattergeo\":[{\"type\":\"scattergeo\",\"marker\":{\"colorbar\":{\"outlinewidth\":0,\"ticks\":\"\"}}}],\"scatterpolar\":[{\"type\":\"scatterpolar\",\"marker\":{\"colorbar\":{\"outlinewidth\":0,\"ticks\":\"\"}}}],\"histogram\":[{\"marker\":{\"pattern\":{\"fillmode\":\"overlay\",\"size\":10,\"solidity\":0.2}},\"type\":\"histogram\"}],\"scattergl\":[{\"type\":\"scattergl\",\"marker\":{\"colorbar\":{\"outlinewidth\":0,\"ticks\":\"\"}}}],\"scatter3d\":[{\"type\":\"scatter3d\",\"line\":{\"colorbar\":{\"outlinewidth\":0,\"ticks\":\"\"}},\"marker\":{\"colorbar\":{\"outlinewidth\":0,\"ticks\":\"\"}}}],\"scattermapbox\":[{\"type\":\"scattermapbox\",\"marker\":{\"colorbar\":{\"outlinewidth\":0,\"ticks\":\"\"}}}],\"scatterternary\":[{\"type\":\"scatterternary\",\"marker\":{\"colorbar\":{\"outlinewidth\":0,\"ticks\":\"\"}}}],\"scattercarpet\":[{\"type\":\"scattercarpet\",\"marker\":{\"colorbar\":{\"outlinewidth\":0,\"ticks\":\"\"}}}],\"carpet\":[{\"aaxis\":{\"endlinecolor\":\"#2a3f5f\",\"gridcolor\":\"white\",\"linecolor\":\"white\",\"minorgridcolor\":\"white\",\"startlinecolor\":\"#2a3f5f\"},\"baxis\":{\"endlinecolor\":\"#2a3f5f\",\"gridcolor\":\"white\",\"linecolor\":\"white\",\"minorgridcolor\":\"white\",\"startlinecolor\":\"#2a3f5f\"},\"type\":\"carpet\"}],\"table\":[{\"cells\":{\"fill\":{\"color\":\"#EBF0F8\"},\"line\":{\"color\":\"white\"}},\"header\":{\"fill\":{\"color\":\"#C8D4E3\"},\"line\":{\"color\":\"white\"}},\"type\":\"table\"}],\"barpolar\":[{\"marker\":{\"line\":{\"color\":\"#E5ECF6\",\"width\":0.5},\"pattern\":{\"fillmode\":\"overlay\",\"size\":10,\"solidity\":0.2}},\"type\":\"barpolar\"}],\"pie\":[{\"automargin\":true,\"type\":\"pie\"}]},\"layout\":{\"autotypenumbers\":\"strict\",\"colorway\":[\"#636efa\",\"#EF553B\",\"#00cc96\",\"#ab63fa\",\"#FFA15A\",\"#19d3f3\",\"#FF6692\",\"#B6E880\",\"#FF97FF\",\"#FECB52\"],\"font\":{\"color\":\"#2a3f5f\"},\"hovermode\":\"closest\",\"hoverlabel\":{\"align\":\"left\"},\"paper_bgcolor\":\"white\",\"plot_bgcolor\":\"#E5ECF6\",\"polar\":{\"bgcolor\":\"#E5ECF6\",\"angularaxis\":{\"gridcolor\":\"white\",\"linecolor\":\"white\",\"ticks\":\"\"},\"radialaxis\":{\"gridcolor\":\"white\",\"linecolor\":\"white\",\"ticks\":\"\"}},\"ternary\":{\"bgcolor\":\"#E5ECF6\",\"aaxis\":{\"gridcolor\":\"white\",\"linecolor\":\"white\",\"ticks\":\"\"},\"baxis\":{\"gridcolor\":\"white\",\"linecolor\":\"white\",\"ticks\":\"\"},\"caxis\":{\"gridcolor\":\"white\",\"linecolor\":\"white\",\"ticks\":\"\"}},\"coloraxis\":{\"colorbar\":{\"outlinewidth\":0,\"ticks\":\"\"}},\"colorscale\":{\"sequential\":[[0.0,\"#0d0887\"],[0.1111111111111111,\"#46039f\"],[0.2222222222222222,\"#7201a8\"],[0.3333333333333333,\"#9c179e\"],[0.4444444444444444,\"#bd3786\"],[0.5555555555555556,\"#d8576b\"],[0.6666666666666666,\"#ed7953\"],[0.7777777777777778,\"#fb9f3a\"],[0.8888888888888888,\"#fdca26\"],[1.0,\"#f0f921\"]],\"sequentialminus\":[[0.0,\"#0d0887\"],[0.1111111111111111,\"#46039f\"],[0.2222222222222222,\"#7201a8\"],[0.3333333333333333,\"#9c179e\"],[0.4444444444444444,\"#bd3786\"],[0.5555555555555556,\"#d8576b\"],[0.6666666666666666,\"#ed7953\"],[0.7777777777777778,\"#fb9f3a\"],[0.8888888888888888,\"#fdca26\"],[1.0,\"#f0f921\"]],\"diverging\":[[0,\"#8e0152\"],[0.1,\"#c51b7d\"],[0.2,\"#de77ae\"],[0.3,\"#f1b6da\"],[0.4,\"#fde0ef\"],[0.5,\"#f7f7f7\"],[0.6,\"#e6f5d0\"],[0.7,\"#b8e186\"],[0.8,\"#7fbc41\"],[0.9,\"#4d9221\"],[1,\"#276419\"]]},\"xaxis\":{\"gridcolor\":\"white\",\"linecolor\":\"white\",\"ticks\":\"\",\"title\":{\"standoff\":15},\"zerolinecolor\":\"white\",\"automargin\":true,\"zerolinewidth\":2},\"yaxis\":{\"gridcolor\":\"white\",\"linecolor\":\"white\",\"ticks\":\"\",\"title\":{\"standoff\":15},\"zerolinecolor\":\"white\",\"automargin\":true,\"zerolinewidth\":2},\"scene\":{\"xaxis\":{\"backgroundcolor\":\"#E5ECF6\",\"gridcolor\":\"white\",\"linecolor\":\"white\",\"showbackground\":true,\"ticks\":\"\",\"zerolinecolor\":\"white\",\"gridwidth\":2},\"yaxis\":{\"backgroundcolor\":\"#E5ECF6\",\"gridcolor\":\"white\",\"linecolor\":\"white\",\"showbackground\":true,\"ticks\":\"\",\"zerolinecolor\":\"white\",\"gridwidth\":2},\"zaxis\":{\"backgroundcolor\":\"#E5ECF6\",\"gridcolor\":\"white\",\"linecolor\":\"white\",\"showbackground\":true,\"ticks\":\"\",\"zerolinecolor\":\"white\",\"gridwidth\":2}},\"shapedefaults\":{\"line\":{\"color\":\"#2a3f5f\"}},\"annotationdefaults\":{\"arrowcolor\":\"#2a3f5f\",\"arrowhead\":0,\"arrowwidth\":1},\"geo\":{\"bgcolor\":\"white\",\"landcolor\":\"#E5ECF6\",\"subunitcolor\":\"white\",\"showland\":true,\"showlakes\":true,\"lakecolor\":\"white\"},\"title\":{\"x\":0.05},\"mapbox\":{\"style\":\"light\"}}},\"xaxis\":{\"anchor\":\"y\",\"domain\":[0.0,1.0],\"title\":{\"text\":\"duration\"},\"range\":[0,96]},\"yaxis\":{\"anchor\":\"x\",\"domain\":[0.0,1.0],\"title\":{\"text\":\"machine\"}},\"coloraxis\":{\"colorbar\":{\"title\":{\"text\":\"reward\"}},\"colorscale\":[[0.0,\"#0d0887\"],[0.1111111111111111,\"#46039f\"],[0.2222222222222222,\"#7201a8\"],[0.3333333333333333,\"#9c179e\"],[0.4444444444444444,\"#bd3786\"],[0.5555555555555556,\"#d8576b\"],[0.6666666666666666,\"#ed7953\"],[0.7777777777777778,\"#fb9f3a\"],[0.8888888888888888,\"#fdca26\"],[1.0,\"#f0f921\"]]},\"legend\":{\"tracegroupgap\":0},\"margin\":{\"t\":60},\"barmode\":\"relative\"},                        {\"responsive\": true}                    ).then(function(){\n",
       "                            \n",
       "var gd = document.getElementById('f93de40a-1e06-49fb-b13f-a78feefd42bb');\n",
       "var x = new MutationObserver(function (mutations, observer) {{\n",
       "        var display = window.getComputedStyle(gd).display;\n",
       "        if (!display || display === 'none') {{\n",
       "            console.log([gd, 'removed!']);\n",
       "            Plotly.purge(gd);\n",
       "            observer.disconnect();\n",
       "        }}\n",
       "}});\n",
       "\n",
       "// Listen for the removal of the full notebook cells\n",
       "var notebookContainer = gd.closest('#notebook-container');\n",
       "if (notebookContainer) {{\n",
       "    x.observe(notebookContainer, {childList: true});\n",
       "}}\n",
       "\n",
       "// Listen for the clearing of the current output cell\n",
       "var outputEl = gd.closest('.output');\n",
       "if (outputEl) {{\n",
       "    x.observe(outputEl, {childList: true});\n",
       "}}\n",
       "\n",
       "                        })                };                });            </script>        </div>"
      ]
     },
     "metadata": {},
     "output_type": "display_data"
    },
    {
     "data": {
      "application/vnd.plotly.v1+json": {
       "config": {
        "plotlyServerURL": "https://plot.ly"
       },
       "data": [
        {
         "hovertemplate": "variable=0<br>index=%{x}<br>value=%{y}<extra></extra>",
         "legendgroup": "0",
         "line": {
          "color": "#636efa",
          "dash": "solid",
          "shape": "hv"
         },
         "marker": {
          "symbol": "circle"
         },
         "mode": "lines",
         "name": "0",
         "orientation": "v",
         "showlegend": true,
         "type": "scatter",
         "x": [
          0,
          1,
          2,
          3,
          4,
          5,
          6,
          7,
          8,
          9,
          10,
          11,
          12,
          13,
          14,
          15,
          16,
          17,
          18,
          19,
          20,
          21,
          22,
          23,
          24,
          25,
          26,
          27,
          28,
          29,
          30,
          31,
          32,
          33,
          34,
          35,
          36,
          37,
          38,
          39,
          40,
          41,
          42,
          43,
          44,
          45,
          46,
          47,
          48,
          49,
          50,
          51,
          52,
          53,
          54,
          55,
          56,
          57,
          58,
          59,
          60,
          61,
          62,
          63,
          64,
          65,
          66,
          67,
          68,
          69,
          70,
          71,
          72,
          73,
          74,
          75,
          76,
          77,
          78,
          79,
          80,
          81,
          82,
          83,
          84,
          85,
          86,
          87,
          88,
          89,
          90,
          91,
          92,
          93,
          94,
          95,
          96,
          97,
          98,
          99,
          100,
          101,
          102,
          103,
          104,
          105,
          106,
          107,
          108,
          109
         ],
         "xaxis": "x",
         "y": [
          1,
          1,
          1,
          1,
          1,
          1,
          1,
          1,
          1,
          1,
          1,
          1,
          1,
          1,
          1,
          1,
          1,
          1,
          1,
          1,
          2,
          2,
          2,
          2,
          2,
          2,
          2,
          2,
          2,
          1,
          1,
          1,
          1,
          1,
          1,
          1,
          1,
          1,
          1,
          1,
          1,
          1,
          1,
          1,
          1,
          1,
          1,
          1,
          1,
          1,
          1,
          1,
          1,
          1,
          1,
          1,
          1,
          1,
          1,
          1,
          1,
          1,
          1,
          1,
          1,
          1,
          1,
          1,
          1,
          1,
          1,
          1,
          1,
          1,
          1,
          1,
          1,
          1,
          1,
          1,
          1,
          1,
          1,
          1,
          1,
          1,
          1,
          1,
          1,
          2,
          2,
          2,
          2,
          2,
          2,
          2,
          2,
          2,
          2,
          1,
          1,
          1,
          1,
          1,
          1,
          1,
          1,
          1,
          1,
          1
         ],
         "yaxis": "y"
        }
       ],
       "layout": {
        "legend": {
         "title": {
          "text": "variable"
         },
         "tracegroupgap": 0
        },
        "margin": {
         "t": 60
        },
        "template": {
         "data": {
          "bar": [
           {
            "error_x": {
             "color": "#2a3f5f"
            },
            "error_y": {
             "color": "#2a3f5f"
            },
            "marker": {
             "line": {
              "color": "#E5ECF6",
              "width": 0.5
             },
             "pattern": {
              "fillmode": "overlay",
              "size": 10,
              "solidity": 0.2
             }
            },
            "type": "bar"
           }
          ],
          "barpolar": [
           {
            "marker": {
             "line": {
              "color": "#E5ECF6",
              "width": 0.5
             },
             "pattern": {
              "fillmode": "overlay",
              "size": 10,
              "solidity": 0.2
             }
            },
            "type": "barpolar"
           }
          ],
          "carpet": [
           {
            "aaxis": {
             "endlinecolor": "#2a3f5f",
             "gridcolor": "white",
             "linecolor": "white",
             "minorgridcolor": "white",
             "startlinecolor": "#2a3f5f"
            },
            "baxis": {
             "endlinecolor": "#2a3f5f",
             "gridcolor": "white",
             "linecolor": "white",
             "minorgridcolor": "white",
             "startlinecolor": "#2a3f5f"
            },
            "type": "carpet"
           }
          ],
          "choropleth": [
           {
            "colorbar": {
             "outlinewidth": 0,
             "ticks": ""
            },
            "type": "choropleth"
           }
          ],
          "contour": [
           {
            "colorbar": {
             "outlinewidth": 0,
             "ticks": ""
            },
            "colorscale": [
             [
              0,
              "#0d0887"
             ],
             [
              0.1111111111111111,
              "#46039f"
             ],
             [
              0.2222222222222222,
              "#7201a8"
             ],
             [
              0.3333333333333333,
              "#9c179e"
             ],
             [
              0.4444444444444444,
              "#bd3786"
             ],
             [
              0.5555555555555556,
              "#d8576b"
             ],
             [
              0.6666666666666666,
              "#ed7953"
             ],
             [
              0.7777777777777778,
              "#fb9f3a"
             ],
             [
              0.8888888888888888,
              "#fdca26"
             ],
             [
              1,
              "#f0f921"
             ]
            ],
            "type": "contour"
           }
          ],
          "contourcarpet": [
           {
            "colorbar": {
             "outlinewidth": 0,
             "ticks": ""
            },
            "type": "contourcarpet"
           }
          ],
          "heatmap": [
           {
            "colorbar": {
             "outlinewidth": 0,
             "ticks": ""
            },
            "colorscale": [
             [
              0,
              "#0d0887"
             ],
             [
              0.1111111111111111,
              "#46039f"
             ],
             [
              0.2222222222222222,
              "#7201a8"
             ],
             [
              0.3333333333333333,
              "#9c179e"
             ],
             [
              0.4444444444444444,
              "#bd3786"
             ],
             [
              0.5555555555555556,
              "#d8576b"
             ],
             [
              0.6666666666666666,
              "#ed7953"
             ],
             [
              0.7777777777777778,
              "#fb9f3a"
             ],
             [
              0.8888888888888888,
              "#fdca26"
             ],
             [
              1,
              "#f0f921"
             ]
            ],
            "type": "heatmap"
           }
          ],
          "heatmapgl": [
           {
            "colorbar": {
             "outlinewidth": 0,
             "ticks": ""
            },
            "colorscale": [
             [
              0,
              "#0d0887"
             ],
             [
              0.1111111111111111,
              "#46039f"
             ],
             [
              0.2222222222222222,
              "#7201a8"
             ],
             [
              0.3333333333333333,
              "#9c179e"
             ],
             [
              0.4444444444444444,
              "#bd3786"
             ],
             [
              0.5555555555555556,
              "#d8576b"
             ],
             [
              0.6666666666666666,
              "#ed7953"
             ],
             [
              0.7777777777777778,
              "#fb9f3a"
             ],
             [
              0.8888888888888888,
              "#fdca26"
             ],
             [
              1,
              "#f0f921"
             ]
            ],
            "type": "heatmapgl"
           }
          ],
          "histogram": [
           {
            "marker": {
             "pattern": {
              "fillmode": "overlay",
              "size": 10,
              "solidity": 0.2
             }
            },
            "type": "histogram"
           }
          ],
          "histogram2d": [
           {
            "colorbar": {
             "outlinewidth": 0,
             "ticks": ""
            },
            "colorscale": [
             [
              0,
              "#0d0887"
             ],
             [
              0.1111111111111111,
              "#46039f"
             ],
             [
              0.2222222222222222,
              "#7201a8"
             ],
             [
              0.3333333333333333,
              "#9c179e"
             ],
             [
              0.4444444444444444,
              "#bd3786"
             ],
             [
              0.5555555555555556,
              "#d8576b"
             ],
             [
              0.6666666666666666,
              "#ed7953"
             ],
             [
              0.7777777777777778,
              "#fb9f3a"
             ],
             [
              0.8888888888888888,
              "#fdca26"
             ],
             [
              1,
              "#f0f921"
             ]
            ],
            "type": "histogram2d"
           }
          ],
          "histogram2dcontour": [
           {
            "colorbar": {
             "outlinewidth": 0,
             "ticks": ""
            },
            "colorscale": [
             [
              0,
              "#0d0887"
             ],
             [
              0.1111111111111111,
              "#46039f"
             ],
             [
              0.2222222222222222,
              "#7201a8"
             ],
             [
              0.3333333333333333,
              "#9c179e"
             ],
             [
              0.4444444444444444,
              "#bd3786"
             ],
             [
              0.5555555555555556,
              "#d8576b"
             ],
             [
              0.6666666666666666,
              "#ed7953"
             ],
             [
              0.7777777777777778,
              "#fb9f3a"
             ],
             [
              0.8888888888888888,
              "#fdca26"
             ],
             [
              1,
              "#f0f921"
             ]
            ],
            "type": "histogram2dcontour"
           }
          ],
          "mesh3d": [
           {
            "colorbar": {
             "outlinewidth": 0,
             "ticks": ""
            },
            "type": "mesh3d"
           }
          ],
          "parcoords": [
           {
            "line": {
             "colorbar": {
              "outlinewidth": 0,
              "ticks": ""
             }
            },
            "type": "parcoords"
           }
          ],
          "pie": [
           {
            "automargin": true,
            "type": "pie"
           }
          ],
          "scatter": [
           {
            "fillpattern": {
             "fillmode": "overlay",
             "size": 10,
             "solidity": 0.2
            },
            "type": "scatter"
           }
          ],
          "scatter3d": [
           {
            "line": {
             "colorbar": {
              "outlinewidth": 0,
              "ticks": ""
             }
            },
            "marker": {
             "colorbar": {
              "outlinewidth": 0,
              "ticks": ""
             }
            },
            "type": "scatter3d"
           }
          ],
          "scattercarpet": [
           {
            "marker": {
             "colorbar": {
              "outlinewidth": 0,
              "ticks": ""
             }
            },
            "type": "scattercarpet"
           }
          ],
          "scattergeo": [
           {
            "marker": {
             "colorbar": {
              "outlinewidth": 0,
              "ticks": ""
             }
            },
            "type": "scattergeo"
           }
          ],
          "scattergl": [
           {
            "marker": {
             "colorbar": {
              "outlinewidth": 0,
              "ticks": ""
             }
            },
            "type": "scattergl"
           }
          ],
          "scattermapbox": [
           {
            "marker": {
             "colorbar": {
              "outlinewidth": 0,
              "ticks": ""
             }
            },
            "type": "scattermapbox"
           }
          ],
          "scatterpolar": [
           {
            "marker": {
             "colorbar": {
              "outlinewidth": 0,
              "ticks": ""
             }
            },
            "type": "scatterpolar"
           }
          ],
          "scatterpolargl": [
           {
            "marker": {
             "colorbar": {
              "outlinewidth": 0,
              "ticks": ""
             }
            },
            "type": "scatterpolargl"
           }
          ],
          "scatterternary": [
           {
            "marker": {
             "colorbar": {
              "outlinewidth": 0,
              "ticks": ""
             }
            },
            "type": "scatterternary"
           }
          ],
          "surface": [
           {
            "colorbar": {
             "outlinewidth": 0,
             "ticks": ""
            },
            "colorscale": [
             [
              0,
              "#0d0887"
             ],
             [
              0.1111111111111111,
              "#46039f"
             ],
             [
              0.2222222222222222,
              "#7201a8"
             ],
             [
              0.3333333333333333,
              "#9c179e"
             ],
             [
              0.4444444444444444,
              "#bd3786"
             ],
             [
              0.5555555555555556,
              "#d8576b"
             ],
             [
              0.6666666666666666,
              "#ed7953"
             ],
             [
              0.7777777777777778,
              "#fb9f3a"
             ],
             [
              0.8888888888888888,
              "#fdca26"
             ],
             [
              1,
              "#f0f921"
             ]
            ],
            "type": "surface"
           }
          ],
          "table": [
           {
            "cells": {
             "fill": {
              "color": "#EBF0F8"
             },
             "line": {
              "color": "white"
             }
            },
            "header": {
             "fill": {
              "color": "#C8D4E3"
             },
             "line": {
              "color": "white"
             }
            },
            "type": "table"
           }
          ]
         },
         "layout": {
          "annotationdefaults": {
           "arrowcolor": "#2a3f5f",
           "arrowhead": 0,
           "arrowwidth": 1
          },
          "autotypenumbers": "strict",
          "coloraxis": {
           "colorbar": {
            "outlinewidth": 0,
            "ticks": ""
           }
          },
          "colorscale": {
           "diverging": [
            [
             0,
             "#8e0152"
            ],
            [
             0.1,
             "#c51b7d"
            ],
            [
             0.2,
             "#de77ae"
            ],
            [
             0.3,
             "#f1b6da"
            ],
            [
             0.4,
             "#fde0ef"
            ],
            [
             0.5,
             "#f7f7f7"
            ],
            [
             0.6,
             "#e6f5d0"
            ],
            [
             0.7,
             "#b8e186"
            ],
            [
             0.8,
             "#7fbc41"
            ],
            [
             0.9,
             "#4d9221"
            ],
            [
             1,
             "#276419"
            ]
           ],
           "sequential": [
            [
             0,
             "#0d0887"
            ],
            [
             0.1111111111111111,
             "#46039f"
            ],
            [
             0.2222222222222222,
             "#7201a8"
            ],
            [
             0.3333333333333333,
             "#9c179e"
            ],
            [
             0.4444444444444444,
             "#bd3786"
            ],
            [
             0.5555555555555556,
             "#d8576b"
            ],
            [
             0.6666666666666666,
             "#ed7953"
            ],
            [
             0.7777777777777778,
             "#fb9f3a"
            ],
            [
             0.8888888888888888,
             "#fdca26"
            ],
            [
             1,
             "#f0f921"
            ]
           ],
           "sequentialminus": [
            [
             0,
             "#0d0887"
            ],
            [
             0.1111111111111111,
             "#46039f"
            ],
            [
             0.2222222222222222,
             "#7201a8"
            ],
            [
             0.3333333333333333,
             "#9c179e"
            ],
            [
             0.4444444444444444,
             "#bd3786"
            ],
            [
             0.5555555555555556,
             "#d8576b"
            ],
            [
             0.6666666666666666,
             "#ed7953"
            ],
            [
             0.7777777777777778,
             "#fb9f3a"
            ],
            [
             0.8888888888888888,
             "#fdca26"
            ],
            [
             1,
             "#f0f921"
            ]
           ]
          },
          "colorway": [
           "#636efa",
           "#EF553B",
           "#00cc96",
           "#ab63fa",
           "#FFA15A",
           "#19d3f3",
           "#FF6692",
           "#B6E880",
           "#FF97FF",
           "#FECB52"
          ],
          "font": {
           "color": "#2a3f5f"
          },
          "geo": {
           "bgcolor": "white",
           "lakecolor": "white",
           "landcolor": "#E5ECF6",
           "showlakes": true,
           "showland": true,
           "subunitcolor": "white"
          },
          "hoverlabel": {
           "align": "left"
          },
          "hovermode": "closest",
          "mapbox": {
           "style": "light"
          },
          "paper_bgcolor": "white",
          "plot_bgcolor": "#E5ECF6",
          "polar": {
           "angularaxis": {
            "gridcolor": "white",
            "linecolor": "white",
            "ticks": ""
           },
           "bgcolor": "#E5ECF6",
           "radialaxis": {
            "gridcolor": "white",
            "linecolor": "white",
            "ticks": ""
           }
          },
          "scene": {
           "xaxis": {
            "backgroundcolor": "#E5ECF6",
            "gridcolor": "white",
            "gridwidth": 2,
            "linecolor": "white",
            "showbackground": true,
            "ticks": "",
            "zerolinecolor": "white"
           },
           "yaxis": {
            "backgroundcolor": "#E5ECF6",
            "gridcolor": "white",
            "gridwidth": 2,
            "linecolor": "white",
            "showbackground": true,
            "ticks": "",
            "zerolinecolor": "white"
           },
           "zaxis": {
            "backgroundcolor": "#E5ECF6",
            "gridcolor": "white",
            "gridwidth": 2,
            "linecolor": "white",
            "showbackground": true,
            "ticks": "",
            "zerolinecolor": "white"
           }
          },
          "shapedefaults": {
           "line": {
            "color": "#2a3f5f"
           }
          },
          "ternary": {
           "aaxis": {
            "gridcolor": "white",
            "linecolor": "white",
            "ticks": ""
           },
           "baxis": {
            "gridcolor": "white",
            "linecolor": "white",
            "ticks": ""
           },
           "bgcolor": "#E5ECF6",
           "caxis": {
            "gridcolor": "white",
            "linecolor": "white",
            "ticks": ""
           }
          },
          "title": {
           "x": 0.05
          },
          "xaxis": {
           "automargin": true,
           "gridcolor": "white",
           "linecolor": "white",
           "ticks": "",
           "title": {
            "standoff": 15
           },
           "zerolinecolor": "white",
           "zerolinewidth": 2
          },
          "yaxis": {
           "automargin": true,
           "gridcolor": "white",
           "linecolor": "white",
           "ticks": "",
           "title": {
            "standoff": 15
           },
           "zerolinecolor": "white",
           "zerolinewidth": 2
          }
         }
        },
        "xaxis": {
         "anchor": "y",
         "domain": [
          0,
          1
         ],
         "range": [
          0,
          96
         ],
         "title": {
          "text": "index"
         }
        },
        "yaxis": {
         "anchor": "x",
         "domain": [
          0,
          1
         ],
         "title": {
          "text": "value"
         }
        }
       }
      },
      "text/html": [
       "<div>                            <div id=\"743018f9-db8c-49df-b2da-5bbbd30b6aef\" class=\"plotly-graph-div\" style=\"height:525px; width:100%;\"></div>            <script type=\"text/javascript\">                require([\"plotly\"], function(Plotly) {                    window.PLOTLYENV=window.PLOTLYENV || {};                                    if (document.getElementById(\"743018f9-db8c-49df-b2da-5bbbd30b6aef\")) {                    Plotly.newPlot(                        \"743018f9-db8c-49df-b2da-5bbbd30b6aef\",                        [{\"hovertemplate\":\"variable=0\\u003cbr\\u003eindex=%{x}\\u003cbr\\u003evalue=%{y}\\u003cextra\\u003e\\u003c\\u002fextra\\u003e\",\"legendgroup\":\"0\",\"line\":{\"color\":\"#636efa\",\"dash\":\"solid\",\"shape\":\"hv\"},\"marker\":{\"symbol\":\"circle\"},\"mode\":\"lines\",\"name\":\"0\",\"orientation\":\"v\",\"showlegend\":true,\"x\":[0,1,2,3,4,5,6,7,8,9,10,11,12,13,14,15,16,17,18,19,20,21,22,23,24,25,26,27,28,29,30,31,32,33,34,35,36,37,38,39,40,41,42,43,44,45,46,47,48,49,50,51,52,53,54,55,56,57,58,59,60,61,62,63,64,65,66,67,68,69,70,71,72,73,74,75,76,77,78,79,80,81,82,83,84,85,86,87,88,89,90,91,92,93,94,95,96,97,98,99,100,101,102,103,104,105,106,107,108,109],\"xaxis\":\"x\",\"y\":[1.0,1.0,1.0,1.0,1.0,1.0,1.0,1.0,1.0,1.0,1.0,1.0,1.0,1.0,1.0,1.0,1.0,1.0,1.0,1.0,2.0,2.0,2.0,2.0,2.0,2.0,2.0,2.0,2.0,1.0,1.0,1.0,1.0,1.0,1.0,1.0,1.0,1.0,1.0,1.0,1.0,1.0,1.0,1.0,1.0,1.0,1.0,1.0,1.0,1.0,1.0,1.0,1.0,1.0,1.0,1.0,1.0,1.0,1.0,1.0,1.0,1.0,1.0,1.0,1.0,1.0,1.0,1.0,1.0,1.0,1.0,1.0,1.0,1.0,1.0,1.0,1.0,1.0,1.0,1.0,1.0,1.0,1.0,1.0,1.0,1.0,1.0,1.0,1.0,2.0,2.0,2.0,2.0,2.0,2.0,2.0,2.0,2.0,2.0,1.0,1.0,1.0,1.0,1.0,1.0,1.0,1.0,1.0,1.0,1.0],\"yaxis\":\"y\",\"type\":\"scatter\"}],                        {\"template\":{\"data\":{\"histogram2dcontour\":[{\"type\":\"histogram2dcontour\",\"colorbar\":{\"outlinewidth\":0,\"ticks\":\"\"},\"colorscale\":[[0.0,\"#0d0887\"],[0.1111111111111111,\"#46039f\"],[0.2222222222222222,\"#7201a8\"],[0.3333333333333333,\"#9c179e\"],[0.4444444444444444,\"#bd3786\"],[0.5555555555555556,\"#d8576b\"],[0.6666666666666666,\"#ed7953\"],[0.7777777777777778,\"#fb9f3a\"],[0.8888888888888888,\"#fdca26\"],[1.0,\"#f0f921\"]]}],\"choropleth\":[{\"type\":\"choropleth\",\"colorbar\":{\"outlinewidth\":0,\"ticks\":\"\"}}],\"histogram2d\":[{\"type\":\"histogram2d\",\"colorbar\":{\"outlinewidth\":0,\"ticks\":\"\"},\"colorscale\":[[0.0,\"#0d0887\"],[0.1111111111111111,\"#46039f\"],[0.2222222222222222,\"#7201a8\"],[0.3333333333333333,\"#9c179e\"],[0.4444444444444444,\"#bd3786\"],[0.5555555555555556,\"#d8576b\"],[0.6666666666666666,\"#ed7953\"],[0.7777777777777778,\"#fb9f3a\"],[0.8888888888888888,\"#fdca26\"],[1.0,\"#f0f921\"]]}],\"heatmap\":[{\"type\":\"heatmap\",\"colorbar\":{\"outlinewidth\":0,\"ticks\":\"\"},\"colorscale\":[[0.0,\"#0d0887\"],[0.1111111111111111,\"#46039f\"],[0.2222222222222222,\"#7201a8\"],[0.3333333333333333,\"#9c179e\"],[0.4444444444444444,\"#bd3786\"],[0.5555555555555556,\"#d8576b\"],[0.6666666666666666,\"#ed7953\"],[0.7777777777777778,\"#fb9f3a\"],[0.8888888888888888,\"#fdca26\"],[1.0,\"#f0f921\"]]}],\"heatmapgl\":[{\"type\":\"heatmapgl\",\"colorbar\":{\"outlinewidth\":0,\"ticks\":\"\"},\"colorscale\":[[0.0,\"#0d0887\"],[0.1111111111111111,\"#46039f\"],[0.2222222222222222,\"#7201a8\"],[0.3333333333333333,\"#9c179e\"],[0.4444444444444444,\"#bd3786\"],[0.5555555555555556,\"#d8576b\"],[0.6666666666666666,\"#ed7953\"],[0.7777777777777778,\"#fb9f3a\"],[0.8888888888888888,\"#fdca26\"],[1.0,\"#f0f921\"]]}],\"contourcarpet\":[{\"type\":\"contourcarpet\",\"colorbar\":{\"outlinewidth\":0,\"ticks\":\"\"}}],\"contour\":[{\"type\":\"contour\",\"colorbar\":{\"outlinewidth\":0,\"ticks\":\"\"},\"colorscale\":[[0.0,\"#0d0887\"],[0.1111111111111111,\"#46039f\"],[0.2222222222222222,\"#7201a8\"],[0.3333333333333333,\"#9c179e\"],[0.4444444444444444,\"#bd3786\"],[0.5555555555555556,\"#d8576b\"],[0.6666666666666666,\"#ed7953\"],[0.7777777777777778,\"#fb9f3a\"],[0.8888888888888888,\"#fdca26\"],[1.0,\"#f0f921\"]]}],\"surface\":[{\"type\":\"surface\",\"colorbar\":{\"outlinewidth\":0,\"ticks\":\"\"},\"colorscale\":[[0.0,\"#0d0887\"],[0.1111111111111111,\"#46039f\"],[0.2222222222222222,\"#7201a8\"],[0.3333333333333333,\"#9c179e\"],[0.4444444444444444,\"#bd3786\"],[0.5555555555555556,\"#d8576b\"],[0.6666666666666666,\"#ed7953\"],[0.7777777777777778,\"#fb9f3a\"],[0.8888888888888888,\"#fdca26\"],[1.0,\"#f0f921\"]]}],\"mesh3d\":[{\"type\":\"mesh3d\",\"colorbar\":{\"outlinewidth\":0,\"ticks\":\"\"}}],\"scatter\":[{\"fillpattern\":{\"fillmode\":\"overlay\",\"size\":10,\"solidity\":0.2},\"type\":\"scatter\"}],\"parcoords\":[{\"type\":\"parcoords\",\"line\":{\"colorbar\":{\"outlinewidth\":0,\"ticks\":\"\"}}}],\"scatterpolargl\":[{\"type\":\"scatterpolargl\",\"marker\":{\"colorbar\":{\"outlinewidth\":0,\"ticks\":\"\"}}}],\"bar\":[{\"error_x\":{\"color\":\"#2a3f5f\"},\"error_y\":{\"color\":\"#2a3f5f\"},\"marker\":{\"line\":{\"color\":\"#E5ECF6\",\"width\":0.5},\"pattern\":{\"fillmode\":\"overlay\",\"size\":10,\"solidity\":0.2}},\"type\":\"bar\"}],\"scattergeo\":[{\"type\":\"scattergeo\",\"marker\":{\"colorbar\":{\"outlinewidth\":0,\"ticks\":\"\"}}}],\"scatterpolar\":[{\"type\":\"scatterpolar\",\"marker\":{\"colorbar\":{\"outlinewidth\":0,\"ticks\":\"\"}}}],\"histogram\":[{\"marker\":{\"pattern\":{\"fillmode\":\"overlay\",\"size\":10,\"solidity\":0.2}},\"type\":\"histogram\"}],\"scattergl\":[{\"type\":\"scattergl\",\"marker\":{\"colorbar\":{\"outlinewidth\":0,\"ticks\":\"\"}}}],\"scatter3d\":[{\"type\":\"scatter3d\",\"line\":{\"colorbar\":{\"outlinewidth\":0,\"ticks\":\"\"}},\"marker\":{\"colorbar\":{\"outlinewidth\":0,\"ticks\":\"\"}}}],\"scattermapbox\":[{\"type\":\"scattermapbox\",\"marker\":{\"colorbar\":{\"outlinewidth\":0,\"ticks\":\"\"}}}],\"scatterternary\":[{\"type\":\"scatterternary\",\"marker\":{\"colorbar\":{\"outlinewidth\":0,\"ticks\":\"\"}}}],\"scattercarpet\":[{\"type\":\"scattercarpet\",\"marker\":{\"colorbar\":{\"outlinewidth\":0,\"ticks\":\"\"}}}],\"carpet\":[{\"aaxis\":{\"endlinecolor\":\"#2a3f5f\",\"gridcolor\":\"white\",\"linecolor\":\"white\",\"minorgridcolor\":\"white\",\"startlinecolor\":\"#2a3f5f\"},\"baxis\":{\"endlinecolor\":\"#2a3f5f\",\"gridcolor\":\"white\",\"linecolor\":\"white\",\"minorgridcolor\":\"white\",\"startlinecolor\":\"#2a3f5f\"},\"type\":\"carpet\"}],\"table\":[{\"cells\":{\"fill\":{\"color\":\"#EBF0F8\"},\"line\":{\"color\":\"white\"}},\"header\":{\"fill\":{\"color\":\"#C8D4E3\"},\"line\":{\"color\":\"white\"}},\"type\":\"table\"}],\"barpolar\":[{\"marker\":{\"line\":{\"color\":\"#E5ECF6\",\"width\":0.5},\"pattern\":{\"fillmode\":\"overlay\",\"size\":10,\"solidity\":0.2}},\"type\":\"barpolar\"}],\"pie\":[{\"automargin\":true,\"type\":\"pie\"}]},\"layout\":{\"autotypenumbers\":\"strict\",\"colorway\":[\"#636efa\",\"#EF553B\",\"#00cc96\",\"#ab63fa\",\"#FFA15A\",\"#19d3f3\",\"#FF6692\",\"#B6E880\",\"#FF97FF\",\"#FECB52\"],\"font\":{\"color\":\"#2a3f5f\"},\"hovermode\":\"closest\",\"hoverlabel\":{\"align\":\"left\"},\"paper_bgcolor\":\"white\",\"plot_bgcolor\":\"#E5ECF6\",\"polar\":{\"bgcolor\":\"#E5ECF6\",\"angularaxis\":{\"gridcolor\":\"white\",\"linecolor\":\"white\",\"ticks\":\"\"},\"radialaxis\":{\"gridcolor\":\"white\",\"linecolor\":\"white\",\"ticks\":\"\"}},\"ternary\":{\"bgcolor\":\"#E5ECF6\",\"aaxis\":{\"gridcolor\":\"white\",\"linecolor\":\"white\",\"ticks\":\"\"},\"baxis\":{\"gridcolor\":\"white\",\"linecolor\":\"white\",\"ticks\":\"\"},\"caxis\":{\"gridcolor\":\"white\",\"linecolor\":\"white\",\"ticks\":\"\"}},\"coloraxis\":{\"colorbar\":{\"outlinewidth\":0,\"ticks\":\"\"}},\"colorscale\":{\"sequential\":[[0.0,\"#0d0887\"],[0.1111111111111111,\"#46039f\"],[0.2222222222222222,\"#7201a8\"],[0.3333333333333333,\"#9c179e\"],[0.4444444444444444,\"#bd3786\"],[0.5555555555555556,\"#d8576b\"],[0.6666666666666666,\"#ed7953\"],[0.7777777777777778,\"#fb9f3a\"],[0.8888888888888888,\"#fdca26\"],[1.0,\"#f0f921\"]],\"sequentialminus\":[[0.0,\"#0d0887\"],[0.1111111111111111,\"#46039f\"],[0.2222222222222222,\"#7201a8\"],[0.3333333333333333,\"#9c179e\"],[0.4444444444444444,\"#bd3786\"],[0.5555555555555556,\"#d8576b\"],[0.6666666666666666,\"#ed7953\"],[0.7777777777777778,\"#fb9f3a\"],[0.8888888888888888,\"#fdca26\"],[1.0,\"#f0f921\"]],\"diverging\":[[0,\"#8e0152\"],[0.1,\"#c51b7d\"],[0.2,\"#de77ae\"],[0.3,\"#f1b6da\"],[0.4,\"#fde0ef\"],[0.5,\"#f7f7f7\"],[0.6,\"#e6f5d0\"],[0.7,\"#b8e186\"],[0.8,\"#7fbc41\"],[0.9,\"#4d9221\"],[1,\"#276419\"]]},\"xaxis\":{\"gridcolor\":\"white\",\"linecolor\":\"white\",\"ticks\":\"\",\"title\":{\"standoff\":15},\"zerolinecolor\":\"white\",\"automargin\":true,\"zerolinewidth\":2},\"yaxis\":{\"gridcolor\":\"white\",\"linecolor\":\"white\",\"ticks\":\"\",\"title\":{\"standoff\":15},\"zerolinecolor\":\"white\",\"automargin\":true,\"zerolinewidth\":2},\"scene\":{\"xaxis\":{\"backgroundcolor\":\"#E5ECF6\",\"gridcolor\":\"white\",\"linecolor\":\"white\",\"showbackground\":true,\"ticks\":\"\",\"zerolinecolor\":\"white\",\"gridwidth\":2},\"yaxis\":{\"backgroundcolor\":\"#E5ECF6\",\"gridcolor\":\"white\",\"linecolor\":\"white\",\"showbackground\":true,\"ticks\":\"\",\"zerolinecolor\":\"white\",\"gridwidth\":2},\"zaxis\":{\"backgroundcolor\":\"#E5ECF6\",\"gridcolor\":\"white\",\"linecolor\":\"white\",\"showbackground\":true,\"ticks\":\"\",\"zerolinecolor\":\"white\",\"gridwidth\":2}},\"shapedefaults\":{\"line\":{\"color\":\"#2a3f5f\"}},\"annotationdefaults\":{\"arrowcolor\":\"#2a3f5f\",\"arrowhead\":0,\"arrowwidth\":1},\"geo\":{\"bgcolor\":\"white\",\"landcolor\":\"#E5ECF6\",\"subunitcolor\":\"white\",\"showland\":true,\"showlakes\":true,\"lakecolor\":\"white\"},\"title\":{\"x\":0.05},\"mapbox\":{\"style\":\"light\"}}},\"xaxis\":{\"anchor\":\"y\",\"domain\":[0.0,1.0],\"title\":{\"text\":\"index\"},\"range\":[0,96]},\"yaxis\":{\"anchor\":\"x\",\"domain\":[0.0,1.0],\"title\":{\"text\":\"value\"}},\"legend\":{\"title\":{\"text\":\"variable\"},\"tracegroupgap\":0},\"margin\":{\"t\":60}},                        {\"responsive\": true}                    ).then(function(){\n",
       "                            \n",
       "var gd = document.getElementById('743018f9-db8c-49df-b2da-5bbbd30b6aef');\n",
       "var x = new MutationObserver(function (mutations, observer) {{\n",
       "        var display = window.getComputedStyle(gd).display;\n",
       "        if (!display || display === 'none') {{\n",
       "            console.log([gd, 'removed!']);\n",
       "            Plotly.purge(gd);\n",
       "            observer.disconnect();\n",
       "        }}\n",
       "}});\n",
       "\n",
       "// Listen for the removal of the full notebook cells\n",
       "var notebookContainer = gd.closest('#notebook-container');\n",
       "if (notebookContainer) {{\n",
       "    x.observe(notebookContainer, {childList: true});\n",
       "}}\n",
       "\n",
       "// Listen for the clearing of the current output cell\n",
       "var outputEl = gd.closest('.output');\n",
       "if (outputEl) {{\n",
       "    x.observe(outputEl, {childList: true});\n",
       "}}\n",
       "\n",
       "                        })                };                });            </script>        </div>"
      ]
     },
     "metadata": {},
     "output_type": "display_data"
    }
   ],
   "source": [
    "\n",
    "# Reset the environment\n",
    "for env_to_test in [vec_env_test, vec_env]:\n",
    "    obs = env_to_test.reset()\n",
    "\n",
    "    total_rew = 0\n",
    "    while True:\n",
    "        action, _ = test_model.predict(obs, deterministic=True)\n",
    "        obs, reward, terminated, info = env_to_test.step(action)\n",
    "        total_rew += reward\n",
    "        #print(f\"\\nAction: {action}\")\n",
    "        #print(f\"Obs: {obs}\")\n",
    "        if terminated:\n",
    "            print(f\"Done: {terminated}\")\n",
    "            break\n",
    "\n",
    "    env_to_test.close()\n",
    "    info = info[0] # Due to wrapping\n",
    "    print(\"total_rew\",total_rew)\n",
    "\n",
    "    history = np.array(info[\"history\"])\n",
    "    job_counter = 0\n",
    "    for his in history:\n",
    "        if his[2] > 0:\n",
    "            job_counter += 1\n",
    "\n",
    "    print(f\"completed jobs: {job_counter}/40\")\n",
    "    render(info[\"history\"], info[\"prices\"])\n"
   ]
  },
  {
   "cell_type": "code",
   "execution_count": 144,
   "metadata": {},
   "outputs": [
    {
     "data": {
      "application/vnd.plotly.v1+json": {
       "config": {
        "plotlyServerURL": "https://plot.ly"
       },
       "data": [
        {
         "orientation": "h",
         "type": "bar",
         "x": [
          7,
          4,
          4,
          5,
          4,
          7,
          6,
          4,
          5,
          5,
          5,
          4,
          4,
          4,
          1,
          1,
          1,
          1,
          6,
          1,
          1,
          7,
          1,
          1,
          7,
          1,
          1,
          5,
          1,
          1,
          5,
          1,
          1,
          6,
          1,
          1,
          7,
          1,
          1,
          7,
          6,
          1,
          5,
          6,
          1,
          4,
          7,
          1,
          4,
          4,
          1,
          1,
          4,
          1,
          1,
          6,
          1,
          1,
          4,
          1,
          1,
          7,
          1,
          1,
          4,
          1,
          0,
          6,
          1,
          0,
          5,
          5,
          0,
          1,
          7,
          0,
          1,
          7,
          0,
          1,
          5
         ],
         "y": [
          0,
          1,
          2,
          0,
          1,
          2,
          0,
          1,
          2,
          0,
          1,
          2,
          0,
          1,
          2,
          0,
          1,
          2,
          0,
          1,
          2,
          0,
          1,
          2,
          0,
          1,
          2,
          0,
          1,
          2,
          0,
          1,
          2,
          0,
          1,
          2,
          0,
          1,
          2,
          0,
          1,
          2,
          0,
          1,
          2,
          0,
          1,
          2,
          0,
          1,
          2,
          0,
          1,
          2,
          0,
          1,
          2,
          0,
          1,
          2,
          0,
          1,
          2,
          0,
          1,
          2,
          0,
          1,
          2,
          0,
          1,
          2,
          0,
          1,
          2,
          0,
          1,
          2,
          0,
          1,
          2
         ]
        }
       ],
       "frames": [
        {
         "data": [
          {
           "orientation": "h",
           "type": "bar",
           "x": [],
           "y": []
          }
         ],
         "name": "frame 0"
        },
        {
         "data": [
          {
           "orientation": "h",
           "type": "bar",
           "x": [
            7
           ],
           "y": [
            0
           ]
          }
         ],
         "name": "frame 1"
        },
        {
         "data": [
          {
           "orientation": "h",
           "type": "bar",
           "x": [
            7,
            4
           ],
           "y": [
            0,
            1
           ]
          }
         ],
         "name": "frame 2"
        },
        {
         "data": [
          {
           "orientation": "h",
           "type": "bar",
           "x": [
            7,
            4,
            4
           ],
           "y": [
            0,
            1,
            2
           ]
          }
         ],
         "name": "frame 3"
        },
        {
         "data": [
          {
           "orientation": "h",
           "type": "bar",
           "x": [
            7,
            4,
            4,
            5
           ],
           "y": [
            0,
            1,
            2,
            0
           ]
          }
         ],
         "name": "frame 4"
        },
        {
         "data": [
          {
           "orientation": "h",
           "type": "bar",
           "x": [
            7,
            4,
            4,
            5,
            4
           ],
           "y": [
            0,
            1,
            2,
            0,
            1
           ]
          }
         ],
         "name": "frame 5"
        },
        {
         "data": [
          {
           "orientation": "h",
           "type": "bar",
           "x": [
            7,
            4,
            4,
            5,
            4,
            7
           ],
           "y": [
            0,
            1,
            2,
            0,
            1,
            2
           ]
          }
         ],
         "name": "frame 6"
        },
        {
         "data": [
          {
           "orientation": "h",
           "type": "bar",
           "x": [
            7,
            4,
            4,
            5,
            4,
            7,
            6
           ],
           "y": [
            0,
            1,
            2,
            0,
            1,
            2,
            0
           ]
          }
         ],
         "name": "frame 7"
        },
        {
         "data": [
          {
           "orientation": "h",
           "type": "bar",
           "x": [
            7,
            4,
            4,
            5,
            4,
            7,
            6,
            4
           ],
           "y": [
            0,
            1,
            2,
            0,
            1,
            2,
            0,
            1
           ]
          }
         ],
         "name": "frame 8"
        },
        {
         "data": [
          {
           "orientation": "h",
           "type": "bar",
           "x": [
            7,
            4,
            4,
            5,
            4,
            7,
            6,
            4,
            5
           ],
           "y": [
            0,
            1,
            2,
            0,
            1,
            2,
            0,
            1,
            2
           ]
          }
         ],
         "name": "frame 9"
        },
        {
         "data": [
          {
           "orientation": "h",
           "type": "bar",
           "x": [
            7,
            4,
            4,
            5,
            4,
            7,
            6,
            4,
            5,
            5
           ],
           "y": [
            0,
            1,
            2,
            0,
            1,
            2,
            0,
            1,
            2,
            0
           ]
          }
         ],
         "name": "frame 10"
        },
        {
         "data": [
          {
           "orientation": "h",
           "type": "bar",
           "x": [
            7,
            4,
            4,
            5,
            4,
            7,
            6,
            4,
            5,
            5,
            5
           ],
           "y": [
            0,
            1,
            2,
            0,
            1,
            2,
            0,
            1,
            2,
            0,
            1
           ]
          }
         ],
         "name": "frame 11"
        },
        {
         "data": [
          {
           "orientation": "h",
           "type": "bar",
           "x": [
            7,
            4,
            4,
            5,
            4,
            7,
            6,
            4,
            5,
            5,
            5,
            4
           ],
           "y": [
            0,
            1,
            2,
            0,
            1,
            2,
            0,
            1,
            2,
            0,
            1,
            2
           ]
          }
         ],
         "name": "frame 12"
        },
        {
         "data": [
          {
           "orientation": "h",
           "type": "bar",
           "x": [
            7,
            4,
            4,
            5,
            4,
            7,
            6,
            4,
            5,
            5,
            5,
            4,
            4
           ],
           "y": [
            0,
            1,
            2,
            0,
            1,
            2,
            0,
            1,
            2,
            0,
            1,
            2,
            0
           ]
          }
         ],
         "name": "frame 13"
        },
        {
         "data": [
          {
           "orientation": "h",
           "type": "bar",
           "x": [
            7,
            4,
            4,
            5,
            4,
            7,
            6,
            4,
            5,
            5,
            5,
            4,
            4,
            4
           ],
           "y": [
            0,
            1,
            2,
            0,
            1,
            2,
            0,
            1,
            2,
            0,
            1,
            2,
            0,
            1
           ]
          }
         ],
         "name": "frame 14"
        },
        {
         "data": [
          {
           "orientation": "h",
           "type": "bar",
           "x": [
            7,
            4,
            4,
            5,
            4,
            7,
            6,
            4,
            5,
            5,
            5,
            4,
            4,
            4,
            1
           ],
           "y": [
            0,
            1,
            2,
            0,
            1,
            2,
            0,
            1,
            2,
            0,
            1,
            2,
            0,
            1,
            2
           ]
          }
         ],
         "name": "frame 15"
        },
        {
         "data": [
          {
           "orientation": "h",
           "type": "bar",
           "x": [
            7,
            4,
            4,
            5,
            4,
            7,
            6,
            4,
            5,
            5,
            5,
            4,
            4,
            4,
            1,
            1
           ],
           "y": [
            0,
            1,
            2,
            0,
            1,
            2,
            0,
            1,
            2,
            0,
            1,
            2,
            0,
            1,
            2,
            0
           ]
          }
         ],
         "name": "frame 16"
        },
        {
         "data": [
          {
           "orientation": "h",
           "type": "bar",
           "x": [
            7,
            4,
            4,
            5,
            4,
            7,
            6,
            4,
            5,
            5,
            5,
            4,
            4,
            4,
            1,
            1,
            1
           ],
           "y": [
            0,
            1,
            2,
            0,
            1,
            2,
            0,
            1,
            2,
            0,
            1,
            2,
            0,
            1,
            2,
            0,
            1
           ]
          }
         ],
         "name": "frame 17"
        },
        {
         "data": [
          {
           "orientation": "h",
           "type": "bar",
           "x": [
            7,
            4,
            4,
            5,
            4,
            7,
            6,
            4,
            5,
            5,
            5,
            4,
            4,
            4,
            1,
            1,
            1,
            1
           ],
           "y": [
            0,
            1,
            2,
            0,
            1,
            2,
            0,
            1,
            2,
            0,
            1,
            2,
            0,
            1,
            2,
            0,
            1,
            2
           ]
          }
         ],
         "name": "frame 18"
        },
        {
         "data": [
          {
           "orientation": "h",
           "type": "bar",
           "x": [
            7,
            4,
            4,
            5,
            4,
            7,
            6,
            4,
            5,
            5,
            5,
            4,
            4,
            4,
            1,
            1,
            1,
            1,
            6
           ],
           "y": [
            0,
            1,
            2,
            0,
            1,
            2,
            0,
            1,
            2,
            0,
            1,
            2,
            0,
            1,
            2,
            0,
            1,
            2,
            0
           ]
          }
         ],
         "name": "frame 19"
        },
        {
         "data": [
          {
           "orientation": "h",
           "type": "bar",
           "x": [
            7,
            4,
            4,
            5,
            4,
            7,
            6,
            4,
            5,
            5,
            5,
            4,
            4,
            4,
            1,
            1,
            1,
            1,
            6,
            1
           ],
           "y": [
            0,
            1,
            2,
            0,
            1,
            2,
            0,
            1,
            2,
            0,
            1,
            2,
            0,
            1,
            2,
            0,
            1,
            2,
            0,
            1
           ]
          }
         ],
         "name": "frame 20"
        },
        {
         "data": [
          {
           "orientation": "h",
           "type": "bar",
           "x": [
            7,
            4,
            4,
            5,
            4,
            7,
            6,
            4,
            5,
            5,
            5,
            4,
            4,
            4,
            1,
            1,
            1,
            1,
            6,
            1,
            1
           ],
           "y": [
            0,
            1,
            2,
            0,
            1,
            2,
            0,
            1,
            2,
            0,
            1,
            2,
            0,
            1,
            2,
            0,
            1,
            2,
            0,
            1,
            2
           ]
          }
         ],
         "name": "frame 21"
        },
        {
         "data": [
          {
           "orientation": "h",
           "type": "bar",
           "x": [
            7,
            4,
            4,
            5,
            4,
            7,
            6,
            4,
            5,
            5,
            5,
            4,
            4,
            4,
            1,
            1,
            1,
            1,
            6,
            1,
            1,
            7
           ],
           "y": [
            0,
            1,
            2,
            0,
            1,
            2,
            0,
            1,
            2,
            0,
            1,
            2,
            0,
            1,
            2,
            0,
            1,
            2,
            0,
            1,
            2,
            0
           ]
          }
         ],
         "name": "frame 22"
        },
        {
         "data": [
          {
           "orientation": "h",
           "type": "bar",
           "x": [
            7,
            4,
            4,
            5,
            4,
            7,
            6,
            4,
            5,
            5,
            5,
            4,
            4,
            4,
            1,
            1,
            1,
            1,
            6,
            1,
            1,
            7,
            1
           ],
           "y": [
            0,
            1,
            2,
            0,
            1,
            2,
            0,
            1,
            2,
            0,
            1,
            2,
            0,
            1,
            2,
            0,
            1,
            2,
            0,
            1,
            2,
            0,
            1
           ]
          }
         ],
         "name": "frame 23"
        },
        {
         "data": [
          {
           "orientation": "h",
           "type": "bar",
           "x": [
            7,
            4,
            4,
            5,
            4,
            7,
            6,
            4,
            5,
            5,
            5,
            4,
            4,
            4,
            1,
            1,
            1,
            1,
            6,
            1,
            1,
            7,
            1,
            1
           ],
           "y": [
            0,
            1,
            2,
            0,
            1,
            2,
            0,
            1,
            2,
            0,
            1,
            2,
            0,
            1,
            2,
            0,
            1,
            2,
            0,
            1,
            2,
            0,
            1,
            2
           ]
          }
         ],
         "name": "frame 24"
        },
        {
         "data": [
          {
           "orientation": "h",
           "type": "bar",
           "x": [
            7,
            4,
            4,
            5,
            4,
            7,
            6,
            4,
            5,
            5,
            5,
            4,
            4,
            4,
            1,
            1,
            1,
            1,
            6,
            1,
            1,
            7,
            1,
            1,
            7
           ],
           "y": [
            0,
            1,
            2,
            0,
            1,
            2,
            0,
            1,
            2,
            0,
            1,
            2,
            0,
            1,
            2,
            0,
            1,
            2,
            0,
            1,
            2,
            0,
            1,
            2,
            0
           ]
          }
         ],
         "name": "frame 25"
        },
        {
         "data": [
          {
           "orientation": "h",
           "type": "bar",
           "x": [
            7,
            4,
            4,
            5,
            4,
            7,
            6,
            4,
            5,
            5,
            5,
            4,
            4,
            4,
            1,
            1,
            1,
            1,
            6,
            1,
            1,
            7,
            1,
            1,
            7,
            1
           ],
           "y": [
            0,
            1,
            2,
            0,
            1,
            2,
            0,
            1,
            2,
            0,
            1,
            2,
            0,
            1,
            2,
            0,
            1,
            2,
            0,
            1,
            2,
            0,
            1,
            2,
            0,
            1
           ]
          }
         ],
         "name": "frame 26"
        },
        {
         "data": [
          {
           "orientation": "h",
           "type": "bar",
           "x": [
            7,
            4,
            4,
            5,
            4,
            7,
            6,
            4,
            5,
            5,
            5,
            4,
            4,
            4,
            1,
            1,
            1,
            1,
            6,
            1,
            1,
            7,
            1,
            1,
            7,
            1,
            1
           ],
           "y": [
            0,
            1,
            2,
            0,
            1,
            2,
            0,
            1,
            2,
            0,
            1,
            2,
            0,
            1,
            2,
            0,
            1,
            2,
            0,
            1,
            2,
            0,
            1,
            2,
            0,
            1,
            2
           ]
          }
         ],
         "name": "frame 27"
        },
        {
         "data": [
          {
           "orientation": "h",
           "type": "bar",
           "x": [
            7,
            4,
            4,
            5,
            4,
            7,
            6,
            4,
            5,
            5,
            5,
            4,
            4,
            4,
            1,
            1,
            1,
            1,
            6,
            1,
            1,
            7,
            1,
            1,
            7,
            1,
            1,
            5
           ],
           "y": [
            0,
            1,
            2,
            0,
            1,
            2,
            0,
            1,
            2,
            0,
            1,
            2,
            0,
            1,
            2,
            0,
            1,
            2,
            0,
            1,
            2,
            0,
            1,
            2,
            0,
            1,
            2,
            0
           ]
          }
         ],
         "name": "frame 28"
        },
        {
         "data": [
          {
           "orientation": "h",
           "type": "bar",
           "x": [
            7,
            4,
            4,
            5,
            4,
            7,
            6,
            4,
            5,
            5,
            5,
            4,
            4,
            4,
            1,
            1,
            1,
            1,
            6,
            1,
            1,
            7,
            1,
            1,
            7,
            1,
            1,
            5,
            1
           ],
           "y": [
            0,
            1,
            2,
            0,
            1,
            2,
            0,
            1,
            2,
            0,
            1,
            2,
            0,
            1,
            2,
            0,
            1,
            2,
            0,
            1,
            2,
            0,
            1,
            2,
            0,
            1,
            2,
            0,
            1
           ]
          }
         ],
         "name": "frame 29"
        },
        {
         "data": [
          {
           "orientation": "h",
           "type": "bar",
           "x": [
            7,
            4,
            4,
            5,
            4,
            7,
            6,
            4,
            5,
            5,
            5,
            4,
            4,
            4,
            1,
            1,
            1,
            1,
            6,
            1,
            1,
            7,
            1,
            1,
            7,
            1,
            1,
            5,
            1,
            1
           ],
           "y": [
            0,
            1,
            2,
            0,
            1,
            2,
            0,
            1,
            2,
            0,
            1,
            2,
            0,
            1,
            2,
            0,
            1,
            2,
            0,
            1,
            2,
            0,
            1,
            2,
            0,
            1,
            2,
            0,
            1,
            2
           ]
          }
         ],
         "name": "frame 30"
        },
        {
         "data": [
          {
           "orientation": "h",
           "type": "bar",
           "x": [
            7,
            4,
            4,
            5,
            4,
            7,
            6,
            4,
            5,
            5,
            5,
            4,
            4,
            4,
            1,
            1,
            1,
            1,
            6,
            1,
            1,
            7,
            1,
            1,
            7,
            1,
            1,
            5,
            1,
            1,
            5
           ],
           "y": [
            0,
            1,
            2,
            0,
            1,
            2,
            0,
            1,
            2,
            0,
            1,
            2,
            0,
            1,
            2,
            0,
            1,
            2,
            0,
            1,
            2,
            0,
            1,
            2,
            0,
            1,
            2,
            0,
            1,
            2,
            0
           ]
          }
         ],
         "name": "frame 31"
        },
        {
         "data": [
          {
           "orientation": "h",
           "type": "bar",
           "x": [
            7,
            4,
            4,
            5,
            4,
            7,
            6,
            4,
            5,
            5,
            5,
            4,
            4,
            4,
            1,
            1,
            1,
            1,
            6,
            1,
            1,
            7,
            1,
            1,
            7,
            1,
            1,
            5,
            1,
            1,
            5,
            1
           ],
           "y": [
            0,
            1,
            2,
            0,
            1,
            2,
            0,
            1,
            2,
            0,
            1,
            2,
            0,
            1,
            2,
            0,
            1,
            2,
            0,
            1,
            2,
            0,
            1,
            2,
            0,
            1,
            2,
            0,
            1,
            2,
            0,
            1
           ]
          }
         ],
         "name": "frame 32"
        },
        {
         "data": [
          {
           "orientation": "h",
           "type": "bar",
           "x": [
            7,
            4,
            4,
            5,
            4,
            7,
            6,
            4,
            5,
            5,
            5,
            4,
            4,
            4,
            1,
            1,
            1,
            1,
            6,
            1,
            1,
            7,
            1,
            1,
            7,
            1,
            1,
            5,
            1,
            1,
            5,
            1,
            1
           ],
           "y": [
            0,
            1,
            2,
            0,
            1,
            2,
            0,
            1,
            2,
            0,
            1,
            2,
            0,
            1,
            2,
            0,
            1,
            2,
            0,
            1,
            2,
            0,
            1,
            2,
            0,
            1,
            2,
            0,
            1,
            2,
            0,
            1,
            2
           ]
          }
         ],
         "name": "frame 33"
        },
        {
         "data": [
          {
           "orientation": "h",
           "type": "bar",
           "x": [
            7,
            4,
            4,
            5,
            4,
            7,
            6,
            4,
            5,
            5,
            5,
            4,
            4,
            4,
            1,
            1,
            1,
            1,
            6,
            1,
            1,
            7,
            1,
            1,
            7,
            1,
            1,
            5,
            1,
            1,
            5,
            1,
            1,
            6
           ],
           "y": [
            0,
            1,
            2,
            0,
            1,
            2,
            0,
            1,
            2,
            0,
            1,
            2,
            0,
            1,
            2,
            0,
            1,
            2,
            0,
            1,
            2,
            0,
            1,
            2,
            0,
            1,
            2,
            0,
            1,
            2,
            0,
            1,
            2,
            0
           ]
          }
         ],
         "name": "frame 34"
        },
        {
         "data": [
          {
           "orientation": "h",
           "type": "bar",
           "x": [
            7,
            4,
            4,
            5,
            4,
            7,
            6,
            4,
            5,
            5,
            5,
            4,
            4,
            4,
            1,
            1,
            1,
            1,
            6,
            1,
            1,
            7,
            1,
            1,
            7,
            1,
            1,
            5,
            1,
            1,
            5,
            1,
            1,
            6,
            1
           ],
           "y": [
            0,
            1,
            2,
            0,
            1,
            2,
            0,
            1,
            2,
            0,
            1,
            2,
            0,
            1,
            2,
            0,
            1,
            2,
            0,
            1,
            2,
            0,
            1,
            2,
            0,
            1,
            2,
            0,
            1,
            2,
            0,
            1,
            2,
            0,
            1
           ]
          }
         ],
         "name": "frame 35"
        },
        {
         "data": [
          {
           "orientation": "h",
           "type": "bar",
           "x": [
            7,
            4,
            4,
            5,
            4,
            7,
            6,
            4,
            5,
            5,
            5,
            4,
            4,
            4,
            1,
            1,
            1,
            1,
            6,
            1,
            1,
            7,
            1,
            1,
            7,
            1,
            1,
            5,
            1,
            1,
            5,
            1,
            1,
            6,
            1,
            1
           ],
           "y": [
            0,
            1,
            2,
            0,
            1,
            2,
            0,
            1,
            2,
            0,
            1,
            2,
            0,
            1,
            2,
            0,
            1,
            2,
            0,
            1,
            2,
            0,
            1,
            2,
            0,
            1,
            2,
            0,
            1,
            2,
            0,
            1,
            2,
            0,
            1,
            2
           ]
          }
         ],
         "name": "frame 36"
        },
        {
         "data": [
          {
           "orientation": "h",
           "type": "bar",
           "x": [
            7,
            4,
            4,
            5,
            4,
            7,
            6,
            4,
            5,
            5,
            5,
            4,
            4,
            4,
            1,
            1,
            1,
            1,
            6,
            1,
            1,
            7,
            1,
            1,
            7,
            1,
            1,
            5,
            1,
            1,
            5,
            1,
            1,
            6,
            1,
            1,
            7
           ],
           "y": [
            0,
            1,
            2,
            0,
            1,
            2,
            0,
            1,
            2,
            0,
            1,
            2,
            0,
            1,
            2,
            0,
            1,
            2,
            0,
            1,
            2,
            0,
            1,
            2,
            0,
            1,
            2,
            0,
            1,
            2,
            0,
            1,
            2,
            0,
            1,
            2,
            0
           ]
          }
         ],
         "name": "frame 37"
        },
        {
         "data": [
          {
           "orientation": "h",
           "type": "bar",
           "x": [
            7,
            4,
            4,
            5,
            4,
            7,
            6,
            4,
            5,
            5,
            5,
            4,
            4,
            4,
            1,
            1,
            1,
            1,
            6,
            1,
            1,
            7,
            1,
            1,
            7,
            1,
            1,
            5,
            1,
            1,
            5,
            1,
            1,
            6,
            1,
            1,
            7,
            1
           ],
           "y": [
            0,
            1,
            2,
            0,
            1,
            2,
            0,
            1,
            2,
            0,
            1,
            2,
            0,
            1,
            2,
            0,
            1,
            2,
            0,
            1,
            2,
            0,
            1,
            2,
            0,
            1,
            2,
            0,
            1,
            2,
            0,
            1,
            2,
            0,
            1,
            2,
            0,
            1
           ]
          }
         ],
         "name": "frame 38"
        },
        {
         "data": [
          {
           "orientation": "h",
           "type": "bar",
           "x": [
            7,
            4,
            4,
            5,
            4,
            7,
            6,
            4,
            5,
            5,
            5,
            4,
            4,
            4,
            1,
            1,
            1,
            1,
            6,
            1,
            1,
            7,
            1,
            1,
            7,
            1,
            1,
            5,
            1,
            1,
            5,
            1,
            1,
            6,
            1,
            1,
            7,
            1,
            1
           ],
           "y": [
            0,
            1,
            2,
            0,
            1,
            2,
            0,
            1,
            2,
            0,
            1,
            2,
            0,
            1,
            2,
            0,
            1,
            2,
            0,
            1,
            2,
            0,
            1,
            2,
            0,
            1,
            2,
            0,
            1,
            2,
            0,
            1,
            2,
            0,
            1,
            2,
            0,
            1,
            2
           ]
          }
         ],
         "name": "frame 39"
        },
        {
         "data": [
          {
           "orientation": "h",
           "type": "bar",
           "x": [
            7,
            4,
            4,
            5,
            4,
            7,
            6,
            4,
            5,
            5,
            5,
            4,
            4,
            4,
            1,
            1,
            1,
            1,
            6,
            1,
            1,
            7,
            1,
            1,
            7,
            1,
            1,
            5,
            1,
            1,
            5,
            1,
            1,
            6,
            1,
            1,
            7,
            1,
            1,
            7
           ],
           "y": [
            0,
            1,
            2,
            0,
            1,
            2,
            0,
            1,
            2,
            0,
            1,
            2,
            0,
            1,
            2,
            0,
            1,
            2,
            0,
            1,
            2,
            0,
            1,
            2,
            0,
            1,
            2,
            0,
            1,
            2,
            0,
            1,
            2,
            0,
            1,
            2,
            0,
            1,
            2,
            0
           ]
          }
         ],
         "name": "frame 40"
        },
        {
         "data": [
          {
           "orientation": "h",
           "type": "bar",
           "x": [
            7,
            4,
            4,
            5,
            4,
            7,
            6,
            4,
            5,
            5,
            5,
            4,
            4,
            4,
            1,
            1,
            1,
            1,
            6,
            1,
            1,
            7,
            1,
            1,
            7,
            1,
            1,
            5,
            1,
            1,
            5,
            1,
            1,
            6,
            1,
            1,
            7,
            1,
            1,
            7,
            6
           ],
           "y": [
            0,
            1,
            2,
            0,
            1,
            2,
            0,
            1,
            2,
            0,
            1,
            2,
            0,
            1,
            2,
            0,
            1,
            2,
            0,
            1,
            2,
            0,
            1,
            2,
            0,
            1,
            2,
            0,
            1,
            2,
            0,
            1,
            2,
            0,
            1,
            2,
            0,
            1,
            2,
            0,
            1
           ]
          }
         ],
         "name": "frame 41"
        },
        {
         "data": [
          {
           "orientation": "h",
           "type": "bar",
           "x": [
            7,
            4,
            4,
            5,
            4,
            7,
            6,
            4,
            5,
            5,
            5,
            4,
            4,
            4,
            1,
            1,
            1,
            1,
            6,
            1,
            1,
            7,
            1,
            1,
            7,
            1,
            1,
            5,
            1,
            1,
            5,
            1,
            1,
            6,
            1,
            1,
            7,
            1,
            1,
            7,
            6,
            1
           ],
           "y": [
            0,
            1,
            2,
            0,
            1,
            2,
            0,
            1,
            2,
            0,
            1,
            2,
            0,
            1,
            2,
            0,
            1,
            2,
            0,
            1,
            2,
            0,
            1,
            2,
            0,
            1,
            2,
            0,
            1,
            2,
            0,
            1,
            2,
            0,
            1,
            2,
            0,
            1,
            2,
            0,
            1,
            2
           ]
          }
         ],
         "name": "frame 42"
        },
        {
         "data": [
          {
           "orientation": "h",
           "type": "bar",
           "x": [
            7,
            4,
            4,
            5,
            4,
            7,
            6,
            4,
            5,
            5,
            5,
            4,
            4,
            4,
            1,
            1,
            1,
            1,
            6,
            1,
            1,
            7,
            1,
            1,
            7,
            1,
            1,
            5,
            1,
            1,
            5,
            1,
            1,
            6,
            1,
            1,
            7,
            1,
            1,
            7,
            6,
            1,
            5
           ],
           "y": [
            0,
            1,
            2,
            0,
            1,
            2,
            0,
            1,
            2,
            0,
            1,
            2,
            0,
            1,
            2,
            0,
            1,
            2,
            0,
            1,
            2,
            0,
            1,
            2,
            0,
            1,
            2,
            0,
            1,
            2,
            0,
            1,
            2,
            0,
            1,
            2,
            0,
            1,
            2,
            0,
            1,
            2,
            0
           ]
          }
         ],
         "name": "frame 43"
        },
        {
         "data": [
          {
           "orientation": "h",
           "type": "bar",
           "x": [
            7,
            4,
            4,
            5,
            4,
            7,
            6,
            4,
            5,
            5,
            5,
            4,
            4,
            4,
            1,
            1,
            1,
            1,
            6,
            1,
            1,
            7,
            1,
            1,
            7,
            1,
            1,
            5,
            1,
            1,
            5,
            1,
            1,
            6,
            1,
            1,
            7,
            1,
            1,
            7,
            6,
            1,
            5,
            6
           ],
           "y": [
            0,
            1,
            2,
            0,
            1,
            2,
            0,
            1,
            2,
            0,
            1,
            2,
            0,
            1,
            2,
            0,
            1,
            2,
            0,
            1,
            2,
            0,
            1,
            2,
            0,
            1,
            2,
            0,
            1,
            2,
            0,
            1,
            2,
            0,
            1,
            2,
            0,
            1,
            2,
            0,
            1,
            2,
            0,
            1
           ]
          }
         ],
         "name": "frame 44"
        },
        {
         "data": [
          {
           "orientation": "h",
           "type": "bar",
           "x": [
            7,
            4,
            4,
            5,
            4,
            7,
            6,
            4,
            5,
            5,
            5,
            4,
            4,
            4,
            1,
            1,
            1,
            1,
            6,
            1,
            1,
            7,
            1,
            1,
            7,
            1,
            1,
            5,
            1,
            1,
            5,
            1,
            1,
            6,
            1,
            1,
            7,
            1,
            1,
            7,
            6,
            1,
            5,
            6,
            1
           ],
           "y": [
            0,
            1,
            2,
            0,
            1,
            2,
            0,
            1,
            2,
            0,
            1,
            2,
            0,
            1,
            2,
            0,
            1,
            2,
            0,
            1,
            2,
            0,
            1,
            2,
            0,
            1,
            2,
            0,
            1,
            2,
            0,
            1,
            2,
            0,
            1,
            2,
            0,
            1,
            2,
            0,
            1,
            2,
            0,
            1,
            2
           ]
          }
         ],
         "name": "frame 45"
        },
        {
         "data": [
          {
           "orientation": "h",
           "type": "bar",
           "x": [
            7,
            4,
            4,
            5,
            4,
            7,
            6,
            4,
            5,
            5,
            5,
            4,
            4,
            4,
            1,
            1,
            1,
            1,
            6,
            1,
            1,
            7,
            1,
            1,
            7,
            1,
            1,
            5,
            1,
            1,
            5,
            1,
            1,
            6,
            1,
            1,
            7,
            1,
            1,
            7,
            6,
            1,
            5,
            6,
            1,
            4
           ],
           "y": [
            0,
            1,
            2,
            0,
            1,
            2,
            0,
            1,
            2,
            0,
            1,
            2,
            0,
            1,
            2,
            0,
            1,
            2,
            0,
            1,
            2,
            0,
            1,
            2,
            0,
            1,
            2,
            0,
            1,
            2,
            0,
            1,
            2,
            0,
            1,
            2,
            0,
            1,
            2,
            0,
            1,
            2,
            0,
            1,
            2,
            0
           ]
          }
         ],
         "name": "frame 46"
        },
        {
         "data": [
          {
           "orientation": "h",
           "type": "bar",
           "x": [
            7,
            4,
            4,
            5,
            4,
            7,
            6,
            4,
            5,
            5,
            5,
            4,
            4,
            4,
            1,
            1,
            1,
            1,
            6,
            1,
            1,
            7,
            1,
            1,
            7,
            1,
            1,
            5,
            1,
            1,
            5,
            1,
            1,
            6,
            1,
            1,
            7,
            1,
            1,
            7,
            6,
            1,
            5,
            6,
            1,
            4,
            7
           ],
           "y": [
            0,
            1,
            2,
            0,
            1,
            2,
            0,
            1,
            2,
            0,
            1,
            2,
            0,
            1,
            2,
            0,
            1,
            2,
            0,
            1,
            2,
            0,
            1,
            2,
            0,
            1,
            2,
            0,
            1,
            2,
            0,
            1,
            2,
            0,
            1,
            2,
            0,
            1,
            2,
            0,
            1,
            2,
            0,
            1,
            2,
            0,
            1
           ]
          }
         ],
         "name": "frame 47"
        },
        {
         "data": [
          {
           "orientation": "h",
           "type": "bar",
           "x": [
            7,
            4,
            4,
            5,
            4,
            7,
            6,
            4,
            5,
            5,
            5,
            4,
            4,
            4,
            1,
            1,
            1,
            1,
            6,
            1,
            1,
            7,
            1,
            1,
            7,
            1,
            1,
            5,
            1,
            1,
            5,
            1,
            1,
            6,
            1,
            1,
            7,
            1,
            1,
            7,
            6,
            1,
            5,
            6,
            1,
            4,
            7,
            1
           ],
           "y": [
            0,
            1,
            2,
            0,
            1,
            2,
            0,
            1,
            2,
            0,
            1,
            2,
            0,
            1,
            2,
            0,
            1,
            2,
            0,
            1,
            2,
            0,
            1,
            2,
            0,
            1,
            2,
            0,
            1,
            2,
            0,
            1,
            2,
            0,
            1,
            2,
            0,
            1,
            2,
            0,
            1,
            2,
            0,
            1,
            2,
            0,
            1,
            2
           ]
          }
         ],
         "name": "frame 48"
        },
        {
         "data": [
          {
           "orientation": "h",
           "type": "bar",
           "x": [
            7,
            4,
            4,
            5,
            4,
            7,
            6,
            4,
            5,
            5,
            5,
            4,
            4,
            4,
            1,
            1,
            1,
            1,
            6,
            1,
            1,
            7,
            1,
            1,
            7,
            1,
            1,
            5,
            1,
            1,
            5,
            1,
            1,
            6,
            1,
            1,
            7,
            1,
            1,
            7,
            6,
            1,
            5,
            6,
            1,
            4,
            7,
            1,
            4
           ],
           "y": [
            0,
            1,
            2,
            0,
            1,
            2,
            0,
            1,
            2,
            0,
            1,
            2,
            0,
            1,
            2,
            0,
            1,
            2,
            0,
            1,
            2,
            0,
            1,
            2,
            0,
            1,
            2,
            0,
            1,
            2,
            0,
            1,
            2,
            0,
            1,
            2,
            0,
            1,
            2,
            0,
            1,
            2,
            0,
            1,
            2,
            0,
            1,
            2,
            0
           ]
          }
         ],
         "name": "frame 49"
        },
        {
         "data": [
          {
           "orientation": "h",
           "type": "bar",
           "x": [
            7,
            4,
            4,
            5,
            4,
            7,
            6,
            4,
            5,
            5,
            5,
            4,
            4,
            4,
            1,
            1,
            1,
            1,
            6,
            1,
            1,
            7,
            1,
            1,
            7,
            1,
            1,
            5,
            1,
            1,
            5,
            1,
            1,
            6,
            1,
            1,
            7,
            1,
            1,
            7,
            6,
            1,
            5,
            6,
            1,
            4,
            7,
            1,
            4,
            4
           ],
           "y": [
            0,
            1,
            2,
            0,
            1,
            2,
            0,
            1,
            2,
            0,
            1,
            2,
            0,
            1,
            2,
            0,
            1,
            2,
            0,
            1,
            2,
            0,
            1,
            2,
            0,
            1,
            2,
            0,
            1,
            2,
            0,
            1,
            2,
            0,
            1,
            2,
            0,
            1,
            2,
            0,
            1,
            2,
            0,
            1,
            2,
            0,
            1,
            2,
            0,
            1
           ]
          }
         ],
         "name": "frame 50"
        },
        {
         "data": [
          {
           "orientation": "h",
           "type": "bar",
           "x": [
            7,
            4,
            4,
            5,
            4,
            7,
            6,
            4,
            5,
            5,
            5,
            4,
            4,
            4,
            1,
            1,
            1,
            1,
            6,
            1,
            1,
            7,
            1,
            1,
            7,
            1,
            1,
            5,
            1,
            1,
            5,
            1,
            1,
            6,
            1,
            1,
            7,
            1,
            1,
            7,
            6,
            1,
            5,
            6,
            1,
            4,
            7,
            1,
            4,
            4,
            1
           ],
           "y": [
            0,
            1,
            2,
            0,
            1,
            2,
            0,
            1,
            2,
            0,
            1,
            2,
            0,
            1,
            2,
            0,
            1,
            2,
            0,
            1,
            2,
            0,
            1,
            2,
            0,
            1,
            2,
            0,
            1,
            2,
            0,
            1,
            2,
            0,
            1,
            2,
            0,
            1,
            2,
            0,
            1,
            2,
            0,
            1,
            2,
            0,
            1,
            2,
            0,
            1,
            2
           ]
          }
         ],
         "name": "frame 51"
        },
        {
         "data": [
          {
           "orientation": "h",
           "type": "bar",
           "x": [
            7,
            4,
            4,
            5,
            4,
            7,
            6,
            4,
            5,
            5,
            5,
            4,
            4,
            4,
            1,
            1,
            1,
            1,
            6,
            1,
            1,
            7,
            1,
            1,
            7,
            1,
            1,
            5,
            1,
            1,
            5,
            1,
            1,
            6,
            1,
            1,
            7,
            1,
            1,
            7,
            6,
            1,
            5,
            6,
            1,
            4,
            7,
            1,
            4,
            4,
            1,
            1
           ],
           "y": [
            0,
            1,
            2,
            0,
            1,
            2,
            0,
            1,
            2,
            0,
            1,
            2,
            0,
            1,
            2,
            0,
            1,
            2,
            0,
            1,
            2,
            0,
            1,
            2,
            0,
            1,
            2,
            0,
            1,
            2,
            0,
            1,
            2,
            0,
            1,
            2,
            0,
            1,
            2,
            0,
            1,
            2,
            0,
            1,
            2,
            0,
            1,
            2,
            0,
            1,
            2,
            0
           ]
          }
         ],
         "name": "frame 52"
        },
        {
         "data": [
          {
           "orientation": "h",
           "type": "bar",
           "x": [
            7,
            4,
            4,
            5,
            4,
            7,
            6,
            4,
            5,
            5,
            5,
            4,
            4,
            4,
            1,
            1,
            1,
            1,
            6,
            1,
            1,
            7,
            1,
            1,
            7,
            1,
            1,
            5,
            1,
            1,
            5,
            1,
            1,
            6,
            1,
            1,
            7,
            1,
            1,
            7,
            6,
            1,
            5,
            6,
            1,
            4,
            7,
            1,
            4,
            4,
            1,
            1,
            4
           ],
           "y": [
            0,
            1,
            2,
            0,
            1,
            2,
            0,
            1,
            2,
            0,
            1,
            2,
            0,
            1,
            2,
            0,
            1,
            2,
            0,
            1,
            2,
            0,
            1,
            2,
            0,
            1,
            2,
            0,
            1,
            2,
            0,
            1,
            2,
            0,
            1,
            2,
            0,
            1,
            2,
            0,
            1,
            2,
            0,
            1,
            2,
            0,
            1,
            2,
            0,
            1,
            2,
            0,
            1
           ]
          }
         ],
         "name": "frame 53"
        },
        {
         "data": [
          {
           "orientation": "h",
           "type": "bar",
           "x": [
            7,
            4,
            4,
            5,
            4,
            7,
            6,
            4,
            5,
            5,
            5,
            4,
            4,
            4,
            1,
            1,
            1,
            1,
            6,
            1,
            1,
            7,
            1,
            1,
            7,
            1,
            1,
            5,
            1,
            1,
            5,
            1,
            1,
            6,
            1,
            1,
            7,
            1,
            1,
            7,
            6,
            1,
            5,
            6,
            1,
            4,
            7,
            1,
            4,
            4,
            1,
            1,
            4,
            1
           ],
           "y": [
            0,
            1,
            2,
            0,
            1,
            2,
            0,
            1,
            2,
            0,
            1,
            2,
            0,
            1,
            2,
            0,
            1,
            2,
            0,
            1,
            2,
            0,
            1,
            2,
            0,
            1,
            2,
            0,
            1,
            2,
            0,
            1,
            2,
            0,
            1,
            2,
            0,
            1,
            2,
            0,
            1,
            2,
            0,
            1,
            2,
            0,
            1,
            2,
            0,
            1,
            2,
            0,
            1,
            2
           ]
          }
         ],
         "name": "frame 54"
        },
        {
         "data": [
          {
           "orientation": "h",
           "type": "bar",
           "x": [
            7,
            4,
            4,
            5,
            4,
            7,
            6,
            4,
            5,
            5,
            5,
            4,
            4,
            4,
            1,
            1,
            1,
            1,
            6,
            1,
            1,
            7,
            1,
            1,
            7,
            1,
            1,
            5,
            1,
            1,
            5,
            1,
            1,
            6,
            1,
            1,
            7,
            1,
            1,
            7,
            6,
            1,
            5,
            6,
            1,
            4,
            7,
            1,
            4,
            4,
            1,
            1,
            4,
            1,
            1
           ],
           "y": [
            0,
            1,
            2,
            0,
            1,
            2,
            0,
            1,
            2,
            0,
            1,
            2,
            0,
            1,
            2,
            0,
            1,
            2,
            0,
            1,
            2,
            0,
            1,
            2,
            0,
            1,
            2,
            0,
            1,
            2,
            0,
            1,
            2,
            0,
            1,
            2,
            0,
            1,
            2,
            0,
            1,
            2,
            0,
            1,
            2,
            0,
            1,
            2,
            0,
            1,
            2,
            0,
            1,
            2,
            0
           ]
          }
         ],
         "name": "frame 55"
        },
        {
         "data": [
          {
           "orientation": "h",
           "type": "bar",
           "x": [
            7,
            4,
            4,
            5,
            4,
            7,
            6,
            4,
            5,
            5,
            5,
            4,
            4,
            4,
            1,
            1,
            1,
            1,
            6,
            1,
            1,
            7,
            1,
            1,
            7,
            1,
            1,
            5,
            1,
            1,
            5,
            1,
            1,
            6,
            1,
            1,
            7,
            1,
            1,
            7,
            6,
            1,
            5,
            6,
            1,
            4,
            7,
            1,
            4,
            4,
            1,
            1,
            4,
            1,
            1,
            6
           ],
           "y": [
            0,
            1,
            2,
            0,
            1,
            2,
            0,
            1,
            2,
            0,
            1,
            2,
            0,
            1,
            2,
            0,
            1,
            2,
            0,
            1,
            2,
            0,
            1,
            2,
            0,
            1,
            2,
            0,
            1,
            2,
            0,
            1,
            2,
            0,
            1,
            2,
            0,
            1,
            2,
            0,
            1,
            2,
            0,
            1,
            2,
            0,
            1,
            2,
            0,
            1,
            2,
            0,
            1,
            2,
            0,
            1
           ]
          }
         ],
         "name": "frame 56"
        },
        {
         "data": [
          {
           "orientation": "h",
           "type": "bar",
           "x": [
            7,
            4,
            4,
            5,
            4,
            7,
            6,
            4,
            5,
            5,
            5,
            4,
            4,
            4,
            1,
            1,
            1,
            1,
            6,
            1,
            1,
            7,
            1,
            1,
            7,
            1,
            1,
            5,
            1,
            1,
            5,
            1,
            1,
            6,
            1,
            1,
            7,
            1,
            1,
            7,
            6,
            1,
            5,
            6,
            1,
            4,
            7,
            1,
            4,
            4,
            1,
            1,
            4,
            1,
            1,
            6,
            1
           ],
           "y": [
            0,
            1,
            2,
            0,
            1,
            2,
            0,
            1,
            2,
            0,
            1,
            2,
            0,
            1,
            2,
            0,
            1,
            2,
            0,
            1,
            2,
            0,
            1,
            2,
            0,
            1,
            2,
            0,
            1,
            2,
            0,
            1,
            2,
            0,
            1,
            2,
            0,
            1,
            2,
            0,
            1,
            2,
            0,
            1,
            2,
            0,
            1,
            2,
            0,
            1,
            2,
            0,
            1,
            2,
            0,
            1,
            2
           ]
          }
         ],
         "name": "frame 57"
        },
        {
         "data": [
          {
           "orientation": "h",
           "type": "bar",
           "x": [
            7,
            4,
            4,
            5,
            4,
            7,
            6,
            4,
            5,
            5,
            5,
            4,
            4,
            4,
            1,
            1,
            1,
            1,
            6,
            1,
            1,
            7,
            1,
            1,
            7,
            1,
            1,
            5,
            1,
            1,
            5,
            1,
            1,
            6,
            1,
            1,
            7,
            1,
            1,
            7,
            6,
            1,
            5,
            6,
            1,
            4,
            7,
            1,
            4,
            4,
            1,
            1,
            4,
            1,
            1,
            6,
            1,
            1
           ],
           "y": [
            0,
            1,
            2,
            0,
            1,
            2,
            0,
            1,
            2,
            0,
            1,
            2,
            0,
            1,
            2,
            0,
            1,
            2,
            0,
            1,
            2,
            0,
            1,
            2,
            0,
            1,
            2,
            0,
            1,
            2,
            0,
            1,
            2,
            0,
            1,
            2,
            0,
            1,
            2,
            0,
            1,
            2,
            0,
            1,
            2,
            0,
            1,
            2,
            0,
            1,
            2,
            0,
            1,
            2,
            0,
            1,
            2,
            0
           ]
          }
         ],
         "name": "frame 58"
        },
        {
         "data": [
          {
           "orientation": "h",
           "type": "bar",
           "x": [
            7,
            4,
            4,
            5,
            4,
            7,
            6,
            4,
            5,
            5,
            5,
            4,
            4,
            4,
            1,
            1,
            1,
            1,
            6,
            1,
            1,
            7,
            1,
            1,
            7,
            1,
            1,
            5,
            1,
            1,
            5,
            1,
            1,
            6,
            1,
            1,
            7,
            1,
            1,
            7,
            6,
            1,
            5,
            6,
            1,
            4,
            7,
            1,
            4,
            4,
            1,
            1,
            4,
            1,
            1,
            6,
            1,
            1,
            4
           ],
           "y": [
            0,
            1,
            2,
            0,
            1,
            2,
            0,
            1,
            2,
            0,
            1,
            2,
            0,
            1,
            2,
            0,
            1,
            2,
            0,
            1,
            2,
            0,
            1,
            2,
            0,
            1,
            2,
            0,
            1,
            2,
            0,
            1,
            2,
            0,
            1,
            2,
            0,
            1,
            2,
            0,
            1,
            2,
            0,
            1,
            2,
            0,
            1,
            2,
            0,
            1,
            2,
            0,
            1,
            2,
            0,
            1,
            2,
            0,
            1
           ]
          }
         ],
         "name": "frame 59"
        },
        {
         "data": [
          {
           "orientation": "h",
           "type": "bar",
           "x": [
            7,
            4,
            4,
            5,
            4,
            7,
            6,
            4,
            5,
            5,
            5,
            4,
            4,
            4,
            1,
            1,
            1,
            1,
            6,
            1,
            1,
            7,
            1,
            1,
            7,
            1,
            1,
            5,
            1,
            1,
            5,
            1,
            1,
            6,
            1,
            1,
            7,
            1,
            1,
            7,
            6,
            1,
            5,
            6,
            1,
            4,
            7,
            1,
            4,
            4,
            1,
            1,
            4,
            1,
            1,
            6,
            1,
            1,
            4,
            1
           ],
           "y": [
            0,
            1,
            2,
            0,
            1,
            2,
            0,
            1,
            2,
            0,
            1,
            2,
            0,
            1,
            2,
            0,
            1,
            2,
            0,
            1,
            2,
            0,
            1,
            2,
            0,
            1,
            2,
            0,
            1,
            2,
            0,
            1,
            2,
            0,
            1,
            2,
            0,
            1,
            2,
            0,
            1,
            2,
            0,
            1,
            2,
            0,
            1,
            2,
            0,
            1,
            2,
            0,
            1,
            2,
            0,
            1,
            2,
            0,
            1,
            2
           ]
          }
         ],
         "name": "frame 60"
        },
        {
         "data": [
          {
           "orientation": "h",
           "type": "bar",
           "x": [
            7,
            4,
            4,
            5,
            4,
            7,
            6,
            4,
            5,
            5,
            5,
            4,
            4,
            4,
            1,
            1,
            1,
            1,
            6,
            1,
            1,
            7,
            1,
            1,
            7,
            1,
            1,
            5,
            1,
            1,
            5,
            1,
            1,
            6,
            1,
            1,
            7,
            1,
            1,
            7,
            6,
            1,
            5,
            6,
            1,
            4,
            7,
            1,
            4,
            4,
            1,
            1,
            4,
            1,
            1,
            6,
            1,
            1,
            4,
            1,
            1
           ],
           "y": [
            0,
            1,
            2,
            0,
            1,
            2,
            0,
            1,
            2,
            0,
            1,
            2,
            0,
            1,
            2,
            0,
            1,
            2,
            0,
            1,
            2,
            0,
            1,
            2,
            0,
            1,
            2,
            0,
            1,
            2,
            0,
            1,
            2,
            0,
            1,
            2,
            0,
            1,
            2,
            0,
            1,
            2,
            0,
            1,
            2,
            0,
            1,
            2,
            0,
            1,
            2,
            0,
            1,
            2,
            0,
            1,
            2,
            0,
            1,
            2,
            0
           ]
          }
         ],
         "name": "frame 61"
        },
        {
         "data": [
          {
           "orientation": "h",
           "type": "bar",
           "x": [
            7,
            4,
            4,
            5,
            4,
            7,
            6,
            4,
            5,
            5,
            5,
            4,
            4,
            4,
            1,
            1,
            1,
            1,
            6,
            1,
            1,
            7,
            1,
            1,
            7,
            1,
            1,
            5,
            1,
            1,
            5,
            1,
            1,
            6,
            1,
            1,
            7,
            1,
            1,
            7,
            6,
            1,
            5,
            6,
            1,
            4,
            7,
            1,
            4,
            4,
            1,
            1,
            4,
            1,
            1,
            6,
            1,
            1,
            4,
            1,
            1,
            7
           ],
           "y": [
            0,
            1,
            2,
            0,
            1,
            2,
            0,
            1,
            2,
            0,
            1,
            2,
            0,
            1,
            2,
            0,
            1,
            2,
            0,
            1,
            2,
            0,
            1,
            2,
            0,
            1,
            2,
            0,
            1,
            2,
            0,
            1,
            2,
            0,
            1,
            2,
            0,
            1,
            2,
            0,
            1,
            2,
            0,
            1,
            2,
            0,
            1,
            2,
            0,
            1,
            2,
            0,
            1,
            2,
            0,
            1,
            2,
            0,
            1,
            2,
            0,
            1
           ]
          }
         ],
         "name": "frame 62"
        },
        {
         "data": [
          {
           "orientation": "h",
           "type": "bar",
           "x": [
            7,
            4,
            4,
            5,
            4,
            7,
            6,
            4,
            5,
            5,
            5,
            4,
            4,
            4,
            1,
            1,
            1,
            1,
            6,
            1,
            1,
            7,
            1,
            1,
            7,
            1,
            1,
            5,
            1,
            1,
            5,
            1,
            1,
            6,
            1,
            1,
            7,
            1,
            1,
            7,
            6,
            1,
            5,
            6,
            1,
            4,
            7,
            1,
            4,
            4,
            1,
            1,
            4,
            1,
            1,
            6,
            1,
            1,
            4,
            1,
            1,
            7,
            1
           ],
           "y": [
            0,
            1,
            2,
            0,
            1,
            2,
            0,
            1,
            2,
            0,
            1,
            2,
            0,
            1,
            2,
            0,
            1,
            2,
            0,
            1,
            2,
            0,
            1,
            2,
            0,
            1,
            2,
            0,
            1,
            2,
            0,
            1,
            2,
            0,
            1,
            2,
            0,
            1,
            2,
            0,
            1,
            2,
            0,
            1,
            2,
            0,
            1,
            2,
            0,
            1,
            2,
            0,
            1,
            2,
            0,
            1,
            2,
            0,
            1,
            2,
            0,
            1,
            2
           ]
          }
         ],
         "name": "frame 63"
        },
        {
         "data": [
          {
           "orientation": "h",
           "type": "bar",
           "x": [
            7,
            4,
            4,
            5,
            4,
            7,
            6,
            4,
            5,
            5,
            5,
            4,
            4,
            4,
            1,
            1,
            1,
            1,
            6,
            1,
            1,
            7,
            1,
            1,
            7,
            1,
            1,
            5,
            1,
            1,
            5,
            1,
            1,
            6,
            1,
            1,
            7,
            1,
            1,
            7,
            6,
            1,
            5,
            6,
            1,
            4,
            7,
            1,
            4,
            4,
            1,
            1,
            4,
            1,
            1,
            6,
            1,
            1,
            4,
            1,
            1,
            7,
            1,
            1
           ],
           "y": [
            0,
            1,
            2,
            0,
            1,
            2,
            0,
            1,
            2,
            0,
            1,
            2,
            0,
            1,
            2,
            0,
            1,
            2,
            0,
            1,
            2,
            0,
            1,
            2,
            0,
            1,
            2,
            0,
            1,
            2,
            0,
            1,
            2,
            0,
            1,
            2,
            0,
            1,
            2,
            0,
            1,
            2,
            0,
            1,
            2,
            0,
            1,
            2,
            0,
            1,
            2,
            0,
            1,
            2,
            0,
            1,
            2,
            0,
            1,
            2,
            0,
            1,
            2,
            0
           ]
          }
         ],
         "name": "frame 64"
        },
        {
         "data": [
          {
           "orientation": "h",
           "type": "bar",
           "x": [
            7,
            4,
            4,
            5,
            4,
            7,
            6,
            4,
            5,
            5,
            5,
            4,
            4,
            4,
            1,
            1,
            1,
            1,
            6,
            1,
            1,
            7,
            1,
            1,
            7,
            1,
            1,
            5,
            1,
            1,
            5,
            1,
            1,
            6,
            1,
            1,
            7,
            1,
            1,
            7,
            6,
            1,
            5,
            6,
            1,
            4,
            7,
            1,
            4,
            4,
            1,
            1,
            4,
            1,
            1,
            6,
            1,
            1,
            4,
            1,
            1,
            7,
            1,
            1,
            4
           ],
           "y": [
            0,
            1,
            2,
            0,
            1,
            2,
            0,
            1,
            2,
            0,
            1,
            2,
            0,
            1,
            2,
            0,
            1,
            2,
            0,
            1,
            2,
            0,
            1,
            2,
            0,
            1,
            2,
            0,
            1,
            2,
            0,
            1,
            2,
            0,
            1,
            2,
            0,
            1,
            2,
            0,
            1,
            2,
            0,
            1,
            2,
            0,
            1,
            2,
            0,
            1,
            2,
            0,
            1,
            2,
            0,
            1,
            2,
            0,
            1,
            2,
            0,
            1,
            2,
            0,
            1
           ]
          }
         ],
         "name": "frame 65"
        },
        {
         "data": [
          {
           "orientation": "h",
           "type": "bar",
           "x": [
            7,
            4,
            4,
            5,
            4,
            7,
            6,
            4,
            5,
            5,
            5,
            4,
            4,
            4,
            1,
            1,
            1,
            1,
            6,
            1,
            1,
            7,
            1,
            1,
            7,
            1,
            1,
            5,
            1,
            1,
            5,
            1,
            1,
            6,
            1,
            1,
            7,
            1,
            1,
            7,
            6,
            1,
            5,
            6,
            1,
            4,
            7,
            1,
            4,
            4,
            1,
            1,
            4,
            1,
            1,
            6,
            1,
            1,
            4,
            1,
            1,
            7,
            1,
            1,
            4,
            1
           ],
           "y": [
            0,
            1,
            2,
            0,
            1,
            2,
            0,
            1,
            2,
            0,
            1,
            2,
            0,
            1,
            2,
            0,
            1,
            2,
            0,
            1,
            2,
            0,
            1,
            2,
            0,
            1,
            2,
            0,
            1,
            2,
            0,
            1,
            2,
            0,
            1,
            2,
            0,
            1,
            2,
            0,
            1,
            2,
            0,
            1,
            2,
            0,
            1,
            2,
            0,
            1,
            2,
            0,
            1,
            2,
            0,
            1,
            2,
            0,
            1,
            2,
            0,
            1,
            2,
            0,
            1,
            2
           ]
          }
         ],
         "name": "frame 66"
        },
        {
         "data": [
          {
           "orientation": "h",
           "type": "bar",
           "x": [
            7,
            4,
            4,
            5,
            4,
            7,
            6,
            4,
            5,
            5,
            5,
            4,
            4,
            4,
            1,
            1,
            1,
            1,
            6,
            1,
            1,
            7,
            1,
            1,
            7,
            1,
            1,
            5,
            1,
            1,
            5,
            1,
            1,
            6,
            1,
            1,
            7,
            1,
            1,
            7,
            6,
            1,
            5,
            6,
            1,
            4,
            7,
            1,
            4,
            4,
            1,
            1,
            4,
            1,
            1,
            6,
            1,
            1,
            4,
            1,
            1,
            7,
            1,
            1,
            4,
            1,
            0
           ],
           "y": [
            0,
            1,
            2,
            0,
            1,
            2,
            0,
            1,
            2,
            0,
            1,
            2,
            0,
            1,
            2,
            0,
            1,
            2,
            0,
            1,
            2,
            0,
            1,
            2,
            0,
            1,
            2,
            0,
            1,
            2,
            0,
            1,
            2,
            0,
            1,
            2,
            0,
            1,
            2,
            0,
            1,
            2,
            0,
            1,
            2,
            0,
            1,
            2,
            0,
            1,
            2,
            0,
            1,
            2,
            0,
            1,
            2,
            0,
            1,
            2,
            0,
            1,
            2,
            0,
            1,
            2,
            0
           ]
          }
         ],
         "name": "frame 67"
        },
        {
         "data": [
          {
           "orientation": "h",
           "type": "bar",
           "x": [
            7,
            4,
            4,
            5,
            4,
            7,
            6,
            4,
            5,
            5,
            5,
            4,
            4,
            4,
            1,
            1,
            1,
            1,
            6,
            1,
            1,
            7,
            1,
            1,
            7,
            1,
            1,
            5,
            1,
            1,
            5,
            1,
            1,
            6,
            1,
            1,
            7,
            1,
            1,
            7,
            6,
            1,
            5,
            6,
            1,
            4,
            7,
            1,
            4,
            4,
            1,
            1,
            4,
            1,
            1,
            6,
            1,
            1,
            4,
            1,
            1,
            7,
            1,
            1,
            4,
            1,
            0,
            6
           ],
           "y": [
            0,
            1,
            2,
            0,
            1,
            2,
            0,
            1,
            2,
            0,
            1,
            2,
            0,
            1,
            2,
            0,
            1,
            2,
            0,
            1,
            2,
            0,
            1,
            2,
            0,
            1,
            2,
            0,
            1,
            2,
            0,
            1,
            2,
            0,
            1,
            2,
            0,
            1,
            2,
            0,
            1,
            2,
            0,
            1,
            2,
            0,
            1,
            2,
            0,
            1,
            2,
            0,
            1,
            2,
            0,
            1,
            2,
            0,
            1,
            2,
            0,
            1,
            2,
            0,
            1,
            2,
            0,
            1
           ]
          }
         ],
         "name": "frame 68"
        },
        {
         "data": [
          {
           "orientation": "h",
           "type": "bar",
           "x": [
            7,
            4,
            4,
            5,
            4,
            7,
            6,
            4,
            5,
            5,
            5,
            4,
            4,
            4,
            1,
            1,
            1,
            1,
            6,
            1,
            1,
            7,
            1,
            1,
            7,
            1,
            1,
            5,
            1,
            1,
            5,
            1,
            1,
            6,
            1,
            1,
            7,
            1,
            1,
            7,
            6,
            1,
            5,
            6,
            1,
            4,
            7,
            1,
            4,
            4,
            1,
            1,
            4,
            1,
            1,
            6,
            1,
            1,
            4,
            1,
            1,
            7,
            1,
            1,
            4,
            1,
            0,
            6,
            1
           ],
           "y": [
            0,
            1,
            2,
            0,
            1,
            2,
            0,
            1,
            2,
            0,
            1,
            2,
            0,
            1,
            2,
            0,
            1,
            2,
            0,
            1,
            2,
            0,
            1,
            2,
            0,
            1,
            2,
            0,
            1,
            2,
            0,
            1,
            2,
            0,
            1,
            2,
            0,
            1,
            2,
            0,
            1,
            2,
            0,
            1,
            2,
            0,
            1,
            2,
            0,
            1,
            2,
            0,
            1,
            2,
            0,
            1,
            2,
            0,
            1,
            2,
            0,
            1,
            2,
            0,
            1,
            2,
            0,
            1,
            2
           ]
          }
         ],
         "name": "frame 69"
        },
        {
         "data": [
          {
           "orientation": "h",
           "type": "bar",
           "x": [
            7,
            4,
            4,
            5,
            4,
            7,
            6,
            4,
            5,
            5,
            5,
            4,
            4,
            4,
            1,
            1,
            1,
            1,
            6,
            1,
            1,
            7,
            1,
            1,
            7,
            1,
            1,
            5,
            1,
            1,
            5,
            1,
            1,
            6,
            1,
            1,
            7,
            1,
            1,
            7,
            6,
            1,
            5,
            6,
            1,
            4,
            7,
            1,
            4,
            4,
            1,
            1,
            4,
            1,
            1,
            6,
            1,
            1,
            4,
            1,
            1,
            7,
            1,
            1,
            4,
            1,
            0,
            6,
            1,
            0
           ],
           "y": [
            0,
            1,
            2,
            0,
            1,
            2,
            0,
            1,
            2,
            0,
            1,
            2,
            0,
            1,
            2,
            0,
            1,
            2,
            0,
            1,
            2,
            0,
            1,
            2,
            0,
            1,
            2,
            0,
            1,
            2,
            0,
            1,
            2,
            0,
            1,
            2,
            0,
            1,
            2,
            0,
            1,
            2,
            0,
            1,
            2,
            0,
            1,
            2,
            0,
            1,
            2,
            0,
            1,
            2,
            0,
            1,
            2,
            0,
            1,
            2,
            0,
            1,
            2,
            0,
            1,
            2,
            0,
            1,
            2,
            0
           ]
          }
         ],
         "name": "frame 70"
        },
        {
         "data": [
          {
           "orientation": "h",
           "type": "bar",
           "x": [
            7,
            4,
            4,
            5,
            4,
            7,
            6,
            4,
            5,
            5,
            5,
            4,
            4,
            4,
            1,
            1,
            1,
            1,
            6,
            1,
            1,
            7,
            1,
            1,
            7,
            1,
            1,
            5,
            1,
            1,
            5,
            1,
            1,
            6,
            1,
            1,
            7,
            1,
            1,
            7,
            6,
            1,
            5,
            6,
            1,
            4,
            7,
            1,
            4,
            4,
            1,
            1,
            4,
            1,
            1,
            6,
            1,
            1,
            4,
            1,
            1,
            7,
            1,
            1,
            4,
            1,
            0,
            6,
            1,
            0,
            5
           ],
           "y": [
            0,
            1,
            2,
            0,
            1,
            2,
            0,
            1,
            2,
            0,
            1,
            2,
            0,
            1,
            2,
            0,
            1,
            2,
            0,
            1,
            2,
            0,
            1,
            2,
            0,
            1,
            2,
            0,
            1,
            2,
            0,
            1,
            2,
            0,
            1,
            2,
            0,
            1,
            2,
            0,
            1,
            2,
            0,
            1,
            2,
            0,
            1,
            2,
            0,
            1,
            2,
            0,
            1,
            2,
            0,
            1,
            2,
            0,
            1,
            2,
            0,
            1,
            2,
            0,
            1,
            2,
            0,
            1,
            2,
            0,
            1
           ]
          }
         ],
         "name": "frame 71"
        },
        {
         "data": [
          {
           "orientation": "h",
           "type": "bar",
           "x": [
            7,
            4,
            4,
            5,
            4,
            7,
            6,
            4,
            5,
            5,
            5,
            4,
            4,
            4,
            1,
            1,
            1,
            1,
            6,
            1,
            1,
            7,
            1,
            1,
            7,
            1,
            1,
            5,
            1,
            1,
            5,
            1,
            1,
            6,
            1,
            1,
            7,
            1,
            1,
            7,
            6,
            1,
            5,
            6,
            1,
            4,
            7,
            1,
            4,
            4,
            1,
            1,
            4,
            1,
            1,
            6,
            1,
            1,
            4,
            1,
            1,
            7,
            1,
            1,
            4,
            1,
            0,
            6,
            1,
            0,
            5,
            5
           ],
           "y": [
            0,
            1,
            2,
            0,
            1,
            2,
            0,
            1,
            2,
            0,
            1,
            2,
            0,
            1,
            2,
            0,
            1,
            2,
            0,
            1,
            2,
            0,
            1,
            2,
            0,
            1,
            2,
            0,
            1,
            2,
            0,
            1,
            2,
            0,
            1,
            2,
            0,
            1,
            2,
            0,
            1,
            2,
            0,
            1,
            2,
            0,
            1,
            2,
            0,
            1,
            2,
            0,
            1,
            2,
            0,
            1,
            2,
            0,
            1,
            2,
            0,
            1,
            2,
            0,
            1,
            2,
            0,
            1,
            2,
            0,
            1,
            2
           ]
          }
         ],
         "name": "frame 72"
        },
        {
         "data": [
          {
           "orientation": "h",
           "type": "bar",
           "x": [
            7,
            4,
            4,
            5,
            4,
            7,
            6,
            4,
            5,
            5,
            5,
            4,
            4,
            4,
            1,
            1,
            1,
            1,
            6,
            1,
            1,
            7,
            1,
            1,
            7,
            1,
            1,
            5,
            1,
            1,
            5,
            1,
            1,
            6,
            1,
            1,
            7,
            1,
            1,
            7,
            6,
            1,
            5,
            6,
            1,
            4,
            7,
            1,
            4,
            4,
            1,
            1,
            4,
            1,
            1,
            6,
            1,
            1,
            4,
            1,
            1,
            7,
            1,
            1,
            4,
            1,
            0,
            6,
            1,
            0,
            5,
            5,
            0
           ],
           "y": [
            0,
            1,
            2,
            0,
            1,
            2,
            0,
            1,
            2,
            0,
            1,
            2,
            0,
            1,
            2,
            0,
            1,
            2,
            0,
            1,
            2,
            0,
            1,
            2,
            0,
            1,
            2,
            0,
            1,
            2,
            0,
            1,
            2,
            0,
            1,
            2,
            0,
            1,
            2,
            0,
            1,
            2,
            0,
            1,
            2,
            0,
            1,
            2,
            0,
            1,
            2,
            0,
            1,
            2,
            0,
            1,
            2,
            0,
            1,
            2,
            0,
            1,
            2,
            0,
            1,
            2,
            0,
            1,
            2,
            0,
            1,
            2,
            0
           ]
          }
         ],
         "name": "frame 73"
        },
        {
         "data": [
          {
           "orientation": "h",
           "type": "bar",
           "x": [
            7,
            4,
            4,
            5,
            4,
            7,
            6,
            4,
            5,
            5,
            5,
            4,
            4,
            4,
            1,
            1,
            1,
            1,
            6,
            1,
            1,
            7,
            1,
            1,
            7,
            1,
            1,
            5,
            1,
            1,
            5,
            1,
            1,
            6,
            1,
            1,
            7,
            1,
            1,
            7,
            6,
            1,
            5,
            6,
            1,
            4,
            7,
            1,
            4,
            4,
            1,
            1,
            4,
            1,
            1,
            6,
            1,
            1,
            4,
            1,
            1,
            7,
            1,
            1,
            4,
            1,
            0,
            6,
            1,
            0,
            5,
            5,
            0,
            1
           ],
           "y": [
            0,
            1,
            2,
            0,
            1,
            2,
            0,
            1,
            2,
            0,
            1,
            2,
            0,
            1,
            2,
            0,
            1,
            2,
            0,
            1,
            2,
            0,
            1,
            2,
            0,
            1,
            2,
            0,
            1,
            2,
            0,
            1,
            2,
            0,
            1,
            2,
            0,
            1,
            2,
            0,
            1,
            2,
            0,
            1,
            2,
            0,
            1,
            2,
            0,
            1,
            2,
            0,
            1,
            2,
            0,
            1,
            2,
            0,
            1,
            2,
            0,
            1,
            2,
            0,
            1,
            2,
            0,
            1,
            2,
            0,
            1,
            2,
            0,
            1
           ]
          }
         ],
         "name": "frame 74"
        },
        {
         "data": [
          {
           "orientation": "h",
           "type": "bar",
           "x": [
            7,
            4,
            4,
            5,
            4,
            7,
            6,
            4,
            5,
            5,
            5,
            4,
            4,
            4,
            1,
            1,
            1,
            1,
            6,
            1,
            1,
            7,
            1,
            1,
            7,
            1,
            1,
            5,
            1,
            1,
            5,
            1,
            1,
            6,
            1,
            1,
            7,
            1,
            1,
            7,
            6,
            1,
            5,
            6,
            1,
            4,
            7,
            1,
            4,
            4,
            1,
            1,
            4,
            1,
            1,
            6,
            1,
            1,
            4,
            1,
            1,
            7,
            1,
            1,
            4,
            1,
            0,
            6,
            1,
            0,
            5,
            5,
            0,
            1,
            7
           ],
           "y": [
            0,
            1,
            2,
            0,
            1,
            2,
            0,
            1,
            2,
            0,
            1,
            2,
            0,
            1,
            2,
            0,
            1,
            2,
            0,
            1,
            2,
            0,
            1,
            2,
            0,
            1,
            2,
            0,
            1,
            2,
            0,
            1,
            2,
            0,
            1,
            2,
            0,
            1,
            2,
            0,
            1,
            2,
            0,
            1,
            2,
            0,
            1,
            2,
            0,
            1,
            2,
            0,
            1,
            2,
            0,
            1,
            2,
            0,
            1,
            2,
            0,
            1,
            2,
            0,
            1,
            2,
            0,
            1,
            2,
            0,
            1,
            2,
            0,
            1,
            2
           ]
          }
         ],
         "name": "frame 75"
        },
        {
         "data": [
          {
           "orientation": "h",
           "type": "bar",
           "x": [
            7,
            4,
            4,
            5,
            4,
            7,
            6,
            4,
            5,
            5,
            5,
            4,
            4,
            4,
            1,
            1,
            1,
            1,
            6,
            1,
            1,
            7,
            1,
            1,
            7,
            1,
            1,
            5,
            1,
            1,
            5,
            1,
            1,
            6,
            1,
            1,
            7,
            1,
            1,
            7,
            6,
            1,
            5,
            6,
            1,
            4,
            7,
            1,
            4,
            4,
            1,
            1,
            4,
            1,
            1,
            6,
            1,
            1,
            4,
            1,
            1,
            7,
            1,
            1,
            4,
            1,
            0,
            6,
            1,
            0,
            5,
            5,
            0,
            1,
            7,
            0
           ],
           "y": [
            0,
            1,
            2,
            0,
            1,
            2,
            0,
            1,
            2,
            0,
            1,
            2,
            0,
            1,
            2,
            0,
            1,
            2,
            0,
            1,
            2,
            0,
            1,
            2,
            0,
            1,
            2,
            0,
            1,
            2,
            0,
            1,
            2,
            0,
            1,
            2,
            0,
            1,
            2,
            0,
            1,
            2,
            0,
            1,
            2,
            0,
            1,
            2,
            0,
            1,
            2,
            0,
            1,
            2,
            0,
            1,
            2,
            0,
            1,
            2,
            0,
            1,
            2,
            0,
            1,
            2,
            0,
            1,
            2,
            0,
            1,
            2,
            0,
            1,
            2,
            0
           ]
          }
         ],
         "name": "frame 76"
        },
        {
         "data": [
          {
           "orientation": "h",
           "type": "bar",
           "x": [
            7,
            4,
            4,
            5,
            4,
            7,
            6,
            4,
            5,
            5,
            5,
            4,
            4,
            4,
            1,
            1,
            1,
            1,
            6,
            1,
            1,
            7,
            1,
            1,
            7,
            1,
            1,
            5,
            1,
            1,
            5,
            1,
            1,
            6,
            1,
            1,
            7,
            1,
            1,
            7,
            6,
            1,
            5,
            6,
            1,
            4,
            7,
            1,
            4,
            4,
            1,
            1,
            4,
            1,
            1,
            6,
            1,
            1,
            4,
            1,
            1,
            7,
            1,
            1,
            4,
            1,
            0,
            6,
            1,
            0,
            5,
            5,
            0,
            1,
            7,
            0,
            1
           ],
           "y": [
            0,
            1,
            2,
            0,
            1,
            2,
            0,
            1,
            2,
            0,
            1,
            2,
            0,
            1,
            2,
            0,
            1,
            2,
            0,
            1,
            2,
            0,
            1,
            2,
            0,
            1,
            2,
            0,
            1,
            2,
            0,
            1,
            2,
            0,
            1,
            2,
            0,
            1,
            2,
            0,
            1,
            2,
            0,
            1,
            2,
            0,
            1,
            2,
            0,
            1,
            2,
            0,
            1,
            2,
            0,
            1,
            2,
            0,
            1,
            2,
            0,
            1,
            2,
            0,
            1,
            2,
            0,
            1,
            2,
            0,
            1,
            2,
            0,
            1,
            2,
            0,
            1
           ]
          }
         ],
         "name": "frame 77"
        },
        {
         "data": [
          {
           "orientation": "h",
           "type": "bar",
           "x": [
            7,
            4,
            4,
            5,
            4,
            7,
            6,
            4,
            5,
            5,
            5,
            4,
            4,
            4,
            1,
            1,
            1,
            1,
            6,
            1,
            1,
            7,
            1,
            1,
            7,
            1,
            1,
            5,
            1,
            1,
            5,
            1,
            1,
            6,
            1,
            1,
            7,
            1,
            1,
            7,
            6,
            1,
            5,
            6,
            1,
            4,
            7,
            1,
            4,
            4,
            1,
            1,
            4,
            1,
            1,
            6,
            1,
            1,
            4,
            1,
            1,
            7,
            1,
            1,
            4,
            1,
            0,
            6,
            1,
            0,
            5,
            5,
            0,
            1,
            7,
            0,
            1,
            7
           ],
           "y": [
            0,
            1,
            2,
            0,
            1,
            2,
            0,
            1,
            2,
            0,
            1,
            2,
            0,
            1,
            2,
            0,
            1,
            2,
            0,
            1,
            2,
            0,
            1,
            2,
            0,
            1,
            2,
            0,
            1,
            2,
            0,
            1,
            2,
            0,
            1,
            2,
            0,
            1,
            2,
            0,
            1,
            2,
            0,
            1,
            2,
            0,
            1,
            2,
            0,
            1,
            2,
            0,
            1,
            2,
            0,
            1,
            2,
            0,
            1,
            2,
            0,
            1,
            2,
            0,
            1,
            2,
            0,
            1,
            2,
            0,
            1,
            2,
            0,
            1,
            2,
            0,
            1,
            2
           ]
          }
         ],
         "name": "frame 78"
        },
        {
         "data": [
          {
           "orientation": "h",
           "type": "bar",
           "x": [
            7,
            4,
            4,
            5,
            4,
            7,
            6,
            4,
            5,
            5,
            5,
            4,
            4,
            4,
            1,
            1,
            1,
            1,
            6,
            1,
            1,
            7,
            1,
            1,
            7,
            1,
            1,
            5,
            1,
            1,
            5,
            1,
            1,
            6,
            1,
            1,
            7,
            1,
            1,
            7,
            6,
            1,
            5,
            6,
            1,
            4,
            7,
            1,
            4,
            4,
            1,
            1,
            4,
            1,
            1,
            6,
            1,
            1,
            4,
            1,
            1,
            7,
            1,
            1,
            4,
            1,
            0,
            6,
            1,
            0,
            5,
            5,
            0,
            1,
            7,
            0,
            1,
            7,
            0
           ],
           "y": [
            0,
            1,
            2,
            0,
            1,
            2,
            0,
            1,
            2,
            0,
            1,
            2,
            0,
            1,
            2,
            0,
            1,
            2,
            0,
            1,
            2,
            0,
            1,
            2,
            0,
            1,
            2,
            0,
            1,
            2,
            0,
            1,
            2,
            0,
            1,
            2,
            0,
            1,
            2,
            0,
            1,
            2,
            0,
            1,
            2,
            0,
            1,
            2,
            0,
            1,
            2,
            0,
            1,
            2,
            0,
            1,
            2,
            0,
            1,
            2,
            0,
            1,
            2,
            0,
            1,
            2,
            0,
            1,
            2,
            0,
            1,
            2,
            0,
            1,
            2,
            0,
            1,
            2,
            0
           ]
          }
         ],
         "name": "frame 79"
        },
        {
         "data": [
          {
           "orientation": "h",
           "type": "bar",
           "x": [
            7,
            4,
            4,
            5,
            4,
            7,
            6,
            4,
            5,
            5,
            5,
            4,
            4,
            4,
            1,
            1,
            1,
            1,
            6,
            1,
            1,
            7,
            1,
            1,
            7,
            1,
            1,
            5,
            1,
            1,
            5,
            1,
            1,
            6,
            1,
            1,
            7,
            1,
            1,
            7,
            6,
            1,
            5,
            6,
            1,
            4,
            7,
            1,
            4,
            4,
            1,
            1,
            4,
            1,
            1,
            6,
            1,
            1,
            4,
            1,
            1,
            7,
            1,
            1,
            4,
            1,
            0,
            6,
            1,
            0,
            5,
            5,
            0,
            1,
            7,
            0,
            1,
            7,
            0,
            1
           ],
           "y": [
            0,
            1,
            2,
            0,
            1,
            2,
            0,
            1,
            2,
            0,
            1,
            2,
            0,
            1,
            2,
            0,
            1,
            2,
            0,
            1,
            2,
            0,
            1,
            2,
            0,
            1,
            2,
            0,
            1,
            2,
            0,
            1,
            2,
            0,
            1,
            2,
            0,
            1,
            2,
            0,
            1,
            2,
            0,
            1,
            2,
            0,
            1,
            2,
            0,
            1,
            2,
            0,
            1,
            2,
            0,
            1,
            2,
            0,
            1,
            2,
            0,
            1,
            2,
            0,
            1,
            2,
            0,
            1,
            2,
            0,
            1,
            2,
            0,
            1,
            2,
            0,
            1,
            2,
            0,
            1
           ]
          }
         ],
         "name": "frame 80"
        },
        {
         "data": [
          {
           "orientation": "h",
           "type": "bar",
           "x": [
            7,
            4,
            4,
            5,
            4,
            7,
            6,
            4,
            5,
            5,
            5,
            4,
            4,
            4,
            1,
            1,
            1,
            1,
            6,
            1,
            1,
            7,
            1,
            1,
            7,
            1,
            1,
            5,
            1,
            1,
            5,
            1,
            1,
            6,
            1,
            1,
            7,
            1,
            1,
            7,
            6,
            1,
            5,
            6,
            1,
            4,
            7,
            1,
            4,
            4,
            1,
            1,
            4,
            1,
            1,
            6,
            1,
            1,
            4,
            1,
            1,
            7,
            1,
            1,
            4,
            1,
            0,
            6,
            1,
            0,
            5,
            5,
            0,
            1,
            7,
            0,
            1,
            7,
            0,
            1,
            5
           ],
           "y": [
            0,
            1,
            2,
            0,
            1,
            2,
            0,
            1,
            2,
            0,
            1,
            2,
            0,
            1,
            2,
            0,
            1,
            2,
            0,
            1,
            2,
            0,
            1,
            2,
            0,
            1,
            2,
            0,
            1,
            2,
            0,
            1,
            2,
            0,
            1,
            2,
            0,
            1,
            2,
            0,
            1,
            2,
            0,
            1,
            2,
            0,
            1,
            2,
            0,
            1,
            2,
            0,
            1,
            2,
            0,
            1,
            2,
            0,
            1,
            2,
            0,
            1,
            2,
            0,
            1,
            2,
            0,
            1,
            2,
            0,
            1,
            2,
            0,
            1,
            2,
            0,
            1,
            2,
            0,
            1,
            2
           ]
          }
         ],
         "name": "frame 81"
        }
       ],
       "layout": {
        "template": {
         "data": {
          "bar": [
           {
            "error_x": {
             "color": "#2a3f5f"
            },
            "error_y": {
             "color": "#2a3f5f"
            },
            "marker": {
             "line": {
              "color": "#E5ECF6",
              "width": 0.5
             },
             "pattern": {
              "fillmode": "overlay",
              "size": 10,
              "solidity": 0.2
             }
            },
            "type": "bar"
           }
          ],
          "barpolar": [
           {
            "marker": {
             "line": {
              "color": "#E5ECF6",
              "width": 0.5
             },
             "pattern": {
              "fillmode": "overlay",
              "size": 10,
              "solidity": 0.2
             }
            },
            "type": "barpolar"
           }
          ],
          "carpet": [
           {
            "aaxis": {
             "endlinecolor": "#2a3f5f",
             "gridcolor": "white",
             "linecolor": "white",
             "minorgridcolor": "white",
             "startlinecolor": "#2a3f5f"
            },
            "baxis": {
             "endlinecolor": "#2a3f5f",
             "gridcolor": "white",
             "linecolor": "white",
             "minorgridcolor": "white",
             "startlinecolor": "#2a3f5f"
            },
            "type": "carpet"
           }
          ],
          "choropleth": [
           {
            "colorbar": {
             "outlinewidth": 0,
             "ticks": ""
            },
            "type": "choropleth"
           }
          ],
          "contour": [
           {
            "colorbar": {
             "outlinewidth": 0,
             "ticks": ""
            },
            "colorscale": [
             [
              0,
              "#0d0887"
             ],
             [
              0.1111111111111111,
              "#46039f"
             ],
             [
              0.2222222222222222,
              "#7201a8"
             ],
             [
              0.3333333333333333,
              "#9c179e"
             ],
             [
              0.4444444444444444,
              "#bd3786"
             ],
             [
              0.5555555555555556,
              "#d8576b"
             ],
             [
              0.6666666666666666,
              "#ed7953"
             ],
             [
              0.7777777777777778,
              "#fb9f3a"
             ],
             [
              0.8888888888888888,
              "#fdca26"
             ],
             [
              1,
              "#f0f921"
             ]
            ],
            "type": "contour"
           }
          ],
          "contourcarpet": [
           {
            "colorbar": {
             "outlinewidth": 0,
             "ticks": ""
            },
            "type": "contourcarpet"
           }
          ],
          "heatmap": [
           {
            "colorbar": {
             "outlinewidth": 0,
             "ticks": ""
            },
            "colorscale": [
             [
              0,
              "#0d0887"
             ],
             [
              0.1111111111111111,
              "#46039f"
             ],
             [
              0.2222222222222222,
              "#7201a8"
             ],
             [
              0.3333333333333333,
              "#9c179e"
             ],
             [
              0.4444444444444444,
              "#bd3786"
             ],
             [
              0.5555555555555556,
              "#d8576b"
             ],
             [
              0.6666666666666666,
              "#ed7953"
             ],
             [
              0.7777777777777778,
              "#fb9f3a"
             ],
             [
              0.8888888888888888,
              "#fdca26"
             ],
             [
              1,
              "#f0f921"
             ]
            ],
            "type": "heatmap"
           }
          ],
          "heatmapgl": [
           {
            "colorbar": {
             "outlinewidth": 0,
             "ticks": ""
            },
            "colorscale": [
             [
              0,
              "#0d0887"
             ],
             [
              0.1111111111111111,
              "#46039f"
             ],
             [
              0.2222222222222222,
              "#7201a8"
             ],
             [
              0.3333333333333333,
              "#9c179e"
             ],
             [
              0.4444444444444444,
              "#bd3786"
             ],
             [
              0.5555555555555556,
              "#d8576b"
             ],
             [
              0.6666666666666666,
              "#ed7953"
             ],
             [
              0.7777777777777778,
              "#fb9f3a"
             ],
             [
              0.8888888888888888,
              "#fdca26"
             ],
             [
              1,
              "#f0f921"
             ]
            ],
            "type": "heatmapgl"
           }
          ],
          "histogram": [
           {
            "marker": {
             "pattern": {
              "fillmode": "overlay",
              "size": 10,
              "solidity": 0.2
             }
            },
            "type": "histogram"
           }
          ],
          "histogram2d": [
           {
            "colorbar": {
             "outlinewidth": 0,
             "ticks": ""
            },
            "colorscale": [
             [
              0,
              "#0d0887"
             ],
             [
              0.1111111111111111,
              "#46039f"
             ],
             [
              0.2222222222222222,
              "#7201a8"
             ],
             [
              0.3333333333333333,
              "#9c179e"
             ],
             [
              0.4444444444444444,
              "#bd3786"
             ],
             [
              0.5555555555555556,
              "#d8576b"
             ],
             [
              0.6666666666666666,
              "#ed7953"
             ],
             [
              0.7777777777777778,
              "#fb9f3a"
             ],
             [
              0.8888888888888888,
              "#fdca26"
             ],
             [
              1,
              "#f0f921"
             ]
            ],
            "type": "histogram2d"
           }
          ],
          "histogram2dcontour": [
           {
            "colorbar": {
             "outlinewidth": 0,
             "ticks": ""
            },
            "colorscale": [
             [
              0,
              "#0d0887"
             ],
             [
              0.1111111111111111,
              "#46039f"
             ],
             [
              0.2222222222222222,
              "#7201a8"
             ],
             [
              0.3333333333333333,
              "#9c179e"
             ],
             [
              0.4444444444444444,
              "#bd3786"
             ],
             [
              0.5555555555555556,
              "#d8576b"
             ],
             [
              0.6666666666666666,
              "#ed7953"
             ],
             [
              0.7777777777777778,
              "#fb9f3a"
             ],
             [
              0.8888888888888888,
              "#fdca26"
             ],
             [
              1,
              "#f0f921"
             ]
            ],
            "type": "histogram2dcontour"
           }
          ],
          "mesh3d": [
           {
            "colorbar": {
             "outlinewidth": 0,
             "ticks": ""
            },
            "type": "mesh3d"
           }
          ],
          "parcoords": [
           {
            "line": {
             "colorbar": {
              "outlinewidth": 0,
              "ticks": ""
             }
            },
            "type": "parcoords"
           }
          ],
          "pie": [
           {
            "automargin": true,
            "type": "pie"
           }
          ],
          "scatter": [
           {
            "fillpattern": {
             "fillmode": "overlay",
             "size": 10,
             "solidity": 0.2
            },
            "type": "scatter"
           }
          ],
          "scatter3d": [
           {
            "line": {
             "colorbar": {
              "outlinewidth": 0,
              "ticks": ""
             }
            },
            "marker": {
             "colorbar": {
              "outlinewidth": 0,
              "ticks": ""
             }
            },
            "type": "scatter3d"
           }
          ],
          "scattercarpet": [
           {
            "marker": {
             "colorbar": {
              "outlinewidth": 0,
              "ticks": ""
             }
            },
            "type": "scattercarpet"
           }
          ],
          "scattergeo": [
           {
            "marker": {
             "colorbar": {
              "outlinewidth": 0,
              "ticks": ""
             }
            },
            "type": "scattergeo"
           }
          ],
          "scattergl": [
           {
            "marker": {
             "colorbar": {
              "outlinewidth": 0,
              "ticks": ""
             }
            },
            "type": "scattergl"
           }
          ],
          "scattermapbox": [
           {
            "marker": {
             "colorbar": {
              "outlinewidth": 0,
              "ticks": ""
             }
            },
            "type": "scattermapbox"
           }
          ],
          "scatterpolar": [
           {
            "marker": {
             "colorbar": {
              "outlinewidth": 0,
              "ticks": ""
             }
            },
            "type": "scatterpolar"
           }
          ],
          "scatterpolargl": [
           {
            "marker": {
             "colorbar": {
              "outlinewidth": 0,
              "ticks": ""
             }
            },
            "type": "scatterpolargl"
           }
          ],
          "scatterternary": [
           {
            "marker": {
             "colorbar": {
              "outlinewidth": 0,
              "ticks": ""
             }
            },
            "type": "scatterternary"
           }
          ],
          "surface": [
           {
            "colorbar": {
             "outlinewidth": 0,
             "ticks": ""
            },
            "colorscale": [
             [
              0,
              "#0d0887"
             ],
             [
              0.1111111111111111,
              "#46039f"
             ],
             [
              0.2222222222222222,
              "#7201a8"
             ],
             [
              0.3333333333333333,
              "#9c179e"
             ],
             [
              0.4444444444444444,
              "#bd3786"
             ],
             [
              0.5555555555555556,
              "#d8576b"
             ],
             [
              0.6666666666666666,
              "#ed7953"
             ],
             [
              0.7777777777777778,
              "#fb9f3a"
             ],
             [
              0.8888888888888888,
              "#fdca26"
             ],
             [
              1,
              "#f0f921"
             ]
            ],
            "type": "surface"
           }
          ],
          "table": [
           {
            "cells": {
             "fill": {
              "color": "#EBF0F8"
             },
             "line": {
              "color": "white"
             }
            },
            "header": {
             "fill": {
              "color": "#C8D4E3"
             },
             "line": {
              "color": "white"
             }
            },
            "type": "table"
           }
          ]
         },
         "layout": {
          "annotationdefaults": {
           "arrowcolor": "#2a3f5f",
           "arrowhead": 0,
           "arrowwidth": 1
          },
          "autotypenumbers": "strict",
          "coloraxis": {
           "colorbar": {
            "outlinewidth": 0,
            "ticks": ""
           }
          },
          "colorscale": {
           "diverging": [
            [
             0,
             "#8e0152"
            ],
            [
             0.1,
             "#c51b7d"
            ],
            [
             0.2,
             "#de77ae"
            ],
            [
             0.3,
             "#f1b6da"
            ],
            [
             0.4,
             "#fde0ef"
            ],
            [
             0.5,
             "#f7f7f7"
            ],
            [
             0.6,
             "#e6f5d0"
            ],
            [
             0.7,
             "#b8e186"
            ],
            [
             0.8,
             "#7fbc41"
            ],
            [
             0.9,
             "#4d9221"
            ],
            [
             1,
             "#276419"
            ]
           ],
           "sequential": [
            [
             0,
             "#0d0887"
            ],
            [
             0.1111111111111111,
             "#46039f"
            ],
            [
             0.2222222222222222,
             "#7201a8"
            ],
            [
             0.3333333333333333,
             "#9c179e"
            ],
            [
             0.4444444444444444,
             "#bd3786"
            ],
            [
             0.5555555555555556,
             "#d8576b"
            ],
            [
             0.6666666666666666,
             "#ed7953"
            ],
            [
             0.7777777777777778,
             "#fb9f3a"
            ],
            [
             0.8888888888888888,
             "#fdca26"
            ],
            [
             1,
             "#f0f921"
            ]
           ],
           "sequentialminus": [
            [
             0,
             "#0d0887"
            ],
            [
             0.1111111111111111,
             "#46039f"
            ],
            [
             0.2222222222222222,
             "#7201a8"
            ],
            [
             0.3333333333333333,
             "#9c179e"
            ],
            [
             0.4444444444444444,
             "#bd3786"
            ],
            [
             0.5555555555555556,
             "#d8576b"
            ],
            [
             0.6666666666666666,
             "#ed7953"
            ],
            [
             0.7777777777777778,
             "#fb9f3a"
            ],
            [
             0.8888888888888888,
             "#fdca26"
            ],
            [
             1,
             "#f0f921"
            ]
           ]
          },
          "colorway": [
           "#636efa",
           "#EF553B",
           "#00cc96",
           "#ab63fa",
           "#FFA15A",
           "#19d3f3",
           "#FF6692",
           "#B6E880",
           "#FF97FF",
           "#FECB52"
          ],
          "font": {
           "color": "#2a3f5f"
          },
          "geo": {
           "bgcolor": "white",
           "lakecolor": "white",
           "landcolor": "#E5ECF6",
           "showlakes": true,
           "showland": true,
           "subunitcolor": "white"
          },
          "hoverlabel": {
           "align": "left"
          },
          "hovermode": "closest",
          "mapbox": {
           "style": "light"
          },
          "paper_bgcolor": "white",
          "plot_bgcolor": "#E5ECF6",
          "polar": {
           "angularaxis": {
            "gridcolor": "white",
            "linecolor": "white",
            "ticks": ""
           },
           "bgcolor": "#E5ECF6",
           "radialaxis": {
            "gridcolor": "white",
            "linecolor": "white",
            "ticks": ""
           }
          },
          "scene": {
           "xaxis": {
            "backgroundcolor": "#E5ECF6",
            "gridcolor": "white",
            "gridwidth": 2,
            "linecolor": "white",
            "showbackground": true,
            "ticks": "",
            "zerolinecolor": "white"
           },
           "yaxis": {
            "backgroundcolor": "#E5ECF6",
            "gridcolor": "white",
            "gridwidth": 2,
            "linecolor": "white",
            "showbackground": true,
            "ticks": "",
            "zerolinecolor": "white"
           },
           "zaxis": {
            "backgroundcolor": "#E5ECF6",
            "gridcolor": "white",
            "gridwidth": 2,
            "linecolor": "white",
            "showbackground": true,
            "ticks": "",
            "zerolinecolor": "white"
           }
          },
          "shapedefaults": {
           "line": {
            "color": "#2a3f5f"
           }
          },
          "ternary": {
           "aaxis": {
            "gridcolor": "white",
            "linecolor": "white",
            "ticks": ""
           },
           "baxis": {
            "gridcolor": "white",
            "linecolor": "white",
            "ticks": ""
           },
           "bgcolor": "#E5ECF6",
           "caxis": {
            "gridcolor": "white",
            "linecolor": "white",
            "ticks": ""
           }
          },
          "title": {
           "x": 0.05
          },
          "xaxis": {
           "automargin": true,
           "gridcolor": "white",
           "linecolor": "white",
           "ticks": "",
           "title": {
            "standoff": 15
           },
           "zerolinecolor": "white",
           "zerolinewidth": 2
          },
          "yaxis": {
           "automargin": true,
           "gridcolor": "white",
           "linecolor": "white",
           "ticks": "",
           "title": {
            "standoff": 15
           },
           "zerolinecolor": "white",
           "zerolinewidth": 2
          }
         }
        },
        "title": {
         "text": "Animated Scatter Plot"
        },
        "updatemenus": [
         {
          "buttons": [
           {
            "args": [
             null,
             {
              "frame": {
               "duration": 500,
               "redraw": true
              },
              "fromcurrent": true
             }
            ],
            "label": "Play",
            "method": "animate"
           },
           {
            "args": [
             [
              null
             ],
             {
              "frame": {
               "duration": 0,
               "redraw": false
              },
              "mode": "immediate",
              "transition": {
               "duration": 0
              }
             }
            ],
            "label": "Pause",
            "method": "animate"
           }
          ],
          "direction": "left",
          "pad": {
           "r": 10,
           "t": 87
          },
          "showactive": false,
          "type": "buttons",
          "x": 0.1,
          "xanchor": "right",
          "y": 0,
          "yanchor": "top"
         }
        ],
        "xaxis": {
         "range": [
          0,
          96
         ]
        },
        "yaxis": {
         "range": [
          -0.5,
          2.5
         ]
        }
       }
      },
      "text/html": [
       "<div>                            <div id=\"50f4c21d-69af-4b2f-a0ca-8015f2046f4f\" class=\"plotly-graph-div\" style=\"height:525px; width:100%;\"></div>            <script type=\"text/javascript\">                require([\"plotly\"], function(Plotly) {                    window.PLOTLYENV=window.PLOTLYENV || {};                                    if (document.getElementById(\"50f4c21d-69af-4b2f-a0ca-8015f2046f4f\")) {                    Plotly.newPlot(                        \"50f4c21d-69af-4b2f-a0ca-8015f2046f4f\",                        [{\"orientation\":\"h\",\"x\":[7,4,4,5,4,7,6,4,5,5,5,4,4,4,1,1,1,1,6,1,1,7,1,1,7,1,1,5,1,1,5,1,1,6,1,1,7,1,1,7,6,1,5,6,1,4,7,1,4,4,1,1,4,1,1,6,1,1,4,1,1,7,1,1,4,1,0,6,1,0,5,5,0,1,7,0,1,7,0,1,5],\"y\":[0,1,2,0,1,2,0,1,2,0,1,2,0,1,2,0,1,2,0,1,2,0,1,2,0,1,2,0,1,2,0,1,2,0,1,2,0,1,2,0,1,2,0,1,2,0,1,2,0,1,2,0,1,2,0,1,2,0,1,2,0,1,2,0,1,2,0,1,2,0,1,2,0,1,2,0,1,2,0,1,2],\"type\":\"bar\"}],                        {\"title\":{\"text\":\"Animated Scatter Plot\"},\"updatemenus\":[{\"buttons\":[{\"args\":[null,{\"frame\":{\"duration\":500,\"redraw\":true},\"fromcurrent\":true}],\"label\":\"Play\",\"method\":\"animate\"},{\"args\":[[null],{\"frame\":{\"duration\":0,\"redraw\":false},\"mode\":\"immediate\",\"transition\":{\"duration\":0}}],\"label\":\"Pause\",\"method\":\"animate\"}],\"direction\":\"left\",\"pad\":{\"r\":10,\"t\":87},\"showactive\":false,\"type\":\"buttons\",\"x\":0.1,\"xanchor\":\"right\",\"y\":0,\"yanchor\":\"top\"}],\"xaxis\":{\"range\":[0,96]},\"yaxis\":{\"range\":[-0.5,2.5]},\"template\":{\"data\":{\"histogram2dcontour\":[{\"type\":\"histogram2dcontour\",\"colorbar\":{\"outlinewidth\":0,\"ticks\":\"\"},\"colorscale\":[[0.0,\"#0d0887\"],[0.1111111111111111,\"#46039f\"],[0.2222222222222222,\"#7201a8\"],[0.3333333333333333,\"#9c179e\"],[0.4444444444444444,\"#bd3786\"],[0.5555555555555556,\"#d8576b\"],[0.6666666666666666,\"#ed7953\"],[0.7777777777777778,\"#fb9f3a\"],[0.8888888888888888,\"#fdca26\"],[1.0,\"#f0f921\"]]}],\"choropleth\":[{\"type\":\"choropleth\",\"colorbar\":{\"outlinewidth\":0,\"ticks\":\"\"}}],\"histogram2d\":[{\"type\":\"histogram2d\",\"colorbar\":{\"outlinewidth\":0,\"ticks\":\"\"},\"colorscale\":[[0.0,\"#0d0887\"],[0.1111111111111111,\"#46039f\"],[0.2222222222222222,\"#7201a8\"],[0.3333333333333333,\"#9c179e\"],[0.4444444444444444,\"#bd3786\"],[0.5555555555555556,\"#d8576b\"],[0.6666666666666666,\"#ed7953\"],[0.7777777777777778,\"#fb9f3a\"],[0.8888888888888888,\"#fdca26\"],[1.0,\"#f0f921\"]]}],\"heatmap\":[{\"type\":\"heatmap\",\"colorbar\":{\"outlinewidth\":0,\"ticks\":\"\"},\"colorscale\":[[0.0,\"#0d0887\"],[0.1111111111111111,\"#46039f\"],[0.2222222222222222,\"#7201a8\"],[0.3333333333333333,\"#9c179e\"],[0.4444444444444444,\"#bd3786\"],[0.5555555555555556,\"#d8576b\"],[0.6666666666666666,\"#ed7953\"],[0.7777777777777778,\"#fb9f3a\"],[0.8888888888888888,\"#fdca26\"],[1.0,\"#f0f921\"]]}],\"heatmapgl\":[{\"type\":\"heatmapgl\",\"colorbar\":{\"outlinewidth\":0,\"ticks\":\"\"},\"colorscale\":[[0.0,\"#0d0887\"],[0.1111111111111111,\"#46039f\"],[0.2222222222222222,\"#7201a8\"],[0.3333333333333333,\"#9c179e\"],[0.4444444444444444,\"#bd3786\"],[0.5555555555555556,\"#d8576b\"],[0.6666666666666666,\"#ed7953\"],[0.7777777777777778,\"#fb9f3a\"],[0.8888888888888888,\"#fdca26\"],[1.0,\"#f0f921\"]]}],\"contourcarpet\":[{\"type\":\"contourcarpet\",\"colorbar\":{\"outlinewidth\":0,\"ticks\":\"\"}}],\"contour\":[{\"type\":\"contour\",\"colorbar\":{\"outlinewidth\":0,\"ticks\":\"\"},\"colorscale\":[[0.0,\"#0d0887\"],[0.1111111111111111,\"#46039f\"],[0.2222222222222222,\"#7201a8\"],[0.3333333333333333,\"#9c179e\"],[0.4444444444444444,\"#bd3786\"],[0.5555555555555556,\"#d8576b\"],[0.6666666666666666,\"#ed7953\"],[0.7777777777777778,\"#fb9f3a\"],[0.8888888888888888,\"#fdca26\"],[1.0,\"#f0f921\"]]}],\"surface\":[{\"type\":\"surface\",\"colorbar\":{\"outlinewidth\":0,\"ticks\":\"\"},\"colorscale\":[[0.0,\"#0d0887\"],[0.1111111111111111,\"#46039f\"],[0.2222222222222222,\"#7201a8\"],[0.3333333333333333,\"#9c179e\"],[0.4444444444444444,\"#bd3786\"],[0.5555555555555556,\"#d8576b\"],[0.6666666666666666,\"#ed7953\"],[0.7777777777777778,\"#fb9f3a\"],[0.8888888888888888,\"#fdca26\"],[1.0,\"#f0f921\"]]}],\"mesh3d\":[{\"type\":\"mesh3d\",\"colorbar\":{\"outlinewidth\":0,\"ticks\":\"\"}}],\"scatter\":[{\"fillpattern\":{\"fillmode\":\"overlay\",\"size\":10,\"solidity\":0.2},\"type\":\"scatter\"}],\"parcoords\":[{\"type\":\"parcoords\",\"line\":{\"colorbar\":{\"outlinewidth\":0,\"ticks\":\"\"}}}],\"scatterpolargl\":[{\"type\":\"scatterpolargl\",\"marker\":{\"colorbar\":{\"outlinewidth\":0,\"ticks\":\"\"}}}],\"bar\":[{\"error_x\":{\"color\":\"#2a3f5f\"},\"error_y\":{\"color\":\"#2a3f5f\"},\"marker\":{\"line\":{\"color\":\"#E5ECF6\",\"width\":0.5},\"pattern\":{\"fillmode\":\"overlay\",\"size\":10,\"solidity\":0.2}},\"type\":\"bar\"}],\"scattergeo\":[{\"type\":\"scattergeo\",\"marker\":{\"colorbar\":{\"outlinewidth\":0,\"ticks\":\"\"}}}],\"scatterpolar\":[{\"type\":\"scatterpolar\",\"marker\":{\"colorbar\":{\"outlinewidth\":0,\"ticks\":\"\"}}}],\"histogram\":[{\"marker\":{\"pattern\":{\"fillmode\":\"overlay\",\"size\":10,\"solidity\":0.2}},\"type\":\"histogram\"}],\"scattergl\":[{\"type\":\"scattergl\",\"marker\":{\"colorbar\":{\"outlinewidth\":0,\"ticks\":\"\"}}}],\"scatter3d\":[{\"type\":\"scatter3d\",\"line\":{\"colorbar\":{\"outlinewidth\":0,\"ticks\":\"\"}},\"marker\":{\"colorbar\":{\"outlinewidth\":0,\"ticks\":\"\"}}}],\"scattermapbox\":[{\"type\":\"scattermapbox\",\"marker\":{\"colorbar\":{\"outlinewidth\":0,\"ticks\":\"\"}}}],\"scatterternary\":[{\"type\":\"scatterternary\",\"marker\":{\"colorbar\":{\"outlinewidth\":0,\"ticks\":\"\"}}}],\"scattercarpet\":[{\"type\":\"scattercarpet\",\"marker\":{\"colorbar\":{\"outlinewidth\":0,\"ticks\":\"\"}}}],\"carpet\":[{\"aaxis\":{\"endlinecolor\":\"#2a3f5f\",\"gridcolor\":\"white\",\"linecolor\":\"white\",\"minorgridcolor\":\"white\",\"startlinecolor\":\"#2a3f5f\"},\"baxis\":{\"endlinecolor\":\"#2a3f5f\",\"gridcolor\":\"white\",\"linecolor\":\"white\",\"minorgridcolor\":\"white\",\"startlinecolor\":\"#2a3f5f\"},\"type\":\"carpet\"}],\"table\":[{\"cells\":{\"fill\":{\"color\":\"#EBF0F8\"},\"line\":{\"color\":\"white\"}},\"header\":{\"fill\":{\"color\":\"#C8D4E3\"},\"line\":{\"color\":\"white\"}},\"type\":\"table\"}],\"barpolar\":[{\"marker\":{\"line\":{\"color\":\"#E5ECF6\",\"width\":0.5},\"pattern\":{\"fillmode\":\"overlay\",\"size\":10,\"solidity\":0.2}},\"type\":\"barpolar\"}],\"pie\":[{\"automargin\":true,\"type\":\"pie\"}]},\"layout\":{\"autotypenumbers\":\"strict\",\"colorway\":[\"#636efa\",\"#EF553B\",\"#00cc96\",\"#ab63fa\",\"#FFA15A\",\"#19d3f3\",\"#FF6692\",\"#B6E880\",\"#FF97FF\",\"#FECB52\"],\"font\":{\"color\":\"#2a3f5f\"},\"hovermode\":\"closest\",\"hoverlabel\":{\"align\":\"left\"},\"paper_bgcolor\":\"white\",\"plot_bgcolor\":\"#E5ECF6\",\"polar\":{\"bgcolor\":\"#E5ECF6\",\"angularaxis\":{\"gridcolor\":\"white\",\"linecolor\":\"white\",\"ticks\":\"\"},\"radialaxis\":{\"gridcolor\":\"white\",\"linecolor\":\"white\",\"ticks\":\"\"}},\"ternary\":{\"bgcolor\":\"#E5ECF6\",\"aaxis\":{\"gridcolor\":\"white\",\"linecolor\":\"white\",\"ticks\":\"\"},\"baxis\":{\"gridcolor\":\"white\",\"linecolor\":\"white\",\"ticks\":\"\"},\"caxis\":{\"gridcolor\":\"white\",\"linecolor\":\"white\",\"ticks\":\"\"}},\"coloraxis\":{\"colorbar\":{\"outlinewidth\":0,\"ticks\":\"\"}},\"colorscale\":{\"sequential\":[[0.0,\"#0d0887\"],[0.1111111111111111,\"#46039f\"],[0.2222222222222222,\"#7201a8\"],[0.3333333333333333,\"#9c179e\"],[0.4444444444444444,\"#bd3786\"],[0.5555555555555556,\"#d8576b\"],[0.6666666666666666,\"#ed7953\"],[0.7777777777777778,\"#fb9f3a\"],[0.8888888888888888,\"#fdca26\"],[1.0,\"#f0f921\"]],\"sequentialminus\":[[0.0,\"#0d0887\"],[0.1111111111111111,\"#46039f\"],[0.2222222222222222,\"#7201a8\"],[0.3333333333333333,\"#9c179e\"],[0.4444444444444444,\"#bd3786\"],[0.5555555555555556,\"#d8576b\"],[0.6666666666666666,\"#ed7953\"],[0.7777777777777778,\"#fb9f3a\"],[0.8888888888888888,\"#fdca26\"],[1.0,\"#f0f921\"]],\"diverging\":[[0,\"#8e0152\"],[0.1,\"#c51b7d\"],[0.2,\"#de77ae\"],[0.3,\"#f1b6da\"],[0.4,\"#fde0ef\"],[0.5,\"#f7f7f7\"],[0.6,\"#e6f5d0\"],[0.7,\"#b8e186\"],[0.8,\"#7fbc41\"],[0.9,\"#4d9221\"],[1,\"#276419\"]]},\"xaxis\":{\"gridcolor\":\"white\",\"linecolor\":\"white\",\"ticks\":\"\",\"title\":{\"standoff\":15},\"zerolinecolor\":\"white\",\"automargin\":true,\"zerolinewidth\":2},\"yaxis\":{\"gridcolor\":\"white\",\"linecolor\":\"white\",\"ticks\":\"\",\"title\":{\"standoff\":15},\"zerolinecolor\":\"white\",\"automargin\":true,\"zerolinewidth\":2},\"scene\":{\"xaxis\":{\"backgroundcolor\":\"#E5ECF6\",\"gridcolor\":\"white\",\"linecolor\":\"white\",\"showbackground\":true,\"ticks\":\"\",\"zerolinecolor\":\"white\",\"gridwidth\":2},\"yaxis\":{\"backgroundcolor\":\"#E5ECF6\",\"gridcolor\":\"white\",\"linecolor\":\"white\",\"showbackground\":true,\"ticks\":\"\",\"zerolinecolor\":\"white\",\"gridwidth\":2},\"zaxis\":{\"backgroundcolor\":\"#E5ECF6\",\"gridcolor\":\"white\",\"linecolor\":\"white\",\"showbackground\":true,\"ticks\":\"\",\"zerolinecolor\":\"white\",\"gridwidth\":2}},\"shapedefaults\":{\"line\":{\"color\":\"#2a3f5f\"}},\"annotationdefaults\":{\"arrowcolor\":\"#2a3f5f\",\"arrowhead\":0,\"arrowwidth\":1},\"geo\":{\"bgcolor\":\"white\",\"landcolor\":\"#E5ECF6\",\"subunitcolor\":\"white\",\"showland\":true,\"showlakes\":true,\"lakecolor\":\"white\"},\"title\":{\"x\":0.05},\"mapbox\":{\"style\":\"light\"}}}},                        {\"responsive\": true}                    ).then(function(){\n",
       "                            Plotly.addFrames('50f4c21d-69af-4b2f-a0ca-8015f2046f4f', [{\"data\":[{\"orientation\":\"h\",\"x\":[],\"y\":[],\"type\":\"bar\"}],\"name\":\"frame 0\"},{\"data\":[{\"orientation\":\"h\",\"x\":[7],\"y\":[0],\"type\":\"bar\"}],\"name\":\"frame 1\"},{\"data\":[{\"orientation\":\"h\",\"x\":[7,4],\"y\":[0,1],\"type\":\"bar\"}],\"name\":\"frame 2\"},{\"data\":[{\"orientation\":\"h\",\"x\":[7,4,4],\"y\":[0,1,2],\"type\":\"bar\"}],\"name\":\"frame 3\"},{\"data\":[{\"orientation\":\"h\",\"x\":[7,4,4,5],\"y\":[0,1,2,0],\"type\":\"bar\"}],\"name\":\"frame 4\"},{\"data\":[{\"orientation\":\"h\",\"x\":[7,4,4,5,4],\"y\":[0,1,2,0,1],\"type\":\"bar\"}],\"name\":\"frame 5\"},{\"data\":[{\"orientation\":\"h\",\"x\":[7,4,4,5,4,7],\"y\":[0,1,2,0,1,2],\"type\":\"bar\"}],\"name\":\"frame 6\"},{\"data\":[{\"orientation\":\"h\",\"x\":[7,4,4,5,4,7,6],\"y\":[0,1,2,0,1,2,0],\"type\":\"bar\"}],\"name\":\"frame 7\"},{\"data\":[{\"orientation\":\"h\",\"x\":[7,4,4,5,4,7,6,4],\"y\":[0,1,2,0,1,2,0,1],\"type\":\"bar\"}],\"name\":\"frame 8\"},{\"data\":[{\"orientation\":\"h\",\"x\":[7,4,4,5,4,7,6,4,5],\"y\":[0,1,2,0,1,2,0,1,2],\"type\":\"bar\"}],\"name\":\"frame 9\"},{\"data\":[{\"orientation\":\"h\",\"x\":[7,4,4,5,4,7,6,4,5,5],\"y\":[0,1,2,0,1,2,0,1,2,0],\"type\":\"bar\"}],\"name\":\"frame 10\"},{\"data\":[{\"orientation\":\"h\",\"x\":[7,4,4,5,4,7,6,4,5,5,5],\"y\":[0,1,2,0,1,2,0,1,2,0,1],\"type\":\"bar\"}],\"name\":\"frame 11\"},{\"data\":[{\"orientation\":\"h\",\"x\":[7,4,4,5,4,7,6,4,5,5,5,4],\"y\":[0,1,2,0,1,2,0,1,2,0,1,2],\"type\":\"bar\"}],\"name\":\"frame 12\"},{\"data\":[{\"orientation\":\"h\",\"x\":[7,4,4,5,4,7,6,4,5,5,5,4,4],\"y\":[0,1,2,0,1,2,0,1,2,0,1,2,0],\"type\":\"bar\"}],\"name\":\"frame 13\"},{\"data\":[{\"orientation\":\"h\",\"x\":[7,4,4,5,4,7,6,4,5,5,5,4,4,4],\"y\":[0,1,2,0,1,2,0,1,2,0,1,2,0,1],\"type\":\"bar\"}],\"name\":\"frame 14\"},{\"data\":[{\"orientation\":\"h\",\"x\":[7,4,4,5,4,7,6,4,5,5,5,4,4,4,1],\"y\":[0,1,2,0,1,2,0,1,2,0,1,2,0,1,2],\"type\":\"bar\"}],\"name\":\"frame 15\"},{\"data\":[{\"orientation\":\"h\",\"x\":[7,4,4,5,4,7,6,4,5,5,5,4,4,4,1,1],\"y\":[0,1,2,0,1,2,0,1,2,0,1,2,0,1,2,0],\"type\":\"bar\"}],\"name\":\"frame 16\"},{\"data\":[{\"orientation\":\"h\",\"x\":[7,4,4,5,4,7,6,4,5,5,5,4,4,4,1,1,1],\"y\":[0,1,2,0,1,2,0,1,2,0,1,2,0,1,2,0,1],\"type\":\"bar\"}],\"name\":\"frame 17\"},{\"data\":[{\"orientation\":\"h\",\"x\":[7,4,4,5,4,7,6,4,5,5,5,4,4,4,1,1,1,1],\"y\":[0,1,2,0,1,2,0,1,2,0,1,2,0,1,2,0,1,2],\"type\":\"bar\"}],\"name\":\"frame 18\"},{\"data\":[{\"orientation\":\"h\",\"x\":[7,4,4,5,4,7,6,4,5,5,5,4,4,4,1,1,1,1,6],\"y\":[0,1,2,0,1,2,0,1,2,0,1,2,0,1,2,0,1,2,0],\"type\":\"bar\"}],\"name\":\"frame 19\"},{\"data\":[{\"orientation\":\"h\",\"x\":[7,4,4,5,4,7,6,4,5,5,5,4,4,4,1,1,1,1,6,1],\"y\":[0,1,2,0,1,2,0,1,2,0,1,2,0,1,2,0,1,2,0,1],\"type\":\"bar\"}],\"name\":\"frame 20\"},{\"data\":[{\"orientation\":\"h\",\"x\":[7,4,4,5,4,7,6,4,5,5,5,4,4,4,1,1,1,1,6,1,1],\"y\":[0,1,2,0,1,2,0,1,2,0,1,2,0,1,2,0,1,2,0,1,2],\"type\":\"bar\"}],\"name\":\"frame 21\"},{\"data\":[{\"orientation\":\"h\",\"x\":[7,4,4,5,4,7,6,4,5,5,5,4,4,4,1,1,1,1,6,1,1,7],\"y\":[0,1,2,0,1,2,0,1,2,0,1,2,0,1,2,0,1,2,0,1,2,0],\"type\":\"bar\"}],\"name\":\"frame 22\"},{\"data\":[{\"orientation\":\"h\",\"x\":[7,4,4,5,4,7,6,4,5,5,5,4,4,4,1,1,1,1,6,1,1,7,1],\"y\":[0,1,2,0,1,2,0,1,2,0,1,2,0,1,2,0,1,2,0,1,2,0,1],\"type\":\"bar\"}],\"name\":\"frame 23\"},{\"data\":[{\"orientation\":\"h\",\"x\":[7,4,4,5,4,7,6,4,5,5,5,4,4,4,1,1,1,1,6,1,1,7,1,1],\"y\":[0,1,2,0,1,2,0,1,2,0,1,2,0,1,2,0,1,2,0,1,2,0,1,2],\"type\":\"bar\"}],\"name\":\"frame 24\"},{\"data\":[{\"orientation\":\"h\",\"x\":[7,4,4,5,4,7,6,4,5,5,5,4,4,4,1,1,1,1,6,1,1,7,1,1,7],\"y\":[0,1,2,0,1,2,0,1,2,0,1,2,0,1,2,0,1,2,0,1,2,0,1,2,0],\"type\":\"bar\"}],\"name\":\"frame 25\"},{\"data\":[{\"orientation\":\"h\",\"x\":[7,4,4,5,4,7,6,4,5,5,5,4,4,4,1,1,1,1,6,1,1,7,1,1,7,1],\"y\":[0,1,2,0,1,2,0,1,2,0,1,2,0,1,2,0,1,2,0,1,2,0,1,2,0,1],\"type\":\"bar\"}],\"name\":\"frame 26\"},{\"data\":[{\"orientation\":\"h\",\"x\":[7,4,4,5,4,7,6,4,5,5,5,4,4,4,1,1,1,1,6,1,1,7,1,1,7,1,1],\"y\":[0,1,2,0,1,2,0,1,2,0,1,2,0,1,2,0,1,2,0,1,2,0,1,2,0,1,2],\"type\":\"bar\"}],\"name\":\"frame 27\"},{\"data\":[{\"orientation\":\"h\",\"x\":[7,4,4,5,4,7,6,4,5,5,5,4,4,4,1,1,1,1,6,1,1,7,1,1,7,1,1,5],\"y\":[0,1,2,0,1,2,0,1,2,0,1,2,0,1,2,0,1,2,0,1,2,0,1,2,0,1,2,0],\"type\":\"bar\"}],\"name\":\"frame 28\"},{\"data\":[{\"orientation\":\"h\",\"x\":[7,4,4,5,4,7,6,4,5,5,5,4,4,4,1,1,1,1,6,1,1,7,1,1,7,1,1,5,1],\"y\":[0,1,2,0,1,2,0,1,2,0,1,2,0,1,2,0,1,2,0,1,2,0,1,2,0,1,2,0,1],\"type\":\"bar\"}],\"name\":\"frame 29\"},{\"data\":[{\"orientation\":\"h\",\"x\":[7,4,4,5,4,7,6,4,5,5,5,4,4,4,1,1,1,1,6,1,1,7,1,1,7,1,1,5,1,1],\"y\":[0,1,2,0,1,2,0,1,2,0,1,2,0,1,2,0,1,2,0,1,2,0,1,2,0,1,2,0,1,2],\"type\":\"bar\"}],\"name\":\"frame 30\"},{\"data\":[{\"orientation\":\"h\",\"x\":[7,4,4,5,4,7,6,4,5,5,5,4,4,4,1,1,1,1,6,1,1,7,1,1,7,1,1,5,1,1,5],\"y\":[0,1,2,0,1,2,0,1,2,0,1,2,0,1,2,0,1,2,0,1,2,0,1,2,0,1,2,0,1,2,0],\"type\":\"bar\"}],\"name\":\"frame 31\"},{\"data\":[{\"orientation\":\"h\",\"x\":[7,4,4,5,4,7,6,4,5,5,5,4,4,4,1,1,1,1,6,1,1,7,1,1,7,1,1,5,1,1,5,1],\"y\":[0,1,2,0,1,2,0,1,2,0,1,2,0,1,2,0,1,2,0,1,2,0,1,2,0,1,2,0,1,2,0,1],\"type\":\"bar\"}],\"name\":\"frame 32\"},{\"data\":[{\"orientation\":\"h\",\"x\":[7,4,4,5,4,7,6,4,5,5,5,4,4,4,1,1,1,1,6,1,1,7,1,1,7,1,1,5,1,1,5,1,1],\"y\":[0,1,2,0,1,2,0,1,2,0,1,2,0,1,2,0,1,2,0,1,2,0,1,2,0,1,2,0,1,2,0,1,2],\"type\":\"bar\"}],\"name\":\"frame 33\"},{\"data\":[{\"orientation\":\"h\",\"x\":[7,4,4,5,4,7,6,4,5,5,5,4,4,4,1,1,1,1,6,1,1,7,1,1,7,1,1,5,1,1,5,1,1,6],\"y\":[0,1,2,0,1,2,0,1,2,0,1,2,0,1,2,0,1,2,0,1,2,0,1,2,0,1,2,0,1,2,0,1,2,0],\"type\":\"bar\"}],\"name\":\"frame 34\"},{\"data\":[{\"orientation\":\"h\",\"x\":[7,4,4,5,4,7,6,4,5,5,5,4,4,4,1,1,1,1,6,1,1,7,1,1,7,1,1,5,1,1,5,1,1,6,1],\"y\":[0,1,2,0,1,2,0,1,2,0,1,2,0,1,2,0,1,2,0,1,2,0,1,2,0,1,2,0,1,2,0,1,2,0,1],\"type\":\"bar\"}],\"name\":\"frame 35\"},{\"data\":[{\"orientation\":\"h\",\"x\":[7,4,4,5,4,7,6,4,5,5,5,4,4,4,1,1,1,1,6,1,1,7,1,1,7,1,1,5,1,1,5,1,1,6,1,1],\"y\":[0,1,2,0,1,2,0,1,2,0,1,2,0,1,2,0,1,2,0,1,2,0,1,2,0,1,2,0,1,2,0,1,2,0,1,2],\"type\":\"bar\"}],\"name\":\"frame 36\"},{\"data\":[{\"orientation\":\"h\",\"x\":[7,4,4,5,4,7,6,4,5,5,5,4,4,4,1,1,1,1,6,1,1,7,1,1,7,1,1,5,1,1,5,1,1,6,1,1,7],\"y\":[0,1,2,0,1,2,0,1,2,0,1,2,0,1,2,0,1,2,0,1,2,0,1,2,0,1,2,0,1,2,0,1,2,0,1,2,0],\"type\":\"bar\"}],\"name\":\"frame 37\"},{\"data\":[{\"orientation\":\"h\",\"x\":[7,4,4,5,4,7,6,4,5,5,5,4,4,4,1,1,1,1,6,1,1,7,1,1,7,1,1,5,1,1,5,1,1,6,1,1,7,1],\"y\":[0,1,2,0,1,2,0,1,2,0,1,2,0,1,2,0,1,2,0,1,2,0,1,2,0,1,2,0,1,2,0,1,2,0,1,2,0,1],\"type\":\"bar\"}],\"name\":\"frame 38\"},{\"data\":[{\"orientation\":\"h\",\"x\":[7,4,4,5,4,7,6,4,5,5,5,4,4,4,1,1,1,1,6,1,1,7,1,1,7,1,1,5,1,1,5,1,1,6,1,1,7,1,1],\"y\":[0,1,2,0,1,2,0,1,2,0,1,2,0,1,2,0,1,2,0,1,2,0,1,2,0,1,2,0,1,2,0,1,2,0,1,2,0,1,2],\"type\":\"bar\"}],\"name\":\"frame 39\"},{\"data\":[{\"orientation\":\"h\",\"x\":[7,4,4,5,4,7,6,4,5,5,5,4,4,4,1,1,1,1,6,1,1,7,1,1,7,1,1,5,1,1,5,1,1,6,1,1,7,1,1,7],\"y\":[0,1,2,0,1,2,0,1,2,0,1,2,0,1,2,0,1,2,0,1,2,0,1,2,0,1,2,0,1,2,0,1,2,0,1,2,0,1,2,0],\"type\":\"bar\"}],\"name\":\"frame 40\"},{\"data\":[{\"orientation\":\"h\",\"x\":[7,4,4,5,4,7,6,4,5,5,5,4,4,4,1,1,1,1,6,1,1,7,1,1,7,1,1,5,1,1,5,1,1,6,1,1,7,1,1,7,6],\"y\":[0,1,2,0,1,2,0,1,2,0,1,2,0,1,2,0,1,2,0,1,2,0,1,2,0,1,2,0,1,2,0,1,2,0,1,2,0,1,2,0,1],\"type\":\"bar\"}],\"name\":\"frame 41\"},{\"data\":[{\"orientation\":\"h\",\"x\":[7,4,4,5,4,7,6,4,5,5,5,4,4,4,1,1,1,1,6,1,1,7,1,1,7,1,1,5,1,1,5,1,1,6,1,1,7,1,1,7,6,1],\"y\":[0,1,2,0,1,2,0,1,2,0,1,2,0,1,2,0,1,2,0,1,2,0,1,2,0,1,2,0,1,2,0,1,2,0,1,2,0,1,2,0,1,2],\"type\":\"bar\"}],\"name\":\"frame 42\"},{\"data\":[{\"orientation\":\"h\",\"x\":[7,4,4,5,4,7,6,4,5,5,5,4,4,4,1,1,1,1,6,1,1,7,1,1,7,1,1,5,1,1,5,1,1,6,1,1,7,1,1,7,6,1,5],\"y\":[0,1,2,0,1,2,0,1,2,0,1,2,0,1,2,0,1,2,0,1,2,0,1,2,0,1,2,0,1,2,0,1,2,0,1,2,0,1,2,0,1,2,0],\"type\":\"bar\"}],\"name\":\"frame 43\"},{\"data\":[{\"orientation\":\"h\",\"x\":[7,4,4,5,4,7,6,4,5,5,5,4,4,4,1,1,1,1,6,1,1,7,1,1,7,1,1,5,1,1,5,1,1,6,1,1,7,1,1,7,6,1,5,6],\"y\":[0,1,2,0,1,2,0,1,2,0,1,2,0,1,2,0,1,2,0,1,2,0,1,2,0,1,2,0,1,2,0,1,2,0,1,2,0,1,2,0,1,2,0,1],\"type\":\"bar\"}],\"name\":\"frame 44\"},{\"data\":[{\"orientation\":\"h\",\"x\":[7,4,4,5,4,7,6,4,5,5,5,4,4,4,1,1,1,1,6,1,1,7,1,1,7,1,1,5,1,1,5,1,1,6,1,1,7,1,1,7,6,1,5,6,1],\"y\":[0,1,2,0,1,2,0,1,2,0,1,2,0,1,2,0,1,2,0,1,2,0,1,2,0,1,2,0,1,2,0,1,2,0,1,2,0,1,2,0,1,2,0,1,2],\"type\":\"bar\"}],\"name\":\"frame 45\"},{\"data\":[{\"orientation\":\"h\",\"x\":[7,4,4,5,4,7,6,4,5,5,5,4,4,4,1,1,1,1,6,1,1,7,1,1,7,1,1,5,1,1,5,1,1,6,1,1,7,1,1,7,6,1,5,6,1,4],\"y\":[0,1,2,0,1,2,0,1,2,0,1,2,0,1,2,0,1,2,0,1,2,0,1,2,0,1,2,0,1,2,0,1,2,0,1,2,0,1,2,0,1,2,0,1,2,0],\"type\":\"bar\"}],\"name\":\"frame 46\"},{\"data\":[{\"orientation\":\"h\",\"x\":[7,4,4,5,4,7,6,4,5,5,5,4,4,4,1,1,1,1,6,1,1,7,1,1,7,1,1,5,1,1,5,1,1,6,1,1,7,1,1,7,6,1,5,6,1,4,7],\"y\":[0,1,2,0,1,2,0,1,2,0,1,2,0,1,2,0,1,2,0,1,2,0,1,2,0,1,2,0,1,2,0,1,2,0,1,2,0,1,2,0,1,2,0,1,2,0,1],\"type\":\"bar\"}],\"name\":\"frame 47\"},{\"data\":[{\"orientation\":\"h\",\"x\":[7,4,4,5,4,7,6,4,5,5,5,4,4,4,1,1,1,1,6,1,1,7,1,1,7,1,1,5,1,1,5,1,1,6,1,1,7,1,1,7,6,1,5,6,1,4,7,1],\"y\":[0,1,2,0,1,2,0,1,2,0,1,2,0,1,2,0,1,2,0,1,2,0,1,2,0,1,2,0,1,2,0,1,2,0,1,2,0,1,2,0,1,2,0,1,2,0,1,2],\"type\":\"bar\"}],\"name\":\"frame 48\"},{\"data\":[{\"orientation\":\"h\",\"x\":[7,4,4,5,4,7,6,4,5,5,5,4,4,4,1,1,1,1,6,1,1,7,1,1,7,1,1,5,1,1,5,1,1,6,1,1,7,1,1,7,6,1,5,6,1,4,7,1,4],\"y\":[0,1,2,0,1,2,0,1,2,0,1,2,0,1,2,0,1,2,0,1,2,0,1,2,0,1,2,0,1,2,0,1,2,0,1,2,0,1,2,0,1,2,0,1,2,0,1,2,0],\"type\":\"bar\"}],\"name\":\"frame 49\"},{\"data\":[{\"orientation\":\"h\",\"x\":[7,4,4,5,4,7,6,4,5,5,5,4,4,4,1,1,1,1,6,1,1,7,1,1,7,1,1,5,1,1,5,1,1,6,1,1,7,1,1,7,6,1,5,6,1,4,7,1,4,4],\"y\":[0,1,2,0,1,2,0,1,2,0,1,2,0,1,2,0,1,2,0,1,2,0,1,2,0,1,2,0,1,2,0,1,2,0,1,2,0,1,2,0,1,2,0,1,2,0,1,2,0,1],\"type\":\"bar\"}],\"name\":\"frame 50\"},{\"data\":[{\"orientation\":\"h\",\"x\":[7,4,4,5,4,7,6,4,5,5,5,4,4,4,1,1,1,1,6,1,1,7,1,1,7,1,1,5,1,1,5,1,1,6,1,1,7,1,1,7,6,1,5,6,1,4,7,1,4,4,1],\"y\":[0,1,2,0,1,2,0,1,2,0,1,2,0,1,2,0,1,2,0,1,2,0,1,2,0,1,2,0,1,2,0,1,2,0,1,2,0,1,2,0,1,2,0,1,2,0,1,2,0,1,2],\"type\":\"bar\"}],\"name\":\"frame 51\"},{\"data\":[{\"orientation\":\"h\",\"x\":[7,4,4,5,4,7,6,4,5,5,5,4,4,4,1,1,1,1,6,1,1,7,1,1,7,1,1,5,1,1,5,1,1,6,1,1,7,1,1,7,6,1,5,6,1,4,7,1,4,4,1,1],\"y\":[0,1,2,0,1,2,0,1,2,0,1,2,0,1,2,0,1,2,0,1,2,0,1,2,0,1,2,0,1,2,0,1,2,0,1,2,0,1,2,0,1,2,0,1,2,0,1,2,0,1,2,0],\"type\":\"bar\"}],\"name\":\"frame 52\"},{\"data\":[{\"orientation\":\"h\",\"x\":[7,4,4,5,4,7,6,4,5,5,5,4,4,4,1,1,1,1,6,1,1,7,1,1,7,1,1,5,1,1,5,1,1,6,1,1,7,1,1,7,6,1,5,6,1,4,7,1,4,4,1,1,4],\"y\":[0,1,2,0,1,2,0,1,2,0,1,2,0,1,2,0,1,2,0,1,2,0,1,2,0,1,2,0,1,2,0,1,2,0,1,2,0,1,2,0,1,2,0,1,2,0,1,2,0,1,2,0,1],\"type\":\"bar\"}],\"name\":\"frame 53\"},{\"data\":[{\"orientation\":\"h\",\"x\":[7,4,4,5,4,7,6,4,5,5,5,4,4,4,1,1,1,1,6,1,1,7,1,1,7,1,1,5,1,1,5,1,1,6,1,1,7,1,1,7,6,1,5,6,1,4,7,1,4,4,1,1,4,1],\"y\":[0,1,2,0,1,2,0,1,2,0,1,2,0,1,2,0,1,2,0,1,2,0,1,2,0,1,2,0,1,2,0,1,2,0,1,2,0,1,2,0,1,2,0,1,2,0,1,2,0,1,2,0,1,2],\"type\":\"bar\"}],\"name\":\"frame 54\"},{\"data\":[{\"orientation\":\"h\",\"x\":[7,4,4,5,4,7,6,4,5,5,5,4,4,4,1,1,1,1,6,1,1,7,1,1,7,1,1,5,1,1,5,1,1,6,1,1,7,1,1,7,6,1,5,6,1,4,7,1,4,4,1,1,4,1,1],\"y\":[0,1,2,0,1,2,0,1,2,0,1,2,0,1,2,0,1,2,0,1,2,0,1,2,0,1,2,0,1,2,0,1,2,0,1,2,0,1,2,0,1,2,0,1,2,0,1,2,0,1,2,0,1,2,0],\"type\":\"bar\"}],\"name\":\"frame 55\"},{\"data\":[{\"orientation\":\"h\",\"x\":[7,4,4,5,4,7,6,4,5,5,5,4,4,4,1,1,1,1,6,1,1,7,1,1,7,1,1,5,1,1,5,1,1,6,1,1,7,1,1,7,6,1,5,6,1,4,7,1,4,4,1,1,4,1,1,6],\"y\":[0,1,2,0,1,2,0,1,2,0,1,2,0,1,2,0,1,2,0,1,2,0,1,2,0,1,2,0,1,2,0,1,2,0,1,2,0,1,2,0,1,2,0,1,2,0,1,2,0,1,2,0,1,2,0,1],\"type\":\"bar\"}],\"name\":\"frame 56\"},{\"data\":[{\"orientation\":\"h\",\"x\":[7,4,4,5,4,7,6,4,5,5,5,4,4,4,1,1,1,1,6,1,1,7,1,1,7,1,1,5,1,1,5,1,1,6,1,1,7,1,1,7,6,1,5,6,1,4,7,1,4,4,1,1,4,1,1,6,1],\"y\":[0,1,2,0,1,2,0,1,2,0,1,2,0,1,2,0,1,2,0,1,2,0,1,2,0,1,2,0,1,2,0,1,2,0,1,2,0,1,2,0,1,2,0,1,2,0,1,2,0,1,2,0,1,2,0,1,2],\"type\":\"bar\"}],\"name\":\"frame 57\"},{\"data\":[{\"orientation\":\"h\",\"x\":[7,4,4,5,4,7,6,4,5,5,5,4,4,4,1,1,1,1,6,1,1,7,1,1,7,1,1,5,1,1,5,1,1,6,1,1,7,1,1,7,6,1,5,6,1,4,7,1,4,4,1,1,4,1,1,6,1,1],\"y\":[0,1,2,0,1,2,0,1,2,0,1,2,0,1,2,0,1,2,0,1,2,0,1,2,0,1,2,0,1,2,0,1,2,0,1,2,0,1,2,0,1,2,0,1,2,0,1,2,0,1,2,0,1,2,0,1,2,0],\"type\":\"bar\"}],\"name\":\"frame 58\"},{\"data\":[{\"orientation\":\"h\",\"x\":[7,4,4,5,4,7,6,4,5,5,5,4,4,4,1,1,1,1,6,1,1,7,1,1,7,1,1,5,1,1,5,1,1,6,1,1,7,1,1,7,6,1,5,6,1,4,7,1,4,4,1,1,4,1,1,6,1,1,4],\"y\":[0,1,2,0,1,2,0,1,2,0,1,2,0,1,2,0,1,2,0,1,2,0,1,2,0,1,2,0,1,2,0,1,2,0,1,2,0,1,2,0,1,2,0,1,2,0,1,2,0,1,2,0,1,2,0,1,2,0,1],\"type\":\"bar\"}],\"name\":\"frame 59\"},{\"data\":[{\"orientation\":\"h\",\"x\":[7,4,4,5,4,7,6,4,5,5,5,4,4,4,1,1,1,1,6,1,1,7,1,1,7,1,1,5,1,1,5,1,1,6,1,1,7,1,1,7,6,1,5,6,1,4,7,1,4,4,1,1,4,1,1,6,1,1,4,1],\"y\":[0,1,2,0,1,2,0,1,2,0,1,2,0,1,2,0,1,2,0,1,2,0,1,2,0,1,2,0,1,2,0,1,2,0,1,2,0,1,2,0,1,2,0,1,2,0,1,2,0,1,2,0,1,2,0,1,2,0,1,2],\"type\":\"bar\"}],\"name\":\"frame 60\"},{\"data\":[{\"orientation\":\"h\",\"x\":[7,4,4,5,4,7,6,4,5,5,5,4,4,4,1,1,1,1,6,1,1,7,1,1,7,1,1,5,1,1,5,1,1,6,1,1,7,1,1,7,6,1,5,6,1,4,7,1,4,4,1,1,4,1,1,6,1,1,4,1,1],\"y\":[0,1,2,0,1,2,0,1,2,0,1,2,0,1,2,0,1,2,0,1,2,0,1,2,0,1,2,0,1,2,0,1,2,0,1,2,0,1,2,0,1,2,0,1,2,0,1,2,0,1,2,0,1,2,0,1,2,0,1,2,0],\"type\":\"bar\"}],\"name\":\"frame 61\"},{\"data\":[{\"orientation\":\"h\",\"x\":[7,4,4,5,4,7,6,4,5,5,5,4,4,4,1,1,1,1,6,1,1,7,1,1,7,1,1,5,1,1,5,1,1,6,1,1,7,1,1,7,6,1,5,6,1,4,7,1,4,4,1,1,4,1,1,6,1,1,4,1,1,7],\"y\":[0,1,2,0,1,2,0,1,2,0,1,2,0,1,2,0,1,2,0,1,2,0,1,2,0,1,2,0,1,2,0,1,2,0,1,2,0,1,2,0,1,2,0,1,2,0,1,2,0,1,2,0,1,2,0,1,2,0,1,2,0,1],\"type\":\"bar\"}],\"name\":\"frame 62\"},{\"data\":[{\"orientation\":\"h\",\"x\":[7,4,4,5,4,7,6,4,5,5,5,4,4,4,1,1,1,1,6,1,1,7,1,1,7,1,1,5,1,1,5,1,1,6,1,1,7,1,1,7,6,1,5,6,1,4,7,1,4,4,1,1,4,1,1,6,1,1,4,1,1,7,1],\"y\":[0,1,2,0,1,2,0,1,2,0,1,2,0,1,2,0,1,2,0,1,2,0,1,2,0,1,2,0,1,2,0,1,2,0,1,2,0,1,2,0,1,2,0,1,2,0,1,2,0,1,2,0,1,2,0,1,2,0,1,2,0,1,2],\"type\":\"bar\"}],\"name\":\"frame 63\"},{\"data\":[{\"orientation\":\"h\",\"x\":[7,4,4,5,4,7,6,4,5,5,5,4,4,4,1,1,1,1,6,1,1,7,1,1,7,1,1,5,1,1,5,1,1,6,1,1,7,1,1,7,6,1,5,6,1,4,7,1,4,4,1,1,4,1,1,6,1,1,4,1,1,7,1,1],\"y\":[0,1,2,0,1,2,0,1,2,0,1,2,0,1,2,0,1,2,0,1,2,0,1,2,0,1,2,0,1,2,0,1,2,0,1,2,0,1,2,0,1,2,0,1,2,0,1,2,0,1,2,0,1,2,0,1,2,0,1,2,0,1,2,0],\"type\":\"bar\"}],\"name\":\"frame 64\"},{\"data\":[{\"orientation\":\"h\",\"x\":[7,4,4,5,4,7,6,4,5,5,5,4,4,4,1,1,1,1,6,1,1,7,1,1,7,1,1,5,1,1,5,1,1,6,1,1,7,1,1,7,6,1,5,6,1,4,7,1,4,4,1,1,4,1,1,6,1,1,4,1,1,7,1,1,4],\"y\":[0,1,2,0,1,2,0,1,2,0,1,2,0,1,2,0,1,2,0,1,2,0,1,2,0,1,2,0,1,2,0,1,2,0,1,2,0,1,2,0,1,2,0,1,2,0,1,2,0,1,2,0,1,2,0,1,2,0,1,2,0,1,2,0,1],\"type\":\"bar\"}],\"name\":\"frame 65\"},{\"data\":[{\"orientation\":\"h\",\"x\":[7,4,4,5,4,7,6,4,5,5,5,4,4,4,1,1,1,1,6,1,1,7,1,1,7,1,1,5,1,1,5,1,1,6,1,1,7,1,1,7,6,1,5,6,1,4,7,1,4,4,1,1,4,1,1,6,1,1,4,1,1,7,1,1,4,1],\"y\":[0,1,2,0,1,2,0,1,2,0,1,2,0,1,2,0,1,2,0,1,2,0,1,2,0,1,2,0,1,2,0,1,2,0,1,2,0,1,2,0,1,2,0,1,2,0,1,2,0,1,2,0,1,2,0,1,2,0,1,2,0,1,2,0,1,2],\"type\":\"bar\"}],\"name\":\"frame 66\"},{\"data\":[{\"orientation\":\"h\",\"x\":[7,4,4,5,4,7,6,4,5,5,5,4,4,4,1,1,1,1,6,1,1,7,1,1,7,1,1,5,1,1,5,1,1,6,1,1,7,1,1,7,6,1,5,6,1,4,7,1,4,4,1,1,4,1,1,6,1,1,4,1,1,7,1,1,4,1,0],\"y\":[0,1,2,0,1,2,0,1,2,0,1,2,0,1,2,0,1,2,0,1,2,0,1,2,0,1,2,0,1,2,0,1,2,0,1,2,0,1,2,0,1,2,0,1,2,0,1,2,0,1,2,0,1,2,0,1,2,0,1,2,0,1,2,0,1,2,0],\"type\":\"bar\"}],\"name\":\"frame 67\"},{\"data\":[{\"orientation\":\"h\",\"x\":[7,4,4,5,4,7,6,4,5,5,5,4,4,4,1,1,1,1,6,1,1,7,1,1,7,1,1,5,1,1,5,1,1,6,1,1,7,1,1,7,6,1,5,6,1,4,7,1,4,4,1,1,4,1,1,6,1,1,4,1,1,7,1,1,4,1,0,6],\"y\":[0,1,2,0,1,2,0,1,2,0,1,2,0,1,2,0,1,2,0,1,2,0,1,2,0,1,2,0,1,2,0,1,2,0,1,2,0,1,2,0,1,2,0,1,2,0,1,2,0,1,2,0,1,2,0,1,2,0,1,2,0,1,2,0,1,2,0,1],\"type\":\"bar\"}],\"name\":\"frame 68\"},{\"data\":[{\"orientation\":\"h\",\"x\":[7,4,4,5,4,7,6,4,5,5,5,4,4,4,1,1,1,1,6,1,1,7,1,1,7,1,1,5,1,1,5,1,1,6,1,1,7,1,1,7,6,1,5,6,1,4,7,1,4,4,1,1,4,1,1,6,1,1,4,1,1,7,1,1,4,1,0,6,1],\"y\":[0,1,2,0,1,2,0,1,2,0,1,2,0,1,2,0,1,2,0,1,2,0,1,2,0,1,2,0,1,2,0,1,2,0,1,2,0,1,2,0,1,2,0,1,2,0,1,2,0,1,2,0,1,2,0,1,2,0,1,2,0,1,2,0,1,2,0,1,2],\"type\":\"bar\"}],\"name\":\"frame 69\"},{\"data\":[{\"orientation\":\"h\",\"x\":[7,4,4,5,4,7,6,4,5,5,5,4,4,4,1,1,1,1,6,1,1,7,1,1,7,1,1,5,1,1,5,1,1,6,1,1,7,1,1,7,6,1,5,6,1,4,7,1,4,4,1,1,4,1,1,6,1,1,4,1,1,7,1,1,4,1,0,6,1,0],\"y\":[0,1,2,0,1,2,0,1,2,0,1,2,0,1,2,0,1,2,0,1,2,0,1,2,0,1,2,0,1,2,0,1,2,0,1,2,0,1,2,0,1,2,0,1,2,0,1,2,0,1,2,0,1,2,0,1,2,0,1,2,0,1,2,0,1,2,0,1,2,0],\"type\":\"bar\"}],\"name\":\"frame 70\"},{\"data\":[{\"orientation\":\"h\",\"x\":[7,4,4,5,4,7,6,4,5,5,5,4,4,4,1,1,1,1,6,1,1,7,1,1,7,1,1,5,1,1,5,1,1,6,1,1,7,1,1,7,6,1,5,6,1,4,7,1,4,4,1,1,4,1,1,6,1,1,4,1,1,7,1,1,4,1,0,6,1,0,5],\"y\":[0,1,2,0,1,2,0,1,2,0,1,2,0,1,2,0,1,2,0,1,2,0,1,2,0,1,2,0,1,2,0,1,2,0,1,2,0,1,2,0,1,2,0,1,2,0,1,2,0,1,2,0,1,2,0,1,2,0,1,2,0,1,2,0,1,2,0,1,2,0,1],\"type\":\"bar\"}],\"name\":\"frame 71\"},{\"data\":[{\"orientation\":\"h\",\"x\":[7,4,4,5,4,7,6,4,5,5,5,4,4,4,1,1,1,1,6,1,1,7,1,1,7,1,1,5,1,1,5,1,1,6,1,1,7,1,1,7,6,1,5,6,1,4,7,1,4,4,1,1,4,1,1,6,1,1,4,1,1,7,1,1,4,1,0,6,1,0,5,5],\"y\":[0,1,2,0,1,2,0,1,2,0,1,2,0,1,2,0,1,2,0,1,2,0,1,2,0,1,2,0,1,2,0,1,2,0,1,2,0,1,2,0,1,2,0,1,2,0,1,2,0,1,2,0,1,2,0,1,2,0,1,2,0,1,2,0,1,2,0,1,2,0,1,2],\"type\":\"bar\"}],\"name\":\"frame 72\"},{\"data\":[{\"orientation\":\"h\",\"x\":[7,4,4,5,4,7,6,4,5,5,5,4,4,4,1,1,1,1,6,1,1,7,1,1,7,1,1,5,1,1,5,1,1,6,1,1,7,1,1,7,6,1,5,6,1,4,7,1,4,4,1,1,4,1,1,6,1,1,4,1,1,7,1,1,4,1,0,6,1,0,5,5,0],\"y\":[0,1,2,0,1,2,0,1,2,0,1,2,0,1,2,0,1,2,0,1,2,0,1,2,0,1,2,0,1,2,0,1,2,0,1,2,0,1,2,0,1,2,0,1,2,0,1,2,0,1,2,0,1,2,0,1,2,0,1,2,0,1,2,0,1,2,0,1,2,0,1,2,0],\"type\":\"bar\"}],\"name\":\"frame 73\"},{\"data\":[{\"orientation\":\"h\",\"x\":[7,4,4,5,4,7,6,4,5,5,5,4,4,4,1,1,1,1,6,1,1,7,1,1,7,1,1,5,1,1,5,1,1,6,1,1,7,1,1,7,6,1,5,6,1,4,7,1,4,4,1,1,4,1,1,6,1,1,4,1,1,7,1,1,4,1,0,6,1,0,5,5,0,1],\"y\":[0,1,2,0,1,2,0,1,2,0,1,2,0,1,2,0,1,2,0,1,2,0,1,2,0,1,2,0,1,2,0,1,2,0,1,2,0,1,2,0,1,2,0,1,2,0,1,2,0,1,2,0,1,2,0,1,2,0,1,2,0,1,2,0,1,2,0,1,2,0,1,2,0,1],\"type\":\"bar\"}],\"name\":\"frame 74\"},{\"data\":[{\"orientation\":\"h\",\"x\":[7,4,4,5,4,7,6,4,5,5,5,4,4,4,1,1,1,1,6,1,1,7,1,1,7,1,1,5,1,1,5,1,1,6,1,1,7,1,1,7,6,1,5,6,1,4,7,1,4,4,1,1,4,1,1,6,1,1,4,1,1,7,1,1,4,1,0,6,1,0,5,5,0,1,7],\"y\":[0,1,2,0,1,2,0,1,2,0,1,2,0,1,2,0,1,2,0,1,2,0,1,2,0,1,2,0,1,2,0,1,2,0,1,2,0,1,2,0,1,2,0,1,2,0,1,2,0,1,2,0,1,2,0,1,2,0,1,2,0,1,2,0,1,2,0,1,2,0,1,2,0,1,2],\"type\":\"bar\"}],\"name\":\"frame 75\"},{\"data\":[{\"orientation\":\"h\",\"x\":[7,4,4,5,4,7,6,4,5,5,5,4,4,4,1,1,1,1,6,1,1,7,1,1,7,1,1,5,1,1,5,1,1,6,1,1,7,1,1,7,6,1,5,6,1,4,7,1,4,4,1,1,4,1,1,6,1,1,4,1,1,7,1,1,4,1,0,6,1,0,5,5,0,1,7,0],\"y\":[0,1,2,0,1,2,0,1,2,0,1,2,0,1,2,0,1,2,0,1,2,0,1,2,0,1,2,0,1,2,0,1,2,0,1,2,0,1,2,0,1,2,0,1,2,0,1,2,0,1,2,0,1,2,0,1,2,0,1,2,0,1,2,0,1,2,0,1,2,0,1,2,0,1,2,0],\"type\":\"bar\"}],\"name\":\"frame 76\"},{\"data\":[{\"orientation\":\"h\",\"x\":[7,4,4,5,4,7,6,4,5,5,5,4,4,4,1,1,1,1,6,1,1,7,1,1,7,1,1,5,1,1,5,1,1,6,1,1,7,1,1,7,6,1,5,6,1,4,7,1,4,4,1,1,4,1,1,6,1,1,4,1,1,7,1,1,4,1,0,6,1,0,5,5,0,1,7,0,1],\"y\":[0,1,2,0,1,2,0,1,2,0,1,2,0,1,2,0,1,2,0,1,2,0,1,2,0,1,2,0,1,2,0,1,2,0,1,2,0,1,2,0,1,2,0,1,2,0,1,2,0,1,2,0,1,2,0,1,2,0,1,2,0,1,2,0,1,2,0,1,2,0,1,2,0,1,2,0,1],\"type\":\"bar\"}],\"name\":\"frame 77\"},{\"data\":[{\"orientation\":\"h\",\"x\":[7,4,4,5,4,7,6,4,5,5,5,4,4,4,1,1,1,1,6,1,1,7,1,1,7,1,1,5,1,1,5,1,1,6,1,1,7,1,1,7,6,1,5,6,1,4,7,1,4,4,1,1,4,1,1,6,1,1,4,1,1,7,1,1,4,1,0,6,1,0,5,5,0,1,7,0,1,7],\"y\":[0,1,2,0,1,2,0,1,2,0,1,2,0,1,2,0,1,2,0,1,2,0,1,2,0,1,2,0,1,2,0,1,2,0,1,2,0,1,2,0,1,2,0,1,2,0,1,2,0,1,2,0,1,2,0,1,2,0,1,2,0,1,2,0,1,2,0,1,2,0,1,2,0,1,2,0,1,2],\"type\":\"bar\"}],\"name\":\"frame 78\"},{\"data\":[{\"orientation\":\"h\",\"x\":[7,4,4,5,4,7,6,4,5,5,5,4,4,4,1,1,1,1,6,1,1,7,1,1,7,1,1,5,1,1,5,1,1,6,1,1,7,1,1,7,6,1,5,6,1,4,7,1,4,4,1,1,4,1,1,6,1,1,4,1,1,7,1,1,4,1,0,6,1,0,5,5,0,1,7,0,1,7,0],\"y\":[0,1,2,0,1,2,0,1,2,0,1,2,0,1,2,0,1,2,0,1,2,0,1,2,0,1,2,0,1,2,0,1,2,0,1,2,0,1,2,0,1,2,0,1,2,0,1,2,0,1,2,0,1,2,0,1,2,0,1,2,0,1,2,0,1,2,0,1,2,0,1,2,0,1,2,0,1,2,0],\"type\":\"bar\"}],\"name\":\"frame 79\"},{\"data\":[{\"orientation\":\"h\",\"x\":[7,4,4,5,4,7,6,4,5,5,5,4,4,4,1,1,1,1,6,1,1,7,1,1,7,1,1,5,1,1,5,1,1,6,1,1,7,1,1,7,6,1,5,6,1,4,7,1,4,4,1,1,4,1,1,6,1,1,4,1,1,7,1,1,4,1,0,6,1,0,5,5,0,1,7,0,1,7,0,1],\"y\":[0,1,2,0,1,2,0,1,2,0,1,2,0,1,2,0,1,2,0,1,2,0,1,2,0,1,2,0,1,2,0,1,2,0,1,2,0,1,2,0,1,2,0,1,2,0,1,2,0,1,2,0,1,2,0,1,2,0,1,2,0,1,2,0,1,2,0,1,2,0,1,2,0,1,2,0,1,2,0,1],\"type\":\"bar\"}],\"name\":\"frame 80\"},{\"data\":[{\"orientation\":\"h\",\"x\":[7,4,4,5,4,7,6,4,5,5,5,4,4,4,1,1,1,1,6,1,1,7,1,1,7,1,1,5,1,1,5,1,1,6,1,1,7,1,1,7,6,1,5,6,1,4,7,1,4,4,1,1,4,1,1,6,1,1,4,1,1,7,1,1,4,1,0,6,1,0,5,5,0,1,7,0,1,7,0,1,5],\"y\":[0,1,2,0,1,2,0,1,2,0,1,2,0,1,2,0,1,2,0,1,2,0,1,2,0,1,2,0,1,2,0,1,2,0,1,2,0,1,2,0,1,2,0,1,2,0,1,2,0,1,2,0,1,2,0,1,2,0,1,2,0,1,2,0,1,2,0,1,2,0,1,2,0,1,2,0,1,2,0,1,2],\"type\":\"bar\"}],\"name\":\"frame 81\"}]);\n",
       "                        }).then(function(){\n",
       "                            \n",
       "var gd = document.getElementById('50f4c21d-69af-4b2f-a0ca-8015f2046f4f');\n",
       "var x = new MutationObserver(function (mutations, observer) {{\n",
       "        var display = window.getComputedStyle(gd).display;\n",
       "        if (!display || display === 'none') {{\n",
       "            console.log([gd, 'removed!']);\n",
       "            Plotly.purge(gd);\n",
       "            observer.disconnect();\n",
       "        }}\n",
       "}});\n",
       "\n",
       "// Listen for the removal of the full notebook cells\n",
       "var notebookContainer = gd.closest('#notebook-container');\n",
       "if (notebookContainer) {{\n",
       "    x.observe(notebookContainer, {childList: true});\n",
       "}}\n",
       "\n",
       "// Listen for the clearing of the current output cell\n",
       "var outputEl = gd.closest('.output');\n",
       "if (outputEl) {{\n",
       "    x.observe(outputEl, {childList: true});\n",
       "}}\n",
       "\n",
       "                        })                };                });            </script>        </div>"
      ]
     },
     "metadata": {},
     "output_type": "display_data"
    }
   ],
   "source": [
    "import plotly.graph_objects as go\n",
    "\n",
    "frames = []\n",
    "for step in range(len(info[\"history\"])):\n",
    "    history_0 = [info[\"history\"][i] for i in range(step)]\n",
    "    df = pd.DataFrame(history_0, columns=[\"duration\", \"machine\",\"size\",\"reward\"])\n",
    "    frames.append(go.Frame(data=[go.Bar(x=df[\"duration\"],y=df[\"machine\"],orientation=\"h\")],name=f\"frame {step}\"))\n",
    "\n",
    "# Define the layout\n",
    "layout = go.Layout(\n",
    "    title=\"Animated Scatter Plot\",\n",
    "    xaxis=dict(range=[0, 96]),  # Set the x-axis range\n",
    "    yaxis=dict(range=[-0.5, 2.5]),  # Set the y-axis range\n",
    "    updatemenus=[{\n",
    "        'buttons': [\n",
    "            {\n",
    "                'args': [None, {'frame': {'duration': 500, 'redraw': True}, 'fromcurrent': True}],\n",
    "                'label': 'Play',\n",
    "                'method': 'animate'\n",
    "            },\n",
    "            {\n",
    "                'args': [[None], {'frame': {'duration': 0, 'redraw': False}, 'mode': 'immediate', 'transition': {'duration': 0}}],\n",
    "                'label': 'Pause',\n",
    "                'method': 'animate'\n",
    "            }\n",
    "        ],\n",
    "        'direction': 'left',\n",
    "        'pad': {'r': 10, 't': 87},\n",
    "        'showactive': False,\n",
    "        'type': 'buttons',\n",
    "        'x': 0.1,\n",
    "        'xanchor': 'right',\n",
    "        'y': 0,\n",
    "        'yanchor': 'top'\n",
    "    }]\n",
    ")\n",
    "\n",
    "data = [info[\"history\"][0]]\n",
    "df = pd.DataFrame(history_0, columns=[\"duration\", \"machine\",\"size\", \"reward\"])\n",
    "\n",
    "_fig = go.Figure(\n",
    "    data=go.Bar(x=df[\"duration\"],y=df[\"machine\"],orientation=\"h\"),\n",
    "    layout=layout,\n",
    "    frames=frames\n",
    ")\n",
    "\n",
    "_fig.show()\n"
   ]
  }
 ],
 "metadata": {
  "kernelspec": {
   "display_name": "Python 3 (ipykernel)",
   "language": "python",
   "name": "python3"
  },
  "language_info": {
   "codemirror_mode": {
    "name": "ipython",
    "version": 3
   },
   "file_extension": ".py",
   "mimetype": "text/x-python",
   "name": "python",
   "nbconvert_exporter": "python",
   "pygments_lexer": "ipython3",
   "version": "3.10.12"
  }
 },
 "nbformat": 4,
 "nbformat_minor": 2
}
